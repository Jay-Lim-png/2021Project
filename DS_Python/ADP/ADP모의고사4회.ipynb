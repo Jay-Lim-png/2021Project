{
  "nbformat": 4,
  "nbformat_minor": 0,
  "metadata": {
    "colab": {
      "name": "ADP모의고사4회.ipynb",
      "provenance": [],
      "toc_visible": true
    },
    "kernelspec": {
      "name": "python3",
      "display_name": "Python 3"
    },
    "language_info": {
      "name": "python"
    }
  },
  "cells": [
    {
      "cell_type": "markdown",
      "metadata": {
        "id": "r_eXV3Ks3okt"
      },
      "source": [
        "# 정형 데이터마이닝 (data: weatherAUS)"
      ]
    },
    {
      "cell_type": "markdown",
      "metadata": {
        "id": "2Ay8GDHF3sJs"
      },
      "source": [
        "### 1. 데이터의 요약값을 보고 NA값이 10,000개 이상인 열을 제외하고 남은 변수 중 NA값이 있는 행을 제거하시오. 그리고 AUS 데이터의 Data 변수를 Data형으로 변호나하고, 전처리가 완료된 weatherAUS 데이터를 train(70%), test(30%)로 분할하시오 - set.seed(6789)"
      ]
    },
    {
      "cell_type": "code",
      "metadata": {
        "id": "uxQv6RoO3xkJ"
      },
      "source": [
        "import pandas as pd\n",
        "import numpy as np"
      ],
      "execution_count": 2,
      "outputs": []
    },
    {
      "cell_type": "code",
      "metadata": {
        "colab": {
          "base_uri": "https://localhost:8080/"
        },
        "id": "h3v_k3nS3ufm",
        "outputId": "90a1e96b-89df-4a52-dc85-48703374bd4b"
      },
      "source": [
        "df_aus = pd.read_csv(\"/content/drive/MyDrive/data/adp/weatherAUS.csv\")\n",
        "df_aus.info()"
      ],
      "execution_count": 3,
      "outputs": [
        {
          "output_type": "stream",
          "text": [
            "<class 'pandas.core.frame.DataFrame'>\n",
            "RangeIndex: 142193 entries, 0 to 142192\n",
            "Data columns (total 21 columns):\n",
            " #   Column         Non-Null Count   Dtype  \n",
            "---  ------         --------------   -----  \n",
            " 0   Date           142193 non-null  object \n",
            " 1   Location       142193 non-null  object \n",
            " 2   MinTemp        141556 non-null  float64\n",
            " 3   MaxTemp        141871 non-null  float64\n",
            " 4   Rainfall       140787 non-null  float64\n",
            " 5   WindGustDir    132863 non-null  object \n",
            " 6   WindGustSpeed  132923 non-null  float64\n",
            " 7   WindDir9am     132180 non-null  object \n",
            " 8   WindDir3pm     138415 non-null  object \n",
            " 9   WindSpeed9am   140845 non-null  float64\n",
            " 10  WindSpeed3pm   139563 non-null  float64\n",
            " 11  Humidity9am    140419 non-null  float64\n",
            " 12  Humidity3pm    138583 non-null  float64\n",
            " 13  Pressure9am    128179 non-null  float64\n",
            " 14  Pressure3pm    128212 non-null  float64\n",
            " 15  Cloud9am       88536 non-null   float64\n",
            " 16  Cloud3pm       85099 non-null   float64\n",
            " 17  Temp9am        141289 non-null  float64\n",
            " 18  Temp3pm        139467 non-null  float64\n",
            " 19  RainToday      140787 non-null  object \n",
            " 20  RainTomorrow   142193 non-null  object \n",
            "dtypes: float64(14), object(7)\n",
            "memory usage: 22.8+ MB\n"
          ],
          "name": "stdout"
        }
      ]
    },
    {
      "cell_type": "code",
      "metadata": {
        "colab": {
          "base_uri": "https://localhost:8080/"
        },
        "id": "w-3vFka63voq",
        "outputId": "aab925f1-3ec3-4613-e60a-e375951ad286"
      },
      "source": [
        "## NA 개수가 10,000 개 이상인 열을 제외\n",
        "for i in df_aus.columns:\n",
        "  if df_aus[i].isna().sum()>=10000: df_aus.drop([i], axis = 1, inplace = True)\n",
        "len(df_aus.columns)"
      ],
      "execution_count": 4,
      "outputs": [
        {
          "output_type": "execute_result",
          "data": {
            "text/plain": [
              "16"
            ]
          },
          "metadata": {
            "tags": []
          },
          "execution_count": 4
        }
      ]
    },
    {
      "cell_type": "code",
      "metadata": {
        "colab": {
          "base_uri": "https://localhost:8080/"
        },
        "id": "8HUryXtF32RB",
        "outputId": "eb939030-3756-4527-a872-db72b605e91f"
      },
      "source": [
        "## 결측값이 존재하는 행을 모두 제거\n",
        "df_aus.dropna(inplace = True)\n",
        "len(df_aus)"
      ],
      "execution_count": 5,
      "outputs": [
        {
          "output_type": "execute_result",
          "data": {
            "text/plain": [
              "128576"
            ]
          },
          "metadata": {
            "tags": []
          },
          "execution_count": 5
        }
      ]
    },
    {
      "cell_type": "code",
      "metadata": {
        "colab": {
          "base_uri": "https://localhost:8080/",
          "height": 204
        },
        "id": "vy2CMjVv33YA",
        "outputId": "0d9682be-60d7-4bfa-faa2-360f3122bf02"
      },
      "source": [
        "## Data 변수를 Date 형으로 변환\n",
        "df_aus.head()"
      ],
      "execution_count": 6,
      "outputs": [
        {
          "output_type": "execute_result",
          "data": {
            "text/html": [
              "<div>\n",
              "<style scoped>\n",
              "    .dataframe tbody tr th:only-of-type {\n",
              "        vertical-align: middle;\n",
              "    }\n",
              "\n",
              "    .dataframe tbody tr th {\n",
              "        vertical-align: top;\n",
              "    }\n",
              "\n",
              "    .dataframe thead th {\n",
              "        text-align: right;\n",
              "    }\n",
              "</style>\n",
              "<table border=\"1\" class=\"dataframe\">\n",
              "  <thead>\n",
              "    <tr style=\"text-align: right;\">\n",
              "      <th></th>\n",
              "      <th>Date</th>\n",
              "      <th>Location</th>\n",
              "      <th>MinTemp</th>\n",
              "      <th>MaxTemp</th>\n",
              "      <th>Rainfall</th>\n",
              "      <th>WindGustDir</th>\n",
              "      <th>WindGustSpeed</th>\n",
              "      <th>WindDir3pm</th>\n",
              "      <th>WindSpeed9am</th>\n",
              "      <th>WindSpeed3pm</th>\n",
              "      <th>Humidity9am</th>\n",
              "      <th>Humidity3pm</th>\n",
              "      <th>Temp9am</th>\n",
              "      <th>Temp3pm</th>\n",
              "      <th>RainToday</th>\n",
              "      <th>RainTomorrow</th>\n",
              "    </tr>\n",
              "  </thead>\n",
              "  <tbody>\n",
              "    <tr>\n",
              "      <th>0</th>\n",
              "      <td>2008-12-01</td>\n",
              "      <td>Albury</td>\n",
              "      <td>13.4</td>\n",
              "      <td>22.9</td>\n",
              "      <td>0.6</td>\n",
              "      <td>W</td>\n",
              "      <td>44.0</td>\n",
              "      <td>WNW</td>\n",
              "      <td>20.0</td>\n",
              "      <td>24.0</td>\n",
              "      <td>71.0</td>\n",
              "      <td>22.0</td>\n",
              "      <td>16.9</td>\n",
              "      <td>21.8</td>\n",
              "      <td>No</td>\n",
              "      <td>No</td>\n",
              "    </tr>\n",
              "    <tr>\n",
              "      <th>1</th>\n",
              "      <td>2008-12-02</td>\n",
              "      <td>Albury</td>\n",
              "      <td>7.4</td>\n",
              "      <td>25.1</td>\n",
              "      <td>0.0</td>\n",
              "      <td>WNW</td>\n",
              "      <td>44.0</td>\n",
              "      <td>WSW</td>\n",
              "      <td>4.0</td>\n",
              "      <td>22.0</td>\n",
              "      <td>44.0</td>\n",
              "      <td>25.0</td>\n",
              "      <td>17.2</td>\n",
              "      <td>24.3</td>\n",
              "      <td>No</td>\n",
              "      <td>No</td>\n",
              "    </tr>\n",
              "    <tr>\n",
              "      <th>2</th>\n",
              "      <td>2008-12-03</td>\n",
              "      <td>Albury</td>\n",
              "      <td>12.9</td>\n",
              "      <td>25.7</td>\n",
              "      <td>0.0</td>\n",
              "      <td>WSW</td>\n",
              "      <td>46.0</td>\n",
              "      <td>WSW</td>\n",
              "      <td>19.0</td>\n",
              "      <td>26.0</td>\n",
              "      <td>38.0</td>\n",
              "      <td>30.0</td>\n",
              "      <td>21.0</td>\n",
              "      <td>23.2</td>\n",
              "      <td>No</td>\n",
              "      <td>No</td>\n",
              "    </tr>\n",
              "    <tr>\n",
              "      <th>3</th>\n",
              "      <td>2008-12-04</td>\n",
              "      <td>Albury</td>\n",
              "      <td>9.2</td>\n",
              "      <td>28.0</td>\n",
              "      <td>0.0</td>\n",
              "      <td>NE</td>\n",
              "      <td>24.0</td>\n",
              "      <td>E</td>\n",
              "      <td>11.0</td>\n",
              "      <td>9.0</td>\n",
              "      <td>45.0</td>\n",
              "      <td>16.0</td>\n",
              "      <td>18.1</td>\n",
              "      <td>26.5</td>\n",
              "      <td>No</td>\n",
              "      <td>No</td>\n",
              "    </tr>\n",
              "    <tr>\n",
              "      <th>4</th>\n",
              "      <td>2008-12-05</td>\n",
              "      <td>Albury</td>\n",
              "      <td>17.5</td>\n",
              "      <td>32.3</td>\n",
              "      <td>1.0</td>\n",
              "      <td>W</td>\n",
              "      <td>41.0</td>\n",
              "      <td>NW</td>\n",
              "      <td>7.0</td>\n",
              "      <td>20.0</td>\n",
              "      <td>82.0</td>\n",
              "      <td>33.0</td>\n",
              "      <td>17.8</td>\n",
              "      <td>29.7</td>\n",
              "      <td>No</td>\n",
              "      <td>No</td>\n",
              "    </tr>\n",
              "  </tbody>\n",
              "</table>\n",
              "</div>"
            ],
            "text/plain": [
              "         Date Location  MinTemp  ...  Temp3pm  RainToday RainTomorrow\n",
              "0  2008-12-01   Albury     13.4  ...     21.8         No           No\n",
              "1  2008-12-02   Albury      7.4  ...     24.3         No           No\n",
              "2  2008-12-03   Albury     12.9  ...     23.2         No           No\n",
              "3  2008-12-04   Albury      9.2  ...     26.5         No           No\n",
              "4  2008-12-05   Albury     17.5  ...     29.7         No           No\n",
              "\n",
              "[5 rows x 16 columns]"
            ]
          },
          "metadata": {
            "tags": []
          },
          "execution_count": 6
        }
      ]
    },
    {
      "cell_type": "code",
      "metadata": {
        "id": "K_nKyxZP35D4"
      },
      "source": [
        "import datetime\n",
        "\n",
        "df_aus['Date'] = pd.to_datetime(df_aus['Date'],format = '%Y-%m-%d') \n",
        "## format 설정 참고 : %Y %m %d %H - hour(24) %M - Minutes %S - Seconds %f - Microseconds"
      ],
      "execution_count": 7,
      "outputs": []
    },
    {
      "cell_type": "code",
      "metadata": {
        "colab": {
          "base_uri": "https://localhost:8080/"
        },
        "id": "yQEcQMe936NI",
        "outputId": "13738fdf-263d-4183-8be5-123232c71de7"
      },
      "source": [
        "df_aus.info()"
      ],
      "execution_count": 8,
      "outputs": [
        {
          "output_type": "stream",
          "text": [
            "<class 'pandas.core.frame.DataFrame'>\n",
            "Int64Index: 128576 entries, 0 to 142192\n",
            "Data columns (total 16 columns):\n",
            " #   Column         Non-Null Count   Dtype         \n",
            "---  ------         --------------   -----         \n",
            " 0   Date           128576 non-null  datetime64[ns]\n",
            " 1   Location       128576 non-null  object        \n",
            " 2   MinTemp        128576 non-null  float64       \n",
            " 3   MaxTemp        128576 non-null  float64       \n",
            " 4   Rainfall       128576 non-null  float64       \n",
            " 5   WindGustDir    128576 non-null  object        \n",
            " 6   WindGustSpeed  128576 non-null  float64       \n",
            " 7   WindDir3pm     128576 non-null  object        \n",
            " 8   WindSpeed9am   128576 non-null  float64       \n",
            " 9   WindSpeed3pm   128576 non-null  float64       \n",
            " 10  Humidity9am    128576 non-null  float64       \n",
            " 11  Humidity3pm    128576 non-null  float64       \n",
            " 12  Temp9am        128576 non-null  float64       \n",
            " 13  Temp3pm        128576 non-null  float64       \n",
            " 14  RainToday      128576 non-null  object        \n",
            " 15  RainTomorrow   128576 non-null  object        \n",
            "dtypes: datetime64[ns](1), float64(10), object(5)\n",
            "memory usage: 16.7+ MB\n"
          ],
          "name": "stdout"
        }
      ]
    },
    {
      "cell_type": "code",
      "metadata": {
        "id": "8dWH2rww37cX"
      },
      "source": [
        "## train test 7:3으로 분리하기\n",
        "from sklearn.model_selection import train_test_split\n",
        "\n",
        "train_X, test_X, train_y, _y = train_test_split(df_aus.iloc[:,:-1], df_aus[['RainTomorrow']], test_size = 0.3, random_state = 6789)"
      ],
      "execution_count": 13,
      "outputs": []
    },
    {
      "cell_type": "markdown",
      "metadata": {
        "id": "NK8VIw093_hK"
      },
      "source": [
        "### 2. train 데이터로 종속변수인 RainTomorrow(다음날의 강수 여부)를 예측하는 분류모델을 3개 이상 생성하고 test 데이터에 대한 예측값을 csv파일로 각각 제출하시오."
      ]
    },
    {
      "cell_type": "code",
      "metadata": {
        "id": "VA2Ky8vU5Yf4"
      },
      "source": [
        ""
      ],
      "execution_count": null,
      "outputs": []
    }
  ]
}
