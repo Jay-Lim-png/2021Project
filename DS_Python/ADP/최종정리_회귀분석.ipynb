{
 "cells": [
  {
   "cell_type": "markdown",
   "metadata": {},
   "source": [
    "reference  \n",
    "[더빈왓슨검정](https://zephyrus1111.tistory.com/101)"
   ]
  },
  {
   "cell_type": "code",
   "execution_count": 1,
   "metadata": {},
   "outputs": [],
   "source": [
    "import pandas as pd\n",
    "import numpy as np\n",
    "import seaborn as sns\n",
    "import matplotlib.pyplot as plt\n",
    "\n",
    "import warnings  ##warning sign 출력 무시\n",
    "warnings.filterwarnings(\"ignore\")\n",
    "pd.set_option('display.float_format', lambda x: '%.5f' % x)  ##scientific notation 삭제\n",
    "plt.rcParams['font.family'] = 'Malgun Gothic'  ##한글폰트 설정\n",
    "plt.rcParams['axes.unicode_minus'] = False    ##마이너스기호 깨짐 방지"
   ]
  },
  {
   "cell_type": "code",
   "execution_count": 33,
   "metadata": {},
   "outputs": [
    {
     "data": {
      "text/html": [
       "<div>\n",
       "<style scoped>\n",
       "    .dataframe tbody tr th:only-of-type {\n",
       "        vertical-align: middle;\n",
       "    }\n",
       "\n",
       "    .dataframe tbody tr th {\n",
       "        vertical-align: top;\n",
       "    }\n",
       "\n",
       "    .dataframe thead th {\n",
       "        text-align: right;\n",
       "    }\n",
       "</style>\n",
       "<table border=\"1\" class=\"dataframe\">\n",
       "  <thead>\n",
       "    <tr style=\"text-align: right;\">\n",
       "      <th></th>\n",
       "      <th>CRIM</th>\n",
       "      <th>ZN</th>\n",
       "      <th>INDUS</th>\n",
       "      <th>CHAS</th>\n",
       "      <th>NOX</th>\n",
       "      <th>RM</th>\n",
       "      <th>AGE</th>\n",
       "      <th>DIS</th>\n",
       "      <th>RAD</th>\n",
       "      <th>TAX</th>\n",
       "      <th>PTRATIO</th>\n",
       "      <th>B</th>\n",
       "      <th>LSTAT</th>\n",
       "      <th>PRICE</th>\n",
       "    </tr>\n",
       "  </thead>\n",
       "  <tbody>\n",
       "    <tr>\n",
       "      <th>0</th>\n",
       "      <td>0.00632</td>\n",
       "      <td>18.00000</td>\n",
       "      <td>2.31000</td>\n",
       "      <td>0.00000</td>\n",
       "      <td>0.53800</td>\n",
       "      <td>6.57500</td>\n",
       "      <td>65.20000</td>\n",
       "      <td>4.09000</td>\n",
       "      <td>1.00000</td>\n",
       "      <td>296.00000</td>\n",
       "      <td>15.30000</td>\n",
       "      <td>396.90000</td>\n",
       "      <td>4.98000</td>\n",
       "      <td>24.00000</td>\n",
       "    </tr>\n",
       "    <tr>\n",
       "      <th>1</th>\n",
       "      <td>0.02731</td>\n",
       "      <td>0.00000</td>\n",
       "      <td>7.07000</td>\n",
       "      <td>0.00000</td>\n",
       "      <td>0.46900</td>\n",
       "      <td>6.42100</td>\n",
       "      <td>78.90000</td>\n",
       "      <td>4.96710</td>\n",
       "      <td>2.00000</td>\n",
       "      <td>242.00000</td>\n",
       "      <td>17.80000</td>\n",
       "      <td>396.90000</td>\n",
       "      <td>9.14000</td>\n",
       "      <td>21.60000</td>\n",
       "    </tr>\n",
       "    <tr>\n",
       "      <th>2</th>\n",
       "      <td>0.02729</td>\n",
       "      <td>0.00000</td>\n",
       "      <td>7.07000</td>\n",
       "      <td>0.00000</td>\n",
       "      <td>0.46900</td>\n",
       "      <td>7.18500</td>\n",
       "      <td>61.10000</td>\n",
       "      <td>4.96710</td>\n",
       "      <td>2.00000</td>\n",
       "      <td>242.00000</td>\n",
       "      <td>17.80000</td>\n",
       "      <td>392.83000</td>\n",
       "      <td>4.03000</td>\n",
       "      <td>34.70000</td>\n",
       "    </tr>\n",
       "    <tr>\n",
       "      <th>3</th>\n",
       "      <td>0.03237</td>\n",
       "      <td>0.00000</td>\n",
       "      <td>2.18000</td>\n",
       "      <td>0.00000</td>\n",
       "      <td>0.45800</td>\n",
       "      <td>6.99800</td>\n",
       "      <td>45.80000</td>\n",
       "      <td>6.06220</td>\n",
       "      <td>3.00000</td>\n",
       "      <td>222.00000</td>\n",
       "      <td>18.70000</td>\n",
       "      <td>394.63000</td>\n",
       "      <td>2.94000</td>\n",
       "      <td>33.40000</td>\n",
       "    </tr>\n",
       "    <tr>\n",
       "      <th>4</th>\n",
       "      <td>0.06905</td>\n",
       "      <td>0.00000</td>\n",
       "      <td>2.18000</td>\n",
       "      <td>0.00000</td>\n",
       "      <td>0.45800</td>\n",
       "      <td>7.14700</td>\n",
       "      <td>54.20000</td>\n",
       "      <td>6.06220</td>\n",
       "      <td>3.00000</td>\n",
       "      <td>222.00000</td>\n",
       "      <td>18.70000</td>\n",
       "      <td>396.90000</td>\n",
       "      <td>5.33000</td>\n",
       "      <td>36.20000</td>\n",
       "    </tr>\n",
       "  </tbody>\n",
       "</table>\n",
       "</div>"
      ],
      "text/plain": [
       "     CRIM       ZN   INDUS    CHAS     NOX      RM      AGE     DIS     RAD  \\\n",
       "0 0.00632 18.00000 2.31000 0.00000 0.53800 6.57500 65.20000 4.09000 1.00000   \n",
       "1 0.02731  0.00000 7.07000 0.00000 0.46900 6.42100 78.90000 4.96710 2.00000   \n",
       "2 0.02729  0.00000 7.07000 0.00000 0.46900 7.18500 61.10000 4.96710 2.00000   \n",
       "3 0.03237  0.00000 2.18000 0.00000 0.45800 6.99800 45.80000 6.06220 3.00000   \n",
       "4 0.06905  0.00000 2.18000 0.00000 0.45800 7.14700 54.20000 6.06220 3.00000   \n",
       "\n",
       "        TAX  PTRATIO         B   LSTAT    PRICE  \n",
       "0 296.00000 15.30000 396.90000 4.98000 24.00000  \n",
       "1 242.00000 17.80000 396.90000 9.14000 21.60000  \n",
       "2 242.00000 17.80000 392.83000 4.03000 34.70000  \n",
       "3 222.00000 18.70000 394.63000 2.94000 33.40000  \n",
       "4 222.00000 18.70000 396.90000 5.33000 36.20000  "
      ]
     },
     "execution_count": 33,
     "metadata": {},
     "output_type": "execute_result"
    }
   ],
   "source": [
    "## 사용할 데이터 불러오기 (보스턴 집값 데이터)\n",
    "from sklearn.datasets import load_boston\n",
    "boston = load_boston()\n",
    "df = pd.DataFrame(boston.data, columns = boston.feature_names)\n",
    "df['PRICE'] = pd.Series(boston.target)\n",
    "df.head()"
   ]
  },
  {
   "cell_type": "markdown",
   "metadata": {},
   "source": [
    "1. 단순회귀\n",
    "2. 다중회귀\n",
    "3. 다항회귀\n",
    "4. 정규화선형회귀\n",
    "    - Ridge\n",
    "    - Lasso\n",
    "    - ElasticNet"
   ]
  },
  {
   "cell_type": "markdown",
   "metadata": {},
   "source": [
    "회귀분석의 유형\n",
    "--------\n",
    "1. 독립변수의 수\n",
    "- 단순회귀: 독립변수와 종속변수가 각각 한 개씩이면서 모두 수치형인 경우\n",
    "- 다중회귀: 한 개의 수치형 종속변수와 2개 이상의 독립변수\n",
    "2. 독립변수의 척도\n",
    "- 일반회귀: 등간,비율척도\n",
    "- 더미변수를 활용한 회귀: 명목, 서열척도\n",
    "3. 독립변수와 종속변수의 관계\n",
    "- 선형회귀: 관계가 선형\n",
    "- 비선형회귀: 관계가 비선형\n",
    "  \n",
    "회귀분석의 전제조건\n",
    "----\n",
    "1. 선형성(선형회귀인 경우)\n",
    "   - 선형성 불만족시 데이터를 변환(로그/지수/루트)\n",
    "   - 선형성을 만족하지 않는 변수를 제거\n",
    "   - 변수를 전부 포함하여 모델을 만든 뒤 변수선택법으로 처리\n",
    "2. 등분산성\n",
    "    - 잔차가 동일한 분산을 가짐\n",
    "    - 분산이 같다는 것은 특정한 패턴 없이 고르게 분포했다는 의미임(패턴이 있는 경우 고려하지 못한 새로운 변수가 있는 것으로 파악할 수 있음)\n",
    "3. 독립성(다중회귀인 경우)  \n",
    "    - 잔차들은 서로 독립(독립변수 간에 상관관계가 없어야 함)    \n",
    "    - 잔차의 상관성은 Durbin-Watson 통계량을 이용  \n",
    "        - Stepwise 변수선택을 이용해 다중공선성을 일으키는 변수들을 제거\n",
    "        - VIF를 값을 이용해 20보다 높은 값을 제거\n",
    "4. 정규성\n",
    "    - 잔차가 정규분포를 따름.\n",
    "        - Shapiro-Wilk Test"
   ]
  },
  {
   "cell_type": "markdown",
   "metadata": {},
   "source": [
    "## 단순회귀분석\n",
    "1. 사이킷런의 linear_model 클래스\n",
    "- 예측값과 실제값의 RSS(Residual Sum of Squares)를 최소화해 OLS(Ordinary Least Squares) 추정방식으로 구현한 클래스\n",
    "- OLS 기반 회귀계수 계산은 입력 피처의 독립성에 민감하기 때문에, 독립변수 간 상관관계가 높은 경우 분산이 커져서 오류에 민감해짐 (다중공선성 문제)  \n",
    "    독립변수 간 상관성이 높은 경우, 중요 변수만 남기고 제거하거나 규제를 적용. 또는 차원축소(PCA 등)를 수행해 다중공선성을 제거할 수 있음\n",
    "- LinarRegression(fit_intercept = True, normalize = False, copy_X = True, n_jobs = None, positive = False)\n",
    "    - fit_intercept : intercept항을 모델에 포함할지 여부를 결정한다\n",
    "    - noramlize: intercept항이 없으면 False로 지정됨. True일 시, 회귀분석 적합 전 X를 표준화($X-m\\over\\sigma$)한다\n",
    "    - True일 시, X는 새 값으로 복사되어 적합되고 ,아닐 시 원 데이터에 overwrite됨\n",
    "    - positive: True일 시, 회귀계수를 모두 양수로 만든다. 이 옵션은 dense array(모든 값이 0이 아니어야 함)에만 적용됨\n",
    "2. statsmodels의 formula.api 모듈\n",
    "- 모델객체이름 = ols(formula = '종속변수 ~ 독립변수', data).fit()\n",
    "- 모델객체이름.summary()"
   ]
  },
  {
   "cell_type": "markdown",
   "metadata": {},
   "source": [
    "단순회귀분석 예시(sklearn)  \n",
    "Step1. 선형성 확인"
   ]
  },
  {
   "cell_type": "code",
   "execution_count": 6,
   "metadata": {
    "scrolled": false
   },
   "outputs": [
    {
     "data": {
      "image/png": "[encoded data removed]",
      "text/plain": [
       "<Figure size 432x288 with 1 Axes>"
      ]
     },
     "metadata": {
      "needs_background": "light"
     },
     "output_type": "display_data"
    }
   ],
   "source": [
    "height = [170, 168, 177, 181 ,172, 171, 169, 175, 174, 178, 170, 167, 177, 182 ,173, 171, 170, 179, 175, 177, 186, 166, 183, 168]\n",
    "weight = [70, 66, 73, 77, 74, 73, 69, 79, 77, 80, 74, 68, 71, 76, 78, 72, 68, 79, 77, 81, 84, 73, 78, 69]\n",
    "body = pd.DataFrame({'height':height, 'weight':weight})\n",
    "\n",
    "plt.plot(body['weight'], body['height'], 'o')\n",
    "plt.show()"
   ]
  },
  {
   "cell_type": "markdown",
   "metadata": {},
   "source": [
    "Step2. 모델 적합"
   ]
  },
  {
   "cell_type": "code",
   "execution_count": 8,
   "metadata": {},
   "outputs": [
    {
     "name": "stdout",
     "output_type": "stream",
     "text": [
      "회귀계수: [0.89042657]\n",
      "절편: 107.86242266362743\n",
      "R2 Score: 0.589307547360854\n"
     ]
    }
   ],
   "source": [
    "from sklearn.linear_model import LinearRegression\n",
    "\n",
    "X = body['weight'].values.reshape(-1,1)  ##LR 모듈의 X input은 2d array여야 하기 때문에, 단순회귀의 경우 차원증가 과정 필요\n",
    "y = body['height']\n",
    "\n",
    "LRmodel = LinearRegression()\n",
    "LRmodel.fit(X,y)\n",
    "\n",
    "print('회귀계수:', LRmodel.coef_)\n",
    "print('절편:', LRmodel.intercept_)\n",
    "print('R2 Score:', LRmodel.score(X,y))"
   ]
  },
  {
   "cell_type": "code",
   "execution_count": 9,
   "metadata": {
    "scrolled": false
   },
   "outputs": [
    {
     "data": {
      "image/png": "[encoded data removed]",
      "text/plain": [
       "<Figure size 432x288 with 1 Axes>"
      ]
     },
     "metadata": {
      "needs_background": "light"
     },
     "output_type": "display_data"
    }
   ],
   "source": [
    "## 적합된 회귀선 확인\n",
    "plt.plot(X,y,'o')\n",
    "plt.plot(X,LRmodel.predict(X))\n",
    "plt.show()"
   ]
  },
  {
   "cell_type": "code",
   "execution_count": 12,
   "metadata": {
    "scrolled": false
   },
   "outputs": [
    {
     "data": {
      "text/html": [
       "<table class=\"simpletable\">\n",
       "<caption>OLS Regression Results</caption>\n",
       "<tr>\n",
       "  <th>Dep. Variable:</th>         <td>height</td>      <th>  R-squared:         </th> <td>   0.589</td>\n",
       "</tr>\n",
       "<tr>\n",
       "  <th>Model:</th>                   <td>OLS</td>       <th>  Adj. R-squared:    </th> <td>   0.571</td>\n",
       "</tr>\n",
       "<tr>\n",
       "  <th>Method:</th>             <td>Least Squares</td>  <th>  F-statistic:       </th> <td>   31.57</td>\n",
       "</tr>\n",
       "<tr>\n",
       "  <th>Date:</th>             <td>Fri, 18 Mar 2022</td> <th>  Prob (F-statistic):</th> <td>1.20e-05</td>\n",
       "</tr>\n",
       "<tr>\n",
       "  <th>Time:</th>                 <td>10:11:59</td>     <th>  Log-Likelihood:    </th> <td> -63.655</td>\n",
       "</tr>\n",
       "<tr>\n",
       "  <th>No. Observations:</th>      <td>    24</td>      <th>  AIC:               </th> <td>   131.3</td>\n",
       "</tr>\n",
       "<tr>\n",
       "  <th>Df Residuals:</th>          <td>    22</td>      <th>  BIC:               </th> <td>   133.7</td>\n",
       "</tr>\n",
       "<tr>\n",
       "  <th>Df Model:</th>              <td>     1</td>      <th>                     </th>     <td> </td>   \n",
       "</tr>\n",
       "<tr>\n",
       "  <th>Covariance Type:</th>      <td>nonrobust</td>    <th>                     </th>     <td> </td>   \n",
       "</tr>\n",
       "</table>\n",
       "<table class=\"simpletable\">\n",
       "<tr>\n",
       "      <td></td>         <th>coef</th>     <th>std err</th>      <th>t</th>      <th>P>|t|</th>  <th>[0.025</th>    <th>0.975]</th>  \n",
       "</tr>\n",
       "<tr>\n",
       "  <th>Intercept</th> <td>  107.8624</td> <td>   11.816</td> <td>    9.128</td> <td> 0.000</td> <td>   83.357</td> <td>  132.368</td>\n",
       "</tr>\n",
       "<tr>\n",
       "  <th>weight</th>    <td>    0.8904</td> <td>    0.158</td> <td>    5.619</td> <td> 0.000</td> <td>    0.562</td> <td>    1.219</td>\n",
       "</tr>\n",
       "</table>\n",
       "<table class=\"simpletable\">\n",
       "<tr>\n",
       "  <th>Omnibus:</th>       <td> 0.796</td> <th>  Durbin-Watson:     </th> <td>   2.201</td>\n",
       "</tr>\n",
       "<tr>\n",
       "  <th>Prob(Omnibus):</th> <td> 0.672</td> <th>  Jarque-Bera (JB):  </th> <td>   0.829</td>\n",
       "</tr>\n",
       "<tr>\n",
       "  <th>Skew:</th>          <td> 0.329</td> <th>  Prob(JB):          </th> <td>   0.661</td>\n",
       "</tr>\n",
       "<tr>\n",
       "  <th>Kurtosis:</th>      <td> 2.371</td> <th>  Cond. No.          </th> <td>1.20e+03</td>\n",
       "</tr>\n",
       "</table><br/><br/>Notes:<br/>[1] Standard Errors assume that the covariance matrix of the errors is correctly specified.<br/>[2] The condition number is large, 1.2e+03. This might indicate that there are<br/>strong multicollinearity or other numerical problems."
      ],
      "text/plain": [
       "<class 'statsmodels.iolib.summary.Summary'>\n",
       "\"\"\"\n",
       "                            OLS Regression Results                            \n",
       "==============================================================================\n",
       "Dep. Variable:                 height   R-squared:                       0.589\n",
       "Model:                            OLS   Adj. R-squared:                  0.571\n",
       "Method:                 Least Squares   F-statistic:                     31.57\n",
       "Date:                Fri, 18 Mar 2022   Prob (F-statistic):           1.20e-05\n",
       "Time:                        10:11:59   Log-Likelihood:                -63.655\n",
       "No. Observations:                  24   AIC:                             131.3\n",
       "Df Residuals:                      22   BIC:                             133.7\n",
       "Df Model:                           1                                         \n",
       "Covariance Type:            nonrobust                                         \n",
       "==============================================================================\n",
       "                 coef    std err          t      P>|t|      [0.025      0.975]\n",
       "------------------------------------------------------------------------------\n",
       "Intercept    107.8624     11.816      9.128      0.000      83.357     132.368\n",
       "weight         0.8904      0.158      5.619      0.000       0.562       1.219\n",
       "==============================================================================\n",
       "Omnibus:                        0.796   Durbin-Watson:                   2.201\n",
       "Prob(Omnibus):                  0.672   Jarque-Bera (JB):                0.829\n",
       "Skew:                           0.329   Prob(JB):                        0.661\n",
       "Kurtosis:                       2.371   Cond. No.                     1.20e+03\n",
       "==============================================================================\n",
       "\n",
       "Notes:\n",
       "[1] Standard Errors assume that the covariance matrix of the errors is correctly specified.\n",
       "[2] The condition number is large, 1.2e+03. This might indicate that there are\n",
       "strong multicollinearity or other numerical problems.\n",
       "\"\"\""
      ]
     },
     "execution_count": 12,
     "metadata": {},
     "output_type": "execute_result"
    }
   ],
   "source": [
    "import statsmodels.formula.api as smf\n",
    "\n",
    "## 단순회귀분석 실행하고 분석결과 출력\n",
    "LRmodel2 = smf.ols(formula = 'height ~ weight', data = body).fit()\n",
    "LRmodel2.summary()"
   ]
  },
  {
   "cell_type": "markdown",
   "metadata": {},
   "source": [
    "Statsmodel 결과 해석  \n",
    "1. 첫번째 테이블 - 회귀모형 전체에 대한 사항을 요약\n",
    "- AIC, BIC는 복수의 모형으로 적합도를 비교할 때 사용하는데, 일반적으로 해당 통계량이 작을수록 더 좋은 모형으로 판단됨\n",
    "    (현재 예제는 1개 모형만 사용했으므로 해당사항 없음)\n",
    "- F-Statistic 및 유의확률: 해당 회귀모형 전체의 적합도를 나타냄  \n",
    " \n",
    "2. 두번째 테이블 - 모형에 의해 추정된 회귀계수들의 정보를 요약\n",
    "3. 세번째 테이블 - 잔차의 정보를 요약 (사후검증용)\n",
    "    - Omnibus: 잔차의 왜도와 첨도를 이용한 검정통계량. 0에 가까울수록 정규분포에 근사함\n",
    "    - Prob(Omnibus): Omnibus 값을 이용해 H0: 하의 p-value를 보여줌\n",
    "    - JB, Prob(JB): Omnibus와 마찬가지로 잔차의 왜도와 첨도를 이용해 정규성을 검정함\n",
    "    - Skew: 왜도, Kurtois: 첨도\n",
    "    - Durbin-Watson: 독립성을 검증하는 검정 통계량. 0~4의 값이 출력되며 2에 가까우면 독립성을 지님\n",
    "    - Cond.No(Condition Number): 30을 넘으면 다중공선성이 존재한다고 판단함"
   ]
  },
  {
   "cell_type": "markdown",
   "metadata": {},
   "source": [
    "statsmodel Linear Regression으로 얻을 수 있는 결과값\n",
    "- 절편: model.params.Intercept\n",
    "- 기울기: model.params.Lot_size\n",
    "- 절편: model.fittedvalues\n",
    "- 잔차: model.resid\n",
    "- 예측값: model.predict(exog = dict(변수명 = 변수array))"
   ]
  },
  {
   "cell_type": "markdown",
   "metadata": {},
   "source": [
    "잔차분석\n",
    "1. 모형의 선형성 (residual plot 잔차산점도를 통해 확인)\n",
    "- 이상적인 모형에서 잔차산점도는 -3과 3 사이에 고르게 퍼져있고, 잔차산점도의 회귀선 기울기가 0이 되어야 한다\n",
    "- 빨간 실선은 잔차의 추세를 나타내며, 이 값이 0을 기준으로 크게 벗어난다면 예측값에 따라 잔차가 크게 달라진다는 것으로 선형성이"
   ]
  },
  {
   "cell_type": "code",
   "execution_count": 15,
   "metadata": {
    "scrolled": true
   },
   "outputs": [
    {
     "data": {
      "text/plain": [
       "Text(0, 0.5, 'residual')"
      ]
     },
     "execution_count": 15,
     "metadata": {},
     "output_type": "execute_result"
    },
    {
     "data": {
      "image/png": "[encoded data removed]",
      "text/plain": [
       "<Figure size 432x288 with 1 Axes>"
      ]
     },
     "metadata": {
      "needs_background": "light"
     },
     "output_type": "display_data"
    }
   ],
   "source": [
    "sns.regplot(LRmodel2.fittedvalues, LRmodel2.resid, lowess = True, line_kws ={'color':'red'})\n",
    "plt.plot([LRmodel2.fittedvalues.min(), LRmodel2.fittedvalues.max()], [0,0], '--', color = 'grey')\n",
    "plt.xlabel('fitted_Values')\n",
    "plt.ylabel('residual')"
   ]
  },
  {
   "cell_type": "markdown",
   "metadata": {},
   "source": [
    "2. 잔차의 정규성\n",
    "- Q-Q Plot을 통해, 잔차가 점선 위에 배치되어있는지 확인한다\n",
    "    - 각 관측값의 z-score를 계산해 x축에는 z-score값을, 해당 값의 순서통계량을 y축에 그린다.\n",
    "- 수치적으로는 샤피로윌크 검정의 귀무가설이 지켜지는지 확인한다."
   ]
  },
  {
   "cell_type": "code",
   "execution_count": 22,
   "metadata": {},
   "outputs": [
    {
     "data": {
      "text/plain": [
       "[<matplotlib.lines.Line2D at 0x225e5b11fa0>]"
      ]
     },
     "execution_count": 22,
     "metadata": {},
     "output_type": "execute_result"
    },
    {
     "data": {
      "image/png": "[encoded data removed]",
      "text/plain": [
       "<Figure size 432x288 with 1 Axes>"
      ]
     },
     "metadata": {
      "needs_background": "light"
     },
     "output_type": "display_data"
    }
   ],
   "source": [
    "import scipy.stats\n",
    "sr = scipy.stats.zscore(LRmodel2.resid)\n",
    "(x,y), _ = scipy.stats.probplot(sr)\n",
    "sns.scatterplot(x,y)\n",
    "plt.plot([-3,3],[-3,3],'--', color = 'grey')"
   ]
  },
  {
   "cell_type": "markdown",
   "metadata": {},
   "source": [
    "3. 잔차의 등분산성(residual vs predictor plot)\n",
    "- 예측된 값에 관계없이 모든 값에 대해 잔차의 분산이 동일하다는 가정\n",
    "- 모형에 특별한 형태가 없으면 모형이 잘 적합된 것으로 봄\n",
    "- 예측값 vs 표준화된 잔차 값에서 실선이 수평에 가까울수록 등분산성을 지녔다고 말할 수 있음"
   ]
  },
  {
   "cell_type": "code",
   "execution_count": 23,
   "metadata": {},
   "outputs": [
    {
     "data": {
      "text/plain": [
       "<AxesSubplot:>"
      ]
     },
     "execution_count": 23,
     "metadata": {},
     "output_type": "execute_result"
    },
    {
     "data": {
      "image/png": "[encoded data removed]",
      "text/plain": [
       "<Figure size 432x288 with 1 Axes>"
      ]
     },
     "metadata": {
      "needs_background": "light"
     },
     "output_type": "display_data"
    }
   ],
   "source": [
    "sns.regplot(LRmodel2.fittedvalues, np.sqrt(np.abs(sr)), lowess= True, line_kws = {'color':'red'})"
   ]
  },
  {
   "cell_type": "markdown",
   "metadata": {},
   "source": [
    "4. 잔차의 독립성\n",
    "- 2의 값이면 자기상관이 없는 독립성, 0이면 잔차가 양의 자기상관, 4이면 잔차가 음의 자기상관을 갖는다\n",
    "- 1.5 ~ 2.5 사이면 독립으로 판단하고 회귀모형이 적합하다는 것을 의미\n",
    "- 0 또는 4의 값에 가깝다는 것은 잔차의 자기상관으로 인해 t값, F값, $R^2$ 값을 실제보다 증가시켜 유의미하지 않은 결과를 유의미하게 판단함"
   ]
  },
  {
   "cell_type": "markdown",
   "metadata": {},
   "source": [
    "5. 극단값\n",
    "- Cook's distance는 예측에서 많이 벗어난 극단값을 보여줌"
   ]
  },
  {
   "cell_type": "code",
   "execution_count": 29,
   "metadata": {},
   "outputs": [
    {
     "data": {
      "text/plain": [
       "20   0.15829\n",
       "12   0.10033\n",
       "22   0.09632\n",
       "21   0.09170\n",
       "13   0.08328\n",
       "dtype: float64"
      ]
     },
     "execution_count": 29,
     "metadata": {},
     "output_type": "execute_result"
    }
   ],
   "source": [
    "from statsmodels.stats.outliers_influence import OLSInfluence\n",
    "cd, _ = OLSInfluence(LRmodel2).cooks_distance\n",
    "cd.sort_values(ascending = False).head()"
   ]
  },
  {
   "cell_type": "markdown",
   "metadata": {},
   "source": [
    "## 다중회귀분석\n",
    "- X가 두 개 이상인 경우"
   ]
  },
  {
   "cell_type": "code",
   "execution_count": 70,
   "metadata": {},
   "outputs": [
    {
     "data": {
      "image/png": "[encoded data removed]",
      "text/plain": [
       "<Figure size 1152x576 with 8 Axes>"
      ]
     },
     "metadata": {
      "needs_background": "light"
     },
     "output_type": "display_data"
    }
   ],
   "source": [
    "## 각 column이 PRICE에 미치는 영향도 조사\n",
    "fig, axs = plt.subplots(figsize=(16,8) , ncols=4 , nrows=2)\n",
    "lm_features = ['RM','ZN','INDUS','NOX','AGE','PTRATIO','LSTAT','RAD']   ##연속형변수만 보기\n",
    "for i , feature in enumerate(lm_features):\n",
    "    row = int(i/4)\n",
    "    col = i%4\n",
    "    sns.regplot(x=feature , y='PRICE',data=df , ax=axs[row][col])"
   ]
  },
  {
   "cell_type": "code",
   "execution_count": 71,
   "metadata": {},
   "outputs": [
    {
     "name": "stdout",
     "output_type": "stream",
     "text": [
      "MSE : 22.324\n",
      "RMSE : 4.725\n",
      "Variance score : 0.709\n"
     ]
    }
   ],
   "source": [
    "from sklearn.model_selection import train_test_split\n",
    "from sklearn.linear_model import LinearRegression\n",
    "from sklearn.metrics import mean_squared_error, r2_score\n",
    "\n",
    "y_target = df['PRICE']\n",
    "X_data = df.drop(['PRICE'],axis=1,inplace=False)\n",
    "\n",
    "X_train , X_test , y_train , y_test = train_test_split(X , y ,test_size=0.3, random_state = 999)\n",
    "\n",
    "# Linear Regression OLS로 학습/예측 수행\n",
    "lr = LinearRegression()\n",
    "lr.fit(X_train ,y_train )\n",
    "y_preds = lr.predict(X_test)\n",
    "\n",
    "# 평균제곱오차(MSE, Mean squared error) : 수치가 작을 수록 원본과의 오차가 적은 것\n",
    "mse = mean_squared_error(y_test, y_preds)\n",
    "\n",
    "# 평균제곱근오차(RMSE, Root mean squared error) : 수치가 낮을수록 정확도가 높다고 판단\n",
    "rmse = np.sqrt(mse)\n",
    "\n",
    "print('MSE : {0:.3f}\\nRMSE : {1:.3F}'.format(mse , rmse))\n",
    "print('Variance score : {0:.3f}'.format(r2_score(y_test, y_preds)))"
   ]
  },
  {
   "cell_type": "code",
   "execution_count": 80,
   "metadata": {
    "scrolled": true
   },
   "outputs": [
    {
     "name": "stdout",
     "output_type": "stream",
     "text": [
      "절편 : 40.1598620827294\n"
     ]
    },
    {
     "data": {
      "text/plain": [
       "RM          3.36000\n",
       "CHAS        1.55700\n",
       "RAD         0.32800\n",
       "ZN          0.05300\n",
       "INDUS       0.01700\n",
       "B           0.00900\n",
       "AGE         0.00100\n",
       "TAX        -0.01200\n",
       "CRIM       -0.13400\n",
       "LSTAT      -0.62600\n",
       "PTRATIO    -0.91600\n",
       "DIS        -1.70300\n",
       "NOX       -16.55800\n",
       "dtype: float64"
      ]
     },
     "execution_count": 80,
     "metadata": {},
     "output_type": "execute_result"
    }
   ],
   "source": [
    "print('절편 :',lr.intercept_)\n",
    "# 회귀 계수를 큰 값 순으로 정렬하기 위해 Series로 생성. index 컬럼명에 유의\n",
    "coeff = pd.Series(data=np.round(lr.coef_, 3), index=X.columns )\n",
    "coeff.sort_values(ascending=False)"
   ]
  },
  {
   "cell_type": "markdown",
   "metadata": {},
   "source": [
    "Cross validation을 이용해 회귀계수 산정하기"
   ]
  },
  {
   "cell_type": "code",
   "execution_count": 81,
   "metadata": {},
   "outputs": [
    {
     "name": "stdout",
     "output_type": "stream",
     "text": [
      " 5 folds 의 개별 Negative MSE scores :  [-12.46 -26.05 -33.07 -80.76 -33.31]\n",
      " 5 folds 의 개별 RMSE scores :  [3.53 5.1  5.75 8.99 5.77]\n",
      " 5 folds 의 평균 RMSE : 5.829 \n"
     ]
    }
   ],
   "source": [
    "from sklearn.model_selection import cross_val_score\n",
    "\n",
    "lr = LinearRegression()\n",
    "\n",
    "# cross_val_score( )로 5 Fold 셋으로 MSE를 구한 뒤 이를 기반으로 다시 RMSE 구함\n",
    "# cross_val_score()의 인자로 scoring=\"neg_mean_squared_error\"를 지정하면 반환되는 수치 값은 음수 값이므로 -1을 곱해서 양의 값으로\n",
    "neg_mse_scores = cross_val_score(lr, X_data, y_target, scoring=\"neg_mean_squared_error\", cv = 5)\n",
    "rmse_scores  = np.sqrt(-1 * neg_mse_scores)\n",
    "avg_rmse = np.mean(rmse_scores)\n",
    "\n",
    "print(' 5 folds 의 개별 Negative MSE scores : ', np.round(neg_mse_scores, 2)) # cross_val_score(scoring=\"neg_mean_squared_error\")로 반환된 값은 모두 음수 \n",
    "print(' 5 folds 의 개별 RMSE scores : ', np.round(rmse_scores, 2))\n",
    "print(' 5 folds 의 평균 RMSE : {0:.3f} '.format(avg_rmse))"
   ]
  },
  {
   "cell_type": "markdown",
   "metadata": {},
   "source": [
    "## 다항회귀\n",
    "- 독립변수와 종속변수의 관계가 선형이 아닐 때 사용"
   ]
  },
  {
   "cell_type": "code",
   "execution_count": 84,
   "metadata": {},
   "outputs": [
    {
     "name": "stdout",
     "output_type": "stream",
     "text": [
      "[-1.709817] [-1.709817    2.92347416]\n"
     ]
    }
   ],
   "source": [
    "from sklearn.preprocessing import PolynomialFeatures\n",
    "\n",
    "## 데이터 만들기\n",
    "X = 6 * np.random.rand(100,1)-3\n",
    "y = 0.5 * X **2 + 2 + np.random.randn(100,1)\n",
    "\n",
    "poly_feature = PolynomialFeatures(degree = 2, include_bias = False)  ## X와 X의 n(degree의 숫자)승수까지의 벡터를 만들어줌\n",
    "X_poly = poly_feature.fit_transform(X)\n",
    "print(X[0], X_poly[0])"
   ]
  },
  {
   "cell_type": "code",
   "execution_count": 86,
   "metadata": {},
   "outputs": [
    {
     "data": {
      "text/plain": [
       "LinearRegression()"
      ]
     },
     "execution_count": 86,
     "metadata": {},
     "output_type": "execute_result"
    }
   ],
   "source": [
    "LRmodel = LinearRegression()\n",
    "LRmodel.fit(X_poly, y)"
   ]
  },
  {
   "cell_type": "code",
   "execution_count": null,
   "metadata": {},
   "outputs": [],
   "source": []
  },
  {
   "cell_type": "code",
   "execution_count": null,
   "metadata": {},
   "outputs": [],
   "source": []
  },
  {
   "cell_type": "code",
   "execution_count": null,
   "metadata": {},
   "outputs": [],
   "source": []
  },
  {
   "cell_type": "code",
   "execution_count": null,
   "metadata": {},
   "outputs": [],
   "source": []
  },
  {
   "cell_type": "code",
   "execution_count": null,
   "metadata": {},
   "outputs": [],
   "source": []
  },
  {
   "cell_type": "code",
   "execution_count": null,
   "metadata": {},
   "outputs": [],
   "source": []
  },
  {
   "cell_type": "markdown",
   "metadata": {},
   "source": [
    "## 정규화선형회귀\n",
    "- 선형모델이 학습데이터의 오차를 최소화하는 것만 고려할 경우 회귀계수가 쉽게 커지고, 예측의 성능이 저하되기 쉬움\n",
    "- 이렇게 학습데이터에서만 성능이 높은 모델을 '과적합'되었다고 말하고, 과적합을 방지하기 위해 회귀계수 산출공식에 제약을 둔다\n",
    "    -  기존 선형회귀계수 산출 알고리즘     \n",
    "    -  $MSE(training) = (Y-\\hat{Y)}^2 $를 최소화 하는 값  \n",
    "    - 정규화 선형회귀계수 산출 알고리즘    \n",
    "    -  $ MSE + alpha * || 회귀계수 W|| $\n",
    "\n",
    "\n",
    "\n",
    "- 언제 어떤 회귀를 사용해야 하는가?  \n",
    "  - __변수개수 > 데이터의 양__ : 라쏘 이용  \n",
    "    라쏘는 주로 변수들이 많은 경우에 변수 선택을 하기 위해 사용\n",
    "  - __데이터의 양>변수개수__ : 릿지 이용  \n",
    "    릿지는 변수들 간 다중공선성이 발견될 때 x의 분산을 줄이기 위해 사용 (정보 압축)\n",
    "  - 엘라스틱넷은 교란변수 A가 있을 때, 실제 영향을 주는 변수인 B만 사라지고 A만 남아있는 상황(라쏘 이용 시)이나 A와 B의 회귀계수가 크게 줄어서 A의 영향력이 과소평가되는 상황(릿지 이용 시)을 피하기 위해 사용"
   ]
  },
  {
   "cell_type": "markdown",
   "metadata": {},
   "source": [
    "### 1. Ridge 회귀모형\n",
    "- 가중치들의 제곱합(squared sum of weights)을 최소화하는 것을 추가 제약조건으로 계산.\n",
    "- 회귀계수의 산정\n",
    "- $w = \\text{arg}\\min_w \\left( \\sum_{i=1}^N e_i^2 + \\lambda \\sum_{j=1}^M w_j^2 \\right)$\n",
    "- $\\lambda$는 기존의 잔차 제곱합과 추가적 제약 조건의 비중을 조절하기 위한 하이퍼파라미터\n",
    "    -  $\\lambda$가 크면 정규화 정도가 커지고, 가중치(w)의 값들이 작아진다.\n",
    "    -  $\\lambda$가 작아지면 정규화 정도가 작아지며, $\\lambda$ 가 0이 되면 일반적인 선형 회귀모형이 된다.\n",
    "-  가중치(w) 제한 범위\n",
    "$∑w^2  < t $ \n",
    "    -  L2 정규화 : t값이 작아질 수록 가중치에 대한 제약이 커진다  \n",
    "    -  L2 정규화가 L1 정규화에 비해 더 안정적이라 일반적으로는 L2 정규화가 더 많이 사용된다  \n",
    "-  x 변수 간 상관관계가 높은 상황(collinearity)에서 좋은 예측성능을 보인다\n",
    "-  크기가 큰 변수를 우선적으로 줄이려는 경향이 있다"
   ]
  },
  {
   "cell_type": "code",
   "execution_count": 45,
   "metadata": {},
   "outputs": [],
   "source": [
    "from sklearn.linear_model import Ridge\n",
    "from sklearn.model_selection import cross_val_score\n",
    "\n",
    "ridge = Ridge(alpha = 10) ## alpha는 규제항에 곱해지는 것으로 alpha가 커질수록 회귀계수는 작아짐 (alpha = 회귀식의 람다)\n",
    "neg_mse_scores = cross_val_score(ridge, X, y, scoring = \"neg_mean_squared_error\", cv = 5) \n",
    "rmse_scores = np.sqrt(-1 * neg_mse_scores)\n",
    "avg_rmse = np.mean(rmse_scores)"
   ]
  },
  {
   "cell_type": "code",
   "execution_count": 47,
   "metadata": {},
   "outputs": [
    {
     "name": "stdout",
     "output_type": "stream",
     "text": [
      "alpha 0 일 때 5 folds의 평균 RMSE: 5.829\n",
      "alpha 0.1 일 때 5 folds의 평균 RMSE: 5.788\n",
      "alpha 1 일 때 5 folds의 평균 RMSE: 5.653\n",
      "alpha 10 일 때 5 folds의 평균 RMSE: 5.518\n",
      "alpha 100 일 때 5 folds의 평균 RMSE: 5.330\n"
     ]
    }
   ],
   "source": [
    "## 규제항에 곱해지는 alpha(=람다) 값의 변화에 따른 정확도, 회귀계수의 크기 변화 측정\n",
    "alphas = [0, 0.1, 1, 10, 100] ## alpha = 0일때는 규제가 없는 경우와 동일\n",
    "\n",
    "for alpha in alphas:\n",
    "  ridge = Ridge(alpha = alpha)\n",
    "\n",
    "  neg_mse_scores = cross_val_score(ridge, X, y, scoring = \"neg_mean_squared_error\", cv = 5)\n",
    "  avg_rmse = np.mean(np.sqrt(-1 * neg_mse_scores))\n",
    "  print('alpha {0} 일 때 5 folds의 평균 RMSE: {1:.3f}'.format(alpha, avg_rmse))"
   ]
  },
  {
   "cell_type": "code",
   "execution_count": 50,
   "metadata": {
    "scrolled": true
   },
   "outputs": [
    {
     "name": "stdout",
     "output_type": "stream",
     "text": [
      "          alpha:0  alpha:0.1   alpha:1  alpha:10  alpha:100\n",
      "CRIM     -0.10801   -0.10747  -0.10460  -0.10144   -0.10220\n",
      "ZN        0.04642    0.04657   0.04744   0.04958    0.05450\n",
      "INDUS     0.02056    0.01600  -0.00880  -0.04296   -0.05283\n",
      "CHAS      2.68673    2.67002   2.55239   1.95202    0.63833\n",
      "NOX     -17.76661  -16.68465 -10.77701  -2.37162   -0.26285\n",
      "RM        3.80987    3.81823   3.85400   3.70227    2.33454\n",
      "AGE       0.00069   -0.00027  -0.00541  -0.01071    0.00121\n",
      "DIS      -1.47557   -1.45963  -1.37265  -1.24881   -1.15339\n",
      "RAD       0.30605    0.30352   0.29014   0.27960    0.31536\n",
      "TAX      -0.01233   -0.01242  -0.01291  -0.01399   -0.01586\n",
      "PTRATIO  -0.95275   -0.94076  -0.87607  -0.79794   -0.82922\n",
      "B         0.00931    0.00937   0.00967   0.01004    0.00939\n",
      "LSTAT    -0.52476   -0.52597  -0.53334  -0.55937   -0.66076\n"
     ]
    }
   ],
   "source": [
    "## 최종회귀계수 출력\n",
    "coeff_df = pd.DataFrame()\n",
    "\n",
    "for pos, alpha in enumerate(alphas):\n",
    "  ridge = Ridge(alpha = alpha)\n",
    "  ridge.fit(X, y)\n",
    "\n",
    "  coeff = pd.Series(data = ridge.coef_, index = X.columns)\n",
    "  colname = 'alpha:' + str(alpha)\n",
    "  coeff_df[colname] = coeff\n",
    "\n",
    "print(coeff_df)"
   ]
  },
  {
   "cell_type": "markdown",
   "metadata": {},
   "source": [
    "### 2. Lasso 회귀모형\n",
    "- 가중치의 절대값의 합을 최소화하는 것을 추가적인 제약 조건으로 한다.\n",
    "- $w = \\text{arg}\\min_w \\left( \\sum_{i=1}^N e_i^2 + \\lambda \\sum_{j=1}^M | w_j | \\right)$\n",
    "- 가중치(w) 제한 범위  $∑|w| < t $\n",
    "- zero coefficient 를 만드는 것이 가능해진다. 즉, 어떤 독립변수의 경우 아예 사라지게 될 수도 있게 되면서 feature selection을 할 수 있게 된다.\n",
    "- Lasso 모델에 너무 큰 $\\lambda$를 적용하면 대부분의 feature들의 가중치가 0으로 수렴한다 (변수선택에 유용)\n",
    "- 변수들 간 상관관계가 큰 경우 예측 성능 저하"
   ]
  },
  {
   "cell_type": "code",
   "execution_count": 53,
   "metadata": {},
   "outputs": [
    {
     "name": "stdout",
     "output_type": "stream",
     "text": [
      "Lasso 회귀 alpha 0 일 때 5 folds의 평균 RMSE: 5.829\n",
      "Lasso 회귀 alpha 0.1 일 때 5 folds의 평균 RMSE: 5.615\n",
      "Lasso 회귀 alpha 1 일 때 5 folds의 평균 RMSE: 5.776\n",
      "Lasso 회귀 alpha 10 일 때 5 folds의 평균 RMSE: 6.586\n",
      "Lasso 회귀 alpha 100 일 때 5 folds의 평균 RMSE: 8.393\n"
     ]
    }
   ],
   "source": [
    "## Lasso는 Ridge회귀에서 사용했던 식 그대로에서 함수만 바꿔주면 된다.\n",
    "\n",
    "from sklearn.linear_model import Lasso\n",
    "alphas = [0, 0.1, 1, 10, 100]\n",
    "\n",
    "for alpha in alphas:\n",
    "  lasso = Lasso(alpha = alpha)\n",
    "\n",
    "  neg_mse_scores = cross_val_score(lasso, X, y, scoring = \"neg_mean_squared_error\", cv = 5)\n",
    "  avg_rmse = np.mean(np.sqrt(-1 * neg_mse_scores))\n",
    "  print('Lasso 회귀 alpha {0} 일 때 5 folds의 평균 RMSE: {1:.3f}'.format(alpha, avg_rmse))\n",
    "\n",
    "\n",
    "## 최종 회귀계수를 출력\n",
    "coeff_df = pd.DataFrame()\n",
    "for pos, alpha in enumerate(alphas):\n",
    "  lasso = Lasso(alpha = alpha)\n",
    "  lasso.fit(X, y)\n",
    "\n",
    "  coeff = pd.Series(data = lasso.coef_, index = X.columns)\n",
    "  colname = 'alpha:' + str(alpha)\n",
    "  coeff_df[colname] = coeff\n",
    "\n",
    "print(coeff_df)"
   ]
  },
  {
   "cell_type": "markdown",
   "metadata": {},
   "source": [
    "### 3. Elastic Net 회귀모형\n",
    "- 가중치의 절대값의 합과 제곱합을 동시에 제약 조건으로 가지는 모형\n",
    "- $w = \\text{arg}\\min_w \\left( \\sum_{i=1}^N e_i^2 + \\lambda_1 \\sum_{j=1}^M | w_j | + \\lambda_2 \\sum_{j=1}^M w_j^2 \\right)$\n",
    "- $\\lambda_1$, $\\lambda_2$ 두 개의 하이퍼 모수를 가진다.\n",
    "\n",
    "- 일정 범위 내로 $\\lambda_1$, $\\lambda_2$를 조정하여, 가장 좋은 예측 결과를 보이는 $\\lambda_1$, $\\lambda_2$ 값을 선정 (Grid Search)\n",
    "    - l1_ratio = 0 (L2 규제만 사용)\n",
    "    - l1_ratio = 1 (L1 규제만 사용)\n",
    "    - 0 < l1_ratio < 1 (L1 and L2 규제의 혼합사용)\n",
    "- $\\lambda_1$는 규제의 강도를 조절하는 매개변수, $\\lambda_2$는 Lasso 와 Ridge 규제 사이의 가중치를 조절하는 변수\n",
    "- $\\lambda_1$가 0에 가까우면 elasticNet은 Ridge에 가까워지고, $\\lambda_1$가 1에 가까우면 elasticNet은 Lasso에 가까워짐\n",
    "- ElasticNet을 사용하게 되면 Ridge처럼 coefficient의 크기를 줄이는 동시에 Lasso처럼 특정 coefficient를 0으로 만든다. 따라서 feature selection에 효과적임\n",
    "\n"
   ]
  },
  {
   "cell_type": "code",
   "execution_count": 56,
   "metadata": {},
   "outputs": [
    {
     "name": "stdout",
     "output_type": "stream",
     "text": [
      "ElasticNet 회귀 alpha 0 일 때 5 folds의 평균 RMSE: 5.829\n",
      "ElasticNet 회귀 alpha 0.1 일 때 5 folds의 평균 RMSE: 5.478\n",
      "ElasticNet 회귀 alpha 1 일 때 5 folds의 평균 RMSE: 5.522\n",
      "ElasticNet 회귀 alpha 10 일 때 5 folds의 평균 RMSE: 6.472\n",
      "ElasticNet 회귀 alpha 100 일 때 5 folds의 평균 RMSE: 8.312\n",
      "          alpha:0  alpha:0.1  alpha:1  alpha:10  alpha:100\n",
      "CRIM     -0.10801   -0.10008 -0.08037  -0.00000   -0.00000\n",
      "ZN        0.04642    0.05138  0.05324   0.04093    0.00000\n",
      "INDUS     0.02056   -0.04590 -0.01266  -0.00000   -0.00000\n",
      "CHAS      2.68673    0.98797  0.00000   0.00000    0.00000\n",
      "NOX     -17.76661   -0.05953 -0.00000   0.00000   -0.00000\n",
      "RM        3.80987    3.25266  0.93394   0.00000    0.00000\n",
      "AGE       0.00069   -0.00722  0.02058   0.02007   -0.00000\n",
      "DIS      -1.47557   -1.18140 -0.76204  -0.00000    0.00000\n",
      "RAD       0.30605    0.28873  0.30157   0.00000    0.00000\n",
      "TAX      -0.01233   -0.01495 -0.01644  -0.00895   -0.02135\n",
      "PTRATIO  -0.95275   -0.79350 -0.74805  -0.00000   -0.00000\n",
      "B         0.00931    0.00996  0.00834   0.00744    0.01011\n",
      "LSTAT    -0.52476   -0.59818 -0.75843  -0.63240   -0.00000\n"
     ]
    }
   ],
   "source": [
    "from sklearn.linear_model import ElasticNet\n",
    "alphas = [0, 0.1, 1, 10, 100]\n",
    "\n",
    "for alpha in alphas:\n",
    "  elasticnet = ElasticNet(alpha = alpha)\n",
    "\n",
    "  neg_mse_scores = cross_val_score(elasticnet, X, y, scoring = \"neg_mean_squared_error\", cv = 5)\n",
    "  avg_rmse = np.mean(np.sqrt(-1 * neg_mse_scores))\n",
    "  print('ElasticNet 회귀 alpha {0} 일 때 5 folds의 평균 RMSE: {1:.3f}'.format(alpha, avg_rmse))\n",
    "\n",
    "\n",
    "## 최종 회귀계수를 출력\n",
    "coeff_df = pd.DataFrame()\n",
    "for pos, alpha in enumerate(alphas):\n",
    "  elasticnet = ElasticNet(alpha = alpha)\n",
    "  elasticnet.fit(X, y)\n",
    "\n",
    "  coeff = pd.Series(data = elasticnet.coef_, index = X.columns)\n",
    "  colname = 'alpha:' + str(alpha)\n",
    "  coeff_df[colname] = coeff\n",
    "\n",
    "print(coeff_df)"
   ]
  },
  {
   "cell_type": "markdown",
   "metadata": {},
   "source": [
    "### 참고) 최적정규화\n",
    "- 정규화에 사용되는 Hyper parameter 등을 바꾸면 모형의 검증 성능이 달라짐. 따라서 최적의 성능을 가져올 수 있는 하이퍼파라미터 선택이 필요. 이 과정을 수행해주는 것을 optimal regularization이라고 부름"
   ]
  },
  {
   "cell_type": "code",
   "execution_count": 43,
   "metadata": {},
   "outputs": [
    {
     "name": "stdout",
     "output_type": "stream",
     "text": [
      "R2 score - Linear: 0.65, Ridge: 0.64, Lasso: 0.64, Elastic Net: 0.64\n",
      "MSE - Linear: 29.70, Ridge: 30.38, Lasso: 30.25,  Elastic Net: 30.26\n"
     ]
    }
   ],
   "source": [
    "from sklearn.linear_model import Ridge, Lasso, ElasticNet\n",
    "from sklearn.metrics import r2_score, mean_squared_error\n",
    "\n",
    "\n",
    "X = df.iloc[:,:-1]  ##학습을 위한 데이터 선택\n",
    "y = df.iloc[:,-1]\n",
    "from sklearn.model_selection import train_test_split\n",
    "Xtrain, Xtest, ytrain, ytest = train_test_split(X, y)\n",
    "\n",
    "## 최적정규화 수행\n",
    "linear = LinearRegression().fit(Xtrain, ytrain) ## alpha (default=1.0), l1_ratio (default=0.5)\n",
    "ridge = Ridge().fit(Xtrain, ytrain)\n",
    "lasso = Lasso().fit(Xtrain, ytrain)\n",
    "elastic = ElasticNet().fit(Xtrain, ytrain)\n",
    "\n",
    "linear_y_hat = linear.predict(Xtest)\n",
    "ridge_y_hat = ridge.predict(Xtest)\n",
    "lasso_y_hat = lasso.predict(Xtest)\n",
    "elastic_y_hat = elastic.predict(Xtest)\n",
    "\n",
    "linear_r2, ridge_r2, lasso_r2, elastic_r2 = r2_score(ytest,linear_y_hat), r2_score(ytest,ridge_y_hat), r2_score(ytest,lasso_y_hat), r2_score(ytest, elastic_y_hat)\n",
    "linear_MSE, ridge_MSE, lasso_MSE, elastic_MSE = mean_squared_error(ytest,linear_y_hat), mean_squared_error(ytest,ridge_y_hat), mean_squared_error(ytest,lasso_y_hat), mean_squared_error(ytest, elastic_y_hat)\n",
    "\n",
    "\n",
    "print('R2 score - Linear: %.2f, Ridge: %.2f, Lasso: %.2f, Elastic Net: %.2f' %(linear_r2, ridge_r2, lasso_r2, elastic_r2))\n",
    "print('MSE - Linear: %.2f, Ridge: %.2f, Lasso: %.2f,  Elastic Net: %.2f' %(linear_MSE, ridge_MSE, lasso_MSE, elastic_MSE))"
   ]
  }
 ],
 "metadata": {
  "kernelspec": {
   "display_name": "Python 3",
   "language": "python",
   "name": "python3"
  },
  "language_info": {
   "codemirror_mode": {
    "name": "ipython",
    "version": 3
   },
   "file_extension": ".py",
   "mimetype": "text/x-python",
   "name": "python",
   "nbconvert_exporter": "python",
   "pygments_lexer": "ipython3",
   "version": "3.8.5"
  }
 },
 "nbformat": 4,
 "nbformat_minor": 4
}
