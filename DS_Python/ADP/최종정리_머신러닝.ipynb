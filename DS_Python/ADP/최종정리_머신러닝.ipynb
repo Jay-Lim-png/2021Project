{
 "cells": [
  {
   "cell_type": "markdown",
   "metadata": {},
   "source": [
    "1. 앙상블의 개념\n",
    "    - 보팅\n",
    "    - 배깅\n",
    "    - 페이스팅\n",
    "    - 부스팅\n",
    "2. 회귀\n",
    "    - Decision Tree\n",
    "    - Random Forest\n",
    "    - GBM\n",
    "    - XGB Reg\n",
    "    - LGB Reg\n",
    "3. 분류\n",
    "    - 나이브베이즈\n",
    "    - KNN\n",
    "    - Decision Tree Classifier\n",
    "    - SVM\n",
    "    - 스태킹앙상블\n",
    "    - 앙상블(Voting)\n",
    "    - Bagging(RF Classifier)\n",
    "    - XGB Classifier\n",
    "4. 군집\n",
    "    - Hierarchical Clustering\n",
    "    - K-Means Clustering\n",
    "    - Mean-Shift Clustering\n",
    "    - GMM\n",
    "    - DBSCAN\n",
    "5. 차원축소\n",
    "    - 요인분석\n",
    "    - PCA 주성분분석\n",
    "    - LDA 선형판별분석\n",
    "    - SVD\n",
    "    - NMF"
   ]
  },
  {
   "cell_type": "code",
   "execution_count": 9,
   "metadata": {},
   "outputs": [],
   "source": [
    "import pandas as pd\n",
    "import numpy as np\n",
    "import seaborn as sns\n",
    "import matplotlib.pyplot as plt\n",
    "\n",
    "import warnings  ##warning sign 출력 무시\n",
    "warnings.filterwarnings(\"ignore\")\n",
    "\n",
    "%matplotlib inline\n",
    "pd.set_option('display.float_format', lambda x: '%.5f' % x)  ##scientific notation 삭제\n",
    "plt.rcParams['font.family'] = 'Malgun Gothic'  ##한글폰트 설정\n",
    "plt.rcParams['axes.unicode_minus'] = False    ##마이너스기호 깨짐 방지"
   ]
  },
  {
   "cell_type": "code",
   "execution_count": 27,
   "metadata": {
    "scrolled": false
   },
   "outputs": [
    {
     "data": {
      "text/html": [
       "<div>\n",
       "<style scoped>\n",
       "    .dataframe tbody tr th:only-of-type {\n",
       "        vertical-align: middle;\n",
       "    }\n",
       "\n",
       "    .dataframe tbody tr th {\n",
       "        vertical-align: top;\n",
       "    }\n",
       "\n",
       "    .dataframe thead th {\n",
       "        text-align: right;\n",
       "    }\n",
       "</style>\n",
       "<table border=\"1\" class=\"dataframe\">\n",
       "  <thead>\n",
       "    <tr style=\"text-align: right;\">\n",
       "      <th></th>\n",
       "      <th>CRIM</th>\n",
       "      <th>ZN</th>\n",
       "      <th>INDUS</th>\n",
       "      <th>CHAS</th>\n",
       "      <th>NOX</th>\n",
       "      <th>RM</th>\n",
       "      <th>AGE</th>\n",
       "      <th>DIS</th>\n",
       "      <th>RAD</th>\n",
       "      <th>TAX</th>\n",
       "      <th>PTRATIO</th>\n",
       "      <th>B</th>\n",
       "      <th>LSTAT</th>\n",
       "      <th>PRICE</th>\n",
       "    </tr>\n",
       "  </thead>\n",
       "  <tbody>\n",
       "    <tr>\n",
       "      <th>0</th>\n",
       "      <td>0.00632</td>\n",
       "      <td>18.00000</td>\n",
       "      <td>2.31000</td>\n",
       "      <td>0.00000</td>\n",
       "      <td>0.53800</td>\n",
       "      <td>6.57500</td>\n",
       "      <td>65.20000</td>\n",
       "      <td>4.09000</td>\n",
       "      <td>1.00000</td>\n",
       "      <td>296.00000</td>\n",
       "      <td>15.30000</td>\n",
       "      <td>396.90000</td>\n",
       "      <td>4.98000</td>\n",
       "      <td>24.00000</td>\n",
       "    </tr>\n",
       "    <tr>\n",
       "      <th>1</th>\n",
       "      <td>0.02731</td>\n",
       "      <td>0.00000</td>\n",
       "      <td>7.07000</td>\n",
       "      <td>0.00000</td>\n",
       "      <td>0.46900</td>\n",
       "      <td>6.42100</td>\n",
       "      <td>78.90000</td>\n",
       "      <td>4.96710</td>\n",
       "      <td>2.00000</td>\n",
       "      <td>242.00000</td>\n",
       "      <td>17.80000</td>\n",
       "      <td>396.90000</td>\n",
       "      <td>9.14000</td>\n",
       "      <td>21.60000</td>\n",
       "    </tr>\n",
       "    <tr>\n",
       "      <th>2</th>\n",
       "      <td>0.02729</td>\n",
       "      <td>0.00000</td>\n",
       "      <td>7.07000</td>\n",
       "      <td>0.00000</td>\n",
       "      <td>0.46900</td>\n",
       "      <td>7.18500</td>\n",
       "      <td>61.10000</td>\n",
       "      <td>4.96710</td>\n",
       "      <td>2.00000</td>\n",
       "      <td>242.00000</td>\n",
       "      <td>17.80000</td>\n",
       "      <td>392.83000</td>\n",
       "      <td>4.03000</td>\n",
       "      <td>34.70000</td>\n",
       "    </tr>\n",
       "    <tr>\n",
       "      <th>3</th>\n",
       "      <td>0.03237</td>\n",
       "      <td>0.00000</td>\n",
       "      <td>2.18000</td>\n",
       "      <td>0.00000</td>\n",
       "      <td>0.45800</td>\n",
       "      <td>6.99800</td>\n",
       "      <td>45.80000</td>\n",
       "      <td>6.06220</td>\n",
       "      <td>3.00000</td>\n",
       "      <td>222.00000</td>\n",
       "      <td>18.70000</td>\n",
       "      <td>394.63000</td>\n",
       "      <td>2.94000</td>\n",
       "      <td>33.40000</td>\n",
       "    </tr>\n",
       "    <tr>\n",
       "      <th>4</th>\n",
       "      <td>0.06905</td>\n",
       "      <td>0.00000</td>\n",
       "      <td>2.18000</td>\n",
       "      <td>0.00000</td>\n",
       "      <td>0.45800</td>\n",
       "      <td>7.14700</td>\n",
       "      <td>54.20000</td>\n",
       "      <td>6.06220</td>\n",
       "      <td>3.00000</td>\n",
       "      <td>222.00000</td>\n",
       "      <td>18.70000</td>\n",
       "      <td>396.90000</td>\n",
       "      <td>5.33000</td>\n",
       "      <td>36.20000</td>\n",
       "    </tr>\n",
       "  </tbody>\n",
       "</table>\n",
       "</div>"
      ],
      "text/plain": [
       "     CRIM       ZN   INDUS    CHAS     NOX      RM      AGE     DIS     RAD  \\\n",
       "0 0.00632 18.00000 2.31000 0.00000 0.53800 6.57500 65.20000 4.09000 1.00000   \n",
       "1 0.02731  0.00000 7.07000 0.00000 0.46900 6.42100 78.90000 4.96710 2.00000   \n",
       "2 0.02729  0.00000 7.07000 0.00000 0.46900 7.18500 61.10000 4.96710 2.00000   \n",
       "3 0.03237  0.00000 2.18000 0.00000 0.45800 6.99800 45.80000 6.06220 3.00000   \n",
       "4 0.06905  0.00000 2.18000 0.00000 0.45800 7.14700 54.20000 6.06220 3.00000   \n",
       "\n",
       "        TAX  PTRATIO         B   LSTAT    PRICE  \n",
       "0 296.00000 15.30000 396.90000 4.98000 24.00000  \n",
       "1 242.00000 17.80000 396.90000 9.14000 21.60000  \n",
       "2 242.00000 17.80000 392.83000 4.03000 34.70000  \n",
       "3 222.00000 18.70000 394.63000 2.94000 33.40000  \n",
       "4 222.00000 18.70000 396.90000 5.33000 36.20000  "
      ]
     },
     "execution_count": 27,
     "metadata": {},
     "output_type": "execute_result"
    }
   ],
   "source": [
    "## 군집, 회귀용 데이터 생성 (보스턴 집값 데이터)\n",
    "from sklearn.datasets import load_boston\n",
    "boston = load_boston()\n",
    "df = pd.DataFrame(boston.data, columns = boston.feature_names)\n",
    "df['PRICE'] = pd.Series(boston.target)\n",
    "df.head()"
   ]
  },
  {
   "cell_type": "code",
   "execution_count": 28,
   "metadata": {},
   "outputs": [],
   "source": [
    "df['CHAS'] = df['CHAS'].astype(object) ##데이터 타입 변경\n",
    "##결측값은 평균으로 대체\n",
    "df[['CRIM','ZN','INDUS','AGE','LSTAT']] = df[['CRIM','ZN','INDUS','AGE','LSTAT']].fillna((df[['CRIM','ZN','INDUS','AGE','LSTAT']].mean())) \n",
    "df['CHAS'] = df['CHAS'].fillna(method = 'bfill') ##이전값으로 채우기\n",
    "\n",
    "X = df.iloc[:, :-1]\n",
    "y = df.iloc[:,-1]"
   ]
  },
  {
   "cell_type": "code",
   "execution_count": 76,
   "metadata": {
    "scrolled": true
   },
   "outputs": [
    {
     "data": {
      "text/html": [
       "<div>\n",
       "<style scoped>\n",
       "    .dataframe tbody tr th:only-of-type {\n",
       "        vertical-align: middle;\n",
       "    }\n",
       "\n",
       "    .dataframe tbody tr th {\n",
       "        vertical-align: top;\n",
       "    }\n",
       "\n",
       "    .dataframe thead th {\n",
       "        text-align: right;\n",
       "    }\n",
       "</style>\n",
       "<table border=\"1\" class=\"dataframe\">\n",
       "  <thead>\n",
       "    <tr style=\"text-align: right;\">\n",
       "      <th></th>\n",
       "      <th>mean radius</th>\n",
       "      <th>mean texture</th>\n",
       "      <th>mean perimeter</th>\n",
       "      <th>mean area</th>\n",
       "      <th>mean smoothness</th>\n",
       "      <th>mean compactness</th>\n",
       "      <th>mean concavity</th>\n",
       "      <th>mean concave points</th>\n",
       "      <th>mean symmetry</th>\n",
       "      <th>mean fractal dimension</th>\n",
       "      <th>...</th>\n",
       "      <th>worst texture</th>\n",
       "      <th>worst perimeter</th>\n",
       "      <th>worst area</th>\n",
       "      <th>worst smoothness</th>\n",
       "      <th>worst compactness</th>\n",
       "      <th>worst concavity</th>\n",
       "      <th>worst concave points</th>\n",
       "      <th>worst symmetry</th>\n",
       "      <th>worst fractal dimension</th>\n",
       "      <th>target</th>\n",
       "    </tr>\n",
       "  </thead>\n",
       "  <tbody>\n",
       "    <tr>\n",
       "      <th>0</th>\n",
       "      <td>17.99000</td>\n",
       "      <td>10.38000</td>\n",
       "      <td>122.80000</td>\n",
       "      <td>1001.00000</td>\n",
       "      <td>0.11840</td>\n",
       "      <td>0.27760</td>\n",
       "      <td>0.30010</td>\n",
       "      <td>0.14710</td>\n",
       "      <td>0.24190</td>\n",
       "      <td>0.07871</td>\n",
       "      <td>...</td>\n",
       "      <td>17.33000</td>\n",
       "      <td>184.60000</td>\n",
       "      <td>2019.00000</td>\n",
       "      <td>0.16220</td>\n",
       "      <td>0.66560</td>\n",
       "      <td>0.71190</td>\n",
       "      <td>0.26540</td>\n",
       "      <td>0.46010</td>\n",
       "      <td>0.11890</td>\n",
       "      <td>0</td>\n",
       "    </tr>\n",
       "    <tr>\n",
       "      <th>1</th>\n",
       "      <td>20.57000</td>\n",
       "      <td>17.77000</td>\n",
       "      <td>132.90000</td>\n",
       "      <td>1326.00000</td>\n",
       "      <td>0.08474</td>\n",
       "      <td>0.07864</td>\n",
       "      <td>0.08690</td>\n",
       "      <td>0.07017</td>\n",
       "      <td>0.18120</td>\n",
       "      <td>0.05667</td>\n",
       "      <td>...</td>\n",
       "      <td>23.41000</td>\n",
       "      <td>158.80000</td>\n",
       "      <td>1956.00000</td>\n",
       "      <td>0.12380</td>\n",
       "      <td>0.18660</td>\n",
       "      <td>0.24160</td>\n",
       "      <td>0.18600</td>\n",
       "      <td>0.27500</td>\n",
       "      <td>0.08902</td>\n",
       "      <td>0</td>\n",
       "    </tr>\n",
       "    <tr>\n",
       "      <th>2</th>\n",
       "      <td>19.69000</td>\n",
       "      <td>21.25000</td>\n",
       "      <td>130.00000</td>\n",
       "      <td>1203.00000</td>\n",
       "      <td>0.10960</td>\n",
       "      <td>0.15990</td>\n",
       "      <td>0.19740</td>\n",
       "      <td>0.12790</td>\n",
       "      <td>0.20690</td>\n",
       "      <td>0.05999</td>\n",
       "      <td>...</td>\n",
       "      <td>25.53000</td>\n",
       "      <td>152.50000</td>\n",
       "      <td>1709.00000</td>\n",
       "      <td>0.14440</td>\n",
       "      <td>0.42450</td>\n",
       "      <td>0.45040</td>\n",
       "      <td>0.24300</td>\n",
       "      <td>0.36130</td>\n",
       "      <td>0.08758</td>\n",
       "      <td>0</td>\n",
       "    </tr>\n",
       "    <tr>\n",
       "      <th>3</th>\n",
       "      <td>11.42000</td>\n",
       "      <td>20.38000</td>\n",
       "      <td>77.58000</td>\n",
       "      <td>386.10000</td>\n",
       "      <td>0.14250</td>\n",
       "      <td>0.28390</td>\n",
       "      <td>0.24140</td>\n",
       "      <td>0.10520</td>\n",
       "      <td>0.25970</td>\n",
       "      <td>0.09744</td>\n",
       "      <td>...</td>\n",
       "      <td>26.50000</td>\n",
       "      <td>98.87000</td>\n",
       "      <td>567.70000</td>\n",
       "      <td>0.20980</td>\n",
       "      <td>0.86630</td>\n",
       "      <td>0.68690</td>\n",
       "      <td>0.25750</td>\n",
       "      <td>0.66380</td>\n",
       "      <td>0.17300</td>\n",
       "      <td>0</td>\n",
       "    </tr>\n",
       "    <tr>\n",
       "      <th>4</th>\n",
       "      <td>20.29000</td>\n",
       "      <td>14.34000</td>\n",
       "      <td>135.10000</td>\n",
       "      <td>1297.00000</td>\n",
       "      <td>0.10030</td>\n",
       "      <td>0.13280</td>\n",
       "      <td>0.19800</td>\n",
       "      <td>0.10430</td>\n",
       "      <td>0.18090</td>\n",
       "      <td>0.05883</td>\n",
       "      <td>...</td>\n",
       "      <td>16.67000</td>\n",
       "      <td>152.20000</td>\n",
       "      <td>1575.00000</td>\n",
       "      <td>0.13740</td>\n",
       "      <td>0.20500</td>\n",
       "      <td>0.40000</td>\n",
       "      <td>0.16250</td>\n",
       "      <td>0.23640</td>\n",
       "      <td>0.07678</td>\n",
       "      <td>0</td>\n",
       "    </tr>\n",
       "  </tbody>\n",
       "</table>\n",
       "<p>5 rows × 31 columns</p>\n",
       "</div>"
      ],
      "text/plain": [
       "   mean radius  mean texture  mean perimeter  mean area  mean smoothness  \\\n",
       "0     17.99000      10.38000       122.80000 1001.00000          0.11840   \n",
       "1     20.57000      17.77000       132.90000 1326.00000          0.08474   \n",
       "2     19.69000      21.25000       130.00000 1203.00000          0.10960   \n",
       "3     11.42000      20.38000        77.58000  386.10000          0.14250   \n",
       "4     20.29000      14.34000       135.10000 1297.00000          0.10030   \n",
       "\n",
       "   mean compactness  mean concavity  mean concave points  mean symmetry  \\\n",
       "0           0.27760         0.30010              0.14710        0.24190   \n",
       "1           0.07864         0.08690              0.07017        0.18120   \n",
       "2           0.15990         0.19740              0.12790        0.20690   \n",
       "3           0.28390         0.24140              0.10520        0.25970   \n",
       "4           0.13280         0.19800              0.10430        0.18090   \n",
       "\n",
       "   mean fractal dimension  ...  worst texture  worst perimeter  worst area  \\\n",
       "0                 0.07871  ...       17.33000        184.60000  2019.00000   \n",
       "1                 0.05667  ...       23.41000        158.80000  1956.00000   \n",
       "2                 0.05999  ...       25.53000        152.50000  1709.00000   \n",
       "3                 0.09744  ...       26.50000         98.87000   567.70000   \n",
       "4                 0.05883  ...       16.67000        152.20000  1575.00000   \n",
       "\n",
       "   worst smoothness  worst compactness  worst concavity  worst concave points  \\\n",
       "0           0.16220            0.66560          0.71190               0.26540   \n",
       "1           0.12380            0.18660          0.24160               0.18600   \n",
       "2           0.14440            0.42450          0.45040               0.24300   \n",
       "3           0.20980            0.86630          0.68690               0.25750   \n",
       "4           0.13740            0.20500          0.40000               0.16250   \n",
       "\n",
       "   worst symmetry  worst fractal dimension  target  \n",
       "0         0.46010                  0.11890       0  \n",
       "1         0.27500                  0.08902       0  \n",
       "2         0.36130                  0.08758       0  \n",
       "3         0.66380                  0.17300       0  \n",
       "4         0.23640                  0.07678       0  \n",
       "\n",
       "[5 rows x 31 columns]"
      ]
     },
     "execution_count": 76,
     "metadata": {},
     "output_type": "execute_result"
    }
   ],
   "source": [
    "## 분류용 데이터 생성 (위스콘신 유방암 데이터)\n",
    "from sklearn.datasets import load_breast_cancer\n",
    "cancer = load_breast_cancer()\n",
    "dfc = pd.DataFrame(cancer.data, columns =cancer.feature_names)\n",
    "dfc['target'] = pd.Series(cancer.target)\n",
    "dfc.head()"
   ]
  },
  {
   "cell_type": "code",
   "execution_count": 77,
   "metadata": {},
   "outputs": [],
   "source": [
    "Xc = dfc.iloc[:,:-1]\n",
    "yc = dfc.iloc[:,-1]"
   ]
  },
  {
   "cell_type": "markdown",
   "metadata": {},
   "source": [
    "# 앙상블\n",
    "- 가장 좋은 모델 하나만 사용하는게 아니라 몇가지 모델을 통한 예측기(분류 또는 회귀)를 연결하여 더 좋은 예측기를 만드는 방법  \n",
    "- 일반적으로 앙상블 모형은 하나의 예측기를 훈련시킬 때보다 편향을 비슷하지만 **분산**이 감소한다"
   ]
  },
  {
   "cell_type": "markdown",
   "metadata": {},
   "source": [
    "## Voting(보팅)\n",
    "### 1-1) Hard Voting (직접투표)\n",
    "- 어떤 훈련 데이터셋에 대해 여러 분류기(로지스틱 회귀-A, SVM-A, Randomforest-B)를 훈련시켰을 때 각 분류기의 예측을 모아 다수결 투표(A:2개, B:1개 -> A)로 정하는 것\n",
    "- 각 분류기가 분류한 결과 class를 가지고 투표함"
   ]
  },
  {
   "cell_type": "code",
   "execution_count": 22,
   "metadata": {},
   "outputs": [
    {
     "data": {
      "text/plain": [
       "VotingClassifier(estimators=[('lr', LogisticRegression(solver='liblinear')),\n",
       "                             ('rf', RandomForestClassifier(n_estimators=10)),\n",
       "                             ('svc', SVC(gamma='auto'))])"
      ]
     },
     "execution_count": 22,
     "metadata": {},
     "output_type": "execute_result"
    }
   ],
   "source": [
    "# 투표기반 voting classifiers VS 개별 분류기 비교\n",
    "from sklearn.model_selection import train_test_split\n",
    "from sklearn.datasets import make_moons\n",
    "\n",
    "from sklearn.ensemble import RandomForestClassifier\n",
    "from sklearn.ensemble import VotingClassifier\n",
    "from sklearn.linear_model import LogisticRegression\n",
    "from sklearn.svm import SVC\n",
    "\n",
    "X, y = make_moons(n_samples=500, noise=0.30, random_state=42)\n",
    "X_train, X_test, y_train, y_test = train_test_split(X, y, random_state=42)\n",
    "\n",
    "log_clf = LogisticRegression(solver = 'liblinear')\n",
    "rnd_clf = RandomForestClassifier(n_estimators=10)\n",
    "svm_clf = SVC(gamma='auto')\n",
    "\n",
    "voting_clf = VotingClassifier(estimators=[('lr',log_clf),\n",
    "                                         ('rf',rnd_clf),\n",
    "                                         ('svc',svm_clf)],\n",
    "                             voting='hard')\n",
    "voting_clf.fit(X_train, y_train)"
   ]
  },
  {
   "cell_type": "code",
   "execution_count": 23,
   "metadata": {},
   "outputs": [
    {
     "name": "stdout",
     "output_type": "stream",
     "text": [
      "LogisticRegression 0.864\n",
      "RandomForestClassifier 0.888\n",
      "SVC 0.888\n",
      "VotingClassifier 0.904\n"
     ]
    }
   ],
   "source": [
    "from sklearn.metrics import accuracy_score\n",
    "\n",
    "for clf in (log_clf, rnd_clf, svm_clf, voting_clf):\n",
    "    clf.fit(X_train, y_train)\n",
    "    y_pred = clf.predict(X_test)\n",
    "    print(clf.__class__.__name__, accuracy_score(y_test,y_pred))"
   ]
  },
  {
   "cell_type": "markdown",
   "metadata": {},
   "source": [
    "### 1-2) 간접투표 (soft voting) \n",
    "- 각 분류기마다 해당 범주에 속할 확률(0~1값)을 평균을 내어 평균이 가장 높은 범주로 분류\n",
    "    (로지스틱 회귀 - A:0.7, B:0.3, SVM - A:0.1, B:0.9, Randomforest - A:0.6, B:0.4)  \n",
    "    평균이 가장 높은 범주로 분류(A: $\\frac{0.7+0.1+0.6}{3} = 0.47$ , B: $\\frac{0.3+0.9+0.4}{3} = 0.53 $ -> B (hard로하면 A) )   "
   ]
  },
  {
   "cell_type": "code",
   "execution_count": 24,
   "metadata": {},
   "outputs": [
    {
     "name": "stdout",
     "output_type": "stream",
     "text": [
      "LogisticRegression 0.864\n",
      "RandomForestClassifier 0.864\n",
      "SVC 0.888\n",
      "VotingClassifier 0.912\n"
     ]
    }
   ],
   "source": [
    "from sklearn.ensemble import RandomForestClassifier\n",
    "from sklearn.ensemble import VotingClassifier\n",
    "from sklearn.linear_model import LogisticRegression\n",
    "from sklearn.svm import SVC\n",
    "from sklearn.metrics import accuracy_score\n",
    "\n",
    "log_clf = LogisticRegression(solver = 'liblinear')\n",
    "rnd_clf = RandomForestClassifier(n_estimators=10)\n",
    "svm_clf = SVC(gamma='auto', probability=True) # SVM에서 기본값으로 범주에 속할 확률을 제공하지 않으므로 prob옵션 True로 줘야 간접투표 가능\n",
    "\n",
    "voting_clf = VotingClassifier(estimators=[('lr',log_clf),\n",
    "                                         ('rf',rnd_clf),\n",
    "                                         ('svc',svm_clf)],\n",
    "                             voting='soft') # voting 옵션에 soft 명시\n",
    "voting_clf.fit(X_train, y_train)\n",
    "\n",
    "\n",
    "for clf in (log_clf, rnd_clf, svm_clf, voting_clf):\n",
    "    clf.fit(X_train, y_train)\n",
    "    y_pred = clf.predict(X_test)\n",
    "    print(clf.__class__.__name__, accuracy_score(y_test,y_pred))"
   ]
  },
  {
   "cell_type": "markdown",
   "metadata": {},
   "source": [
    "## Bagging (Bootstrap Aggregating)\n",
    "- 같은 모델에서 bootstrap(복원 추출)을 통해 여러개의 분류기를 만들고 결과를 voting하는 방식으로 집계(Aggregating)  \n",
    "- 중복을 허용하여 샘플링하는 방식으로 각 트리가 사용하는 데이터를 일부 (약 2/3)로 제한(나머지 OOB)  \n",
    "    OOB(Out of bag)이란 training set에서 샘플링되지 않은 데이터를 validate set으로 사용\n",
    "    - Low Bias, High Variance에 효과적  \n",
    "    - ex) Random Forest\n",
    "- 같은 훈련 샘플이 여러 예측기에 사용될 수 있음(데이터 분포 왜곡)  \n",
    "- 대표적인 Baggig 알고리즘\n",
    "1) Random Forest (Classifier, Regressor)  \n",
    "    - RandomForestClassifier (BaggingClassifier)  \n",
    "        - 최빈값으로 aggregating  \n",
    "        - hard voting과 같으나, predict_proba를 추정할 수 있으면 자동으로 간접 투표 선택  \n",
    "2) RandomForestRegressor (BaggingRegressor)  \n",
    "   - 평균으로 aggregating  \n",
    "\n",
    "- Bagging의 hyper parameter  \n",
    "    - N-estimator : 랜덤포레스트 안에 만들어지는 의사결정나무 개수. 트리가 많아지면 속도가 느려지고 너무 트리가 크면 오히려 정확도가 낮아진다. 그러나 일반적으론 트리가 많아질수록 분류를 잘하게 되므로 적절한 trade-off 필요하다.  \n",
    "    - Max-depth : 랜덤포레스트 안에 있는 각 의사결정나무의 깊이를 설정. 트리가 깊어질수록 더 잘게 분류를 시키므로 일반적으론 정확도가 높아진다.  \n",
    "    - Min-samples-split : 내부 노드에 데이터를 얼마 만큼씩 최소한 넣을 것인가 설정. 10%~100%로 설정. 100%로 갈수록 underffiting이 일어나서 정확도가 낮아진다.  \n",
    "    - Min-samples-leaf : 리프 노드에 데이터를 얼마 만큼씩 최소한 넣을 것인가 설정. 10%~100%로 설정. 100%로 갈수록 underffiting이 일어나서 정확도가 낮아진다.  \n",
    "    - Max-feature : 가장 잘 분류할 feature의 갯수를 설정  \n",
    "    - boot_strap : True(중복허용, 배깅), False(중복허용 X, 페이스팅)  \n",
    "    - n_jobs : 사용할 CPU 수(-1로 지정하면 가용한 모든코어 사용)  \n",
    "    - 하이퍼파라미터 튜닝을 위한 라이브러리: GridSearchCV_  \n",
    "- 진행단계  \n",
    "    - bagging  \n",
    "        - bootstrapping\n",
    "        - 각 sample로 독립적인 모델 생성\n",
    "        - 모델 학습 후 집계   \n",
    "    - 무작위 변수선택  \n",
    "    - bagging, 변수 랜덤 선택을 통해 다양성 확보  \n",
    "    - 변수 중요도 산출  "
   ]
  },
  {
   "cell_type": "code",
   "execution_count": 26,
   "metadata": {},
   "outputs": [
    {
     "name": "stdout",
     "output_type": "stream",
     "text": [
      "BaggingClassifier 0.92\n",
      "DecisionTreeClassifier 0.856\n"
     ]
    }
   ],
   "source": [
    "# BaggingClassifier 분류 예제\n",
    "from sklearn.ensemble import BaggingClassifier\n",
    "from sklearn.tree import DecisionTreeClassifier\n",
    "from sklearn.metrics import accuracy_score\n",
    "\n",
    "bag_clf = BaggingClassifier(DecisionTreeClassifier(), # 결정트리 분류기 선택\n",
    "                           n_estimators=500, # 앙상블에 사용할 분류기 수\n",
    "                           max_samples=100, # 무작위로 뽑을 샘플 수\n",
    "                           bootstrap=True, # 중복허용\n",
    "                           n_jobs=-1) # 사용 cpu 숫자 -1: max 코어 사용\n",
    "\n",
    "bag_clf.fit(X_train, y_train)\n",
    "y_pred = bag_clf.predict(X_test)\n",
    "print(bag_clf.__class__.__name__,accuracy_score(y_test, y_pred))\n",
    "\n",
    "\n",
    "# 결정트리 분류기 1개 학습\n",
    "tree_clf = DecisionTreeClassifier(random_state=42)\n",
    "tree_clf.fit(X_train, y_train)\n",
    "y_pred_tree = tree_clf.predict(X_test)\n",
    "print(tree_clf.__class__.__name__,accuracy_score(y_test, y_pred_tree))"
   ]
  },
  {
   "cell_type": "markdown",
   "metadata": {},
   "source": [
    "## Pasting\n",
    "중복을 허용하지 않고 샘플링하는 방식  \n",
    "bagging은 각 예측기가 학습하는 subset에 다양성을 증가시키므로 bagging이 pasting보다 편향이 조금 더 높음  "
   ]
  },
  {
   "cell_type": "markdown",
   "metadata": {},
   "source": [
    "## Boosting\n",
    "- 약한 학습기(Weak Learner)들을 결합해서 보다 정확한 강한 학습기(Strong Learner)를 만듦  \n",
    "- weak learner에서 순서대로 일을하면 앞의 학습기에서 찾지 못한 부분을 추가적으로 찾을 수 있음  \n",
    "- Low Bias, High Variance에 효과적\n",
    "- ex) GBM, XGBoost, LightGBM"
   ]
  },
  {
   "cell_type": "markdown",
   "metadata": {},
   "source": [
    "# 예측 회귀"
   ]
  },
  {
   "cell_type": "markdown",
   "metadata": {},
   "source": [
    "## Decision Tree Regressor\n",
    "- 데이터에 있는 규칙을 학습을 통해 자동으로 찾아내 트리 기반의 분류규칙을 만듬(if-else 기반 규칙)\n",
    "- 장점 : 쉽고 직관적, 피처의 스케일링이나 정규화 등의 사전 가공영향도가 크지 않음\n",
    "- 단점 : 과적합이 발생해 반대로 예측성능이 저하될 수 있음, 이를 극복하기 위해 트리의 크기를 사전에 제한하는 튜닝 필요\n",
    "     \n",
    "- 정보 균일도 측정방법 : 정보이득, 지니계수\n",
    "     \n",
    "- 정보이득 : 엔트로피 개념 기반, 엔트로피는 주어진 데이터 집합의 혼잡도 의미하는데, 서로 다른 값이 섞여 있으면 엔트로피가 높고, 같은 값이 섞여 있으면 엔트로피가 낮음, 정보이득지수는 1에서 엔트로피지수를 뺀 값, 즉 1-엔트로피 지수, 결정트리는 이 정보 이득지수로 분할기준을 정함, 즉 정보이득이 높은 속성을 기준으로 분할함\n",
    "     \n",
    "- 지니계수 : 불평등 지수, 0이 가장 평등하고, 1로 갈수록 불평등함, 지니계수가 낮을수록 데이터 균일도가 높은 것으로 해석되어 계수가 낮은 속성 기준으로 분할함\n",
    "    \n",
    "- sklearn.tree.DecisionTreeRegressor()\n",
    "    - max_depth : 트리의 최대 깊이를 규정\n",
    "    - max_features : 최적의 분할을 위해 고려할 최대 피처 개수\n",
    "    - min_samples_split : 노드를 분할하기 위한 최소한의 샘플 데이터수\n",
    "    - min_samples_leaf : 말단 노드가 되기 위한 최소한의 샘플 데이터수\n",
    "    - max_leaf_nodes : 말단 노드의 최대 개수"
   ]
  },
  {
   "cell_type": "code",
   "execution_count": 11,
   "metadata": {},
   "outputs": [],
   "source": [
    "from sklearn.model_selection import train_test_split\n",
    "X_train,X_test,y_train,y_test=train_test_split(X, y, test_size=0.2, random_state=0)"
   ]
  },
  {
   "cell_type": "code",
   "execution_count": 12,
   "metadata": {},
   "outputs": [],
   "source": [
    "from sklearn.tree import DecisionTreeRegressor\n",
    "\n",
    "dtreg = DecisionTreeRegressor(max_depth=6)  ##학습시키기\n",
    "dtreg1 = dtreg.fit(X_train, y_train)"
   ]
  },
  {
   "cell_type": "code",
   "execution_count": 13,
   "metadata": {
    "scrolled": true
   },
   "outputs": [
    {
     "name": "stdout",
     "output_type": "stream",
     "text": [
      "0.9539273064847269\n",
      "0.6202803451971124\n"
     ]
    }
   ],
   "source": [
    "print(dtreg1.score(X_train, y_train))\n",
    "print(dtreg1.score(X_test, y_test))"
   ]
  },
  {
   "cell_type": "code",
   "execution_count": null,
   "metadata": {
    "scrolled": false
   },
   "outputs": [],
   "source": [
    "## 적합된 tree의 그래프 그리기\n",
    "from sklearn.tree import export_graphviz  ##tree.dot 파일을 생성\n",
    "import graphviz                           ## jupyter notebook 상에서 위의 파일을 시각화\n",
    "export_graphviz(dtreg1, out_file = \"tree.dot\", impurity = True, filled = True)\n",
    "\n",
    "with open(\"tree.dot\") as f:\n",
    "    dot_graph = f.read()\n",
    "graphviz.Source(dot_graph)"
   ]
  },
  {
   "cell_type": "markdown",
   "metadata": {},
   "source": [
    "__참고__  \n",
    "graphviz를 pip install로 설치할 때, graphviz 패키지를 찾지 못해서 실행할 수 없다는 메시지가 뜨곤 한다  \n",
    "이 때는 graphviz를 삭제하고 conda install python-graphviz로 설치해주면 jupyter notebook상에서 실행할 수 있는 경로로 간다  \n",
    "!pip uninstall graphviz -> conda install python-graphviz"
   ]
  },
  {
   "cell_type": "code",
   "execution_count": null,
   "metadata": {},
   "outputs": [],
   "source": [
    "from subprocess import call\n",
    "call(['dot', '-Tpng', 'tree.dot', '-o', 'tree.png', '-Gdpi=600'])\n",
    "\n",
    "# Display in jupyter notebook\n",
    "from IPython.display import Image\n",
    "Image(filename = 'tree.png')"
   ]
  },
  {
   "cell_type": "code",
   "execution_count": null,
   "metadata": {},
   "outputs": [],
   "source": [
    "import seaborn as sns\n",
    "import numpy as np\n",
    "\n",
    "# feature importance 추출 \n",
    "print(\"Feature importances:\\n{0}\".format(np.round(dt_clf.feature_importances_, 3)))\n",
    "\n",
    "# feature별 importance 매핑\n",
    "for name, value in zip(iris_data.feature_names , dt_clf.feature_importances_):\n",
    "    print('{0} : {1:.3f}'.format(name, value))\n",
    "\n",
    "# feature importance를 column 별로 시각화 하기 \n",
    "sns.barplot(x=dt_clf.feature_importances_ , y=iris_data.feature_names)"
   ]
  },
  {
   "cell_type": "code",
   "execution_count": 15,
   "metadata": {
    "scrolled": true
   },
   "outputs": [
    {
     "name": "stdout",
     "output_type": "stream",
     "text": [
      "Feature importances:\n",
      "[0.047 0.    0.011 0.    0.016 0.239 0.006 0.023 0.002 0.001 0.033 0.007\n",
      " 0.616]\n",
      "CRIM : 0.047\n",
      "ZN : 0.000\n",
      "INDUS : 0.011\n",
      "CHAS : 0.000\n",
      "NOX : 0.016\n",
      "RM : 0.239\n",
      "AGE : 0.006\n",
      "DIS : 0.023\n",
      "RAD : 0.002\n",
      "TAX : 0.001\n",
      "PTRATIO : 0.033\n",
      "B : 0.007\n",
      "LSTAT : 0.616\n"
     ]
    },
    {
     "data": {
      "text/plain": [
       "<AxesSubplot:>"
      ]
     },
     "execution_count": 15,
     "metadata": {},
     "output_type": "execute_result"
    },
    {
     "data": {
      "image/png": "[encoded data removed]",
      "text/plain": [
       "<Figure size 432x288 with 1 Axes>"
      ]
     },
     "metadata": {
      "needs_background": "light"
     },
     "output_type": "display_data"
    }
   ],
   "source": [
    "## feature importance를 추출하기\n",
    "print(\"Feature importances:\\n{0}\".format(np.round(dtreg1.feature_importances_, 3)))\n",
    "\n",
    "# feature별 importance 매핑\n",
    "for name, value in zip(X_train.columns , dtreg1.feature_importances_):\n",
    "    print('{0} : {1:.3f}'.format(name, value))\n",
    "\n",
    "# feature importance를 column 별로 시각화 하기 \n",
    "sns.barplot(x=dtreg1.feature_importances_ , y=X_train.columns)"
   ]
  },
  {
   "cell_type": "markdown",
   "metadata": {},
   "source": [
    "아래 예시는 feature 2개, 결정 클래스 3개일 때 분류된 결과의 Scatter plot과 결정경계를 그리는 방법임  \n",
    "시간없어서 코드 복붙 ㅠㅠ"
   ]
  },
  {
   "cell_type": "code",
   "execution_count": null,
   "metadata": {},
   "outputs": [],
   "source": [
    "from sklearn.datasets import make_classification\n",
    "import matplotlib.pyplot as plt\n",
    "%matplotlib inline\n",
    "\n",
    "plt.title(\"3 Class values with 2 Features Sample data creation\")\n",
    "\n",
    "# 2차원 시각화를 위해서 feature는 2개, 결정값 클래스는 3가지 유형의 classification 샘플 데이터 생성. \n",
    "X_features, y_labels = make_classification(n_features=2, n_redundant=0, n_informative=2,\n",
    "                             n_classes=3, n_clusters_per_class=1,random_state=0)\n",
    "\n",
    "# plot 형태로 2개의 feature로 2차원 좌표 시각화, 각 클래스값은 다른 색깔로 표시됨. \n",
    "plt.scatter(X_features[:, 0], X_features[:, 1], marker='o', c=y_labels, s=25, cmap='rainbow', edgecolor='k')"
   ]
  },
  {
   "cell_type": "code",
   "execution_count": 16,
   "metadata": {},
   "outputs": [],
   "source": [
    "def visualize_boundary(model, X, y):\n",
    "    fig,ax = plt.subplots()\n",
    "    \n",
    "    # 학습 데이타 scatter plot으로 나타내기\n",
    "    ax.scatter(X[:, 0], X[:, 1], c=y, s=25, cmap='rainbow', edgecolor='k',\n",
    "               clim=(y.min(), y.max()), zorder=3)\n",
    "    ax.axis('tight')\n",
    "    ax.axis('off')\n",
    "    xlim_start , xlim_end = ax.get_xlim()\n",
    "    ylim_start , ylim_end = ax.get_ylim()\n",
    "    \n",
    "    # 호출 파라미터로 들어온 training 데이타로 model 학습 . \n",
    "    model.fit(X, y)\n",
    "    # meshgrid 형태인 모든 좌표값으로 예측 수행. \n",
    "    xx, yy = np.meshgrid(np.linspace(xlim_start,xlim_end, num=200),np.linspace(ylim_start,ylim_end, num=200))\n",
    "    Z = model.predict(np.c_[xx.ravel(), yy.ravel()]).reshape(xx.shape)\n",
    "    \n",
    "    # contourf() 를 이용하여 class boundary 를 visualization 수행. \n",
    "    n_classes = len(np.unique(y))\n",
    "    contours = ax.contourf(xx, yy, Z, alpha=0.3,\n",
    "                           levels=np.arange(n_classes + 1) - 0.5,\n",
    "                           cmap='rainbow', clim=(y.min(), y.max()),\n",
    "                           zorder=1)"
   ]
  },
  {
   "cell_type": "code",
   "execution_count": null,
   "metadata": {},
   "outputs": [],
   "source": [
    "visualize_boundary(dtreg1, X_train, y_train)"
   ]
  },
  {
   "cell_type": "code",
   "execution_count": 47,
   "metadata": {},
   "outputs": [
    {
     "data": {
      "text/plain": [
       "array([ 0.77480262,  0.8547675 ,  0.51323219,  0.96244332,  0.09723938,\n",
       "        0.79318068,  0.39565389,  0.86525164,  0.79824361, -4.57711153])"
      ]
     },
     "execution_count": 47,
     "metadata": {},
     "output_type": "execute_result"
    }
   ],
   "source": [
    "## cross validation 이용해서 평가하기\n",
    "from sklearn.model_selection import cross_val_score\n",
    "\n",
    "cross_val_score(dtreg1, X_test, y_test, cv=10)"
   ]
  },
  {
   "cell_type": "markdown",
   "metadata": {},
   "source": [
    "## 랜덤포레스트 Regressor\n",
    "- 주로 recommand, feature selection, image classification에 쓰임  \n",
    "- 특정 특성을 선택하는 Decision Tree를 여러개 생성하여 이들을 기반으로 작업을 수행하는 것  \n",
    "- 기존 앙상블의 bagging과 달리 하나의 변수의 상대적 중요도 측정 가능  \n",
    "- 어떤 변수를 사용한 노드가 (전체 트리에 대해) 평균적으로 불순도를 얼마나 감소시키는지 확인하여 중요도 측정(=가중치 평균)  \n",
    "\n",
    "- Single Decision Tree vs Random Forest\n",
    "    - decision tree: 이미 학습된 데이터(과대적합 쉬움)에 대해 분류를 잘 하지만 새로운 데이터는 분류를 잘 하지 못함  새로운 데이터는 random forest가 잘 함  \n",
    "    - Tree Correlation이라고 하는 특정 feature 하나가 정답에 많은 영향을 주게되면 대부분의 결과치가 유사하게 나타나는 문제점  \n",
    "\n",
    "- 기존 rf에서 each tree가 자라는 과정  \n",
    "    1) training set이 N개면 한 나무에도 N개의 sample case가 만들어짐 (복원 추출로 여러 나무를 만들 수 있음(bagging))  \n",
    "    2) 입력변수가 M개가 있다면, 각 노드는 랜덤으로 M보다 작은 m개의 변수가 선택되어 나무가 자라는 동안 m은 변하지 않음\n",
    "    - 여기서 문제점은 두 tree간에 correlation이 있을 수 있으므로, 확실한 분류를 하는 낮은 에러율을 가진 tree에 중요도를 높여서 rf에러율을 줄일 수 있음  \n",
    "    \n",
    "- 진행단계  \n",
    "    1) training data set에서 무작위로 중복을 허용하여 N개 선택 (bootstrap)  \n",
    "    2) N개의 data sample에서 data의 특성값(iris: petal width, height...) M개 중 중복 없이 m[^2]개 선택  (보통 $ m = \\sqrt{전체 데이터 feature 개수 m} $)  \n",
    "    3) decision tree training   \n",
    "    4) 위 1)\\~3) tree 생성 과정을 k번 반복(bagging)   \n",
    "    5) 1)\\~4)단계를 통해 생성된 k(n_estimators)개의 decision tree를 이용해서 가장 좋은 결과를 내는 tree 투표(voting)   \n",
    "  \n",
    "- importance = (현재 노드의 샘플 비율 x 불순도) - (왼쪽 자식 노드의 샘플 비율 x 불순도) - (오른쪽 자식 노드의 샘플 비율 x 불순도)  \n",
    "    - 전체 중요도의 합으로 나누어 정규화  \n",
    "    - 샘플 비율 = 해당 노드의 샘플수 / 전체 샘플수  \n",
    "    - Random Forest의 변수 중요도 = 각 결정트리의 변수중요도의 함 / 트리 수  \n",
    "      \n",
    "- sklearn.ensemble.RandomForestClassifier() 하이퍼파라미터\n",
    "    - BaggingClassifier의 매개변수를 모두 가지고 있음  \n",
    "    - out-of-bag score: 예측이 얼마나 정확한가에 대한 추정을 수치로 나타낸 것\n",
    "    - 변경 불가 옵션  \n",
    "        - splitter : 항상 best  \n",
    "        - presort : 항상 False  \n",
    "        - max_samples : 항상 1  \n",
    "        - base_estimator : 항상 지정된 매개변수를 사용한 결정트리 모델  "
   ]
  },
  {
   "cell_type": "code",
   "execution_count": 20,
   "metadata": {},
   "outputs": [
    {
     "name": "stdout",
     "output_type": "stream",
     "text": [
      "Out-of-bag R-2 score estimate: 0.886\n",
      "Test data R-2 score: 0.762\n",
      "Test data Spearman correlation: 0.846\n",
      "Test data Pearson correlation: 0.876\n"
     ]
    }
   ],
   "source": [
    "from sklearn.ensemble import RandomForestRegressor\n",
    "from sklearn.metrics import r2_score\n",
    "from scipy.stats import spearmanr, pearsonr\n",
    "\n",
    "rfmodel1 = RandomForestRegressor(n_estimators=500, oob_score=True)\n",
    "rfmodel1.fit(X_train, y_train)\n",
    "\n",
    "predicted_train = rfmodel1.predict(X_train)\n",
    "predicted_test = rfmodel1.predict(X_test)\n",
    "test_score = r2_score(y_test, predicted_test)\n",
    "spearman = spearmanr(y_test, predicted_test)\n",
    "pearson = pearsonr(y_test, predicted_test)\n",
    "print(f'Out-of-bag R-2 score estimate: {rfmodel1.oob_score_:>5.3}')\n",
    "print(f'Test data R-2 score: {test_score:>5.3}')\n",
    "print(f'Test data Spearman correlation: {spearman[0]:.3}')\n",
    "print(f'Test data Pearson correlation: {pearson[0]:.3}')"
   ]
  },
  {
   "cell_type": "code",
   "execution_count": 21,
   "metadata": {
    "scrolled": true
   },
   "outputs": [
    {
     "data": {
      "text/plain": [
       "<AxesSubplot:>"
      ]
     },
     "execution_count": 21,
     "metadata": {},
     "output_type": "execute_result"
    },
    {
     "data": {
      "image/png": "[encoded data removed]",
      "text/plain": [
       "<Figure size 432x288 with 1 Axes>"
      ]
     },
     "metadata": {
      "needs_background": "light"
     },
     "output_type": "display_data"
    }
   ],
   "source": [
    "## feature importance 시각화\n",
    "feature_series = pd.Series(data=rfmodel1.feature_importances_, index=X_train.columns )\n",
    "feature_series = feature_series.sort_values(ascending=False)\n",
    "sns.barplot(x= feature_series, y=feature_series.index)"
   ]
  },
  {
   "cell_type": "markdown",
   "metadata": {},
   "source": [
    "## SVM Regression\n",
    "자세한 설명은 분류파트의 SVM 참조"
   ]
  },
  {
   "cell_type": "code",
   "execution_count": 90,
   "metadata": {},
   "outputs": [],
   "source": [
    "X = df.iloc[:,:-1]\n",
    "y = df.iloc[:,-1]"
   ]
  },
  {
   "cell_type": "code",
   "execution_count": 91,
   "metadata": {},
   "outputs": [
    {
     "data": {
      "text/plain": [
       "LinearSVR(epsilon=1.5)"
      ]
     },
     "execution_count": 91,
     "metadata": {},
     "output_type": "execute_result"
    }
   ],
   "source": [
    "from sklearn.svm import LinearSVR\n",
    "\n",
    "svm_reg = LinearSVR(epsilon = 1.5)\n",
    "svm_reg.fit(X, y)"
   ]
  },
  {
   "cell_type": "markdown",
   "metadata": {},
   "source": [
    "## GBM\n",
    "  - **회귀분석 또는 분류분석을 수행**할 수 있는 예측모형이며, 예측모형의 앙상블 방법론 중 부스팅 계열에 속하는 알고리즘임\n",
    "  - **경사 하강법(Gradient descent)을 결합**한 새로운 **부스팅(Boosting)** 알고리즘으로 **잔차(Residual, 정답과 예측값의 차이)**를 기준으로 함  \n",
    "  - 반복하여 잔차를 줄여나가는(최소화하는) 과정에서 경사 하강법(Gradient descent)을 사용함<br><br>\n",
    "  \n",
    "  - 손실 함수(Loss function)<br>\n",
    "    손실 함수의 기울기를 최소화하는 방향으로 추가적인 몯레이 순차적으로 생성되기 때문에 어떤 손실함수를 사용하는지에 따라 최종 생성되는 함수가 달라지며, 회귀냐 분류냐에 따라 사용하는 손실함수가 달라짐<br>\n",
    "    Regression을 위한 손실 함수 : 제곱 오차(L2, 일반적으로 많이 사용함), 절대 오차(L1), Huber 오차, Quantile 오차 등<br>\n",
    "    Classification을 위한 손실 함수 : 베르누이 오차, Adaboost 오차 등(이진 분류시에 y 의 레이블은 −1,1)<br><br>\n",
    "    \n",
    "  - 과적합(overfitting)<br>\n",
    "    GBM은 과적합이 발생할 수 있음<br>\n",
    "    y=F(x)+ϵ <- 정답 레이블을 y, 우리가 최종적으로 근사하고자 하는 함수를 F(x), 소음으로 인해 발생하는 오차를 ϵ<br>\n",
    "    근사하는 목적은 F(x) 인데 반복수가 많아지다 보면 ϵ 까지 잔차로 인식해서 근사해버리는 과적합 문제가 발생함<br><br>\n",
    "  \n",
    "  - 정칙화(Regularization) 방법<br>\n",
    "    GBM의 과적합을 방지하기 위해 적용하는 방법<br>\n",
    "    서브샘플링(Subsampling), 수축법(Shrinkage), 조기 종료(Early stopping, 일반적으로 많이 사용됨)가 있음<br><br>\n",
    "    \n",
    "  - Variable importance<br>\n",
    "    GBM에서 변수의 중요도 : 각 트리마다 변수 j의 중요도를 평균내어 구함<br>\n",
    "    하나의 의사 결정 나무 T에서 변수 j의 중요도 : 해당 변수를 사용했을 때 얻어지는 정보 획득량(Information gain, IG)을 모두 더하여 측정<br><br>\n",
    "    \n",
    "  - GBM은 보다 좋은 성능을 보이지만 계속해서 근사 함수를 만들어 내야 하기 때문에 **실행 시간이 오래 걸리고 많은 컴퓨팅 자원이 필요**한 단점이 있음\n",
    "  - 이를 **개선한 알고리즘으로 XGBoost, LightGBM, CatBoost** 등이 있음  \n",
    "<br><br>\n",
    "\n",
    "- sklearn.ensemble import GradientBoostingRegressor\n",
    "- model = GradientBoostingRegressor(loss='ls', learning_rate=0.1, n_estimators=100, subsample=1.0, criterion='friedman_mse', min_samples_split=2, min_samples_leaf=1, min_weight_fraction_leaf=0.0, max_depth=3, min_impurity_decrease=0.0, min_impurity_split=None, init=None, random_state=None, max_features=None, alpha=0.9, verbose=0, max_leaf_nodes=None, warm_start=False, presort='deprecated', validation_fraction=0.1, n_iter_no_change=None, tol=0.0001, ccp_alpha=0.0)<br><br>\n",
    "    - tree의 개수화 학습률이 성능에 많은 영향을 미치는 것으로 알려짐\n",
    "    - loss : 최적화할 손실함수를 선택(default ls)<br>\n",
    "        ls - 최소 제곱(Least Square) 회귀<br>\n",
    "        lad - 최소 절대 편차로, 입력 변수의 순서 정보만을 기반으로하는 매우 강력한 손실 함수<br>\n",
    "        huber - 위 둘의 조합<br>\n",
    "        quantile - 분위수 회귀 허용<br>\n",
    "    - **learning_rate** : 학습률. 각 트리의 기여도(default 0.1)<br>\n",
    "        오차를 얼마나 강하게 보정할것인지를 제어함<br>\n",
    "    - **n_estimators** : 트리의 수(default 100)<br>\n",
    "        이 값을 키우면 앙상블에 트리가 더 많이 추가되어 모델의 복잡도가 커지고, 훈련세트에서의 실수를 바로잡을 기회가 많아지지만<br>\n",
    "        너무 크면 모델이 복잡해지고 과적합될 수 있음<br>\n",
    "    - max_depth(max_leaf_nodes) : 트리의 깊이. 복잡도를 너무 높이지 말고 트리의 깊이가 5보다 깊어지지 않도록 함<br>\n",
    "    - subsample: 샘플 비율. 1보다 작으면 확률적 그래디언트 부스팅 발생(default 1.0)<br>\n",
    "    - **criterion** : 분할 기준 선택<br>\n",
    "        friedman_mse(일반적으로 기능이 좋음), mse, mae 등이 있음(defalut friedman_mse)<br>"
   ]
  },
  {
   "cell_type": "code",
   "execution_count": 31,
   "metadata": {},
   "outputs": [],
   "source": [
    "## 예제코드로 보스턴집값 데이터 다시 불러오는 중..\n",
    "from sklearn.preprocessing import normalize\n",
    "from sklearn.model_selection import train_test_split\n",
    "\n",
    "X = df.drop(['PRICE'], axis = 1)\n",
    "\n",
    "X_scaled = normalize(X)\n",
    "X_scaled = pd.DataFrame(X_scaled, columns = X.columns)\n",
    "\n",
    "X_train, X_test, y_train, y_test = train_test_split(X, df['PRICE'], test_size=0.2, random_state=0)"
   ]
  },
  {
   "cell_type": "code",
   "execution_count": 34,
   "metadata": {},
   "outputs": [
    {
     "name": "stdout",
     "output_type": "stream",
     "text": [
      "0.9819844794245283\n",
      "0.7928635995980091\n"
     ]
    }
   ],
   "source": [
    "from sklearn.ensemble import GradientBoostingRegressor\n",
    "\n",
    "gbmreg = GradientBoostingRegressor()\n",
    "gbmreg.fit(X_train, y_train)\n",
    "\n",
    "print(gbmreg.score(X_train, y_train))\n",
    "print(gbmreg.score(X_test, y_test))\n",
    "\n",
    "y_predict = gbmreg.predict(X_test)"
   ]
  },
  {
   "cell_type": "markdown",
   "metadata": {},
   "source": [
    "## XGB Regression\n",
    "Gradient Boosting\n",
    "- 약한 학습기를 순차적으로 학습시켜 잘못된 예측값의 오류를 개선해 나가는 방법\n",
    "- 일반적으로 약한학습기로 Tree 모델을 사용함\n",
    "\n",
    "XGBoost 무엇이 다른가?\n",
    "1. Regularized boosting  \n",
    "일반적인 GBM은 과적합을 방지하는 기능이 없지만 XGBoost는 모델 자체에 과적합을 방지하는 기능이 존재\n",
    "2. 결측값을 자동으로 처리  \n",
    "XGBoost에 결측값이 있는 데이터를 넣으면 그 결측값을 하나의 값으로 인식하는 듯함. 결측값이 존재할 때의 최적 결과값도 파악\n",
    "3. Tree Pruning  \n",
    "GBM은 노드를 나눌 때 negative loss를 만나면 멈추도록 되어있는데, XGBoost는 하이퍼파라미터로 설정한 max_depth까지만 수행하고 Tree의 깊이를 완성시키면 다시 노드 가지치기를 수행한다. 이런 방법으로도 과적합 방지에 기여한다\n",
    "4. 내장된 Cross Validation\n",
    "5. Tree building 단계에서 병렬처리를 통해 더 빠른 결과처리 가능\n",
    "Tree building 단계의 pseudo code가 아래와 같다면, XGBoost는 생성된 노드 아래에 each feature에 해당되는 부분에서 병렬처리를 해서 모델 생성 단계에 걸리는 시간이 단축된다.\n",
    "```\n",
    "For each leaf node:\n",
    "    For each feature:\n",
    "        Sort the instances in the node by the feature value\n",
    "        Linear scan to decide the best split on the feature\n",
    "    Take the best split and do it\n",
    "```\n",
    "\n",
    "참고) 파이썬 래퍼 기반의 XGB와 사이킷런 래퍼 기반의 XGB\n",
    "xgboost 패키지를 불러와서 그 자체를 모델로 사용하는 경우 ( model = xgboost() ) 가 파이썬 래퍼에 해당하고, xgboost 안에서 XGBClassifier나 XGBRegressor를 꺼내 사용하는 게 사이킷런 래퍼에 해당. 솔직히 사용하는 입장에선 별 차이 없고 파라미터의 __default 값이나 메소드__가 달라진다. "
   ]
  },
  {
   "cell_type": "markdown",
   "metadata": {},
   "source": [
    "### 1) 사이킷런 래퍼 이용\n",
    "하이퍼파라미터\n",
    "- eta  \n",
    "GBM의 학습률에 해당하는 파라미터로 0과 1 사이의 값을 지정. 파이썬 기반의 xgboost에서 default 값은 0.3이고, 사이킷런 래퍼에서는 디폴트가 0.1. 보통은 0.01과 0.2 사이의 값을 선호\n",
    "- num_boost_rounds  \n",
    " GBM의 n_estimator와 동일, weak learner의 개수에 해당 (보통 최소 100)\n",
    "- min_child_weight  \n",
    " 트리에서 추가로 가지를 나눌지 결정하기 위해 필요한 데이터 weight의 총합(default=1) weight가 클수록 분할을 자제함 0~무한대 값\n",
    "- gamma   \n",
    "트리 리프노드를 추가로 나눌지 결정하는 최소 손실 감소 값. 값이 클수록 과적합 감소 0~무한대까지 값 설정 (default = 0)\n",
    "- max_depth  \n",
    " 트리 깊이 (defulat = 6) 0을 지정하면 깊이에 제한이 없음\n",
    "- sub_sample  \n",
    " 전체 데이터에서 어느정도의 비율을 트리를 생성하는 데이터로 사용할 것인지 결정. (default = 1)\n",
    "- colsample_bytree  \n",
    "Tree 생성에 필요한 피처를 임의로 샘플링. n개에서 어느정도 비율만 사용할지 결정함 0~1 사이의 값으로 설정 (default = 1)\n",
    "- lambda  \n",
    "L2 Regularization 적용 값으로 피처 개수가 많을 때 과적합을 감소시키기 위해 사용 (default =1)\n",
    "- alpha  \n",
    " L1 Regularization 적용값. 설명은 위와 동일 (default = 0)\n",
    "- scale_pos_weight  \n",
    " 특정 값으로 치우친 클래스로 구성된 데이터의 균형을 유지하기 위한 파라미터, 1 클래스에 대응하는 0 클래스의 개수를 의미. number of negative class to positive class (default = 1)  \n",
    "ex. target = 1인 데이터가 90개이고, target = 0인 데이터가 10개이면 scale_pos_weight는 9로 설정"
   ]
  },
  {
   "cell_type": "code",
   "execution_count": 48,
   "metadata": {},
   "outputs": [
    {
     "name": "stdout",
     "output_type": "stream",
     "text": [
      "Mean MAE: 2.099 (0.294)\n"
     ]
    }
   ],
   "source": [
    "from xgboost import XGBRegressor\n",
    "from xgboost import plot_importance \n",
    "from sklearn.model_selection import RepeatedKFold\n",
    "from sklearn.model_selection import cross_val_score\n",
    "\n",
    "xgbreg = XGBRegressor()\n",
    "cv = RepeatedKFold(n_splits=10, n_repeats=3, random_state=1)\n",
    "scores = cross_val_score(xgbreg, X_train, y_train, scoring='neg_mean_absolute_error', cv=cv, n_jobs=-1)  ##mae에 음수 씌워서 다시 양수로 만드는 방법\n",
    "scores = abs(scores)\n",
    "print('Mean MAE: %.3f (%.3f)' % (scores.mean(), scores.std()) )"
   ]
  },
  {
   "cell_type": "code",
   "execution_count": 50,
   "metadata": {
    "scrolled": false
   },
   "outputs": [
    {
     "data": {
      "text/plain": [
       "<BarContainer object of 13 artists>"
      ]
     },
     "execution_count": 50,
     "metadata": {},
     "output_type": "execute_result"
    },
    {
     "data": {
      "image/png": "[encoded data removed]",
      "text/plain": [
       "<Figure size 432x288 with 1 Axes>"
      ]
     },
     "metadata": {
      "needs_background": "light"
     },
     "output_type": "display_data"
    }
   ],
   "source": [
    "xgbreg.fit(X_train, y_train)   ##위에서 xgbreg 인스턴스 자체에 학습값을 넣진 않았으므로 다시 학습시켜줌\n",
    "plt.barh(X_train.columns, xgbreg.feature_importances_)"
   ]
  },
  {
   "cell_type": "markdown",
   "metadata": {},
   "source": [
    "### 2) DMatrix로 변환 후 이용 (CV를 할 때 더쉽나..?)"
   ]
  },
  {
   "cell_type": "code",
   "execution_count": 62,
   "metadata": {},
   "outputs": [
    {
     "name": "stdout",
     "output_type": "stream",
     "text": [
      "[13:32:39] WARNING: C:\\Users\\Administrator\\workspace\\xgboost-win64_release_1.2.0\\src\\learner.cc:516: \n",
      "Parameters: { n_estimators } might not be used.\n",
      "\n",
      "  This may not be accurate due to some parameters are only used in language bindings but\n",
      "  passed down to XGBoost core.  Or some parameters are not used but slip through this\n",
      "  verification. Please open an issue if you find above cases.\n",
      "\n",
      "\n"
     ]
    }
   ],
   "source": [
    "import xgboost as xgb\n",
    "import time\n",
    "\n",
    "start = time.time() # 시작 시간 지정\n",
    "xgb_dtrain = xgb.DMatrix(data = X_train, label = y_train) # 학습 데이터를 lightgbm 모델에 맞게 변환\n",
    "xgb_dtest = xgb.DMatrix(data = X_test) # 평가 데이터를 lightgbm 모델에 맞게 변환\n",
    "\n",
    "xgb_param = {'max_depth': 10, # 트리 깊이\n",
    "         'learning_rate': 0.01, # Step Size\n",
    "         'n_estimators': 100, # Number of trees, 트리 생성 개수\n",
    "         'objective': 'multi:softmax', # 목적 함수 결과변수가 여러개라서 .. 2진분리는 logistic\n",
    "        'num_class': len(set(y_train)) + 1} # 파라미터 추가, Label must be in [0, num_class) -> num_class보다 1 커야한다.\n",
    "\n",
    "xgb_model = xgb.train(params = xgb_param, dtrain = xgb_dtrain) # 학습 진행\n",
    "xgb_model_predict = xgb_model.predict(xgb_dtest) # 평가 데이터 예측\n",
    "\n",
    "#print(\"Accuracy: %.2f\" % (accuracy_score(y_test, xgb_model_predict) * 100), \"%\") # 정확도 % 계산\n",
    "#print(\"Time: %.2f\" % (time.time() - start), \"seconds\") # 코드 실행 시간 계산"
   ]
  },
  {
   "cell_type": "markdown",
   "metadata": {},
   "source": [
    "## LightGBM\n",
    "- XGBoost보다 더 빠른 학습과 예측수행시간\n",
    "- 메모리 사용량이 더 적음\n",
    "- 리프 중심 트리 분할 방식을 사용하여 트리의 균형을 맞추지 않으며, 트리의 깊이가 깊고 비대칭적인 규칙 트리를 생성한다 -> 균형 트리 분할 방식보다 예측 오류 손실을 최소화 함\n",
    "- 카테고리형 피처를 자동 변환하고 최적으로 분할함"
   ]
  },
  {
   "cell_type": "code",
   "execution_count": null,
   "metadata": {
    "scrolled": false
   },
   "outputs": [],
   "source": [
    "from lightgbm import LGBMRegressor\n",
    "\n",
    "lgbm_wrapper = LGBMRegressor(n_estimators = 400)\n",
    "\n",
    "# 조기 중단 수행\n",
    "evals = [(X_test, y_test)]\n",
    "lgbm_wrapper.fit(X_train, y_train, early_stopping_rounds = 100, eval_metric = \"rmse\", eval_set = evals, verbose = True)\n",
    "preds = lgbm_wrapper.predict(X_test)"
   ]
  },
  {
   "cell_type": "code",
   "execution_count": 58,
   "metadata": {
    "scrolled": true
   },
   "outputs": [
    {
     "data": {
      "text/plain": [
       "<AxesSubplot:title={'center':'Feature importance'}, xlabel='Feature importance', ylabel='Features'>"
      ]
     },
     "execution_count": 58,
     "metadata": {},
     "output_type": "execute_result"
    },
    {
     "data": {
      "image/png": "[encoded data removed]",
      "text/plain": [
       "<Figure size 720x864 with 1 Axes>"
      ]
     },
     "metadata": {
      "needs_background": "light"
     },
     "output_type": "display_data"
    }
   ],
   "source": [
    "## 변수 중요도를 측정하기\n",
    "from lightgbm import plot_importance\n",
    "fig, ax = plt.subplots(figsize = (10, 12))\n",
    "plot_importance(lgbm_wrapper, ax = ax)"
   ]
  },
  {
   "cell_type": "markdown",
   "metadata": {},
   "source": [
    "## CatBoost\n",
    "- 범주형 변수를 One-hot Encoding 또는 Label Encoding 등의 작업을 하지 않고도 그대로 모델의 input으로 사용할 수 있게 함  (알아서 target encoding을 해줌)"
   ]
  },
  {
   "cell_type": "code",
   "execution_count": 68,
   "metadata": {
    "scrolled": true
   },
   "outputs": [
    {
     "name": "stdout",
     "output_type": "stream",
     "text": [
      "Learning rate set to 0.03548\n",
      "0:\tlearn: 9.0122486\ttotal: 144ms\tremaining: 2m 23s\n",
      "1:\tlearn: 8.8120691\ttotal: 145ms\tremaining: 1m 12s\n",
      "2:\tlearn: 8.6104403\ttotal: 146ms\tremaining: 48.6s\n",
      "3:\tlearn: 8.4308792\ttotal: 147ms\tremaining: 36.7s\n",
      "4:\tlearn: 8.2705769\ttotal: 148ms\tremaining: 29.5s\n",
      "5:\tlearn: 8.0954061\ttotal: 150ms\tremaining: 24.8s\n",
      "6:\tlearn: 7.9260949\ttotal: 151ms\tremaining: 21.4s\n",
      "7:\tlearn: 7.7672095\ttotal: 152ms\tremaining: 18.8s\n",
      "8:\tlearn: 7.6085937\ttotal: 153ms\tremaining: 16.8s\n",
      "9:\tlearn: 7.4516165\ttotal: 154ms\tremaining: 15.3s\n",
      "10:\tlearn: 7.3015457\ttotal: 155ms\tremaining: 14s\n",
      "11:\tlearn: 7.1450679\ttotal: 156ms\tremaining: 12.9s\n",
      "12:\tlearn: 6.9947503\ttotal: 157ms\tremaining: 12s\n",
      "13:\tlearn: 6.8480578\ttotal: 159ms\tremaining: 11.2s\n",
      "14:\tlearn: 6.7261107\ttotal: 160ms\tremaining: 10.5s\n",
      "15:\tlearn: 6.5764639\ttotal: 161ms\tremaining: 9.88s\n",
      "16:\tlearn: 6.4490181\ttotal: 162ms\tremaining: 9.35s\n",
      "17:\tlearn: 6.3295673\ttotal: 163ms\tremaining: 8.88s\n",
      "18:\tlearn: 6.2091931\ttotal: 164ms\tremaining: 8.46s\n",
      "19:\tlearn: 6.0941597\ttotal: 165ms\tremaining: 8.09s\n",
      "20:\tlearn: 5.9904243\ttotal: 166ms\tremaining: 7.74s\n",
      "21:\tlearn: 5.8866431\ttotal: 167ms\tremaining: 7.43s\n",
      "22:\tlearn: 5.7810502\ttotal: 168ms\tremaining: 7.15s\n",
      "23:\tlearn: 5.6730951\ttotal: 170ms\tremaining: 6.89s\n",
      "24:\tlearn: 5.5824546\ttotal: 171ms\tremaining: 6.67s\n",
      "25:\tlearn: 5.4844314\ttotal: 173ms\tremaining: 6.46s\n",
      "26:\tlearn: 5.3969343\ttotal: 174ms\tremaining: 6.27s\n",
      "27:\tlearn: 5.3063657\ttotal: 175ms\tremaining: 6.06s\n",
      "28:\tlearn: 5.2372768\ttotal: 176ms\tremaining: 5.89s\n",
      "29:\tlearn: 5.1380765\ttotal: 177ms\tremaining: 5.73s\n",
      "30:\tlearn: 5.0512003\ttotal: 179ms\tremaining: 5.61s\n",
      "31:\tlearn: 4.9645900\ttotal: 181ms\tremaining: 5.48s\n",
      "32:\tlearn: 4.8889463\ttotal: 183ms\tremaining: 5.37s\n",
      "33:\tlearn: 4.8106083\ttotal: 185ms\tremaining: 5.25s\n",
      "34:\tlearn: 4.7387259\ttotal: 186ms\tremaining: 5.13s\n",
      "35:\tlearn: 4.6644650\ttotal: 187ms\tremaining: 5.02s\n",
      "36:\tlearn: 4.5909286\ttotal: 189ms\tremaining: 4.92s\n",
      "37:\tlearn: 4.5122005\ttotal: 190ms\tremaining: 4.82s\n",
      "38:\tlearn: 4.4409659\ttotal: 192ms\tremaining: 4.72s\n",
      "39:\tlearn: 4.3628147\ttotal: 193ms\tremaining: 4.63s\n",
      "40:\tlearn: 4.3026649\ttotal: 195ms\tremaining: 4.55s\n",
      "41:\tlearn: 4.2433758\ttotal: 196ms\tremaining: 4.48s\n",
      "42:\tlearn: 4.1868824\ttotal: 198ms\tremaining: 4.4s\n",
      "43:\tlearn: 4.1225304\ttotal: 199ms\tremaining: 4.32s\n",
      "44:\tlearn: 4.0638097\ttotal: 200ms\tremaining: 4.24s\n",
      "45:\tlearn: 3.9998112\ttotal: 201ms\tremaining: 4.16s\n",
      "46:\tlearn: 3.9585611\ttotal: 202ms\tremaining: 4.09s\n",
      "47:\tlearn: 3.9018732\ttotal: 203ms\tremaining: 4.03s\n",
      "48:\tlearn: 3.8587054\ttotal: 204ms\tremaining: 3.96s\n",
      "49:\tlearn: 3.8101110\ttotal: 205ms\tremaining: 3.9s\n",
      "50:\tlearn: 3.7662071\ttotal: 208ms\tremaining: 3.86s\n",
      "51:\tlearn: 3.7230270\ttotal: 209ms\tremaining: 3.81s\n",
      "52:\tlearn: 3.6814288\ttotal: 210ms\tremaining: 3.75s\n",
      "53:\tlearn: 3.6443301\ttotal: 211ms\tremaining: 3.7s\n",
      "54:\tlearn: 3.5983380\ttotal: 212ms\tremaining: 3.64s\n",
      "55:\tlearn: 3.5541803\ttotal: 213ms\tremaining: 3.59s\n",
      "56:\tlearn: 3.5221318\ttotal: 214ms\tremaining: 3.54s\n",
      "57:\tlearn: 3.4819266\ttotal: 215ms\tremaining: 3.49s\n",
      "58:\tlearn: 3.4444253\ttotal: 216ms\tremaining: 3.45s\n",
      "59:\tlearn: 3.4087644\ttotal: 217ms\tremaining: 3.4s\n",
      "60:\tlearn: 3.3724906\ttotal: 218ms\tremaining: 3.36s\n",
      "61:\tlearn: 3.3373021\ttotal: 219ms\tremaining: 3.32s\n",
      "62:\tlearn: 3.3042566\ttotal: 221ms\tremaining: 3.28s\n",
      "63:\tlearn: 3.2679775\ttotal: 222ms\tremaining: 3.24s\n",
      "64:\tlearn: 3.2365850\ttotal: 223ms\tremaining: 3.21s\n",
      "65:\tlearn: 3.2107608\ttotal: 224ms\tremaining: 3.17s\n",
      "66:\tlearn: 3.1776791\ttotal: 225ms\tremaining: 3.13s\n",
      "67:\tlearn: 3.1463467\ttotal: 226ms\tremaining: 3.1s\n",
      "68:\tlearn: 3.1185714\ttotal: 227ms\tremaining: 3.06s\n",
      "69:\tlearn: 3.0945318\ttotal: 229ms\tremaining: 3.04s\n",
      "70:\tlearn: 3.0655557\ttotal: 230ms\tremaining: 3s\n",
      "71:\tlearn: 3.0433234\ttotal: 231ms\tremaining: 2.98s\n",
      "72:\tlearn: 3.0182596\ttotal: 232ms\tremaining: 2.94s\n",
      "73:\tlearn: 2.9882914\ttotal: 233ms\tremaining: 2.92s\n",
      "74:\tlearn: 2.9637080\ttotal: 234ms\tremaining: 2.88s\n",
      "75:\tlearn: 2.9382636\ttotal: 235ms\tremaining: 2.86s\n",
      "76:\tlearn: 2.9148380\ttotal: 236ms\tremaining: 2.83s\n",
      "77:\tlearn: 2.8890108\ttotal: 237ms\tremaining: 2.8s\n",
      "78:\tlearn: 2.8696042\ttotal: 238ms\tremaining: 2.77s\n",
      "79:\tlearn: 2.8514593\ttotal: 239ms\tremaining: 2.75s\n",
      "80:\tlearn: 2.8281807\ttotal: 240ms\tremaining: 2.73s\n",
      "81:\tlearn: 2.8088692\ttotal: 241ms\tremaining: 2.7s\n",
      "82:\tlearn: 2.7903894\ttotal: 242ms\tremaining: 2.68s\n",
      "83:\tlearn: 2.7683130\ttotal: 244ms\tremaining: 2.66s\n",
      "84:\tlearn: 2.7504728\ttotal: 245ms\tremaining: 2.63s\n",
      "85:\tlearn: 2.7284338\ttotal: 246ms\tremaining: 2.61s\n",
      "86:\tlearn: 2.7084921\ttotal: 247ms\tremaining: 2.59s\n",
      "87:\tlearn: 2.6887799\ttotal: 247ms\tremaining: 2.56s\n",
      "88:\tlearn: 2.6700305\ttotal: 249ms\tremaining: 2.54s\n",
      "89:\tlearn: 2.6514359\ttotal: 250ms\tremaining: 2.52s\n",
      "90:\tlearn: 2.6344355\ttotal: 251ms\tremaining: 2.5s\n",
      "91:\tlearn: 2.6186648\ttotal: 252ms\tremaining: 2.48s\n",
      "92:\tlearn: 2.6045590\ttotal: 253ms\tremaining: 2.47s\n",
      "93:\tlearn: 2.5879668\ttotal: 254ms\tremaining: 2.45s\n",
      "94:\tlearn: 2.5712781\ttotal: 255ms\tremaining: 2.43s\n",
      "95:\tlearn: 2.5581128\ttotal: 256ms\tremaining: 2.41s\n",
      "96:\tlearn: 2.5458738\ttotal: 257ms\tremaining: 2.39s\n",
      "97:\tlearn: 2.5274764\ttotal: 258ms\tremaining: 2.37s\n",
      "98:\tlearn: 2.5136292\ttotal: 259ms\tremaining: 2.35s\n",
      "99:\tlearn: 2.5005387\ttotal: 260ms\tremaining: 2.34s\n",
      "100:\tlearn: 2.4884971\ttotal: 261ms\tremaining: 2.32s\n",
      "101:\tlearn: 2.4743691\ttotal: 262ms\tremaining: 2.3s\n",
      "102:\tlearn: 2.4611095\ttotal: 263ms\tremaining: 2.29s\n",
      "103:\tlearn: 2.4464943\ttotal: 263ms\tremaining: 2.27s\n",
      "104:\tlearn: 2.4326070\ttotal: 264ms\tremaining: 2.25s\n",
      "105:\tlearn: 2.4216609\ttotal: 266ms\tremaining: 2.24s\n",
      "106:\tlearn: 2.4095315\ttotal: 267ms\tremaining: 2.23s\n",
      "107:\tlearn: 2.3944772\ttotal: 268ms\tremaining: 2.21s\n",
      "108:\tlearn: 2.3810508\ttotal: 269ms\tremaining: 2.19s\n",
      "109:\tlearn: 2.3674291\ttotal: 270ms\tremaining: 2.18s\n",
      "110:\tlearn: 2.3565690\ttotal: 271ms\tremaining: 2.17s\n",
      "111:\tlearn: 2.3447315\ttotal: 272ms\tremaining: 2.15s\n",
      "112:\tlearn: 2.3325523\ttotal: 273ms\tremaining: 2.14s\n",
      "113:\tlearn: 2.3234194\ttotal: 274ms\tremaining: 2.13s\n",
      "114:\tlearn: 2.3142774\ttotal: 275ms\tremaining: 2.11s\n",
      "115:\tlearn: 2.3065728\ttotal: 276ms\tremaining: 2.1s\n",
      "116:\tlearn: 2.2955975\ttotal: 277ms\tremaining: 2.09s\n",
      "117:\tlearn: 2.2830918\ttotal: 278ms\tremaining: 2.08s\n",
      "118:\tlearn: 2.2712773\ttotal: 279ms\tremaining: 2.07s\n",
      "119:\tlearn: 2.2642720\ttotal: 280ms\tremaining: 2.05s\n",
      "120:\tlearn: 2.2511750\ttotal: 281ms\tremaining: 2.04s\n",
      "121:\tlearn: 2.2396525\ttotal: 282ms\tremaining: 2.03s\n",
      "122:\tlearn: 2.2290885\ttotal: 283ms\tremaining: 2.02s\n",
      "123:\tlearn: 2.2148404\ttotal: 284ms\tremaining: 2s\n",
      "124:\tlearn: 2.2070378\ttotal: 285ms\tremaining: 1.99s\n",
      "125:\tlearn: 2.1990405\ttotal: 286ms\tremaining: 1.98s\n",
      "126:\tlearn: 2.1911494\ttotal: 287ms\tremaining: 1.97s\n",
      "127:\tlearn: 2.1835746\ttotal: 288ms\tremaining: 1.96s\n",
      "128:\tlearn: 2.1746275\ttotal: 289ms\tremaining: 1.95s\n",
      "129:\tlearn: 2.1666758\ttotal: 290ms\tremaining: 1.94s\n",
      "130:\tlearn: 2.1614773\ttotal: 291ms\tremaining: 1.93s\n",
      "131:\tlearn: 2.1538047\ttotal: 292ms\tremaining: 1.92s\n",
      "132:\tlearn: 2.1463322\ttotal: 292ms\tremaining: 1.91s\n",
      "133:\tlearn: 2.1421988\ttotal: 293ms\tremaining: 1.9s\n",
      "134:\tlearn: 2.1335272\ttotal: 294ms\tremaining: 1.89s\n",
      "135:\tlearn: 2.1238283\ttotal: 295ms\tremaining: 1.88s\n",
      "136:\tlearn: 2.1145182\ttotal: 296ms\tremaining: 1.87s\n",
      "137:\tlearn: 2.1085119\ttotal: 297ms\tremaining: 1.86s\n",
      "138:\tlearn: 2.1019472\ttotal: 298ms\tremaining: 1.85s\n",
      "139:\tlearn: 2.0939022\ttotal: 299ms\tremaining: 1.84s\n",
      "140:\tlearn: 2.0844788\ttotal: 300ms\tremaining: 1.83s\n",
      "141:\tlearn: 2.0792490\ttotal: 301ms\tremaining: 1.82s\n",
      "142:\tlearn: 2.0711052\ttotal: 302ms\tremaining: 1.81s\n",
      "143:\tlearn: 2.0638583\ttotal: 303ms\tremaining: 1.8s\n",
      "144:\tlearn: 2.0580565\ttotal: 305ms\tremaining: 1.8s\n",
      "145:\tlearn: 2.0492665\ttotal: 306ms\tremaining: 1.79s\n",
      "146:\tlearn: 2.0417393\ttotal: 307ms\tremaining: 1.78s\n",
      "147:\tlearn: 2.0330809\ttotal: 308ms\tremaining: 1.77s\n",
      "148:\tlearn: 2.0241977\ttotal: 308ms\tremaining: 1.76s\n",
      "149:\tlearn: 2.0164995\ttotal: 310ms\tremaining: 1.75s\n",
      "150:\tlearn: 2.0079185\ttotal: 310ms\tremaining: 1.75s\n",
      "151:\tlearn: 1.9992621\ttotal: 311ms\tremaining: 1.74s\n",
      "152:\tlearn: 1.9938510\ttotal: 312ms\tremaining: 1.73s\n",
      "153:\tlearn: 1.9857432\ttotal: 313ms\tremaining: 1.72s\n",
      "154:\tlearn: 1.9799507\ttotal: 314ms\tremaining: 1.71s\n",
      "155:\tlearn: 1.9716694\ttotal: 315ms\tremaining: 1.71s\n",
      "156:\tlearn: 1.9634420\ttotal: 316ms\tremaining: 1.7s\n",
      "157:\tlearn: 1.9584166\ttotal: 317ms\tremaining: 1.69s\n",
      "158:\tlearn: 1.9511615\ttotal: 319ms\tremaining: 1.68s\n",
      "159:\tlearn: 1.9455580\ttotal: 319ms\tremaining: 1.68s\n",
      "160:\tlearn: 1.9386409\ttotal: 321ms\tremaining: 1.67s\n",
      "161:\tlearn: 1.9330115\ttotal: 322ms\tremaining: 1.66s\n",
      "162:\tlearn: 1.9281021\ttotal: 323ms\tremaining: 1.66s\n",
      "163:\tlearn: 1.9213360\ttotal: 324ms\tremaining: 1.65s\n",
      "164:\tlearn: 1.9154495\ttotal: 325ms\tremaining: 1.64s\n",
      "165:\tlearn: 1.9086702\ttotal: 326ms\tremaining: 1.64s\n",
      "166:\tlearn: 1.9015170\ttotal: 327ms\tremaining: 1.63s\n",
      "167:\tlearn: 1.8948169\ttotal: 329ms\tremaining: 1.63s\n",
      "168:\tlearn: 1.8888962\ttotal: 330ms\tremaining: 1.62s\n",
      "169:\tlearn: 1.8852148\ttotal: 331ms\tremaining: 1.62s\n",
      "170:\tlearn: 1.8796490\ttotal: 333ms\tremaining: 1.61s\n",
      "171:\tlearn: 1.8742527\ttotal: 334ms\tremaining: 1.61s\n",
      "172:\tlearn: 1.8680969\ttotal: 335ms\tremaining: 1.6s\n",
      "173:\tlearn: 1.8622318\ttotal: 336ms\tremaining: 1.6s\n",
      "174:\tlearn: 1.8571815\ttotal: 338ms\tremaining: 1.59s\n",
      "175:\tlearn: 1.8531798\ttotal: 339ms\tremaining: 1.59s\n",
      "176:\tlearn: 1.8485544\ttotal: 340ms\tremaining: 1.58s\n",
      "177:\tlearn: 1.8431430\ttotal: 342ms\tremaining: 1.58s\n",
      "178:\tlearn: 1.8383070\ttotal: 344ms\tremaining: 1.58s\n",
      "179:\tlearn: 1.8326755\ttotal: 345ms\tremaining: 1.57s\n",
      "180:\tlearn: 1.8274300\ttotal: 346ms\tremaining: 1.57s\n",
      "181:\tlearn: 1.8212593\ttotal: 347ms\tremaining: 1.56s\n",
      "182:\tlearn: 1.8141398\ttotal: 348ms\tremaining: 1.55s\n",
      "183:\tlearn: 1.8093808\ttotal: 349ms\tremaining: 1.55s\n",
      "184:\tlearn: 1.8043793\ttotal: 350ms\tremaining: 1.54s\n",
      "185:\tlearn: 1.8001545\ttotal: 351ms\tremaining: 1.54s\n",
      "186:\tlearn: 1.7956529\ttotal: 352ms\tremaining: 1.53s\n",
      "187:\tlearn: 1.7886752\ttotal: 354ms\tremaining: 1.53s\n",
      "188:\tlearn: 1.7828895\ttotal: 355ms\tremaining: 1.52s\n",
      "189:\tlearn: 1.7764461\ttotal: 355ms\tremaining: 1.51s\n",
      "190:\tlearn: 1.7711911\ttotal: 356ms\tremaining: 1.51s\n",
      "191:\tlearn: 1.7651908\ttotal: 357ms\tremaining: 1.5s\n",
      "192:\tlearn: 1.7624591\ttotal: 358ms\tremaining: 1.5s\n",
      "193:\tlearn: 1.7558665\ttotal: 360ms\tremaining: 1.5s\n",
      "194:\tlearn: 1.7515692\ttotal: 361ms\tremaining: 1.49s\n",
      "195:\tlearn: 1.7467376\ttotal: 362ms\tremaining: 1.48s\n",
      "196:\tlearn: 1.7403764\ttotal: 363ms\tremaining: 1.48s\n",
      "197:\tlearn: 1.7371947\ttotal: 364ms\tremaining: 1.47s\n",
      "198:\tlearn: 1.7318981\ttotal: 365ms\tremaining: 1.47s\n",
      "199:\tlearn: 1.7282116\ttotal: 366ms\tremaining: 1.46s\n",
      "200:\tlearn: 1.7228948\ttotal: 367ms\tremaining: 1.46s\n",
      "201:\tlearn: 1.7197236\ttotal: 368ms\tremaining: 1.45s\n",
      "202:\tlearn: 1.7136608\ttotal: 369ms\tremaining: 1.45s\n",
      "203:\tlearn: 1.7086717\ttotal: 370ms\tremaining: 1.44s\n",
      "204:\tlearn: 1.7064348\ttotal: 371ms\tremaining: 1.44s\n",
      "205:\tlearn: 1.7017206\ttotal: 372ms\tremaining: 1.43s\n",
      "206:\tlearn: 1.6964542\ttotal: 373ms\tremaining: 1.43s\n",
      "207:\tlearn: 1.6927821\ttotal: 374ms\tremaining: 1.42s\n",
      "208:\tlearn: 1.6867637\ttotal: 375ms\tremaining: 1.42s\n",
      "209:\tlearn: 1.6825032\ttotal: 376ms\tremaining: 1.41s\n",
      "210:\tlearn: 1.6755145\ttotal: 377ms\tremaining: 1.41s\n",
      "211:\tlearn: 1.6708219\ttotal: 378ms\tremaining: 1.4s\n",
      "212:\tlearn: 1.6668922\ttotal: 379ms\tremaining: 1.4s\n",
      "213:\tlearn: 1.6622885\ttotal: 380ms\tremaining: 1.39s\n",
      "214:\tlearn: 1.6583063\ttotal: 381ms\tremaining: 1.39s\n",
      "215:\tlearn: 1.6544170\ttotal: 382ms\tremaining: 1.39s\n",
      "216:\tlearn: 1.6481365\ttotal: 383ms\tremaining: 1.38s\n",
      "217:\tlearn: 1.6446527\ttotal: 384ms\tremaining: 1.38s\n",
      "218:\tlearn: 1.6408356\ttotal: 385ms\tremaining: 1.37s\n",
      "219:\tlearn: 1.6346593\ttotal: 386ms\tremaining: 1.37s\n",
      "220:\tlearn: 1.6294075\ttotal: 387ms\tremaining: 1.36s\n",
      "221:\tlearn: 1.6241519\ttotal: 388ms\tremaining: 1.36s\n",
      "222:\tlearn: 1.6200840\ttotal: 389ms\tremaining: 1.35s\n",
      "223:\tlearn: 1.6128728\ttotal: 390ms\tremaining: 1.35s\n",
      "224:\tlearn: 1.6088906\ttotal: 391ms\tremaining: 1.34s\n",
      "225:\tlearn: 1.6048380\ttotal: 392ms\tremaining: 1.34s\n",
      "226:\tlearn: 1.5998358\ttotal: 393ms\tremaining: 1.34s\n",
      "227:\tlearn: 1.5951617\ttotal: 394ms\tremaining: 1.33s\n",
      "228:\tlearn: 1.5913397\ttotal: 395ms\tremaining: 1.33s\n",
      "229:\tlearn: 1.5880258\ttotal: 396ms\tremaining: 1.32s\n",
      "230:\tlearn: 1.5836040\ttotal: 397ms\tremaining: 1.32s\n",
      "231:\tlearn: 1.5804291\ttotal: 398ms\tremaining: 1.32s\n",
      "232:\tlearn: 1.5763220\ttotal: 399ms\tremaining: 1.31s\n",
      "233:\tlearn: 1.5742820\ttotal: 400ms\tremaining: 1.31s\n",
      "234:\tlearn: 1.5700636\ttotal: 401ms\tremaining: 1.3s\n",
      "235:\tlearn: 1.5656772\ttotal: 402ms\tremaining: 1.3s\n",
      "236:\tlearn: 1.5626790\ttotal: 403ms\tremaining: 1.3s\n",
      "237:\tlearn: 1.5585848\ttotal: 404ms\tremaining: 1.29s\n",
      "238:\tlearn: 1.5532915\ttotal: 405ms\tremaining: 1.29s\n",
      "239:\tlearn: 1.5511938\ttotal: 406ms\tremaining: 1.28s\n",
      "240:\tlearn: 1.5481460\ttotal: 407ms\tremaining: 1.28s\n",
      "241:\tlearn: 1.5434226\ttotal: 408ms\tremaining: 1.28s\n",
      "242:\tlearn: 1.5405114\ttotal: 409ms\tremaining: 1.27s\n",
      "243:\tlearn: 1.5374912\ttotal: 410ms\tremaining: 1.27s\n",
      "244:\tlearn: 1.5339102\ttotal: 411ms\tremaining: 1.26s\n",
      "245:\tlearn: 1.5296513\ttotal: 412ms\tremaining: 1.26s\n",
      "246:\tlearn: 1.5268825\ttotal: 413ms\tremaining: 1.26s\n",
      "247:\tlearn: 1.5221352\ttotal: 414ms\tremaining: 1.25s\n",
      "248:\tlearn: 1.5194251\ttotal: 415ms\tremaining: 1.25s\n",
      "249:\tlearn: 1.5152561\ttotal: 416ms\tremaining: 1.25s\n",
      "250:\tlearn: 1.5122292\ttotal: 417ms\tremaining: 1.24s\n",
      "251:\tlearn: 1.5110385\ttotal: 418ms\tremaining: 1.24s\n",
      "252:\tlearn: 1.5053480\ttotal: 419ms\tremaining: 1.24s\n",
      "253:\tlearn: 1.5011992\ttotal: 420ms\tremaining: 1.23s\n",
      "254:\tlearn: 1.4988241\ttotal: 421ms\tremaining: 1.23s\n",
      "255:\tlearn: 1.4965784\ttotal: 422ms\tremaining: 1.23s\n",
      "256:\tlearn: 1.4923337\ttotal: 423ms\tremaining: 1.22s\n",
      "257:\tlearn: 1.4888807\ttotal: 424ms\tremaining: 1.22s\n",
      "258:\tlearn: 1.4851637\ttotal: 425ms\tremaining: 1.22s\n",
      "259:\tlearn: 1.4826044\ttotal: 426ms\tremaining: 1.21s\n",
      "260:\tlearn: 1.4793419\ttotal: 427ms\tremaining: 1.21s\n",
      "261:\tlearn: 1.4769303\ttotal: 428ms\tremaining: 1.2s\n",
      "262:\tlearn: 1.4737427\ttotal: 429ms\tremaining: 1.2s\n",
      "263:\tlearn: 1.4707488\ttotal: 430ms\tremaining: 1.2s\n",
      "264:\tlearn: 1.4684326\ttotal: 431ms\tremaining: 1.2s\n",
      "265:\tlearn: 1.4649159\ttotal: 432ms\tremaining: 1.19s\n",
      "266:\tlearn: 1.4609729\ttotal: 433ms\tremaining: 1.19s\n",
      "267:\tlearn: 1.4581371\ttotal: 434ms\tremaining: 1.19s\n",
      "268:\tlearn: 1.4552975\ttotal: 435ms\tremaining: 1.18s\n",
      "269:\tlearn: 1.4503608\ttotal: 436ms\tremaining: 1.18s\n",
      "270:\tlearn: 1.4474831\ttotal: 437ms\tremaining: 1.18s\n",
      "271:\tlearn: 1.4423067\ttotal: 438ms\tremaining: 1.17s\n",
      "272:\tlearn: 1.4391527\ttotal: 439ms\tremaining: 1.17s\n",
      "273:\tlearn: 1.4342577\ttotal: 440ms\tremaining: 1.16s\n",
      "274:\tlearn: 1.4328174\ttotal: 441ms\tremaining: 1.16s\n",
      "275:\tlearn: 1.4311518\ttotal: 442ms\tremaining: 1.16s\n",
      "276:\tlearn: 1.4296570\ttotal: 443ms\tremaining: 1.16s\n",
      "277:\tlearn: 1.4258437\ttotal: 444ms\tremaining: 1.15s\n",
      "278:\tlearn: 1.4230912\ttotal: 445ms\tremaining: 1.15s\n",
      "279:\tlearn: 1.4184865\ttotal: 446ms\tremaining: 1.15s\n",
      "280:\tlearn: 1.4167498\ttotal: 447ms\tremaining: 1.14s\n",
      "281:\tlearn: 1.4146412\ttotal: 448ms\tremaining: 1.14s\n",
      "282:\tlearn: 1.4128725\ttotal: 449ms\tremaining: 1.14s\n",
      "283:\tlearn: 1.4100872\ttotal: 450ms\tremaining: 1.13s\n",
      "284:\tlearn: 1.4059419\ttotal: 451ms\tremaining: 1.13s\n",
      "285:\tlearn: 1.4022839\ttotal: 452ms\tremaining: 1.13s\n",
      "286:\tlearn: 1.3994937\ttotal: 452ms\tremaining: 1.12s\n",
      "287:\tlearn: 1.3972322\ttotal: 454ms\tremaining: 1.12s\n",
      "288:\tlearn: 1.3936213\ttotal: 454ms\tremaining: 1.12s\n",
      "289:\tlearn: 1.3884571\ttotal: 455ms\tremaining: 1.11s\n",
      "290:\tlearn: 1.3879062\ttotal: 457ms\tremaining: 1.11s\n",
      "291:\tlearn: 1.3855258\ttotal: 457ms\tremaining: 1.11s\n",
      "292:\tlearn: 1.3811310\ttotal: 458ms\tremaining: 1.11s\n",
      "293:\tlearn: 1.3806944\ttotal: 459ms\tremaining: 1.1s\n",
      "294:\tlearn: 1.3775769\ttotal: 460ms\tremaining: 1.1s\n",
      "295:\tlearn: 1.3728825\ttotal: 461ms\tremaining: 1.1s\n",
      "296:\tlearn: 1.3690163\ttotal: 462ms\tremaining: 1.09s\n",
      "297:\tlearn: 1.3651794\ttotal: 463ms\tremaining: 1.09s\n",
      "298:\tlearn: 1.3641523\ttotal: 464ms\tremaining: 1.09s\n",
      "299:\tlearn: 1.3611341\ttotal: 465ms\tremaining: 1.08s\n",
      "300:\tlearn: 1.3570083\ttotal: 466ms\tremaining: 1.08s\n",
      "301:\tlearn: 1.3535023\ttotal: 467ms\tremaining: 1.08s\n",
      "302:\tlearn: 1.3503318\ttotal: 468ms\tremaining: 1.08s\n",
      "303:\tlearn: 1.3499155\ttotal: 469ms\tremaining: 1.07s\n",
      "304:\tlearn: 1.3458668\ttotal: 471ms\tremaining: 1.07s\n",
      "305:\tlearn: 1.3427738\ttotal: 472ms\tremaining: 1.07s\n",
      "306:\tlearn: 1.3406487\ttotal: 472ms\tremaining: 1.07s\n",
      "307:\tlearn: 1.3375067\ttotal: 473ms\tremaining: 1.06s\n",
      "308:\tlearn: 1.3370945\ttotal: 474ms\tremaining: 1.06s\n",
      "309:\tlearn: 1.3367136\ttotal: 475ms\tremaining: 1.06s\n",
      "310:\tlearn: 1.3335007\ttotal: 476ms\tremaining: 1.05s\n",
      "311:\tlearn: 1.3309376\ttotal: 477ms\tremaining: 1.05s\n",
      "312:\tlearn: 1.3265014\ttotal: 479ms\tremaining: 1.05s\n",
      "313:\tlearn: 1.3244059\ttotal: 479ms\tremaining: 1.05s\n",
      "314:\tlearn: 1.3239945\ttotal: 480ms\tremaining: 1.04s\n",
      "315:\tlearn: 1.3205555\ttotal: 482ms\tremaining: 1.04s\n",
      "316:\tlearn: 1.3194007\ttotal: 483ms\tremaining: 1.04s\n",
      "317:\tlearn: 1.3180601\ttotal: 484ms\tremaining: 1.04s\n",
      "318:\tlearn: 1.3136705\ttotal: 486ms\tremaining: 1.04s\n",
      "319:\tlearn: 1.3114141\ttotal: 487ms\tremaining: 1.03s\n",
      "320:\tlearn: 1.3090643\ttotal: 488ms\tremaining: 1.03s\n",
      "321:\tlearn: 1.3071096\ttotal: 490ms\tremaining: 1.03s\n",
      "322:\tlearn: 1.3039579\ttotal: 491ms\tremaining: 1.03s\n",
      "323:\tlearn: 1.3011440\ttotal: 492ms\tremaining: 1.03s\n",
      "324:\tlearn: 1.2972450\ttotal: 494ms\tremaining: 1.02s\n",
      "325:\tlearn: 1.2949712\ttotal: 495ms\tremaining: 1.02s\n",
      "326:\tlearn: 1.2911227\ttotal: 496ms\tremaining: 1.02s\n",
      "327:\tlearn: 1.2908494\ttotal: 497ms\tremaining: 1.02s\n",
      "328:\tlearn: 1.2905639\ttotal: 498ms\tremaining: 1.01s\n",
      "329:\tlearn: 1.2871136\ttotal: 499ms\tremaining: 1.01s\n",
      "330:\tlearn: 1.2851525\ttotal: 500ms\tremaining: 1.01s\n",
      "331:\tlearn: 1.2849008\ttotal: 501ms\tremaining: 1.01s\n",
      "332:\tlearn: 1.2814232\ttotal: 502ms\tremaining: 1s\n",
      "333:\tlearn: 1.2784917\ttotal: 503ms\tremaining: 1s\n",
      "334:\tlearn: 1.2751539\ttotal: 504ms\tremaining: 1s\n",
      "335:\tlearn: 1.2749079\ttotal: 505ms\tremaining: 998ms\n",
      "336:\tlearn: 1.2718029\ttotal: 506ms\tremaining: 996ms\n",
      "337:\tlearn: 1.2677120\ttotal: 507ms\tremaining: 994ms\n",
      "338:\tlearn: 1.2618124\ttotal: 508ms\tremaining: 991ms\n",
      "339:\tlearn: 1.2595280\ttotal: 510ms\tremaining: 989ms\n",
      "340:\tlearn: 1.2570493\ttotal: 511ms\tremaining: 987ms\n",
      "341:\tlearn: 1.2553907\ttotal: 512ms\tremaining: 986ms\n",
      "342:\tlearn: 1.2525517\ttotal: 514ms\tremaining: 984ms\n",
      "343:\tlearn: 1.2497006\ttotal: 515ms\tremaining: 982ms\n",
      "344:\tlearn: 1.2480226\ttotal: 516ms\tremaining: 980ms\n",
      "345:\tlearn: 1.2450024\ttotal: 518ms\tremaining: 978ms\n",
      "346:\tlearn: 1.2422999\ttotal: 519ms\tremaining: 976ms\n",
      "347:\tlearn: 1.2390310\ttotal: 520ms\tremaining: 974ms\n",
      "348:\tlearn: 1.2383286\ttotal: 521ms\tremaining: 972ms\n",
      "349:\tlearn: 1.2366749\ttotal: 522ms\tremaining: 970ms\n",
      "350:\tlearn: 1.2344974\ttotal: 524ms\tremaining: 968ms\n",
      "351:\tlearn: 1.2322536\ttotal: 525ms\tremaining: 967ms\n",
      "352:\tlearn: 1.2285608\ttotal: 526ms\tremaining: 965ms\n",
      "353:\tlearn: 1.2270256\ttotal: 528ms\tremaining: 964ms\n",
      "354:\tlearn: 1.2247352\ttotal: 529ms\tremaining: 961ms\n",
      "355:\tlearn: 1.2223829\ttotal: 530ms\tremaining: 960ms\n",
      "356:\tlearn: 1.2194908\ttotal: 531ms\tremaining: 957ms\n",
      "357:\tlearn: 1.2162652\ttotal: 533ms\tremaining: 955ms\n",
      "358:\tlearn: 1.2132928\ttotal: 534ms\tremaining: 953ms\n",
      "359:\tlearn: 1.2123447\ttotal: 535ms\tremaining: 951ms\n",
      "360:\tlearn: 1.2104719\ttotal: 536ms\tremaining: 949ms\n",
      "361:\tlearn: 1.2072345\ttotal: 537ms\tremaining: 947ms\n",
      "362:\tlearn: 1.2055701\ttotal: 538ms\tremaining: 944ms\n",
      "363:\tlearn: 1.2026189\ttotal: 540ms\tremaining: 944ms\n",
      "364:\tlearn: 1.1992083\ttotal: 541ms\tremaining: 942ms\n",
      "365:\tlearn: 1.1989561\ttotal: 542ms\tremaining: 940ms\n",
      "366:\tlearn: 1.1972859\ttotal: 543ms\tremaining: 937ms\n",
      "367:\tlearn: 1.1961890\ttotal: 545ms\tremaining: 935ms\n",
      "368:\tlearn: 1.1927605\ttotal: 545ms\tremaining: 933ms\n",
      "369:\tlearn: 1.1913876\ttotal: 547ms\tremaining: 931ms\n",
      "370:\tlearn: 1.1897921\ttotal: 548ms\tremaining: 928ms\n",
      "371:\tlearn: 1.1872742\ttotal: 549ms\tremaining: 926ms\n",
      "372:\tlearn: 1.1858023\ttotal: 550ms\tremaining: 924ms\n",
      "373:\tlearn: 1.1830217\ttotal: 551ms\tremaining: 922ms\n",
      "374:\tlearn: 1.1806828\ttotal: 552ms\tremaining: 920ms\n",
      "375:\tlearn: 1.1778095\ttotal: 553ms\tremaining: 918ms\n",
      "376:\tlearn: 1.1749034\ttotal: 555ms\tremaining: 917ms\n",
      "377:\tlearn: 1.1727583\ttotal: 556ms\tremaining: 915ms\n",
      "378:\tlearn: 1.1703948\ttotal: 557ms\tremaining: 912ms\n",
      "379:\tlearn: 1.1678685\ttotal: 558ms\tremaining: 910ms\n",
      "380:\tlearn: 1.1645795\ttotal: 559ms\tremaining: 908ms\n",
      "381:\tlearn: 1.1627439\ttotal: 560ms\tremaining: 906ms\n",
      "382:\tlearn: 1.1603739\ttotal: 561ms\tremaining: 903ms\n",
      "383:\tlearn: 1.1564605\ttotal: 562ms\tremaining: 901ms\n",
      "384:\tlearn: 1.1535567\ttotal: 563ms\tremaining: 899ms\n",
      "385:\tlearn: 1.1508780\ttotal: 564ms\tremaining: 897ms\n",
      "386:\tlearn: 1.1491879\ttotal: 565ms\tremaining: 895ms\n",
      "387:\tlearn: 1.1489363\ttotal: 566ms\tremaining: 893ms\n",
      "388:\tlearn: 1.1468692\ttotal: 567ms\tremaining: 891ms\n",
      "389:\tlearn: 1.1453966\ttotal: 568ms\tremaining: 888ms\n",
      "390:\tlearn: 1.1447694\ttotal: 569ms\tremaining: 886ms\n",
      "391:\tlearn: 1.1436010\ttotal: 570ms\tremaining: 884ms\n",
      "392:\tlearn: 1.1428290\ttotal: 571ms\tremaining: 882ms\n",
      "393:\tlearn: 1.1426672\ttotal: 572ms\tremaining: 880ms\n",
      "394:\tlearn: 1.1407296\ttotal: 573ms\tremaining: 878ms\n",
      "395:\tlearn: 1.1386509\ttotal: 574ms\tremaining: 876ms\n",
      "396:\tlearn: 1.1356799\ttotal: 576ms\tremaining: 874ms\n",
      "397:\tlearn: 1.1349465\ttotal: 577ms\tremaining: 873ms\n",
      "398:\tlearn: 1.1328152\ttotal: 578ms\tremaining: 871ms\n",
      "399:\tlearn: 1.1306412\ttotal: 579ms\tremaining: 869ms\n",
      "400:\tlearn: 1.1291077\ttotal: 581ms\tremaining: 868ms\n",
      "401:\tlearn: 1.1264079\ttotal: 582ms\tremaining: 865ms\n",
      "402:\tlearn: 1.1254920\ttotal: 583ms\tremaining: 863ms\n",
      "403:\tlearn: 1.1229570\ttotal: 584ms\tremaining: 861ms\n",
      "404:\tlearn: 1.1213995\ttotal: 585ms\tremaining: 859ms\n",
      "405:\tlearn: 1.1212249\ttotal: 586ms\tremaining: 858ms\n",
      "406:\tlearn: 1.1182409\ttotal: 587ms\tremaining: 856ms\n",
      "407:\tlearn: 1.1157475\ttotal: 588ms\tremaining: 854ms\n",
      "408:\tlearn: 1.1128112\ttotal: 590ms\tremaining: 853ms\n",
      "409:\tlearn: 1.1101123\ttotal: 591ms\tremaining: 850ms\n",
      "410:\tlearn: 1.1071904\ttotal: 592ms\tremaining: 849ms\n",
      "411:\tlearn: 1.1050023\ttotal: 593ms\tremaining: 847ms\n",
      "412:\tlearn: 1.1027055\ttotal: 595ms\tremaining: 845ms\n",
      "413:\tlearn: 1.1001470\ttotal: 596ms\tremaining: 843ms\n",
      "414:\tlearn: 1.0973121\ttotal: 597ms\tremaining: 842ms\n",
      "415:\tlearn: 1.0957054\ttotal: 598ms\tremaining: 840ms\n",
      "416:\tlearn: 1.0934465\ttotal: 599ms\tremaining: 838ms\n",
      "417:\tlearn: 1.0924972\ttotal: 600ms\tremaining: 836ms\n",
      "418:\tlearn: 1.0897042\ttotal: 601ms\tremaining: 834ms\n",
      "419:\tlearn: 1.0886251\ttotal: 603ms\tremaining: 832ms\n",
      "420:\tlearn: 1.0854994\ttotal: 604ms\tremaining: 831ms\n",
      "421:\tlearn: 1.0830941\ttotal: 605ms\tremaining: 829ms\n",
      "422:\tlearn: 1.0791201\ttotal: 606ms\tremaining: 827ms\n",
      "423:\tlearn: 1.0766551\ttotal: 608ms\tremaining: 826ms\n",
      "424:\tlearn: 1.0748447\ttotal: 609ms\tremaining: 824ms\n",
      "425:\tlearn: 1.0725043\ttotal: 610ms\tremaining: 823ms\n",
      "426:\tlearn: 1.0700652\ttotal: 611ms\tremaining: 820ms\n",
      "427:\tlearn: 1.0669183\ttotal: 613ms\tremaining: 819ms\n",
      "428:\tlearn: 1.0651731\ttotal: 614ms\tremaining: 817ms\n",
      "429:\tlearn: 1.0637102\ttotal: 615ms\tremaining: 816ms\n",
      "430:\tlearn: 1.0615571\ttotal: 616ms\tremaining: 814ms\n",
      "431:\tlearn: 1.0598367\ttotal: 618ms\tremaining: 812ms\n",
      "432:\tlearn: 1.0579235\ttotal: 619ms\tremaining: 810ms\n",
      "433:\tlearn: 1.0563309\ttotal: 620ms\tremaining: 808ms\n",
      "434:\tlearn: 1.0552381\ttotal: 622ms\tremaining: 807ms\n",
      "435:\tlearn: 1.0550418\ttotal: 623ms\tremaining: 805ms\n",
      "436:\tlearn: 1.0544926\ttotal: 624ms\tremaining: 804ms\n",
      "437:\tlearn: 1.0517356\ttotal: 625ms\tremaining: 802ms\n",
      "438:\tlearn: 1.0503344\ttotal: 626ms\tremaining: 800ms\n",
      "439:\tlearn: 1.0478306\ttotal: 627ms\tremaining: 799ms\n",
      "440:\tlearn: 1.0439914\ttotal: 629ms\tremaining: 797ms\n",
      "441:\tlearn: 1.0410200\ttotal: 630ms\tremaining: 795ms\n",
      "442:\tlearn: 1.0384964\ttotal: 631ms\tremaining: 793ms\n",
      "443:\tlearn: 1.0369019\ttotal: 632ms\tremaining: 792ms\n",
      "444:\tlearn: 1.0350697\ttotal: 633ms\tremaining: 790ms\n",
      "445:\tlearn: 1.0334523\ttotal: 634ms\tremaining: 788ms\n",
      "446:\tlearn: 1.0315329\ttotal: 636ms\tremaining: 787ms\n",
      "447:\tlearn: 1.0290424\ttotal: 637ms\tremaining: 785ms\n",
      "448:\tlearn: 1.0261623\ttotal: 639ms\tremaining: 784ms\n",
      "449:\tlearn: 1.0238947\ttotal: 640ms\tremaining: 782ms\n",
      "450:\tlearn: 1.0204570\ttotal: 641ms\tremaining: 780ms\n",
      "451:\tlearn: 1.0178941\ttotal: 642ms\tremaining: 779ms\n",
      "452:\tlearn: 1.0165600\ttotal: 643ms\tremaining: 777ms\n",
      "453:\tlearn: 1.0146733\ttotal: 645ms\tremaining: 775ms\n",
      "454:\tlearn: 1.0121847\ttotal: 646ms\tremaining: 773ms\n",
      "455:\tlearn: 1.0096118\ttotal: 647ms\tremaining: 772ms\n",
      "456:\tlearn: 1.0071847\ttotal: 649ms\tremaining: 771ms\n",
      "457:\tlearn: 1.0042585\ttotal: 650ms\tremaining: 770ms\n",
      "458:\tlearn: 1.0024367\ttotal: 652ms\tremaining: 769ms\n",
      "459:\tlearn: 1.0004570\ttotal: 653ms\tremaining: 767ms\n",
      "460:\tlearn: 0.9978020\ttotal: 655ms\tremaining: 766ms\n",
      "461:\tlearn: 0.9954679\ttotal: 657ms\tremaining: 765ms\n",
      "462:\tlearn: 0.9939638\ttotal: 658ms\tremaining: 763ms\n",
      "463:\tlearn: 0.9920284\ttotal: 660ms\tremaining: 762ms\n",
      "464:\tlearn: 0.9891759\ttotal: 661ms\tremaining: 761ms\n",
      "465:\tlearn: 0.9863976\ttotal: 664ms\tremaining: 761ms\n",
      "466:\tlearn: 0.9854338\ttotal: 665ms\tremaining: 759ms\n",
      "467:\tlearn: 0.9837201\ttotal: 666ms\tremaining: 757ms\n",
      "468:\tlearn: 0.9813795\ttotal: 667ms\tremaining: 756ms\n",
      "469:\tlearn: 0.9796198\ttotal: 669ms\tremaining: 754ms\n",
      "470:\tlearn: 0.9767996\ttotal: 670ms\tremaining: 752ms\n",
      "471:\tlearn: 0.9759858\ttotal: 671ms\tremaining: 751ms\n",
      "472:\tlearn: 0.9744387\ttotal: 672ms\tremaining: 749ms\n",
      "473:\tlearn: 0.9733858\ttotal: 673ms\tremaining: 747ms\n",
      "474:\tlearn: 0.9716957\ttotal: 675ms\tremaining: 746ms\n",
      "475:\tlearn: 0.9701927\ttotal: 677ms\tremaining: 745ms\n",
      "476:\tlearn: 0.9679412\ttotal: 678ms\tremaining: 743ms\n",
      "477:\tlearn: 0.9668495\ttotal: 679ms\tremaining: 742ms\n",
      "478:\tlearn: 0.9665323\ttotal: 680ms\tremaining: 740ms\n",
      "479:\tlearn: 0.9643057\ttotal: 681ms\tremaining: 738ms\n",
      "480:\tlearn: 0.9628933\ttotal: 683ms\tremaining: 736ms\n",
      "481:\tlearn: 0.9615664\ttotal: 684ms\tremaining: 735ms\n",
      "482:\tlearn: 0.9601277\ttotal: 685ms\tremaining: 733ms\n",
      "483:\tlearn: 0.9582482\ttotal: 686ms\tremaining: 731ms\n",
      "484:\tlearn: 0.9565322\ttotal: 688ms\tremaining: 730ms\n",
      "485:\tlearn: 0.9551008\ttotal: 690ms\tremaining: 729ms\n",
      "486:\tlearn: 0.9530421\ttotal: 691ms\tremaining: 728ms\n",
      "487:\tlearn: 0.9510901\ttotal: 692ms\tremaining: 726ms\n",
      "488:\tlearn: 0.9502122\ttotal: 693ms\tremaining: 724ms\n",
      "489:\tlearn: 0.9483517\ttotal: 694ms\tremaining: 723ms\n",
      "490:\tlearn: 0.9463827\ttotal: 695ms\tremaining: 721ms\n",
      "491:\tlearn: 0.9452436\ttotal: 696ms\tremaining: 719ms\n",
      "492:\tlearn: 0.9433735\ttotal: 698ms\tremaining: 717ms\n",
      "493:\tlearn: 0.9420521\ttotal: 699ms\tremaining: 716ms\n",
      "494:\tlearn: 0.9399387\ttotal: 700ms\tremaining: 714ms\n",
      "495:\tlearn: 0.9389053\ttotal: 701ms\tremaining: 713ms\n",
      "496:\tlearn: 0.9371440\ttotal: 703ms\tremaining: 711ms\n",
      "497:\tlearn: 0.9350917\ttotal: 704ms\tremaining: 710ms\n",
      "498:\tlearn: 0.9348732\ttotal: 705ms\tremaining: 707ms\n",
      "499:\tlearn: 0.9342340\ttotal: 706ms\tremaining: 706ms\n",
      "500:\tlearn: 0.9324763\ttotal: 707ms\tremaining: 704ms\n",
      "501:\tlearn: 0.9315113\ttotal: 708ms\tremaining: 702ms\n",
      "502:\tlearn: 0.9289568\ttotal: 709ms\tremaining: 701ms\n",
      "503:\tlearn: 0.9263445\ttotal: 710ms\tremaining: 699ms\n",
      "504:\tlearn: 0.9240034\ttotal: 712ms\tremaining: 698ms\n",
      "505:\tlearn: 0.9221233\ttotal: 713ms\tremaining: 696ms\n",
      "506:\tlearn: 0.9201283\ttotal: 714ms\tremaining: 694ms\n",
      "507:\tlearn: 0.9192278\ttotal: 715ms\tremaining: 693ms\n",
      "508:\tlearn: 0.9185287\ttotal: 717ms\tremaining: 692ms\n",
      "509:\tlearn: 0.9171771\ttotal: 718ms\tremaining: 690ms\n",
      "510:\tlearn: 0.9155602\ttotal: 719ms\tremaining: 688ms\n",
      "511:\tlearn: 0.9137321\ttotal: 720ms\tremaining: 687ms\n",
      "512:\tlearn: 0.9133016\ttotal: 722ms\tremaining: 685ms\n",
      "513:\tlearn: 0.9131444\ttotal: 723ms\tremaining: 683ms\n",
      "514:\tlearn: 0.9109330\ttotal: 724ms\tremaining: 682ms\n",
      "515:\tlearn: 0.9100125\ttotal: 725ms\tremaining: 680ms\n",
      "516:\tlearn: 0.9096899\ttotal: 726ms\tremaining: 679ms\n",
      "517:\tlearn: 0.9089196\ttotal: 727ms\tremaining: 677ms\n",
      "518:\tlearn: 0.9083258\ttotal: 729ms\tremaining: 675ms\n",
      "519:\tlearn: 0.9066795\ttotal: 730ms\tremaining: 674ms\n",
      "520:\tlearn: 0.9045794\ttotal: 732ms\tremaining: 673ms\n",
      "521:\tlearn: 0.9037492\ttotal: 733ms\tremaining: 671ms\n",
      "522:\tlearn: 0.9014619\ttotal: 734ms\tremaining: 669ms\n",
      "523:\tlearn: 0.8997127\ttotal: 735ms\tremaining: 668ms\n",
      "524:\tlearn: 0.8985178\ttotal: 736ms\tremaining: 666ms\n",
      "525:\tlearn: 0.8966562\ttotal: 737ms\tremaining: 664ms\n",
      "526:\tlearn: 0.8957306\ttotal: 739ms\tremaining: 663ms\n",
      "527:\tlearn: 0.8946193\ttotal: 740ms\tremaining: 661ms\n",
      "528:\tlearn: 0.8929300\ttotal: 741ms\tremaining: 660ms\n",
      "529:\tlearn: 0.8912537\ttotal: 742ms\tremaining: 658ms\n",
      "530:\tlearn: 0.8890738\ttotal: 744ms\tremaining: 657ms\n",
      "531:\tlearn: 0.8877317\ttotal: 745ms\tremaining: 656ms\n",
      "532:\tlearn: 0.8857762\ttotal: 746ms\tremaining: 654ms\n",
      "533:\tlearn: 0.8834318\ttotal: 748ms\tremaining: 652ms\n",
      "534:\tlearn: 0.8812033\ttotal: 749ms\tremaining: 651ms\n",
      "535:\tlearn: 0.8800458\ttotal: 750ms\tremaining: 649ms\n",
      "536:\tlearn: 0.8792154\ttotal: 751ms\tremaining: 648ms\n",
      "537:\tlearn: 0.8771004\ttotal: 752ms\tremaining: 646ms\n",
      "538:\tlearn: 0.8751079\ttotal: 754ms\tremaining: 645ms\n",
      "539:\tlearn: 0.8731798\ttotal: 755ms\tremaining: 643ms\n",
      "540:\tlearn: 0.8710722\ttotal: 757ms\tremaining: 642ms\n",
      "541:\tlearn: 0.8695674\ttotal: 758ms\tremaining: 640ms\n",
      "542:\tlearn: 0.8678230\ttotal: 759ms\tremaining: 639ms\n",
      "543:\tlearn: 0.8660326\ttotal: 760ms\tremaining: 637ms\n",
      "544:\tlearn: 0.8639539\ttotal: 761ms\tremaining: 636ms\n",
      "545:\tlearn: 0.8634771\ttotal: 763ms\tremaining: 634ms\n",
      "546:\tlearn: 0.8625990\ttotal: 764ms\tremaining: 632ms\n",
      "547:\tlearn: 0.8614192\ttotal: 765ms\tremaining: 631ms\n",
      "548:\tlearn: 0.8601002\ttotal: 766ms\tremaining: 629ms\n",
      "549:\tlearn: 0.8586313\ttotal: 767ms\tremaining: 628ms\n",
      "550:\tlearn: 0.8562883\ttotal: 768ms\tremaining: 626ms\n",
      "551:\tlearn: 0.8558820\ttotal: 769ms\tremaining: 624ms\n",
      "552:\tlearn: 0.8529169\ttotal: 771ms\tremaining: 623ms\n",
      "553:\tlearn: 0.8514636\ttotal: 772ms\tremaining: 621ms\n",
      "554:\tlearn: 0.8497416\ttotal: 773ms\tremaining: 620ms\n",
      "555:\tlearn: 0.8478238\ttotal: 774ms\tremaining: 618ms\n",
      "556:\tlearn: 0.8468581\ttotal: 775ms\tremaining: 617ms\n",
      "557:\tlearn: 0.8466319\ttotal: 776ms\tremaining: 615ms\n",
      "558:\tlearn: 0.8449195\ttotal: 777ms\tremaining: 613ms\n",
      "559:\tlearn: 0.8430844\ttotal: 778ms\tremaining: 612ms\n",
      "560:\tlearn: 0.8429382\ttotal: 779ms\tremaining: 610ms\n",
      "561:\tlearn: 0.8414862\ttotal: 781ms\tremaining: 608ms\n",
      "562:\tlearn: 0.8404856\ttotal: 782ms\tremaining: 607ms\n",
      "563:\tlearn: 0.8401412\ttotal: 783ms\tremaining: 605ms\n",
      "564:\tlearn: 0.8377864\ttotal: 784ms\tremaining: 604ms\n",
      "565:\tlearn: 0.8362139\ttotal: 786ms\tremaining: 602ms\n",
      "566:\tlearn: 0.8345078\ttotal: 787ms\tremaining: 601ms\n",
      "567:\tlearn: 0.8328017\ttotal: 789ms\tremaining: 600ms\n",
      "568:\tlearn: 0.8304280\ttotal: 790ms\tremaining: 598ms\n",
      "569:\tlearn: 0.8286029\ttotal: 791ms\tremaining: 597ms\n",
      "570:\tlearn: 0.8270770\ttotal: 792ms\tremaining: 595ms\n",
      "571:\tlearn: 0.8256988\ttotal: 793ms\tremaining: 593ms\n",
      "572:\tlearn: 0.8235768\ttotal: 794ms\tremaining: 592ms\n",
      "573:\tlearn: 0.8226760\ttotal: 795ms\tremaining: 590ms\n",
      "574:\tlearn: 0.8225049\ttotal: 797ms\tremaining: 589ms\n",
      "575:\tlearn: 0.8207945\ttotal: 799ms\tremaining: 588ms\n",
      "576:\tlearn: 0.8194430\ttotal: 800ms\tremaining: 587ms\n",
      "577:\tlearn: 0.8186342\ttotal: 802ms\tremaining: 585ms\n",
      "578:\tlearn: 0.8170653\ttotal: 803ms\tremaining: 584ms\n",
      "579:\tlearn: 0.8153430\ttotal: 804ms\tremaining: 583ms\n",
      "580:\tlearn: 0.8139856\ttotal: 806ms\tremaining: 581ms\n",
      "581:\tlearn: 0.8136074\ttotal: 807ms\tremaining: 579ms\n",
      "582:\tlearn: 0.8123375\ttotal: 808ms\tremaining: 578ms\n",
      "583:\tlearn: 0.8111651\ttotal: 809ms\tremaining: 576ms\n",
      "584:\tlearn: 0.8104718\ttotal: 811ms\tremaining: 575ms\n",
      "585:\tlearn: 0.8089124\ttotal: 812ms\tremaining: 574ms\n",
      "586:\tlearn: 0.8068358\ttotal: 813ms\tremaining: 572ms\n",
      "587:\tlearn: 0.8048216\ttotal: 814ms\tremaining: 570ms\n",
      "588:\tlearn: 0.8032040\ttotal: 815ms\tremaining: 569ms\n",
      "589:\tlearn: 0.8013368\ttotal: 816ms\tremaining: 567ms\n",
      "590:\tlearn: 0.8000699\ttotal: 817ms\tremaining: 566ms\n",
      "591:\tlearn: 0.7984429\ttotal: 818ms\tremaining: 564ms\n",
      "592:\tlearn: 0.7977391\ttotal: 819ms\tremaining: 562ms\n",
      "593:\tlearn: 0.7952474\ttotal: 820ms\tremaining: 561ms\n",
      "594:\tlearn: 0.7934989\ttotal: 821ms\tremaining: 559ms\n",
      "595:\tlearn: 0.7919266\ttotal: 822ms\tremaining: 557ms\n",
      "596:\tlearn: 0.7903775\ttotal: 824ms\tremaining: 556ms\n",
      "597:\tlearn: 0.7887245\ttotal: 826ms\tremaining: 555ms\n",
      "598:\tlearn: 0.7885969\ttotal: 828ms\tremaining: 554ms\n",
      "599:\tlearn: 0.7866902\ttotal: 829ms\tremaining: 553ms\n",
      "600:\tlearn: 0.7855029\ttotal: 830ms\tremaining: 551ms\n",
      "601:\tlearn: 0.7844859\ttotal: 831ms\tremaining: 549ms\n",
      "602:\tlearn: 0.7841470\ttotal: 832ms\tremaining: 548ms\n",
      "603:\tlearn: 0.7820883\ttotal: 833ms\tremaining: 546ms\n",
      "604:\tlearn: 0.7805156\ttotal: 834ms\tremaining: 545ms\n",
      "605:\tlearn: 0.7789528\ttotal: 835ms\tremaining: 543ms\n",
      "606:\tlearn: 0.7778723\ttotal: 836ms\tremaining: 541ms\n",
      "607:\tlearn: 0.7777239\ttotal: 838ms\tremaining: 540ms\n",
      "608:\tlearn: 0.7760874\ttotal: 839ms\tremaining: 539ms\n",
      "609:\tlearn: 0.7750256\ttotal: 840ms\tremaining: 537ms\n",
      "610:\tlearn: 0.7732492\ttotal: 841ms\tremaining: 535ms\n",
      "611:\tlearn: 0.7729284\ttotal: 842ms\tremaining: 534ms\n",
      "612:\tlearn: 0.7719812\ttotal: 843ms\tremaining: 532ms\n",
      "613:\tlearn: 0.7703009\ttotal: 843ms\tremaining: 530ms\n",
      "614:\tlearn: 0.7689221\ttotal: 844ms\tremaining: 529ms\n",
      "615:\tlearn: 0.7670027\ttotal: 845ms\tremaining: 527ms\n",
      "616:\tlearn: 0.7660399\ttotal: 846ms\tremaining: 525ms\n",
      "617:\tlearn: 0.7648549\ttotal: 847ms\tremaining: 524ms\n",
      "618:\tlearn: 0.7638774\ttotal: 848ms\tremaining: 522ms\n",
      "619:\tlearn: 0.7628643\ttotal: 849ms\tremaining: 521ms\n",
      "620:\tlearn: 0.7623366\ttotal: 850ms\tremaining: 519ms\n",
      "621:\tlearn: 0.7610688\ttotal: 852ms\tremaining: 518ms\n",
      "622:\tlearn: 0.7599228\ttotal: 853ms\tremaining: 516ms\n",
      "623:\tlearn: 0.7587058\ttotal: 854ms\tremaining: 514ms\n",
      "624:\tlearn: 0.7577292\ttotal: 855ms\tremaining: 513ms\n",
      "625:\tlearn: 0.7557819\ttotal: 856ms\tremaining: 511ms\n",
      "626:\tlearn: 0.7547177\ttotal: 857ms\tremaining: 510ms\n",
      "627:\tlearn: 0.7529176\ttotal: 858ms\tremaining: 508ms\n",
      "628:\tlearn: 0.7514505\ttotal: 859ms\tremaining: 506ms\n",
      "629:\tlearn: 0.7501495\ttotal: 860ms\tremaining: 505ms\n",
      "630:\tlearn: 0.7490192\ttotal: 860ms\tremaining: 503ms\n",
      "631:\tlearn: 0.7473865\ttotal: 862ms\tremaining: 502ms\n",
      "632:\tlearn: 0.7448947\ttotal: 863ms\tremaining: 500ms\n",
      "633:\tlearn: 0.7431826\ttotal: 864ms\tremaining: 498ms\n",
      "634:\tlearn: 0.7423552\ttotal: 865ms\tremaining: 497ms\n",
      "635:\tlearn: 0.7420593\ttotal: 866ms\tremaining: 496ms\n",
      "636:\tlearn: 0.7406166\ttotal: 867ms\tremaining: 494ms\n",
      "637:\tlearn: 0.7383870\ttotal: 868ms\tremaining: 492ms\n",
      "638:\tlearn: 0.7369483\ttotal: 869ms\tremaining: 491ms\n",
      "639:\tlearn: 0.7356497\ttotal: 870ms\tremaining: 489ms\n",
      "640:\tlearn: 0.7333939\ttotal: 871ms\tremaining: 488ms\n",
      "641:\tlearn: 0.7316035\ttotal: 872ms\tremaining: 486ms\n",
      "642:\tlearn: 0.7309593\ttotal: 873ms\tremaining: 485ms\n",
      "643:\tlearn: 0.7299647\ttotal: 874ms\tremaining: 483ms\n",
      "644:\tlearn: 0.7293059\ttotal: 875ms\tremaining: 482ms\n",
      "645:\tlearn: 0.7281117\ttotal: 876ms\tremaining: 480ms\n",
      "646:\tlearn: 0.7268530\ttotal: 877ms\tremaining: 478ms\n",
      "647:\tlearn: 0.7252193\ttotal: 878ms\tremaining: 477ms\n",
      "648:\tlearn: 0.7249201\ttotal: 879ms\tremaining: 476ms\n",
      "649:\tlearn: 0.7234980\ttotal: 881ms\tremaining: 474ms\n",
      "650:\tlearn: 0.7233860\ttotal: 882ms\tremaining: 473ms\n",
      "651:\tlearn: 0.7219586\ttotal: 883ms\tremaining: 471ms\n",
      "652:\tlearn: 0.7215376\ttotal: 884ms\tremaining: 470ms\n",
      "653:\tlearn: 0.7200853\ttotal: 885ms\tremaining: 468ms\n",
      "654:\tlearn: 0.7189081\ttotal: 886ms\tremaining: 467ms\n",
      "655:\tlearn: 0.7182873\ttotal: 888ms\tremaining: 465ms\n",
      "656:\tlearn: 0.7181633\ttotal: 888ms\tremaining: 464ms\n",
      "657:\tlearn: 0.7167747\ttotal: 889ms\tremaining: 462ms\n",
      "658:\tlearn: 0.7153757\ttotal: 890ms\tremaining: 461ms\n",
      "659:\tlearn: 0.7141700\ttotal: 891ms\tremaining: 459ms\n",
      "660:\tlearn: 0.7131441\ttotal: 893ms\tremaining: 458ms\n",
      "661:\tlearn: 0.7114971\ttotal: 894ms\tremaining: 457ms\n",
      "662:\tlearn: 0.7103785\ttotal: 896ms\tremaining: 456ms\n",
      "663:\tlearn: 0.7091172\ttotal: 897ms\tremaining: 454ms\n",
      "664:\tlearn: 0.7081772\ttotal: 898ms\tremaining: 453ms\n",
      "665:\tlearn: 0.7063222\ttotal: 899ms\tremaining: 451ms\n",
      "666:\tlearn: 0.7049535\ttotal: 901ms\tremaining: 450ms\n",
      "667:\tlearn: 0.7043653\ttotal: 902ms\tremaining: 448ms\n",
      "668:\tlearn: 0.7031060\ttotal: 903ms\tremaining: 447ms\n",
      "669:\tlearn: 0.7021104\ttotal: 904ms\tremaining: 445ms\n",
      "670:\tlearn: 0.7010015\ttotal: 905ms\tremaining: 444ms\n",
      "671:\tlearn: 0.6990405\ttotal: 906ms\tremaining: 442ms\n",
      "672:\tlearn: 0.6976286\ttotal: 908ms\tremaining: 441ms\n",
      "673:\tlearn: 0.6966606\ttotal: 909ms\tremaining: 440ms\n",
      "674:\tlearn: 0.6951603\ttotal: 910ms\tremaining: 438ms\n",
      "675:\tlearn: 0.6942285\ttotal: 911ms\tremaining: 437ms\n",
      "676:\tlearn: 0.6929772\ttotal: 912ms\tremaining: 435ms\n",
      "677:\tlearn: 0.6918262\ttotal: 913ms\tremaining: 434ms\n",
      "678:\tlearn: 0.6898393\ttotal: 914ms\tremaining: 432ms\n",
      "679:\tlearn: 0.6885639\ttotal: 915ms\tremaining: 431ms\n",
      "680:\tlearn: 0.6880017\ttotal: 916ms\tremaining: 429ms\n",
      "681:\tlearn: 0.6868872\ttotal: 917ms\tremaining: 428ms\n",
      "682:\tlearn: 0.6856652\ttotal: 918ms\tremaining: 426ms\n",
      "683:\tlearn: 0.6846845\ttotal: 920ms\tremaining: 425ms\n",
      "684:\tlearn: 0.6828380\ttotal: 922ms\tremaining: 424ms\n",
      "685:\tlearn: 0.6825635\ttotal: 923ms\tremaining: 423ms\n",
      "686:\tlearn: 0.6823507\ttotal: 924ms\tremaining: 421ms\n",
      "687:\tlearn: 0.6813474\ttotal: 925ms\tremaining: 420ms\n",
      "688:\tlearn: 0.6796881\ttotal: 926ms\tremaining: 418ms\n",
      "689:\tlearn: 0.6790349\ttotal: 927ms\tremaining: 417ms\n",
      "690:\tlearn: 0.6782641\ttotal: 928ms\tremaining: 415ms\n",
      "691:\tlearn: 0.6778987\ttotal: 929ms\tremaining: 414ms\n",
      "692:\tlearn: 0.6774098\ttotal: 930ms\tremaining: 412ms\n",
      "693:\tlearn: 0.6762133\ttotal: 931ms\tremaining: 411ms\n",
      "694:\tlearn: 0.6754289\ttotal: 932ms\tremaining: 409ms\n",
      "695:\tlearn: 0.6734885\ttotal: 954ms\tremaining: 417ms\n",
      "696:\tlearn: 0.6726258\ttotal: 961ms\tremaining: 418ms\n",
      "697:\tlearn: 0.6710271\ttotal: 965ms\tremaining: 418ms\n",
      "698:\tlearn: 0.6692882\ttotal: 968ms\tremaining: 417ms\n",
      "699:\tlearn: 0.6684380\ttotal: 971ms\tremaining: 416ms\n",
      "700:\tlearn: 0.6673495\ttotal: 973ms\tremaining: 415ms\n",
      "701:\tlearn: 0.6656340\ttotal: 976ms\tremaining: 414ms\n",
      "702:\tlearn: 0.6646693\ttotal: 979ms\tremaining: 413ms\n",
      "703:\tlearn: 0.6635019\ttotal: 981ms\tremaining: 412ms\n",
      "704:\tlearn: 0.6622847\ttotal: 983ms\tremaining: 411ms\n",
      "705:\tlearn: 0.6607720\ttotal: 985ms\tremaining: 410ms\n",
      "706:\tlearn: 0.6598171\ttotal: 988ms\tremaining: 409ms\n",
      "707:\tlearn: 0.6585035\ttotal: 989ms\tremaining: 408ms\n",
      "708:\tlearn: 0.6573438\ttotal: 991ms\tremaining: 407ms\n",
      "709:\tlearn: 0.6558400\ttotal: 993ms\tremaining: 406ms\n",
      "710:\tlearn: 0.6549109\ttotal: 995ms\tremaining: 404ms\n",
      "711:\tlearn: 0.6536638\ttotal: 996ms\tremaining: 403ms\n",
      "712:\tlearn: 0.6526434\ttotal: 999ms\tremaining: 402ms\n",
      "713:\tlearn: 0.6517814\ttotal: 1000ms\tremaining: 401ms\n",
      "714:\tlearn: 0.6506390\ttotal: 1s\tremaining: 399ms\n",
      "715:\tlearn: 0.6494288\ttotal: 1s\tremaining: 399ms\n",
      "716:\tlearn: 0.6481070\ttotal: 1.01s\tremaining: 397ms\n",
      "717:\tlearn: 0.6477304\ttotal: 1.01s\tremaining: 396ms\n",
      "718:\tlearn: 0.6465815\ttotal: 1.01s\tremaining: 395ms\n",
      "719:\tlearn: 0.6453583\ttotal: 1.01s\tremaining: 393ms\n",
      "720:\tlearn: 0.6439104\ttotal: 1.01s\tremaining: 392ms\n",
      "721:\tlearn: 0.6422752\ttotal: 1.01s\tremaining: 390ms\n",
      "722:\tlearn: 0.6412447\ttotal: 1.01s\tremaining: 389ms\n",
      "723:\tlearn: 0.6403023\ttotal: 1.02s\tremaining: 388ms\n",
      "724:\tlearn: 0.6398293\ttotal: 1.02s\tremaining: 387ms\n",
      "725:\tlearn: 0.6386942\ttotal: 1.02s\tremaining: 385ms\n",
      "726:\tlearn: 0.6373846\ttotal: 1.02s\tremaining: 384ms\n",
      "727:\tlearn: 0.6359739\ttotal: 1.02s\tremaining: 383ms\n",
      "728:\tlearn: 0.6341993\ttotal: 1.03s\tremaining: 382ms\n",
      "729:\tlearn: 0.6330749\ttotal: 1.03s\tremaining: 380ms\n",
      "730:\tlearn: 0.6329811\ttotal: 1.03s\tremaining: 379ms\n",
      "731:\tlearn: 0.6328817\ttotal: 1.03s\tremaining: 378ms\n",
      "732:\tlearn: 0.6314594\ttotal: 1.03s\tremaining: 377ms\n",
      "733:\tlearn: 0.6304963\ttotal: 1.04s\tremaining: 376ms\n",
      "734:\tlearn: 0.6297375\ttotal: 1.04s\tremaining: 375ms\n",
      "735:\tlearn: 0.6290470\ttotal: 1.04s\tremaining: 373ms\n",
      "736:\tlearn: 0.6278640\ttotal: 1.04s\tremaining: 372ms\n",
      "737:\tlearn: 0.6263117\ttotal: 1.04s\tremaining: 371ms\n",
      "738:\tlearn: 0.6254488\ttotal: 1.05s\tremaining: 370ms\n",
      "739:\tlearn: 0.6237983\ttotal: 1.05s\tremaining: 369ms\n",
      "740:\tlearn: 0.6228464\ttotal: 1.05s\tremaining: 368ms\n",
      "741:\tlearn: 0.6216724\ttotal: 1.05s\tremaining: 366ms\n",
      "742:\tlearn: 0.6210026\ttotal: 1.05s\tremaining: 365ms\n",
      "743:\tlearn: 0.6199260\ttotal: 1.06s\tremaining: 363ms\n",
      "744:\tlearn: 0.6194487\ttotal: 1.06s\tremaining: 362ms\n",
      "745:\tlearn: 0.6189549\ttotal: 1.06s\tremaining: 360ms\n",
      "746:\tlearn: 0.6178260\ttotal: 1.06s\tremaining: 359ms\n",
      "747:\tlearn: 0.6168415\ttotal: 1.06s\tremaining: 358ms\n",
      "748:\tlearn: 0.6158703\ttotal: 1.06s\tremaining: 356ms\n",
      "749:\tlearn: 0.6146216\ttotal: 1.06s\tremaining: 355ms\n",
      "750:\tlearn: 0.6142561\ttotal: 1.06s\tremaining: 353ms\n",
      "751:\tlearn: 0.6139345\ttotal: 1.07s\tremaining: 352ms\n",
      "752:\tlearn: 0.6128639\ttotal: 1.08s\tremaining: 353ms\n",
      "753:\tlearn: 0.6113047\ttotal: 1.08s\tremaining: 352ms\n",
      "754:\tlearn: 0.6106052\ttotal: 1.08s\tremaining: 350ms\n",
      "755:\tlearn: 0.6093963\ttotal: 1.08s\tremaining: 349ms\n",
      "756:\tlearn: 0.6086937\ttotal: 1.08s\tremaining: 347ms\n",
      "757:\tlearn: 0.6085909\ttotal: 1.08s\tremaining: 346ms\n",
      "758:\tlearn: 0.6076833\ttotal: 1.08s\tremaining: 345ms\n",
      "759:\tlearn: 0.6071042\ttotal: 1.09s\tremaining: 343ms\n",
      "760:\tlearn: 0.6060717\ttotal: 1.09s\tremaining: 342ms\n",
      "761:\tlearn: 0.6050741\ttotal: 1.09s\tremaining: 340ms\n",
      "762:\tlearn: 0.6041930\ttotal: 1.09s\tremaining: 339ms\n",
      "763:\tlearn: 0.6036732\ttotal: 1.09s\tremaining: 338ms\n",
      "764:\tlearn: 0.6029740\ttotal: 1.09s\tremaining: 336ms\n",
      "765:\tlearn: 0.6021664\ttotal: 1.09s\tremaining: 335ms\n",
      "766:\tlearn: 0.6020982\ttotal: 1.1s\tremaining: 333ms\n",
      "767:\tlearn: 0.6009955\ttotal: 1.1s\tremaining: 332ms\n",
      "768:\tlearn: 0.5999929\ttotal: 1.1s\tremaining: 331ms\n",
      "769:\tlearn: 0.5987766\ttotal: 1.1s\tremaining: 329ms\n",
      "770:\tlearn: 0.5982959\ttotal: 1.1s\tremaining: 328ms\n",
      "771:\tlearn: 0.5980396\ttotal: 1.1s\tremaining: 326ms\n",
      "772:\tlearn: 0.5971712\ttotal: 1.11s\tremaining: 325ms\n",
      "773:\tlearn: 0.5958889\ttotal: 1.11s\tremaining: 324ms\n",
      "774:\tlearn: 0.5958123\ttotal: 1.11s\tremaining: 322ms\n",
      "775:\tlearn: 0.5950542\ttotal: 1.11s\tremaining: 321ms\n",
      "776:\tlearn: 0.5939418\ttotal: 1.11s\tremaining: 319ms\n",
      "777:\tlearn: 0.5933208\ttotal: 1.11s\tremaining: 318ms\n",
      "778:\tlearn: 0.5923710\ttotal: 1.12s\tremaining: 317ms\n",
      "779:\tlearn: 0.5917382\ttotal: 1.12s\tremaining: 316ms\n",
      "780:\tlearn: 0.5910755\ttotal: 1.12s\tremaining: 314ms\n",
      "781:\tlearn: 0.5906422\ttotal: 1.12s\tremaining: 313ms\n",
      "782:\tlearn: 0.5899805\ttotal: 1.12s\tremaining: 312ms\n",
      "783:\tlearn: 0.5890736\ttotal: 1.13s\tremaining: 310ms\n",
      "784:\tlearn: 0.5880180\ttotal: 1.13s\tremaining: 309ms\n",
      "785:\tlearn: 0.5877527\ttotal: 1.13s\tremaining: 308ms\n",
      "786:\tlearn: 0.5876681\ttotal: 1.13s\tremaining: 306ms\n",
      "787:\tlearn: 0.5867280\ttotal: 1.13s\tremaining: 305ms\n",
      "788:\tlearn: 0.5864591\ttotal: 1.13s\tremaining: 304ms\n",
      "789:\tlearn: 0.5855201\ttotal: 1.14s\tremaining: 302ms\n",
      "790:\tlearn: 0.5849070\ttotal: 1.14s\tremaining: 301ms\n",
      "791:\tlearn: 0.5841151\ttotal: 1.14s\tremaining: 299ms\n",
      "792:\tlearn: 0.5831301\ttotal: 1.14s\tremaining: 298ms\n",
      "793:\tlearn: 0.5825989\ttotal: 1.14s\tremaining: 296ms\n",
      "794:\tlearn: 0.5821323\ttotal: 1.14s\tremaining: 294ms\n",
      "795:\tlearn: 0.5818696\ttotal: 1.14s\tremaining: 293ms\n",
      "796:\tlearn: 0.5807330\ttotal: 1.14s\tremaining: 291ms\n",
      "797:\tlearn: 0.5800470\ttotal: 1.14s\tremaining: 290ms\n",
      "798:\tlearn: 0.5792131\ttotal: 1.15s\tremaining: 288ms\n",
      "799:\tlearn: 0.5784493\ttotal: 1.15s\tremaining: 287ms\n",
      "800:\tlearn: 0.5772889\ttotal: 1.15s\tremaining: 285ms\n",
      "801:\tlearn: 0.5760980\ttotal: 1.15s\tremaining: 284ms\n",
      "802:\tlearn: 0.5753660\ttotal: 1.15s\tremaining: 282ms\n",
      "803:\tlearn: 0.5744079\ttotal: 1.15s\tremaining: 280ms\n",
      "804:\tlearn: 0.5737442\ttotal: 1.15s\tremaining: 279ms\n",
      "805:\tlearn: 0.5730436\ttotal: 1.15s\tremaining: 278ms\n",
      "806:\tlearn: 0.5722962\ttotal: 1.15s\tremaining: 276ms\n",
      "807:\tlearn: 0.5710972\ttotal: 1.16s\tremaining: 274ms\n",
      "808:\tlearn: 0.5698254\ttotal: 1.16s\tremaining: 273ms\n",
      "809:\tlearn: 0.5697519\ttotal: 1.16s\tremaining: 271ms\n",
      "810:\tlearn: 0.5689556\ttotal: 1.16s\tremaining: 270ms\n",
      "811:\tlearn: 0.5681151\ttotal: 1.16s\tremaining: 268ms\n",
      "812:\tlearn: 0.5671802\ttotal: 1.16s\tremaining: 267ms\n",
      "813:\tlearn: 0.5667744\ttotal: 1.16s\tremaining: 265ms\n",
      "814:\tlearn: 0.5661992\ttotal: 1.16s\tremaining: 264ms\n",
      "815:\tlearn: 0.5650106\ttotal: 1.16s\tremaining: 262ms\n",
      "816:\tlearn: 0.5642324\ttotal: 1.16s\tremaining: 261ms\n",
      "817:\tlearn: 0.5638975\ttotal: 1.17s\tremaining: 259ms\n",
      "818:\tlearn: 0.5636667\ttotal: 1.17s\tremaining: 258ms\n",
      "819:\tlearn: 0.5627954\ttotal: 1.17s\tremaining: 256ms\n",
      "820:\tlearn: 0.5620264\ttotal: 1.17s\tremaining: 255ms\n",
      "821:\tlearn: 0.5616124\ttotal: 1.17s\tremaining: 253ms\n",
      "822:\tlearn: 0.5610368\ttotal: 1.17s\tremaining: 252ms\n",
      "823:\tlearn: 0.5606768\ttotal: 1.17s\tremaining: 250ms\n",
      "824:\tlearn: 0.5598019\ttotal: 1.17s\tremaining: 249ms\n",
      "825:\tlearn: 0.5582282\ttotal: 1.17s\tremaining: 247ms\n",
      "826:\tlearn: 0.5572793\ttotal: 1.17s\tremaining: 246ms\n",
      "827:\tlearn: 0.5556294\ttotal: 1.18s\tremaining: 244ms\n",
      "828:\tlearn: 0.5549117\ttotal: 1.18s\tremaining: 243ms\n",
      "829:\tlearn: 0.5544091\ttotal: 1.18s\tremaining: 241ms\n",
      "830:\tlearn: 0.5542550\ttotal: 1.18s\tremaining: 240ms\n",
      "831:\tlearn: 0.5536054\ttotal: 1.18s\tremaining: 238ms\n",
      "832:\tlearn: 0.5524749\ttotal: 1.18s\tremaining: 237ms\n",
      "833:\tlearn: 0.5517978\ttotal: 1.18s\tremaining: 235ms\n",
      "834:\tlearn: 0.5510139\ttotal: 1.18s\tremaining: 234ms\n",
      "835:\tlearn: 0.5503549\ttotal: 1.18s\tremaining: 232ms\n",
      "836:\tlearn: 0.5501676\ttotal: 1.18s\tremaining: 231ms\n",
      "837:\tlearn: 0.5491888\ttotal: 1.19s\tremaining: 229ms\n",
      "838:\tlearn: 0.5485009\ttotal: 1.19s\tremaining: 228ms\n",
      "839:\tlearn: 0.5478068\ttotal: 1.19s\tremaining: 226ms\n",
      "840:\tlearn: 0.5468924\ttotal: 1.19s\tremaining: 225ms\n",
      "841:\tlearn: 0.5463963\ttotal: 1.19s\tremaining: 223ms\n",
      "842:\tlearn: 0.5458002\ttotal: 1.19s\tremaining: 222ms\n",
      "843:\tlearn: 0.5455626\ttotal: 1.19s\tremaining: 221ms\n",
      "844:\tlearn: 0.5453210\ttotal: 1.19s\tremaining: 219ms\n",
      "845:\tlearn: 0.5443994\ttotal: 1.2s\tremaining: 218ms\n",
      "846:\tlearn: 0.5433186\ttotal: 1.2s\tremaining: 216ms\n",
      "847:\tlearn: 0.5419827\ttotal: 1.2s\tremaining: 215ms\n",
      "848:\tlearn: 0.5409951\ttotal: 1.2s\tremaining: 213ms\n",
      "849:\tlearn: 0.5407722\ttotal: 1.2s\tremaining: 212ms\n",
      "850:\tlearn: 0.5401247\ttotal: 1.2s\tremaining: 210ms\n",
      "851:\tlearn: 0.5386846\ttotal: 1.2s\tremaining: 209ms\n",
      "852:\tlearn: 0.5385663\ttotal: 1.2s\tremaining: 208ms\n",
      "853:\tlearn: 0.5382989\ttotal: 1.21s\tremaining: 206ms\n",
      "854:\tlearn: 0.5379626\ttotal: 1.21s\tremaining: 205ms\n",
      "855:\tlearn: 0.5373903\ttotal: 1.21s\tremaining: 203ms\n",
      "856:\tlearn: 0.5372098\ttotal: 1.21s\tremaining: 202ms\n",
      "857:\tlearn: 0.5360907\ttotal: 1.21s\tremaining: 200ms\n",
      "858:\tlearn: 0.5352313\ttotal: 1.21s\tremaining: 199ms\n",
      "859:\tlearn: 0.5347719\ttotal: 1.21s\tremaining: 197ms\n",
      "860:\tlearn: 0.5339792\ttotal: 1.21s\tremaining: 196ms\n",
      "861:\tlearn: 0.5334310\ttotal: 1.21s\tremaining: 194ms\n",
      "862:\tlearn: 0.5324512\ttotal: 1.22s\tremaining: 193ms\n",
      "863:\tlearn: 0.5318043\ttotal: 1.22s\tremaining: 192ms\n",
      "864:\tlearn: 0.5311130\ttotal: 1.22s\tremaining: 190ms\n",
      "865:\tlearn: 0.5301510\ttotal: 1.22s\tremaining: 189ms\n",
      "866:\tlearn: 0.5291148\ttotal: 1.22s\tremaining: 187ms\n",
      "867:\tlearn: 0.5286248\ttotal: 1.22s\tremaining: 186ms\n",
      "868:\tlearn: 0.5281006\ttotal: 1.22s\tremaining: 184ms\n",
      "869:\tlearn: 0.5275074\ttotal: 1.22s\tremaining: 183ms\n",
      "870:\tlearn: 0.5265964\ttotal: 1.22s\tremaining: 181ms\n",
      "871:\tlearn: 0.5262835\ttotal: 1.23s\tremaining: 180ms\n",
      "872:\tlearn: 0.5253110\ttotal: 1.23s\tremaining: 178ms\n",
      "873:\tlearn: 0.5242170\ttotal: 1.23s\tremaining: 177ms\n",
      "874:\tlearn: 0.5237050\ttotal: 1.23s\tremaining: 176ms\n",
      "875:\tlearn: 0.5230360\ttotal: 1.23s\tremaining: 174ms\n",
      "876:\tlearn: 0.5223945\ttotal: 1.23s\tremaining: 173ms\n",
      "877:\tlearn: 0.5216802\ttotal: 1.23s\tremaining: 171ms\n",
      "878:\tlearn: 0.5209052\ttotal: 1.23s\tremaining: 170ms\n",
      "879:\tlearn: 0.5196794\ttotal: 1.24s\tremaining: 168ms\n",
      "880:\tlearn: 0.5191335\ttotal: 1.24s\tremaining: 167ms\n",
      "881:\tlearn: 0.5185897\ttotal: 1.24s\tremaining: 166ms\n",
      "882:\tlearn: 0.5182181\ttotal: 1.24s\tremaining: 164ms\n",
      "883:\tlearn: 0.5179042\ttotal: 1.24s\tremaining: 163ms\n",
      "884:\tlearn: 0.5173519\ttotal: 1.24s\tremaining: 161ms\n",
      "885:\tlearn: 0.5163279\ttotal: 1.24s\tremaining: 160ms\n",
      "886:\tlearn: 0.5154455\ttotal: 1.24s\tremaining: 158ms\n",
      "887:\tlearn: 0.5143399\ttotal: 1.24s\tremaining: 157ms\n",
      "888:\tlearn: 0.5141889\ttotal: 1.25s\tremaining: 156ms\n",
      "889:\tlearn: 0.5132234\ttotal: 1.25s\tremaining: 154ms\n",
      "890:\tlearn: 0.5121894\ttotal: 1.25s\tremaining: 153ms\n",
      "891:\tlearn: 0.5114050\ttotal: 1.25s\tremaining: 151ms\n",
      "892:\tlearn: 0.5107029\ttotal: 1.25s\tremaining: 150ms\n",
      "893:\tlearn: 0.5101582\ttotal: 1.25s\tremaining: 148ms\n",
      "894:\tlearn: 0.5097174\ttotal: 1.25s\tremaining: 147ms\n",
      "895:\tlearn: 0.5091465\ttotal: 1.25s\tremaining: 145ms\n",
      "896:\tlearn: 0.5087571\ttotal: 1.25s\tremaining: 144ms\n",
      "897:\tlearn: 0.5082352\ttotal: 1.25s\tremaining: 143ms\n",
      "898:\tlearn: 0.5078704\ttotal: 1.26s\tremaining: 141ms\n",
      "899:\tlearn: 0.5071082\ttotal: 1.26s\tremaining: 140ms\n",
      "900:\tlearn: 0.5062782\ttotal: 1.26s\tremaining: 138ms\n",
      "901:\tlearn: 0.5058897\ttotal: 1.26s\tremaining: 137ms\n",
      "902:\tlearn: 0.5053851\ttotal: 1.26s\tremaining: 136ms\n",
      "903:\tlearn: 0.5048781\ttotal: 1.26s\tremaining: 134ms\n",
      "904:\tlearn: 0.5042953\ttotal: 1.26s\tremaining: 133ms\n",
      "905:\tlearn: 0.5036821\ttotal: 1.26s\tremaining: 131ms\n",
      "906:\tlearn: 0.5032620\ttotal: 1.26s\tremaining: 130ms\n",
      "907:\tlearn: 0.5022726\ttotal: 1.27s\tremaining: 128ms\n",
      "908:\tlearn: 0.5017241\ttotal: 1.27s\tremaining: 127ms\n",
      "909:\tlearn: 0.5014486\ttotal: 1.27s\tremaining: 126ms\n",
      "910:\tlearn: 0.5011638\ttotal: 1.27s\tremaining: 124ms\n",
      "911:\tlearn: 0.5007240\ttotal: 1.27s\tremaining: 123ms\n",
      "912:\tlearn: 0.4997600\ttotal: 1.27s\tremaining: 121ms\n",
      "913:\tlearn: 0.4991435\ttotal: 1.27s\tremaining: 120ms\n",
      "914:\tlearn: 0.4987814\ttotal: 1.28s\tremaining: 119ms\n",
      "915:\tlearn: 0.4982295\ttotal: 1.28s\tremaining: 117ms\n",
      "916:\tlearn: 0.4973332\ttotal: 1.28s\tremaining: 116ms\n",
      "917:\tlearn: 0.4969892\ttotal: 1.28s\tremaining: 114ms\n",
      "918:\tlearn: 0.4962938\ttotal: 1.28s\tremaining: 113ms\n",
      "919:\tlearn: 0.4956751\ttotal: 1.28s\tremaining: 112ms\n",
      "920:\tlearn: 0.4953790\ttotal: 1.28s\tremaining: 110ms\n",
      "921:\tlearn: 0.4946654\ttotal: 1.28s\tremaining: 109ms\n",
      "922:\tlearn: 0.4941740\ttotal: 1.29s\tremaining: 107ms\n",
      "923:\tlearn: 0.4941232\ttotal: 1.29s\tremaining: 106ms\n",
      "924:\tlearn: 0.4932978\ttotal: 1.29s\tremaining: 105ms\n",
      "925:\tlearn: 0.4929895\ttotal: 1.29s\tremaining: 103ms\n",
      "926:\tlearn: 0.4925526\ttotal: 1.29s\tremaining: 102ms\n",
      "927:\tlearn: 0.4918877\ttotal: 1.29s\tremaining: 100ms\n",
      "928:\tlearn: 0.4916244\ttotal: 1.29s\tremaining: 98.8ms\n",
      "929:\tlearn: 0.4910508\ttotal: 1.29s\tremaining: 97.4ms\n",
      "930:\tlearn: 0.4908784\ttotal: 1.3s\tremaining: 96.1ms\n",
      "931:\tlearn: 0.4905950\ttotal: 1.3s\tremaining: 94.7ms\n",
      "932:\tlearn: 0.4894178\ttotal: 1.3s\tremaining: 93.3ms\n",
      "933:\tlearn: 0.4887598\ttotal: 1.3s\tremaining: 91.9ms\n",
      "934:\tlearn: 0.4884373\ttotal: 1.3s\tremaining: 90.4ms\n",
      "935:\tlearn: 0.4880381\ttotal: 1.3s\tremaining: 89ms\n",
      "936:\tlearn: 0.4873847\ttotal: 1.3s\tremaining: 87.6ms\n",
      "937:\tlearn: 0.4860403\ttotal: 1.3s\tremaining: 86.2ms\n",
      "938:\tlearn: 0.4855605\ttotal: 1.3s\tremaining: 84.8ms\n",
      "939:\tlearn: 0.4854451\ttotal: 1.31s\tremaining: 83.4ms\n",
      "940:\tlearn: 0.4844810\ttotal: 1.31s\tremaining: 82ms\n",
      "941:\tlearn: 0.4844420\ttotal: 1.31s\tremaining: 80.7ms\n",
      "942:\tlearn: 0.4839488\ttotal: 1.31s\tremaining: 79.3ms\n",
      "943:\tlearn: 0.4831158\ttotal: 1.31s\tremaining: 77.9ms\n",
      "944:\tlearn: 0.4825031\ttotal: 1.31s\tremaining: 76.5ms\n",
      "945:\tlearn: 0.4819947\ttotal: 1.31s\tremaining: 75.1ms\n",
      "946:\tlearn: 0.4817788\ttotal: 1.32s\tremaining: 73.7ms\n",
      "947:\tlearn: 0.4814777\ttotal: 1.32s\tremaining: 72.3ms\n",
      "948:\tlearn: 0.4806484\ttotal: 1.32s\tremaining: 70.9ms\n",
      "949:\tlearn: 0.4798866\ttotal: 1.32s\tremaining: 69.5ms\n",
      "950:\tlearn: 0.4791135\ttotal: 1.32s\tremaining: 68.2ms\n",
      "951:\tlearn: 0.4787156\ttotal: 1.32s\tremaining: 66.8ms\n",
      "952:\tlearn: 0.4778938\ttotal: 1.33s\tremaining: 65.4ms\n",
      "953:\tlearn: 0.4777392\ttotal: 1.33s\tremaining: 64ms\n",
      "954:\tlearn: 0.4763057\ttotal: 1.33s\tremaining: 62.6ms\n",
      "955:\tlearn: 0.4754381\ttotal: 1.33s\tremaining: 61.2ms\n",
      "956:\tlearn: 0.4750099\ttotal: 1.33s\tremaining: 59.8ms\n",
      "957:\tlearn: 0.4749707\ttotal: 1.33s\tremaining: 58.4ms\n",
      "958:\tlearn: 0.4746724\ttotal: 1.33s\tremaining: 57ms\n",
      "959:\tlearn: 0.4740718\ttotal: 1.33s\tremaining: 55.6ms\n",
      "960:\tlearn: 0.4735880\ttotal: 1.34s\tremaining: 54.2ms\n",
      "961:\tlearn: 0.4729919\ttotal: 1.34s\tremaining: 52.8ms\n",
      "962:\tlearn: 0.4723044\ttotal: 1.34s\tremaining: 51.4ms\n",
      "963:\tlearn: 0.4718584\ttotal: 1.34s\tremaining: 50ms\n",
      "964:\tlearn: 0.4715118\ttotal: 1.34s\tremaining: 48.6ms\n",
      "965:\tlearn: 0.4710212\ttotal: 1.34s\tremaining: 47.3ms\n",
      "966:\tlearn: 0.4705718\ttotal: 1.34s\tremaining: 45.9ms\n",
      "967:\tlearn: 0.4704239\ttotal: 1.34s\tremaining: 44.5ms\n",
      "968:\tlearn: 0.4695272\ttotal: 1.35s\tremaining: 43.1ms\n",
      "969:\tlearn: 0.4686621\ttotal: 1.35s\tremaining: 41.7ms\n",
      "970:\tlearn: 0.4682482\ttotal: 1.35s\tremaining: 40.3ms\n",
      "971:\tlearn: 0.4678905\ttotal: 1.35s\tremaining: 38.9ms\n",
      "972:\tlearn: 0.4677272\ttotal: 1.35s\tremaining: 37.5ms\n",
      "973:\tlearn: 0.4667840\ttotal: 1.35s\tremaining: 36.1ms\n",
      "974:\tlearn: 0.4662065\ttotal: 1.35s\tremaining: 34.7ms\n",
      "975:\tlearn: 0.4656156\ttotal: 1.35s\tremaining: 33.3ms\n",
      "976:\tlearn: 0.4651505\ttotal: 1.35s\tremaining: 31.9ms\n",
      "977:\tlearn: 0.4645098\ttotal: 1.36s\tremaining: 30.5ms\n",
      "978:\tlearn: 0.4638358\ttotal: 1.36s\tremaining: 29.1ms\n",
      "979:\tlearn: 0.4637773\ttotal: 1.36s\tremaining: 27.7ms\n",
      "980:\tlearn: 0.4631289\ttotal: 1.36s\tremaining: 26.4ms\n",
      "981:\tlearn: 0.4627323\ttotal: 1.36s\tremaining: 25ms\n",
      "982:\tlearn: 0.4621850\ttotal: 1.36s\tremaining: 23.6ms\n",
      "983:\tlearn: 0.4617126\ttotal: 1.36s\tremaining: 22.2ms\n",
      "984:\tlearn: 0.4612312\ttotal: 1.36s\tremaining: 20.8ms\n",
      "985:\tlearn: 0.4608638\ttotal: 1.37s\tremaining: 19.4ms\n",
      "986:\tlearn: 0.4604244\ttotal: 1.37s\tremaining: 18ms\n",
      "987:\tlearn: 0.4595296\ttotal: 1.37s\tremaining: 16.6ms\n",
      "988:\tlearn: 0.4585928\ttotal: 1.37s\tremaining: 15.2ms\n",
      "989:\tlearn: 0.4577630\ttotal: 1.37s\tremaining: 13.9ms\n",
      "990:\tlearn: 0.4570635\ttotal: 1.37s\tremaining: 12.5ms\n",
      "991:\tlearn: 0.4563798\ttotal: 1.37s\tremaining: 11.1ms\n",
      "992:\tlearn: 0.4552940\ttotal: 1.38s\tremaining: 9.7ms\n",
      "993:\tlearn: 0.4543464\ttotal: 1.38s\tremaining: 8.31ms\n",
      "994:\tlearn: 0.4539873\ttotal: 1.38s\tremaining: 6.92ms\n",
      "995:\tlearn: 0.4526798\ttotal: 1.38s\tremaining: 5.54ms\n",
      "996:\tlearn: 0.4520038\ttotal: 1.38s\tremaining: 4.15ms\n",
      "997:\tlearn: 0.4516529\ttotal: 1.38s\tremaining: 2.77ms\n",
      "998:\tlearn: 0.4504576\ttotal: 1.38s\tremaining: 1.38ms\n",
      "999:\tlearn: 0.4495005\ttotal: 1.38s\tremaining: 0us\n",
      "Testing performance\n",
      "RMSE: 4.84\n",
      "R2: 0.71\n"
     ]
    }
   ],
   "source": [
    "import catboost as cb\n",
    "from sklearn.metrics import mean_squared_error\n",
    "from sklearn.metrics import r2_score\n",
    "from sklearn.inspection import permutation_importance\n",
    "\n",
    "train_dataset = cb.Pool(X_train, y_train)   ##catboost에 넣을 때 X와 y가 합쳐진 모양으로 넣음\n",
    "test_dataset = cb.Pool(X_test, y_test)    \n",
    "\n",
    "cbreg = cb.CatBoostRegressor(loss_function = 'RMSE')\n",
    "cbreg.fit(X_train, y_train)\n",
    "\n",
    "\n",
    "pred = cbreg.predict(X_test)\n",
    "rmse = (np.sqrt(mean_squared_error(y_test, pred)))\n",
    "r2 = r2_score(y_test, pred)\n",
    "\n",
    "print('Testing performance')\n",
    "print('RMSE: {:.2f}'.format(rmse))\n",
    "print('R2: {:.2f}'.format(r2))"
   ]
  },
  {
   "cell_type": "code",
   "execution_count": 71,
   "metadata": {
    "scrolled": true
   },
   "outputs": [
    {
     "data": {
      "text/plain": [
       "Text(0.5, 0, 'CatBoost Feature Importance')"
      ]
     },
     "execution_count": 71,
     "metadata": {},
     "output_type": "execute_result"
    },
    {
     "data": {
      "image/png": "[encoded data removed]",
      "text/plain": [
       "<Figure size 432x288 with 1 Axes>"
      ]
     },
     "metadata": {
      "needs_background": "light"
     },
     "output_type": "display_data"
    }
   ],
   "source": [
    "## 변수중요도 산출\n",
    "sorted_feature_importance = cbreg.feature_importances_.argsort()\n",
    "plt.barh(X_train.columns[sorted_feature_importance], \n",
    "        cbreg.feature_importances_[sorted_feature_importance], \n",
    "        color='turquoise')\n",
    "plt.xlabel(\"CatBoost Feature Importance\")"
   ]
  },
  {
   "cell_type": "code",
   "execution_count": null,
   "metadata": {},
   "outputs": [],
   "source": [
    "##GridSearch를 사용하고 싶을 때\n",
    "grid = {'iterations':[100.150,200],\n",
    "       'learning_rate':[0.03, 0.1],\n",
    "       'depth': [2,4,6,8],\n",
    "       '12_leaf_reg':[0.2,0.5,1,3]}\n",
    "cbreg.grid_search(grid, train_dataset)"
   ]
  },
  {
   "cell_type": "code",
   "execution_count": 74,
   "metadata": {},
   "outputs": [
    {
     "data": {
      "image/png": "[encoded data removed]",
      "text/plain": [
       "<Figure size 576x482.4 with 2 Axes>"
      ]
     },
     "metadata": {
      "needs_background": "light"
     },
     "output_type": "display_data"
    }
   ],
   "source": [
    "## 변수가 어떻게 영향을 주었는지 해석\n",
    "import shap\n",
    "explainer = shap.TreeExplainer(cbreg)\n",
    "shap_values = explainer.shap_values(X_test)\n",
    "shap.summary_plot(shap_values, X_test, feature_names = X_train.columns[sorted_feature_importance])"
   ]
  },
  {
   "cell_type": "markdown",
   "metadata": {},
   "source": [
    "색깔로 feature value 확인하고 model output에 어떤 영향을 미치고 있는지 체크가능\n",
    "RM의 경우 feature value가 적으면 model의 결과값도 올리는 것을 확인할 수 있음\n",
    "LSTAT은 값이 낮으면 model의 결과값도 낮춤"
   ]
  },
  {
   "cell_type": "markdown",
   "metadata": {},
   "source": [
    "## 앙상블 여러 알고리즘 한번에 성능비교"
   ]
  },
  {
   "cell_type": "code",
   "execution_count": 40,
   "metadata": {
    "scrolled": true
   },
   "outputs": [
    {
     "name": "stdout",
     "output_type": "stream",
     "text": [
      "#####  DecisionTreeRegressor  #####\n",
      " 5 교차 검증의 평균 RMSE : 4.254 \n",
      "#####  RandomForestRegressor  #####\n",
      " 5 교차 검증의 평균 RMSE : 3.373 \n",
      "#####  GradientBoostingRegressor  #####\n",
      " 5 교차 검증의 평균 RMSE : 3.073 \n",
      "#####  XGBRegressor  #####\n",
      " 5 교차 검증의 평균 RMSE : 2.965 \n",
      "#####  LGBMRegressor  #####\n",
      " 5 교차 검증의 평균 RMSE : 3.079 \n"
     ]
    }
   ],
   "source": [
    "# 모델, X, y를 넣고 5 CV 평균 RMSE 계산하는 함수\n",
    "def get_model_cv_prediction(model, X_data, y_target):\n",
    "    neg_mse_scores = cross_val_score(model, X_data, y_target, scoring=\"neg_mean_squared_error\", cv = 5)\n",
    "    rmse_scores  = np.sqrt(-1 * neg_mse_scores)\n",
    "    avg_rmse = np.mean(rmse_scores)\n",
    "    print('##### ',model.__class__.__name__ , ' #####')\n",
    "    print(' 5 교차 검증의 평균 RMSE : {0:.3f} '.format(avg_rmse))\n",
    "    \n",
    "    \n",
    "from sklearn.tree import DecisionTreeRegressor\n",
    "from sklearn.ensemble import GradientBoostingRegressor\n",
    "from xgboost import XGBRegressor\n",
    "from lightgbm import LGBMRegressor\n",
    "from sklearn.model_selection import cross_val_score\n",
    "\n",
    "dt_reg = DecisionTreeRegressor(random_state=0, max_depth=4)\n",
    "rf_reg = RandomForestRegressor(random_state=0, n_estimators=1000)\n",
    "gb_reg = GradientBoostingRegressor(random_state=0, n_estimators=1000)\n",
    "xgb_reg = XGBRegressor(n_estimators=1000)\n",
    "lgb_reg = LGBMRegressor(n_estimators=1000)\n",
    "\n",
    "# 트리 기반의 회귀 모델을 반복하면서 평가 수행 \n",
    "models = [dt_reg, rf_reg, gb_reg, xgb_reg, lgb_reg]\n",
    "for model in models:  \n",
    "    get_model_cv_prediction(model, X_train, y_train)"
   ]
  },
  {
   "cell_type": "markdown",
   "metadata": {},
   "source": [
    "## 혼합모델 (각 모델의 결과를 더하기)\n",
    "- 모델별로 가중치의 기준이 있지는 않음\n",
    "- 개별 모델 중 성능이 더 좋은 쪽에 약간의 가중치를 주는 정도"
   ]
  },
  {
   "cell_type": "code",
   "execution_count": 43,
   "metadata": {},
   "outputs": [],
   "source": [
    "# XGB와 LGB를 섞어보기\n",
    "\n",
    "xgb_reg.fit(X_train, y_train)\n",
    "lgb_reg.fit(X_train, y_train)\n",
    "\n",
    "xgb_pred = xgb_reg.predict(X_test)\n",
    "lgb_pred = lgb_reg.predict(X_test)\n",
    "\n",
    "pred = 0.5 * xgb_pred + 0.5 * lgb_pred"
   ]
  },
  {
   "cell_type": "markdown",
   "metadata": {},
   "source": [
    "# 분류"
   ]
  },
  {
   "cell_type": "markdown",
   "metadata": {},
   "source": [
    "## SVM(Support Vector Machine)\n",
    "- 분류(SVC 사용), 회귀(SVR 사용)<br>\n",
    "※ 아래 내용 정리는 SVC 기준  \n",
    "- 하이퍼파라미터 : 매개변수 C와 gamma. grid search\n",
    "- **SVM의 장점**<br>\n",
    "    - 커널 서포트 벡터 머신은 강력한 모델이며 다양한 데이터셋에서 잘 작동\n",
    "    - SVM은 데이터의 특성이 몇 개 안 되더라도 복잡한 결정 경계를 만들 수 있음\n",
    "    - 저차원과 고차원의 데이터에 모두 잘 작동하지만 **샘플이 많을 때는 잘 맞지 않음**\n",
    "    - 10,000개의 샘플 정도면 SVM 모델이 잘 작동하겠지만 100,000개 이상의 데이터셋에서는 속도와 메모리 관점에서 좋지 않을수도\n",
    "- **SVM의 단점**\n",
    "    - 데이터 전처리와 매개변수 설정에 신경을 많이 써야 함\n",
    "    - 그래서 전처리가 거의 필요 없는 트리 기반 모델(랜덤포레스트,그래디언트부스팅)에 많이 사용함\n",
    "    - 분석하기 어려움 (예측이 어떻게 결정되었는지 알 수 없음)\n",
    "    - but! 모든 특성이 비슷한 단위이고, 스케일이 비슷하다면 SVM을 시도할만 함  \n",
    "  \n",
    "__sklearn의 svm class- SVC__\n",
    "- sklearn.svm.LinearSVC\n",
    "- sklearn.svm.SVC\n",
    "    - gamma 매개변수의 기본값은 'auto'이며, 이 값의 의미는 특성 개수의 역수 1/X_train.shape[1]\n",
    "    - 분류 확률을 구하려면 모델 생성 시 probability = True로 설정해 model.predict_proba로 조회가능\n",
    "- LinearSVC\n",
    "    - SVC에서 kernel = 'linear'인 분류모델\n",
    "    - 손실함수 default는 제곱힌지(squared hinge), C의 default는 1.0\n",
    "    - 선형 계산에 특화되어 있어 SVC를 이용하는 것보다 더 효율적인 성능을 보여줌\n",
    "    - predict_proba 제공하지 않음 (각 클래스에 대한 확률값을 얻으려면 사용자가 소스코드를 구현해야 함)\n",
    "    - 레이블이 3개 이상인 경우 Linear SVC보다는 SVC를 사용하고 probability=True로 설정\n",
    "- SVC vs LinearSVC\n",
    "    - LinearSVC는 SVC보다 많은 샘플 데이터에서 선호된다고 알려짐\n",
    "    - 실제로 샘플의 수가 충분히 크지 않으면, 특징이 아무리 많더라도 SVC를 사용하는 것이 좋은 것으로 확인됨\n",
    "        (출처 : https://m.blog.naver.com/cjh226/221359032956)  \n",
    "\n",
    "- SVC(support vector classifier) class의 파라미터 : kernel(kernel 지정), C(슬랙변수 가중치(slack variable weight)를 선택)<br>\n",
    "    - Kernel 파라미터<br>\n",
    "        - kernel = \"linear\" : 선형 SVM. k(x1,x2)=xT1x2\n",
    "        - kernel = \"poly\" : 다항 커널(Polynomial Kernel). k(x1,x2)=(γ(xT1x2)+θ)d\n",
    "        - kernel = \"rbf\" 또는 kernel = None : RBF(Radial Basis Function) 또는 가우시안 커널(Gaussian Kernel). k(x1,x2)=exp(−γ||x1−x2||2)\n",
    "        - kernel = \"sigmoid\" : 시그모이드 커널(Sigmoid Kernel). k(x1,x2)=tanh(γ(xT1x2)+θ)<br>\n",
    "            - ※ γ(gamma), θ(coef0), d(degree)<br>\n",
    "            - ※ RBF커널이 가장 많이 사용됨<br><br>\n",
    "\n",
    "- 모델 return attribute  \n",
    "    - n_support_: 각 클래스의 서포트의 개수\n",
    "    - support_: 각 클래스의 서포트의 인덱스\n",
    "    - support_vectors_: 각 클래스의 서포트의 x 값. x+와 x−\n",
    "    - coef_: w 벡터\n",
    "    - intercept_: −w0\n",
    "    - dual_coef_: 각 원소가 ai⋅yi로 이루어진 벡터, 서포트 벡터\n",
    "    "
   ]
  },
  {
   "cell_type": "markdown",
   "metadata": {},
   "source": [
    "### 선형 서포트 벡터 머신(LinearSVM)\n",
    "- 데이터를 선형으로 분리하는 최적의 선형 결정 경계를 찾는 알고리즘\n",
    "- 클래스가 다른 데이터들을 **가장 큰 마진(margin)으로 분리**해내는 **선 또는 면(결정 경계)을 찾아내**는 것\n",
    "- **매개변수 : C(Cost)**\n",
    "    - 이상치(outlier)들이 있을 경우 데이터들을 선형적으로 완벽하게 분리하는 것은 불가능하기 때문에, 약간의 오류를 허용하는 전략이 만들어졌고, 이와 관련된 파라미터가 C임  \n",
    "    - C는 얼마나 많은 데이터 샘플이 다른 클래스에 놓이는 것을 허용하는지를 결정함(L2 규제의 강도를 결정)\n",
    "    - C가 작을수록 많이 허용하고, 클수록 규제가 감소하여 적게 허용함\n",
    "    - C가 너무 낮으면 과소적합될 가능성이 커지고, C가 너무 높으면 과대적합될 가능성이 커짐\n",
    "    - C의 유무에 따라 **없으면 hard-margin SVM, 있으면 soft-margin SVM**으로 나뉨  \n",
    "   \n",
    "__SVM은 매개변수 설정과 데이터 스케일에 매우 민감함. 따라서 boxplot등을 그려 특성 간의 크기가 매우 다르다면 MinMaxScaler등을 이용해 Normalization을 해주어야 함__"
   ]
  },
  {
   "cell_type": "code",
   "execution_count": 78,
   "metadata": {
    "scrolled": true
   },
   "outputs": [
    {
     "name": "stdout",
     "output_type": "stream",
     "text": [
      "훈련 세트 정확도: 0.92\n",
      "테스트 세트 정확도: 0.91\n"
     ]
    }
   ],
   "source": [
    "from sklearn.model_selection import train_test_split\n",
    "\n",
    "X_train, X_test, y_train, y_test = train_test_split(\n",
    "    Xc, yc, stratify=yc, random_state=0, test_size=0.2)\n",
    "\n",
    "#default : C=1, kernel='rbf', gamme='auto'(1/n_features)\n",
    "svc = SVC(random_state=0)\n",
    "svc.fit(X_train, y_train)\n",
    "\n",
    "print(\"훈련 세트 정확도: {:.2f}\".format(svc.score(X_train, y_train)))\n",
    "print(\"테스트 세트 정확도: {:.2f}\".format(svc.score(X_test, y_test)))"
   ]
  },
  {
   "cell_type": "code",
   "execution_count": 85,
   "metadata": {
    "scrolled": true
   },
   "outputs": [
    {
     "name": "stdout",
     "output_type": "stream",
     "text": [
      "훈련 세트 정확도: 0.954\n",
      "테스트 세트 정확도: 0.956\n"
     ]
    }
   ],
   "source": [
    "svc = SVC(C=1000)\n",
    "svc.fit(X_train, y_train)\n",
    "\n",
    "print(\"훈련 세트 정확도: {:.3f}\".format(svc.score(X_train, y_train)))\n",
    "print(\"테스트 세트 정확도: {:.3f}\".format(svc.score(X_test, y_test)))"
   ]
  },
  {
   "cell_type": "markdown",
   "metadata": {},
   "source": [
    "### 비선형 SVM 분류"
   ]
  },
  {
   "cell_type": "code",
   "execution_count": 89,
   "metadata": {
    "scrolled": true
   },
   "outputs": [
    {
     "data": {
      "text/plain": [
       "Pipeline(steps=[('poly_features', PolynomialFeatures(degree=3)),\n",
       "                ('scaler', StandardScaler()),\n",
       "                ('svm_clf', LinearSVC(C=10, loss='hinge'))])"
      ]
     },
     "execution_count": 89,
     "metadata": {},
     "output_type": "execute_result"
    }
   ],
   "source": [
    "from sklearn.datasets import make_moons\n",
    "from sklearn.pipeline import Pipeline\n",
    "from sklearn.preprocessing import PolynomialFeatures\n",
    "from sklearn.preprocessing import StandardScaler\n",
    "from sklearn.svm import LinearSVC\n",
    "\n",
    "## 데이터생성\n",
    "X, y = make_moons(n_samples = 100, noise = 0.15)\n",
    "\n",
    "## 비선형 SVM 모델 만들기  (PolyFeatures를 이용해서 feature의 1승, 2승, 3승 데이터를 추가해줌)\n",
    "polynomial_svm_clf = Pipeline([\n",
    "    ('poly_features', PolynomialFeatures(degree = 3)),\n",
    "    ('scaler', StandardScaler()),\n",
    "    ('svm_clf', LinearSVC(C=10, loss = 'hinge'))\n",
    "])\n",
    "\n",
    "polynomial_svm_clf.fit(X, y)"
   ]
  },
  {
   "cell_type": "markdown",
   "metadata": {},
   "source": [
    "## 스태킹앙상블\n",
    "- 기본 데이터를 여러모델에 학습시켜 결과값을 얻는다 (기반모델)\n",
    "- 기반모델에서 예측된 결과값을 학습데이터로 활용하여 최종 예측결과를 만든다 (최종 메타모델)\n",
    "- 스태킹 앙상블은 반드시 개별 모델보다 예측이 향상되지는 않음\n",
    "- 스태킹 앙상블 내에서 예측력을 올리기 위해서는 2~3개 모델이 아니라 많은 개별모델이 필요함"
   ]
  },
  {
   "cell_type": "code",
   "execution_count": 93,
   "metadata": {},
   "outputs": [],
   "source": [
    "from sklearn.neighbors import KNeighborsClassifier\n",
    "from sklearn.ensemble import AdaBoostClassifier\n",
    "from sklearn.ensemble import RandomForestClassifier\n",
    "from sklearn.tree import DecisionTreeClassifier\n",
    "from sklearn.linear_model import LogisticRegression\n",
    "\n",
    "from sklearn.model_selection import train_test_split\n",
    "from sklearn.metrics import accuracy_score\n",
    "\n",
    "X_train, X_test, y_train, y_test = train_test_split(Xc, yc, test_size = 0.2)"
   ]
  },
  {
   "cell_type": "code",
   "execution_count": 94,
   "metadata": {},
   "outputs": [],
   "source": [
    "## 개별 모델 생성하기(모델은 굳이 이래야 할 필요 없고.. 기반모델/최종모델 모두 마음대로 설정가능)\n",
    "knn_clf = KNeighborsClassifier(n_neighbors = 4)\n",
    "rf_clf = RandomForestClassifier(n_estimators = 100, random_state = 0)\n",
    "dt_clf = DecisionTreeClassifier()\n",
    "ada_clf = AdaBoostClassifier(n_estimators = 100)\n",
    "\n",
    "## 개별 모델의 예측 결과를 합한 데이터셋으로 학습하는 최종모델\n",
    "lr_final = LogisticRegression()"
   ]
  },
  {
   "cell_type": "code",
   "execution_count": 95,
   "metadata": {},
   "outputs": [
    {
     "data": {
      "text/plain": [
       "AdaBoostClassifier(n_estimators=100)"
      ]
     },
     "execution_count": 95,
     "metadata": {},
     "output_type": "execute_result"
    }
   ],
   "source": [
    "## 개별 모델 학습시키기 (train 데이터 사용)\n",
    "knn_clf.fit(X_train, y_train)\n",
    "rf_clf.fit(X_train, y_train)\n",
    "dt_clf.fit(X_train, y_train)\n",
    "ada_clf.fit(X_train, y_train)"
   ]
  },
  {
   "cell_type": "code",
   "execution_count": 96,
   "metadata": {},
   "outputs": [],
   "source": [
    "## 학습된 개별 모델이 각자 반환하는 예측 데이터 저장(test 데이터를 사용함)\n",
    "knn_pred = knn_clf.predict(X_test)\n",
    "rf_pred = rf_clf.predict(X_test)\n",
    "dt_pred = dt_clf.predict(X_test)\n",
    "ada_pred = ada_clf.predict(X_test)"
   ]
  },
  {
   "cell_type": "code",
   "execution_count": 101,
   "metadata": {
    "scrolled": true
   },
   "outputs": [
    {
     "name": "stdout",
     "output_type": "stream",
     "text": [
      "(4, 114)\n"
     ]
    }
   ],
   "source": [
    "## 개별 알고리즘의 예측값을 feature로 하는 최종 예측모델 생성\n",
    "pred = np.array([knn_pred, rf_pred, dt_pred, ada_pred])\n",
    "print(pred.shape)"
   ]
  },
  {
   "cell_type": "code",
   "execution_count": 102,
   "metadata": {},
   "outputs": [
    {
     "name": "stdout",
     "output_type": "stream",
     "text": [
      "(114, 4)\n"
     ]
    }
   ],
   "source": [
    "## 각 obs의 예측 결과가 한 개의 row가 될 수 있게 np array를 변경\n",
    "pred = np.transpose(pred)\n",
    "print(pred.shape)"
   ]
  },
  {
   "cell_type": "code",
   "execution_count": 103,
   "metadata": {},
   "outputs": [],
   "source": [
    "## 각 분류기의 예측데이터를 최종모델에 학습시킴\n",
    "lr_final.fit(pred, y_test)\n",
    "final = lr_final.predict(pred)"
   ]
  },
  {
   "cell_type": "code",
   "execution_count": 105,
   "metadata": {
    "scrolled": true
   },
   "outputs": [
    {
     "name": "stdout",
     "output_type": "stream",
     "text": [
      "KNN 정확도: 0.9474\n",
      "랜덤 포레스트 정확도: 0.9561\n",
      "결정트리 정확도: 0.9211\n",
      "에이다부스트 정확도: 0.9912\n",
      "최종 메타 모델 예측 정확도: 0.9737\n"
     ]
    }
   ],
   "source": [
    "## 모델 간의 정확도 비교\n",
    "print('KNN 정확도: {0:.4f}'.format(accuracy_score(y_test, knn_pred)))\n",
    "print('랜덤 포레스트 정확도: {0:.4f}'.format(accuracy_score(y_test, rf_pred)))\n",
    "print('결정트리 정확도: {0:.4f}'.format(accuracy_score(y_test, dt_pred)))\n",
    "print('에이다부스트 정확도: {0:.4f}'.format(accuracy_score(y_test, ada_pred)))\n",
    "print('최종 메타 모델 예측 정확도: {0:.4f}'.format(accuracy_score(y_test, final)))"
   ]
  },
  {
   "cell_type": "markdown",
   "metadata": {},
   "source": [
    "### 참고) CV 기반의 스태킹 앙상블\n",
    "- 앞선 스태킹 앙상블은 기반 모델에서 train set를 쓰고, 최종 메타모델에 들어가는 데이터는 test set을 사용하였음.\n",
    "- 이런 경우 전체 데이터의 일부만을 최종 모델에서 학습하기 때문에 학습 데이터에 손해를 볼 수 밖에 없고, 과적합 이슈가 생길 수 있음\n",
    "- 과적합 이슈를 해결하기 위해 기반 모델에서 Cross validation을 사용해서 결과값을 만든 것을 최종모델에 활용\n",
    "- ex) 개별 모델마다 CV를 이용한 학습모델을 만들고, CV중 한 개 폴드씩 모아서 최종모델의 테스트셋으로 활용함"
   ]
  },
  {
   "cell_type": "code",
   "execution_count": 107,
   "metadata": {},
   "outputs": [],
   "source": [
    "from sklearn.model_selection import KFold\n",
    "from sklearn.metrics import mean_absolute_error\n",
    "\n",
    "# 개별 기반 모델에서 최종 메타 모델이 사용할 학습 및 테스트용 데이터를 생성하기 위한 함수\n",
    "def get_stacking_base_datasets(model, X_train_n, y_train_n, X_test_n, n_folds ):  ## 순서대로 model, train X, train Y, test X, fold 개수 K\n",
    "    # 지정된 n_folds값으로 KFold 생성.\n",
    "    kf = KFold(n_splits=n_folds, shuffle=False) ##주의: random_state 지정하면 오류 나옴\n",
    "\n",
    "    #추후에 메타 모델이 사용할 학습 데이터 반환을 위한 넘파이 배열 초기화 \n",
    "    train_fold_pred = np.zeros((X_train_n.shape[0] ,1 ))\n",
    "    test_pred = np.zeros((X_test_n.shape[0],n_folds))\n",
    "    print(model.__class__.__name__ , ' model 시작 ')\n",
    "    \n",
    "    for folder_counter , (train_index, valid_index) in enumerate(kf.split(X_train_n)):\n",
    "        #입력된 학습 데이터에서 기반 모델이 학습/예측할 폴드 데이터 셋 추출 \n",
    "        print('\\t 폴드 세트: ',folder_counter,' 시작 ')\n",
    "        X_tr = X_train_n[train_index] \n",
    "        y_tr = y_train_n[train_index] \n",
    "        X_te = X_train_n[valid_index]  \n",
    "        \n",
    "        #폴드 세트 내부에서 다시 만들어진 학습 데이터로 기반 모델의 학습 수행.\n",
    "        model.fit(X_tr , y_tr)       \n",
    "        #폴드 세트 내부에서 다시 만들어진 검증 데이터로 기반 모델 예측 후 데이터 저장.\n",
    "        train_fold_pred[valid_index, :] = model.predict(X_te).reshape(-1,1)\n",
    "        #입력된 원본 테스트 데이터를 폴드 세트내 학습된 기반 모델에서 예측 후 데이터 저장. \n",
    "        test_pred[:, folder_counter] = model.predict(X_test_n)\n",
    "            \n",
    "    # 폴드 세트 내에서 원본 테스트 데이터를 예측한 데이터를 평균하여 테스트 데이터로 생성 \n",
    "    test_pred_mean = np.mean(test_pred, axis=1).reshape(-1,1)    \n",
    "    \n",
    "    #train_fold_pred는 최종 메타 모델이 사용하는 학습 데이터, test_pred_mean은 테스트 데이터\n",
    "    return train_fold_pred , test_pred_mean"
   ]
  },
  {
   "cell_type": "code",
   "execution_count": null,
   "metadata": {
    "scrolled": true
   },
   "outputs": [],
   "source": [
    "knn_train, knn_test = get_stacking_base_datasets(knn_clf, X_train, y_train, X_test, 7)\n",
    "rf_train, rf_test = get_stacking_base_datasets(rf_clf, X_train, y_train, X_test, 7)\n",
    "dt_train, dt_test = get_stacking_base_datasets(dt_clf, X_train, y_train, X_test,  7)    \n",
    "ada_train, ada_test = get_stacking_base_datasets(ada_clf, X_train, y_train, X_test, 7)"
   ]
  },
  {
   "cell_type": "code",
   "execution_count": null,
   "metadata": {},
   "outputs": [],
   "source": [
    "## 학습데이터 CV set 합치기\n",
    "Stack_final_X_train = np.concatenate((knn_train, rf_train, dt_train, ada_train), axis=1)\n",
    "Stack_final_X_test = np.concatenate((knn_test, rf_test, dt_test, ada_test), axis=1)\n",
    "\n",
    "print('원본 학습 피처 데이터 Shape:',X_train.shape, '원본 테스트 피처 Shape:',X_test.shape)\n",
    "print('스태킹 학습 피처 데이터 Shape:', Stack_final_X_train.shape,\n",
    "      '스태킹 테스트 피처 데이터 Shape:',Stack_final_X_test.shape)"
   ]
  },
  {
   "cell_type": "code",
   "execution_count": null,
   "metadata": {},
   "outputs": [],
   "source": [
    "lr_final.fit(Stack_final_X_train, y_train)  \n",
    "stack_final = lr_final.predict(Stack_final_X_test)  ## 정확도 확인을 위한 test set\n",
    "\n",
    "print('최종 메타 모델의 예측 정확도: {0:.4f}'.format(accuracy_score(y_test, stack_final)))"
   ]
  },
  {
   "cell_type": "markdown",
   "metadata": {},
   "source": [
    "## GBM Classifier"
   ]
  },
  {
   "cell_type": "code",
   "execution_count": 36,
   "metadata": {},
   "outputs": [
    {
     "ename": "ValueError",
     "evalue": "Unknown label type: 'continuous'",
     "output_type": "error",
     "traceback": [
      "\u001b[1;31m---------------------------------------------------------------------------\u001b[0m",
      "\u001b[1;31mValueError\u001b[0m                                Traceback (most recent call last)",
      "\u001b[1;32m<ipython-input-36-3b9214df4360>\u001b[0m in \u001b[0;36m<module>\u001b[1;34m\u001b[0m\n\u001b[0;32m      7\u001b[0m                                     random_state=0)\n\u001b[0;32m      8\u001b[0m \u001b[1;33m\u001b[0m\u001b[0m\n\u001b[1;32m----> 9\u001b[1;33m \u001b[0mgbmclf\u001b[0m\u001b[1;33m.\u001b[0m\u001b[0mfit\u001b[0m\u001b[1;33m(\u001b[0m\u001b[0mX_train\u001b[0m \u001b[1;33m,\u001b[0m \u001b[0my_train\u001b[0m\u001b[1;33m)\u001b[0m\u001b[1;33m\u001b[0m\u001b[1;33m\u001b[0m\u001b[0m\n\u001b[0m\u001b[0;32m     10\u001b[0m \u001b[0mgbmpred\u001b[0m \u001b[1;33m=\u001b[0m \u001b[0mgbmclf\u001b[0m\u001b[1;33m.\u001b[0m\u001b[0mpredict\u001b[0m\u001b[1;33m(\u001b[0m\u001b[0mX_test\u001b[0m\u001b[1;33m)\u001b[0m\u001b[1;33m\u001b[0m\u001b[1;33m\u001b[0m\u001b[0m\n\u001b[0;32m     11\u001b[0m \u001b[0mgb_accuracy\u001b[0m \u001b[1;33m=\u001b[0m \u001b[0maccuracy_score\u001b[0m\u001b[1;33m(\u001b[0m\u001b[0my_test\u001b[0m\u001b[1;33m,\u001b[0m \u001b[0mgbm_pred\u001b[0m\u001b[1;33m)\u001b[0m\u001b[1;33m\u001b[0m\u001b[1;33m\u001b[0m\u001b[0m\n",
      "\u001b[1;32mg:\\python\\lib\\site-packages\\sklearn\\ensemble\\_gb.py\u001b[0m in \u001b[0;36mfit\u001b[1;34m(self, X, y, sample_weight, monitor)\u001b[0m\n\u001b[0;32m    495\u001b[0m \u001b[1;33m\u001b[0m\u001b[0m\n\u001b[0;32m    496\u001b[0m         \u001b[1;32mif\u001b[0m \u001b[0mis_classifier\u001b[0m\u001b[1;33m(\u001b[0m\u001b[0mself\u001b[0m\u001b[1;33m)\u001b[0m\u001b[1;33m:\u001b[0m\u001b[1;33m\u001b[0m\u001b[1;33m\u001b[0m\u001b[0m\n\u001b[1;32m--> 497\u001b[1;33m             \u001b[0my\u001b[0m \u001b[1;33m=\u001b[0m \u001b[0mself\u001b[0m\u001b[1;33m.\u001b[0m\u001b[0m_validate_y\u001b[0m\u001b[1;33m(\u001b[0m\u001b[0my\u001b[0m\u001b[1;33m,\u001b[0m \u001b[0msample_weight\u001b[0m\u001b[1;33m)\u001b[0m\u001b[1;33m\u001b[0m\u001b[1;33m\u001b[0m\u001b[0m\n\u001b[0m\u001b[0;32m    498\u001b[0m         \u001b[1;32melse\u001b[0m\u001b[1;33m:\u001b[0m\u001b[1;33m\u001b[0m\u001b[1;33m\u001b[0m\u001b[0m\n\u001b[0;32m    499\u001b[0m             \u001b[0my\u001b[0m \u001b[1;33m=\u001b[0m \u001b[0mself\u001b[0m\u001b[1;33m.\u001b[0m\u001b[0m_validate_y\u001b[0m\u001b[1;33m(\u001b[0m\u001b[0my\u001b[0m\u001b[1;33m)\u001b[0m\u001b[1;33m\u001b[0m\u001b[1;33m\u001b[0m\u001b[0m\n",
      "\u001b[1;32mg:\\python\\lib\\site-packages\\sklearn\\ensemble\\_gb.py\u001b[0m in \u001b[0;36m_validate_y\u001b[1;34m(self, y, sample_weight)\u001b[0m\n\u001b[0;32m   1266\u001b[0m \u001b[1;33m\u001b[0m\u001b[0m\n\u001b[0;32m   1267\u001b[0m     \u001b[1;32mdef\u001b[0m \u001b[0m_validate_y\u001b[0m\u001b[1;33m(\u001b[0m\u001b[0mself\u001b[0m\u001b[1;33m,\u001b[0m \u001b[0my\u001b[0m\u001b[1;33m,\u001b[0m \u001b[0msample_weight\u001b[0m\u001b[1;33m)\u001b[0m\u001b[1;33m:\u001b[0m\u001b[1;33m\u001b[0m\u001b[1;33m\u001b[0m\u001b[0m\n\u001b[1;32m-> 1268\u001b[1;33m         \u001b[0mcheck_classification_targets\u001b[0m\u001b[1;33m(\u001b[0m\u001b[0my\u001b[0m\u001b[1;33m)\u001b[0m\u001b[1;33m\u001b[0m\u001b[1;33m\u001b[0m\u001b[0m\n\u001b[0m\u001b[0;32m   1269\u001b[0m         \u001b[0mself\u001b[0m\u001b[1;33m.\u001b[0m\u001b[0mclasses_\u001b[0m\u001b[1;33m,\u001b[0m \u001b[0my\u001b[0m \u001b[1;33m=\u001b[0m \u001b[0mnp\u001b[0m\u001b[1;33m.\u001b[0m\u001b[0munique\u001b[0m\u001b[1;33m(\u001b[0m\u001b[0my\u001b[0m\u001b[1;33m,\u001b[0m \u001b[0mreturn_inverse\u001b[0m\u001b[1;33m=\u001b[0m\u001b[1;32mTrue\u001b[0m\u001b[1;33m)\u001b[0m\u001b[1;33m\u001b[0m\u001b[1;33m\u001b[0m\u001b[0m\n\u001b[0;32m   1270\u001b[0m         \u001b[0mn_trim_classes\u001b[0m \u001b[1;33m=\u001b[0m \u001b[0mnp\u001b[0m\u001b[1;33m.\u001b[0m\u001b[0mcount_nonzero\u001b[0m\u001b[1;33m(\u001b[0m\u001b[0mnp\u001b[0m\u001b[1;33m.\u001b[0m\u001b[0mbincount\u001b[0m\u001b[1;33m(\u001b[0m\u001b[0my\u001b[0m\u001b[1;33m,\u001b[0m \u001b[0msample_weight\u001b[0m\u001b[1;33m)\u001b[0m\u001b[1;33m)\u001b[0m\u001b[1;33m\u001b[0m\u001b[1;33m\u001b[0m\u001b[0m\n",
      "\u001b[1;32mg:\\python\\lib\\site-packages\\sklearn\\utils\\multiclass.py\u001b[0m in \u001b[0;36mcheck_classification_targets\u001b[1;34m(y)\u001b[0m\n\u001b[0;32m    195\u001b[0m         \u001b[1;34m\"multilabel-sequences\"\u001b[0m\u001b[1;33m,\u001b[0m\u001b[1;33m\u001b[0m\u001b[1;33m\u001b[0m\u001b[0m\n\u001b[0;32m    196\u001b[0m     ]:\n\u001b[1;32m--> 197\u001b[1;33m         \u001b[1;32mraise\u001b[0m \u001b[0mValueError\u001b[0m\u001b[1;33m(\u001b[0m\u001b[1;34m\"Unknown label type: %r\"\u001b[0m \u001b[1;33m%\u001b[0m \u001b[0my_type\u001b[0m\u001b[1;33m)\u001b[0m\u001b[1;33m\u001b[0m\u001b[1;33m\u001b[0m\u001b[0m\n\u001b[0m\u001b[0;32m    198\u001b[0m \u001b[1;33m\u001b[0m\u001b[0m\n\u001b[0;32m    199\u001b[0m \u001b[1;33m\u001b[0m\u001b[0m\n",
      "\u001b[1;31mValueError\u001b[0m: Unknown label type: 'continuous'"
     ]
    }
   ],
   "source": [
    "from sklearn.ensemble import GradientBoostingClassifier\n",
    "from sklearn.metrics import accuracy_score\n",
    "\n",
    "gbmclf = GradientBoostingClassifier(n_estimators=10, # 기본값은 100\n",
    "                                    validation_fraction=0.2,\n",
    "                                    n_iter_no_change=5, tol=0.01, verbose = 1,\n",
    "                                    random_state=0)\n",
    "    \n",
    "gbmclf.fit(X_train , y_train)\n",
    "gbmpred = gbmclf.predict(X_test)\n",
    "gb_accuracy = accuracy_score(y_test, gbm_pred)\n",
    "\n",
    "print('GBM 정확도: {0:.4f}'.format(gb_accuracy))"
   ]
  },
  {
   "cell_type": "markdown",
   "metadata": {},
   "source": [
    "## LGBM Classifier"
   ]
  },
  {
   "cell_type": "code",
   "execution_count": null,
   "metadata": {},
   "outputs": [],
   "source": [
    "X_train, X_test, y_train, y_test = train_test_split(ftr, target, test_size = 0.2, random_state = 156)\n",
    "\n",
    "lgbm_wrapper = LGBMClassifier(n_estimators = 400)\n",
    "\n",
    "# 조기 중단 수행\n",
    "evals = [(X_test, y_test)]\n",
    "# eval_metric : 검증에 사용되는 함수 정의, 기본값은 회귀 -> rmse, 분류 -> error, logloss -> Negative log-likelihood\n",
    "lgbm_wrapper.fit(X_train, y_train, early_stopping_rounds = 100, eval_metric = \"logloss\", eval_set = evals, verbose = True)\n",
    "preds = lgbm_wrapper.predict(X_test)"
   ]
  },
  {
   "cell_type": "code",
   "execution_count": null,
   "metadata": {},
   "outputs": [],
   "source": [
    "## 평가함수를 만들어 평가하기\n",
    "from sklearn.metrics import accuracy_score, precision_score, recall_score, confusion_matrix, f1_score\n",
    "\n",
    "def get_clf_eval(y_test, pred) :\n",
    "    confusion = confusion_matrix(y_test, pred)\n",
    "    accuracy = accuracy_score(y_test, pred)\n",
    "    precision = precision_score(y_test, pred)\n",
    "    recall = recall_score(y_test, pred)\n",
    "    f1 = f1_score(y_test, pred)\n",
    "    print('오차 행렬')\n",
    "    print(confusion)\n",
    "    print('정확도 : {0:.4f}, 정밀도 : {1:.4f}, 재현율 : {2:.4f}, F1 : {3:.4f}'.format(accuracy, precision, recall, f1))\n",
    "\n",
    "get_clf_eval(y_test, preds)"
   ]
  },
  {
   "cell_type": "markdown",
   "metadata": {},
   "source": [
    "## CatBoost"
   ]
  },
  {
   "cell_type": "code",
   "execution_count": null,
   "metadata": {},
   "outputs": [],
   "source": [
    "import catboost as cb\n",
    "import time\n",
    "\n",
    "start = time.time() # 시작 시간 지정\n",
    "cb_dtrain = cb.Pool(data = X_train, label = y_train) # 학습 데이터를 Catboost 모델에 맞게 변환\n",
    "cb_param = {'max_depth': 10, # 트리 깊이\n",
    "            'learning_rate': 0.01, # Step Size\n",
    "            'n_estimators': 100, # Number of trees, 트리 생성 개수\n",
    "            'eval_metric': 'Accuracy', # 평가 척도\n",
    "            'loss_function': 'MultiClass'} # 손실 함수, 목적 함수\n",
    "cb_model = cb.train(pool = cb_dtrain, params = cb_param) # 학습 진행\n",
    "cb_model_predict = np.argmax(cb_model.predict(X_test), axis = 1) + 1 # 평가 데이터 예측, Softmax의 결과값 중 가장 큰 값의 Label로 예측, 인덱스의 순서를 맞추기 위해 +1\n",
    "print(\"Accuracy: %.2f\" % (accuracy_score(y_test, cb_model_predict) * 100), \"%\") # 정확도 % 계산\n",
    "print(\"Time: %.2f\" % (time.time() - start), \"seconds\") # 코드 실행 시간 계산"
   ]
  },
  {
   "cell_type": "code",
   "execution_count": null,
   "metadata": {},
   "outputs": [],
   "source": []
  },
  {
   "cell_type": "code",
   "execution_count": null,
   "metadata": {},
   "outputs": [],
   "source": []
  },
  {
   "cell_type": "markdown",
   "metadata": {},
   "source": [
    "# 군집분석"
   ]
  },
  {
   "cell_type": "markdown",
   "metadata": {},
   "source": [
    "## 1. Hierarchical Clustering (계층적 군집분석)\n",
    "- 유클리드 거리를 이용한 군집분석 방법\n",
    "- 덴드로그램\n",
    "    - 표본들이 군을 형성하는 과정을 나타내는 나무 형식의 그림\n",
    "    - 3차원 이상의 군집에서도 dendogram을 통해 직관적인 cluster 형성이 가능하다는 장점이 있다.\n",
    "- 군집화 방식(하이퍼파라미터 method)\n",
    "    - Single : 최단 연결법, 두 군집에 있는 모든 데이터 조합에서 데이터 사이 거리를 측정해서 가장 최소 거리(작은 값)를 기준으로 군집 거리를 측정\n",
    "    - Complete : 최장 연결법으로 두 클러스터상에서 가장 먼 거리를 이용해서 측정하는 방식\n",
    "    - Average : 평균 연결법, 두 군집의 데이터들 간 모든 거리들의 평균을 군집간 거리로 정의 \n",
    "    - Centroid : 두 군집의 중심점(centroid)를 정의한 다음 두 중심점의 거리를 군집간의 거리로 측정\n",
    "    - Ward : 연결될 수 있는 군집 조합을 만들고, 군집 내 편차들의 제곱합을 기준으로 (군집의 평균과 데이터들 사이의 오차 제곱합(SSE)을 측정해) 최소 제곱합을 가지게 되는 군집끼리 연결\n",
    "- 거리계산방법(하이퍼파라미터 metric)\n",
    "    - scipy.spatial.distance.pdist에서 사용가능한 거리계산방법 확인가능\n",
    "    - 'minkowski': $\\left(\\sum_{i=1}^n |x_i-y_i|^p\\right)^{1/p} $, p=1일때 맨하탄거리, p=2일때 유클리드거리와 동일함\n",
    "    - 'cityblock': 맨하탄거리\n",
    "    - 'cosine': 코사인거리\n",
    "    - 'correlation': 상관계수\n",
    "    - 'jaccard': 두 벡터의 값들이 얼마나 불일치하는지 계산한 값"
   ]
  },
  {
   "cell_type": "markdown",
   "metadata": {},
   "source": [
    "Step1. 군집간 거리를 계산할 method를 선택한 후 거리를 계산하기 & 덴드로그램 그리기\n",
    "- scipy.cluster.hierarchy에서 linkage(y, mehod = 'single', metric = 'euclidean', optimal_ordering = False)\n",
    "    - y값: 1-d condensed distance metrix (거리 데이터에서 대각선 상방 값만 존재하는 매트릭스) 또는 관측치의 2d array\n",
    "    - return값: linkage matrix로 인코딩된 클러스터 결과"
   ]
  },
  {
   "cell_type": "code",
   "execution_count": 11,
   "metadata": {
    "scrolled": true
   },
   "outputs": [
    {
     "data": {
      "image/png": "[encoded data removed]",
      "text/plain": [
       "<Figure size 720x504 with 1 Axes>"
      ]
     },
     "metadata": {
      "needs_background": "light"
     },
     "output_type": "display_data"
    }
   ],
   "source": [
    "X = df.drop(['PRICE'], axis = 1)\n",
    "\n",
    "##데이터 스케일에 차이가 많이 나기 때문에 Normalize를 해준다 (흠 )\n",
    "from sklearn.preprocessing import normalize\n",
    "X_scaled = normalize(X)\n",
    "X_scaled = pd.DataFrame(X_scaled, columns = X.columns)\n",
    "\n",
    "import scipy.cluster.hierarchy as shc\n",
    "plt.figure(figsize = (10,7))\n",
    "plt.title('Boston Dendrogram')\n",
    "dend = shc.dendrogram(shc.linkage(X_scaled, method = 'ward'))"
   ]
  },
  {
   "cell_type": "markdown",
   "metadata": {},
   "source": [
    "Step2. 덴드로그램 기준으로 군집을 나눌 개수를 선택하고 각 관측값에 군집번호 부여\n",
    "- scipy.custer.hierarchy에서 cut_tree(Z, [n_clusters, height])  \n",
    "    : 주어진 링키지 매트릭스 Z에서 n_cluster 개수만큼의 군집으로 나누거나, 주어진 height 기준으로 군집을 나눈다 (height로 자르는 것은 ultrametric tree에서만 가능하다)"
   ]
  },
  {
   "cell_type": "code",
   "execution_count": 12,
   "metadata": {},
   "outputs": [
    {
     "data": {
      "text/plain": [
       "<matplotlib.lines.Line2D at 0x26364ce6910>"
      ]
     },
     "execution_count": 12,
     "metadata": {},
     "output_type": "execute_result"
    },
    {
     "data": {
      "image/png": "[encoded data removed]",
      "text/plain": [
       "<Figure size 720x504 with 1 Axes>"
      ]
     },
     "metadata": {
      "needs_background": "light"
     },
     "output_type": "display_data"
    }
   ],
   "source": [
    "## 2개로 나누는 덴드로그램 시각화\n",
    "import scipy.cluster.hierarchy as shc\n",
    "\n",
    "plt.figure(figsize = (10,7))\n",
    "plt.title('Boston Dendrogram')\n",
    "dend = shc.dendrogram(shc.linkage(X_scaled, method = 'ward'))\n",
    "plt.axhline(y=4, color='r', linestyle='--')"
   ]
  },
  {
   "cell_type": "code",
   "execution_count": 14,
   "metadata": {
    "scrolled": false
   },
   "outputs": [
    {
     "data": {
      "text/plain": [
       "array([1, 1, 1, 1, 1, 1, 1, 1, 1, 1, 1, 1, 1, 1, 1, 1, 1, 1, 1, 1, 1, 1,\n",
       "       1, 1, 1, 1, 1, 1, 1, 1, 1, 1, 1, 1, 1, 1, 1, 1, 1, 1, 1, 1, 1, 1,\n",
       "       1, 1, 1, 1, 1, 1, 1, 1, 1, 1, 1, 1, 1, 1, 1, 1, 1, 1, 1, 1, 1, 1,\n",
       "       1, 1, 1, 1, 1, 1, 1, 1, 1, 1, 1, 1, 1, 1, 1, 1, 1, 1, 1, 1, 1, 1,\n",
       "       1, 1, 1, 1, 1, 1, 1, 1, 1, 1, 1, 1, 1, 1, 0, 1, 1, 1, 1, 1, 1, 1,\n",
       "       1, 1, 1, 1, 1, 1, 1, 1, 1, 1, 1, 1, 1, 1, 1, 1, 1, 1, 1, 1, 1, 1,\n",
       "       1, 1, 0, 1, 1, 1, 1, 1, 1, 1, 1, 1, 1, 0, 0, 1, 1, 1, 1, 1, 1, 0,\n",
       "       1, 0, 0, 1, 1, 1, 1, 1, 1, 1, 1, 0, 1, 0, 1, 1, 1, 1, 1, 1, 1, 1,\n",
       "       1, 1, 1, 1, 1, 1, 1, 1, 1, 1, 1, 1, 1, 1, 1, 1, 1, 1, 1, 1, 1, 1,\n",
       "       1, 1, 1, 1, 1, 1, 1, 1, 1, 1, 1, 1, 1, 1, 1, 1, 1, 1, 1, 1, 1, 1,\n",
       "       1, 1, 1, 1, 1, 1, 1, 1, 1, 1, 1, 1, 1, 1, 1, 1, 1, 1, 1, 1, 1, 1,\n",
       "       1, 1, 1, 1, 1, 1, 1, 1, 1, 1, 1, 1, 1, 1, 1, 1, 1, 1, 1, 1, 1, 1,\n",
       "       1, 1, 1, 1, 1, 1, 1, 1, 1, 1, 1, 1, 1, 1, 1, 1, 1, 1, 1, 1, 1, 1,\n",
       "       1, 1, 1, 1, 1, 1, 1, 1, 1, 1, 1, 1, 1, 1, 1, 1, 1, 1, 1, 1, 1, 1,\n",
       "       1, 1, 1, 1, 1, 1, 1, 1, 1, 1, 1, 1, 1, 1, 1, 1, 1, 1, 1, 1, 1, 1,\n",
       "       1, 1, 1, 1, 1, 1, 1, 1, 1, 1, 1, 1, 1, 1, 1, 1, 1, 1, 1, 1, 1, 1,\n",
       "       1, 1, 1, 1, 0, 0, 0, 0, 0, 0, 0, 0, 0, 0, 0, 0, 0, 0, 0, 0, 0, 0,\n",
       "       0, 0, 0, 0, 0, 0, 0, 0, 0, 0, 0, 0, 0, 0, 0, 0, 0, 0, 0, 0, 0, 0,\n",
       "       0, 0, 0, 0, 0, 0, 0, 0, 0, 0, 0, 0, 0, 0, 0, 0, 0, 0, 0, 0, 0, 0,\n",
       "       0, 0, 0, 0, 0, 0, 0, 0, 0, 0, 0, 0, 0, 0, 0, 0, 0, 0, 0, 0, 0, 0,\n",
       "       0, 0, 0, 0, 0, 0, 0, 0, 0, 0, 0, 0, 0, 0, 0, 0, 0, 0, 0, 0, 0, 0,\n",
       "       0, 0, 0, 0, 0, 0, 0, 0, 0, 0, 0, 0, 0, 0, 0, 0, 0, 0, 0, 0, 0, 0,\n",
       "       0, 0, 0, 0, 0, 0, 0, 0, 0, 1, 1, 1, 1, 1, 1, 1, 1, 1, 1, 1, 1, 1],\n",
       "      dtype=int64)"
      ]
     },
     "execution_count": 14,
     "metadata": {},
     "output_type": "execute_result"
    }
   ],
   "source": [
    "from sklearn.cluster import AgglomerativeClustering\n",
    "\n",
    "cluster = AgglomerativeClustering(n_clusters=2, affinity='euclidean', linkage='ward')  \n",
    "cluster.fit_predict(X_scaled)"
   ]
  },
  {
   "cell_type": "code",
   "execution_count": 16,
   "metadata": {},
   "outputs": [
    {
     "data": {
      "text/plain": [
       "<matplotlib.collections.PathCollection at 0x2636510de50>"
      ]
     },
     "execution_count": 16,
     "metadata": {},
     "output_type": "execute_result"
    },
    {
     "data": {
      "image/png": "[encoded data removed]",
      "text/plain": [
       "<Figure size 720x504 with 1 Axes>"
      ]
     },
     "metadata": {
      "needs_background": "light"
     },
     "output_type": "display_data"
    }
   ],
   "source": [
    "## cluster에 미친 두 개 변수의 영향을 알아보기 \n",
    "plt.figure(figsize = (10,7))\n",
    "plt.scatter(X['LSTAT'], X['NOX'], c = cluster.labels_)"
   ]
  },
  {
   "cell_type": "markdown",
   "metadata": {},
   "source": [
    "Step3. 군집개수에 따른 성능 평가 (실루엣계수)\n",
    "- $s(i)\\; = \\; {b(i) - a(i) \\over max{a(i), b(i)}}$ &nbsp; where a(i) = \"데이터포인트 i가 속하지 않은 클러스터C의 데이터 포인트와의 거리평균\"의 최소값\n",
    "- 각 데이터포인트들의 계수 평균이 1에 가까운수록 군집화가 잘 되었다고 본다\n",
    "- 개별 클러스터의 실루엣계수를 구할 수도 있는데, 1에 가까운 실루엣계수 평균을 가지는 클러스터는 'clear-cut', 0에 가까운 클러스터는 'weak' 클러스터로 표현한다"
   ]
  },
  {
   "cell_type": "code",
   "execution_count": 17,
   "metadata": {},
   "outputs": [
    {
     "name": "stdout",
     "output_type": "stream",
     "text": [
      "0.6776072306645798\n"
     ]
    }
   ],
   "source": [
    "from sklearn.metrics import silhouette_samples, silhouette_score\n",
    "print(silhouette_score(X, cluster.labels_))   ## Agrommerative Clustering으로 얻은 clustering label값"
   ]
  },
  {
   "cell_type": "code",
   "execution_count": 19,
   "metadata": {},
   "outputs": [
    {
     "data": {
      "text/html": [
       "<div>\n",
       "<style scoped>\n",
       "    .dataframe tbody tr th:only-of-type {\n",
       "        vertical-align: middle;\n",
       "    }\n",
       "\n",
       "    .dataframe tbody tr th {\n",
       "        vertical-align: top;\n",
       "    }\n",
       "\n",
       "    .dataframe thead th {\n",
       "        text-align: right;\n",
       "    }\n",
       "</style>\n",
       "<table border=\"1\" class=\"dataframe\">\n",
       "  <thead>\n",
       "    <tr style=\"text-align: right;\">\n",
       "      <th></th>\n",
       "      <th>CRIM</th>\n",
       "      <th>ZN</th>\n",
       "      <th>INDUS</th>\n",
       "      <th>CHAS</th>\n",
       "      <th>NOX</th>\n",
       "      <th>RM</th>\n",
       "      <th>AGE</th>\n",
       "      <th>DIS</th>\n",
       "      <th>RAD</th>\n",
       "      <th>TAX</th>\n",
       "      <th>PTRATIO</th>\n",
       "      <th>B</th>\n",
       "      <th>LSTAT</th>\n",
       "      <th>PRICE</th>\n",
       "      <th>silhouette</th>\n",
       "    </tr>\n",
       "  </thead>\n",
       "  <tbody>\n",
       "    <tr>\n",
       "      <th>0</th>\n",
       "      <td>0.00632</td>\n",
       "      <td>18.00000</td>\n",
       "      <td>2.31000</td>\n",
       "      <td>0.00000</td>\n",
       "      <td>0.53800</td>\n",
       "      <td>6.57500</td>\n",
       "      <td>65.20000</td>\n",
       "      <td>4.09000</td>\n",
       "      <td>1.00000</td>\n",
       "      <td>296.00000</td>\n",
       "      <td>15.30000</td>\n",
       "      <td>396.90000</td>\n",
       "      <td>4.98000</td>\n",
       "      <td>24.00000</td>\n",
       "      <td>0.81807</td>\n",
       "    </tr>\n",
       "    <tr>\n",
       "      <th>1</th>\n",
       "      <td>0.02731</td>\n",
       "      <td>0.00000</td>\n",
       "      <td>7.07000</td>\n",
       "      <td>0.00000</td>\n",
       "      <td>0.46900</td>\n",
       "      <td>6.42100</td>\n",
       "      <td>78.90000</td>\n",
       "      <td>4.96710</td>\n",
       "      <td>2.00000</td>\n",
       "      <td>242.00000</td>\n",
       "      <td>17.80000</td>\n",
       "      <td>396.90000</td>\n",
       "      <td>9.14000</td>\n",
       "      <td>21.60000</td>\n",
       "      <td>0.78903</td>\n",
       "    </tr>\n",
       "    <tr>\n",
       "      <th>2</th>\n",
       "      <td>0.02729</td>\n",
       "      <td>0.00000</td>\n",
       "      <td>7.07000</td>\n",
       "      <td>0.00000</td>\n",
       "      <td>0.46900</td>\n",
       "      <td>7.18500</td>\n",
       "      <td>61.10000</td>\n",
       "      <td>4.96710</td>\n",
       "      <td>2.00000</td>\n",
       "      <td>242.00000</td>\n",
       "      <td>17.80000</td>\n",
       "      <td>392.83000</td>\n",
       "      <td>4.03000</td>\n",
       "      <td>34.70000</td>\n",
       "      <td>0.79509</td>\n",
       "    </tr>\n",
       "    <tr>\n",
       "      <th>3</th>\n",
       "      <td>0.03237</td>\n",
       "      <td>0.00000</td>\n",
       "      <td>2.18000</td>\n",
       "      <td>0.00000</td>\n",
       "      <td>0.45800</td>\n",
       "      <td>6.99800</td>\n",
       "      <td>45.80000</td>\n",
       "      <td>6.06220</td>\n",
       "      <td>3.00000</td>\n",
       "      <td>222.00000</td>\n",
       "      <td>18.70000</td>\n",
       "      <td>394.63000</td>\n",
       "      <td>2.94000</td>\n",
       "      <td>33.40000</td>\n",
       "      <td>0.77352</td>\n",
       "    </tr>\n",
       "    <tr>\n",
       "      <th>4</th>\n",
       "      <td>0.06905</td>\n",
       "      <td>0.00000</td>\n",
       "      <td>2.18000</td>\n",
       "      <td>0.00000</td>\n",
       "      <td>0.45800</td>\n",
       "      <td>7.14700</td>\n",
       "      <td>54.20000</td>\n",
       "      <td>6.06220</td>\n",
       "      <td>3.00000</td>\n",
       "      <td>222.00000</td>\n",
       "      <td>18.70000</td>\n",
       "      <td>396.90000</td>\n",
       "      <td>5.33000</td>\n",
       "      <td>36.20000</td>\n",
       "      <td>0.77499</td>\n",
       "    </tr>\n",
       "  </tbody>\n",
       "</table>\n",
       "</div>"
      ],
      "text/plain": [
       "     CRIM       ZN   INDUS    CHAS     NOX      RM      AGE     DIS     RAD  \\\n",
       "0 0.00632 18.00000 2.31000 0.00000 0.53800 6.57500 65.20000 4.09000 1.00000   \n",
       "1 0.02731  0.00000 7.07000 0.00000 0.46900 6.42100 78.90000 4.96710 2.00000   \n",
       "2 0.02729  0.00000 7.07000 0.00000 0.46900 7.18500 61.10000 4.96710 2.00000   \n",
       "3 0.03237  0.00000 2.18000 0.00000 0.45800 6.99800 45.80000 6.06220 3.00000   \n",
       "4 0.06905  0.00000 2.18000 0.00000 0.45800 7.14700 54.20000 6.06220 3.00000   \n",
       "\n",
       "        TAX  PTRATIO         B   LSTAT    PRICE  silhouette  \n",
       "0 296.00000 15.30000 396.90000 4.98000 24.00000     0.81807  \n",
       "1 242.00000 17.80000 396.90000 9.14000 21.60000     0.78903  \n",
       "2 242.00000 17.80000 392.83000 4.03000 34.70000     0.79509  \n",
       "3 222.00000 18.70000 394.63000 2.94000 33.40000     0.77352  \n",
       "4 222.00000 18.70000 396.90000 5.33000 36.20000     0.77499  "
      ]
     },
     "execution_count": 19,
     "metadata": {},
     "output_type": "execute_result"
    }
   ],
   "source": [
    "## 포인트별 실루엣계수 구하기 (이것을 이용해 클러스터별 실루엣 계수도 계산 가능)\n",
    "X['cluster'] = cluster.labels_\n",
    "\n",
    "df['silhouette'] = silhouette_samples(X, cluster.labels_) ## 각 포인트에서의 실루엣계수를 계산한 뒤 array로 반환\n",
    "df.head()"
   ]
  },
  {
   "cell_type": "markdown",
   "metadata": {},
   "source": [
    "## K-Means Clustering (K-평균군집화)\n",
    "- 데이터셋을 k의 군집으로 나눈다. k는 하이퍼파라미터로 사용자가 지정\n",
    "- 군집의 중심이 될 것 같은 임의의 지점(centroid)을 선택해 해당 중심에 가장 가까운 포인트들을 선택하는 기법\n",
    "\n",
    "- 장점\n",
    "    - 일반적인 군집화에서 가장 많이 활용되는 알고리즘\n",
    "    - 알고리즘이 쉽고 간결\n",
    "- 단점\n",
    "    - 거리기반이기 때문에 속성 많을 수록 군집화 정확도 떨어진다 (이를 위해 PCA 해야할 수도 있음)\n",
    "    - 반복횟수가 많을경우 수행 시간 느려짐\n",
    "    - 몇개의 군집(cluster)를 선택해야 할지 사용자가 직접 정해주어야 함\n",
    "      \n",
    "- sklearn.cluster.KMeans(n_cluster = 8, init = 'k-means++', n_init = 10, max_iter = 300, tol = 0.0001, verbose = 0, random_state = None, copy_x = True, algorithm = 'auto')\n",
    "    - n_cluster 군집 중심점의 개수(최종 군집 개수)\n",
    "    - init: 초기에 군집 중심점의 좌표를 설정할 방식, 보통은 k-means++ 방식으로 최초 설정\n",
    "    - n_init: n_init으로 지정된 횟수만큼 초기중심값을 다르게하면서 k-means를 돌리고, 최종적으로는 가장 좋은 결과가 출력됨\n",
    "    - max_iter: 최대 반복 횟수. 이 횟수 이전에 모든 데이터의 중심점 이동이 없으면 종료\n",
    "    \n",
    "- return값\n",
    "    - labels_\n",
    "    - cluster_centers_\n",
    "        - 각 군집 중심점 좌표(변수개수 n차원, 군집개수k개 만큼 출력됨)\n",
    "        - 이를 이용하면 군집 중심점 좌표가 어디인지 시각화 할 수 있음\n",
    "    - feature_names_in: ndarray 형태의 X feature name"
   ]
  },
  {
   "cell_type": "markdown",
   "metadata": {},
   "source": [
    "Step1. Inertia Value를 이용한 적정 군집수 판단\n",
    "- 군집 내 데이터들과 중심간의 거리 합으로 군집 응집도를 나타냄\n",
    "- sklearn KMeans의 return값에서 inertia_ 속성으로 조회 가능\n",
    "- inertia 값이 급격히 떨어지는 지점이 최적 군집수로 판단 가능  \n",
    "    아래 예시에서는 군집 4개 이후로 inertia 값에 거의 변동이 없으므로 군집을 4개로 나눈다"
   ]
  },
  {
   "cell_type": "code",
   "execution_count": 26,
   "metadata": {
    "scrolled": false
   },
   "outputs": [
    {
     "data": {
      "image/png": "[encoded data removed]",
      "text/plain": [
       "<Figure size 432x288 with 1 Axes>"
      ]
     },
     "metadata": {
      "needs_background": "light"
     },
     "output_type": "display_data"
    }
   ],
   "source": [
    "from sklearn.cluster import KMeans\n",
    "\n",
    "distortions = []\n",
    "for i in range(1,11):\n",
    "    kmeans = KMeans(n_clusters=i, init='k-means++', max_iter=300, random_state=0)\n",
    "    kmeans.fit(X_scaled)\n",
    "    distortions.append(kmeans.inertia_)\n",
    "    \n",
    "plt.plot(range(1,11), distortions, marker='o')\n",
    "plt.xlabel('Number of clusters')\n",
    "plt.ylabel('Distortion')\n",
    "plt.show()"
   ]
  },
  {
   "cell_type": "markdown",
   "metadata": {},
   "source": [
    "Step2. 선택한 군집 개수만큼 클러스터링을 수행하기"
   ]
  },
  {
   "cell_type": "code",
   "execution_count": 33,
   "metadata": {
    "collapsed": true
   },
   "outputs": [
    {
     "data": {
      "text/plain": [
       "<function matplotlib.pyplot.scatter(x, y, s=None, c=None, marker=None, cmap=None, norm=None, vmin=None, vmax=None, alpha=None, linewidths=None, verts=<deprecated parameter>, edgecolors=None, *, plotnonfinite=False, data=None, **kwargs)>"
      ]
     },
     "execution_count": 33,
     "metadata": {},
     "output_type": "execute_result"
    }
   ],
   "source": [
    "from sklearn.cluster import KMeans\n",
    "\n",
    "kmeans1 = KMeans(n_clusters=4, init='k-means++', max_iter=300)\n",
    "kmeans1.fit(X_scaled)\n",
    "kemans_labels = kmeans1.fit_predict(X_scaled)\n",
    "\n",
    "plt.scatter"
   ]
  },
  {
   "cell_type": "markdown",
   "metadata": {},
   "source": [
    "Step3. Scatter plot으로 군집이 잘 나누어졌는지 확인한다 (Silhouette는 생략)\n",
    "- 변수의 개수가 많아 Scatter plot을 그리기 어려울 때는 2개 주성분의 Scatter plot을 그려본다"
   ]
  },
  {
   "cell_type": "code",
   "execution_count": 31,
   "metadata": {},
   "outputs": [
    {
     "data": {
      "text/html": [
       "<div>\n",
       "<style scoped>\n",
       "    .dataframe tbody tr th:only-of-type {\n",
       "        vertical-align: middle;\n",
       "    }\n",
       "\n",
       "    .dataframe tbody tr th {\n",
       "        vertical-align: top;\n",
       "    }\n",
       "\n",
       "    .dataframe thead th {\n",
       "        text-align: right;\n",
       "    }\n",
       "</style>\n",
       "<table border=\"1\" class=\"dataframe\">\n",
       "  <thead>\n",
       "    <tr style=\"text-align: right;\">\n",
       "      <th></th>\n",
       "      <th>CRIM</th>\n",
       "      <th>ZN</th>\n",
       "      <th>INDUS</th>\n",
       "      <th>CHAS</th>\n",
       "      <th>NOX</th>\n",
       "      <th>RM</th>\n",
       "      <th>AGE</th>\n",
       "      <th>DIS</th>\n",
       "      <th>RAD</th>\n",
       "      <th>TAX</th>\n",
       "      <th>PTRATIO</th>\n",
       "      <th>B</th>\n",
       "      <th>LSTAT</th>\n",
       "      <th>주성분1</th>\n",
       "      <th>주성분2</th>\n",
       "    </tr>\n",
       "  </thead>\n",
       "  <tbody>\n",
       "    <tr>\n",
       "      <th>0</th>\n",
       "      <td>0.00632</td>\n",
       "      <td>18.00000</td>\n",
       "      <td>2.31000</td>\n",
       "      <td>0.00000</td>\n",
       "      <td>0.53800</td>\n",
       "      <td>6.57500</td>\n",
       "      <td>65.20000</td>\n",
       "      <td>4.09000</td>\n",
       "      <td>1.00000</td>\n",
       "      <td>296.00000</td>\n",
       "      <td>15.30000</td>\n",
       "      <td>396.90000</td>\n",
       "      <td>4.98000</td>\n",
       "      <td>-0.16926</td>\n",
       "      <td>-0.00670</td>\n",
       "    </tr>\n",
       "    <tr>\n",
       "      <th>1</th>\n",
       "      <td>0.02731</td>\n",
       "      <td>0.00000</td>\n",
       "      <td>7.07000</td>\n",
       "      <td>0.00000</td>\n",
       "      <td>0.46900</td>\n",
       "      <td>6.42100</td>\n",
       "      <td>78.90000</td>\n",
       "      <td>4.96710</td>\n",
       "      <td>2.00000</td>\n",
       "      <td>242.00000</td>\n",
       "      <td>17.80000</td>\n",
       "      <td>396.90000</td>\n",
       "      <td>9.14000</td>\n",
       "      <td>-0.24990</td>\n",
       "      <td>-0.06637</td>\n",
       "    </tr>\n",
       "    <tr>\n",
       "      <th>2</th>\n",
       "      <td>0.02729</td>\n",
       "      <td>0.00000</td>\n",
       "      <td>7.07000</td>\n",
       "      <td>0.00000</td>\n",
       "      <td>0.46900</td>\n",
       "      <td>7.18500</td>\n",
       "      <td>61.10000</td>\n",
       "      <td>4.96710</td>\n",
       "      <td>2.00000</td>\n",
       "      <td>242.00000</td>\n",
       "      <td>17.80000</td>\n",
       "      <td>392.83000</td>\n",
       "      <td>4.03000</td>\n",
       "      <td>-0.24892</td>\n",
       "      <td>-0.03739</td>\n",
       "    </tr>\n",
       "    <tr>\n",
       "      <th>3</th>\n",
       "      <td>0.03237</td>\n",
       "      <td>0.00000</td>\n",
       "      <td>2.18000</td>\n",
       "      <td>0.00000</td>\n",
       "      <td>0.45800</td>\n",
       "      <td>6.99800</td>\n",
       "      <td>45.80000</td>\n",
       "      <td>6.06220</td>\n",
       "      <td>3.00000</td>\n",
       "      <td>222.00000</td>\n",
       "      <td>18.70000</td>\n",
       "      <td>394.63000</td>\n",
       "      <td>2.94000</td>\n",
       "      <td>-0.28708</td>\n",
       "      <td>-0.01588</td>\n",
       "    </tr>\n",
       "    <tr>\n",
       "      <th>4</th>\n",
       "      <td>0.06905</td>\n",
       "      <td>0.00000</td>\n",
       "      <td>2.18000</td>\n",
       "      <td>0.00000</td>\n",
       "      <td>0.45800</td>\n",
       "      <td>7.14700</td>\n",
       "      <td>54.20000</td>\n",
       "      <td>6.06220</td>\n",
       "      <td>3.00000</td>\n",
       "      <td>222.00000</td>\n",
       "      <td>18.70000</td>\n",
       "      <td>396.90000</td>\n",
       "      <td>5.33000</td>\n",
       "      <td>-0.28794</td>\n",
       "      <td>-0.03009</td>\n",
       "    </tr>\n",
       "  </tbody>\n",
       "</table>\n",
       "</div>"
      ],
      "text/plain": [
       "     CRIM       ZN   INDUS    CHAS     NOX      RM      AGE     DIS     RAD  \\\n",
       "0 0.00632 18.00000 2.31000 0.00000 0.53800 6.57500 65.20000 4.09000 1.00000   \n",
       "1 0.02731  0.00000 7.07000 0.00000 0.46900 6.42100 78.90000 4.96710 2.00000   \n",
       "2 0.02729  0.00000 7.07000 0.00000 0.46900 7.18500 61.10000 4.96710 2.00000   \n",
       "3 0.03237  0.00000 2.18000 0.00000 0.45800 6.99800 45.80000 6.06220 3.00000   \n",
       "4 0.06905  0.00000 2.18000 0.00000 0.45800 7.14700 54.20000 6.06220 3.00000   \n",
       "\n",
       "        TAX  PTRATIO         B   LSTAT     주성분1     주성분2  \n",
       "0 296.00000 15.30000 396.90000 4.98000 -0.16926 -0.00670  \n",
       "1 242.00000 17.80000 396.90000 9.14000 -0.24990 -0.06637  \n",
       "2 242.00000 17.80000 392.83000 4.03000 -0.24892 -0.03739  \n",
       "3 222.00000 18.70000 394.63000 2.94000 -0.28708 -0.01588  \n",
       "4 222.00000 18.70000 396.90000 5.33000 -0.28794 -0.03009  "
      ]
     },
     "execution_count": 31,
     "metadata": {},
     "output_type": "execute_result"
    }
   ],
   "source": [
    "## 2개 주성분으로 만들고 원데이터에 pca값을 붙이기\n",
    "from sklearn.decomposition import PCA\n",
    "\n",
    "pca = PCA(n_components = 2)\n",
    "pca.fit(X_scaled)\n",
    "boston_pca = pca.transform(X_scaled)\n",
    "\n",
    "boston_pca = pd.DataFrame(boston_pca, columns = ['주성분1', '주성분2'])\n",
    "\n",
    "X = df.drop(columns = ['PRICE', 'silhouette'])\n",
    "X_pca = pd.concat([X, boston_pca], axis = 1)\n",
    "X_pca.head()"
   ]
  },
  {
   "cell_type": "code",
   "execution_count": 38,
   "metadata": {
    "scrolled": true
   },
   "outputs": [
    {
     "data": {
      "image/png": "[encoded data removed]",
      "text/plain": [
       "<Figure size 432x288 with 1 Axes>"
      ]
     },
     "metadata": {
      "needs_background": "light"
     },
     "output_type": "display_data"
    }
   ],
   "source": [
    "X_pca['cluster'] = kmeans1.labels_\n",
    "\n",
    "marker0_ind = X_pca[X_pca['cluster']==0].index\n",
    "marker1_ind = X_pca[X_pca['cluster']==1].index\n",
    "marker2_ind = X_pca[X_pca['cluster']==2].index\n",
    "marker2_ind = X_pca[X_pca['cluster']==3].index\n",
    "\n",
    "plt.scatter(x=X_pca.loc[marker0_ind,'주성분1'], y=X_pca.loc[marker0_ind,'주성분2'],marker='o')\n",
    "plt.scatter(x=X_pca.loc[marker1_ind,'주성분1'], y=X_pca.loc[marker1_ind,'주성분2'],marker='s')\n",
    "plt.scatter(x=X_pca.loc[marker2_ind,'주성분1'], y=X_pca.loc[marker2_ind,'주성분2'],marker='^')\n",
    "\n",
    "plt.xlabel('pca_1')\n",
    "plt.ylabel('pca_2')\n",
    "plt.title('4 Clusters by 2 pca components')\n",
    "plt.show()"
   ]
  },
  {
   "cell_type": "code",
   "execution_count": null,
   "metadata": {},
   "outputs": [],
   "source": [
    "### 분류를 위한 군집인 경우 예측군집 vs 실제y 로 비교 그래프를 그릴 수도 있다\n",
    "f, ax = plt.subplots(1, 2, figsize=(16,8))\n",
    "ax[0].scatter(X_pca['주성분1'], X_pca['주성분2'], c=X_pca.실제y값, cmap='gist_rainbow',edgecolor='k', s=150)\n",
    "ax[1].scatter(X_pca['주성분1'], X_pca['주성분2'], c=kmeans1.labels_, cmap='jet',edgecolor='k', s=150)\n",
    "ax[0].set_xlabel('주성분1', fontsize=18)\n",
    "ax[0].set_ylabel('주성분2', fontsize=18)\n",
    "ax[1].set_xlabel('주성분1', fontsize=18)\n",
    "ax[1].set_ylabel('주성분2', fontsize=18)\n",
    "ax[0].tick_params(direction='in', length=10, width=5, colors='k', labelsize=20)\n",
    "ax[1].tick_params(direction='in', length=10, width=5, colors='k', labelsize=20)\n",
    "ax[0].set_title('Actual', fontsize=18)\n",
    "ax[1].set_title('Predicted', fontsize=18)"
   ]
  },
  {
   "cell_type": "code",
   "execution_count": null,
   "metadata": {},
   "outputs": [],
   "source": []
  }
 ],
 "metadata": {
  "kernelspec": {
   "display_name": "Python 3",
   "language": "python",
   "name": "python3"
  },
  "language_info": {
   "codemirror_mode": {
    "name": "ipython",
    "version": 3
   },
   "file_extension": ".py",
   "mimetype": "text/x-python",
   "name": "python",
   "nbconvert_exporter": "python",
   "pygments_lexer": "ipython3",
   "version": "3.8.5"
  }
 },
 "nbformat": 4,
 "nbformat_minor": 4
}
