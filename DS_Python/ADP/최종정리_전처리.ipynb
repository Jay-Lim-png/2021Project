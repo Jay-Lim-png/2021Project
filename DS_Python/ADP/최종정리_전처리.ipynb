{
 "cells": [
  {
   "cell_type": "markdown",
   "metadata": {},
   "source": [
    "- [샘플링방법](https://academic.naver.com/article.naver?doc_id=638266812)  \n",
    "- [언더샘플링 방법 설명](https://machinelearningmastery.com/undersampling-algorithms-for-imbalanced-classification/)"
   ]
  },
  {
   "cell_type": "code",
   "execution_count": 9,
   "metadata": {},
   "outputs": [],
   "source": [
    "import pandas as pd\n",
    "import numpy as np\n",
    "import seaborn as sns\n",
    "import matplotlib.pyplot as plt\n",
    "\n",
    "import warnings  ##warning sign 출력 무시\n",
    "warnings.filterwarnings(\"ignore\")\n",
    "pd.set_option('display.float_format', lambda x: '%.5f' % x)  ##scientific notation 삭제\n",
    "plt.rcParams['font.family'] = 'Malgun Gothic'  ##한글폰트 설정\n",
    "plt.rcParams['axes.unicode_minus'] = False    ##마이너스기호 깨짐 방지"
   ]
  },
  {
   "cell_type": "code",
   "execution_count": 44,
   "metadata": {
    "scrolled": false
   },
   "outputs": [
    {
     "data": {
      "text/html": [
       "<div>\n",
       "<style scoped>\n",
       "    .dataframe tbody tr th:only-of-type {\n",
       "        vertical-align: middle;\n",
       "    }\n",
       "\n",
       "    .dataframe tbody tr th {\n",
       "        vertical-align: top;\n",
       "    }\n",
       "\n",
       "    .dataframe thead th {\n",
       "        text-align: right;\n",
       "    }\n",
       "</style>\n",
       "<table border=\"1\" class=\"dataframe\">\n",
       "  <thead>\n",
       "    <tr style=\"text-align: right;\">\n",
       "      <th></th>\n",
       "      <th>species</th>\n",
       "      <th>island</th>\n",
       "      <th>bill_length_mm</th>\n",
       "      <th>bill_depth_mm</th>\n",
       "      <th>flipper_length_mm</th>\n",
       "      <th>body_mass_g</th>\n",
       "      <th>sex</th>\n",
       "    </tr>\n",
       "  </thead>\n",
       "  <tbody>\n",
       "    <tr>\n",
       "      <th>0</th>\n",
       "      <td>Adelie</td>\n",
       "      <td>Torgersen</td>\n",
       "      <td>39.10000</td>\n",
       "      <td>18.70000</td>\n",
       "      <td>181.00000</td>\n",
       "      <td>3750.00000</td>\n",
       "      <td>Male</td>\n",
       "    </tr>\n",
       "    <tr>\n",
       "      <th>1</th>\n",
       "      <td>Adelie</td>\n",
       "      <td>Torgersen</td>\n",
       "      <td>39.50000</td>\n",
       "      <td>17.40000</td>\n",
       "      <td>186.00000</td>\n",
       "      <td>3800.00000</td>\n",
       "      <td>Female</td>\n",
       "    </tr>\n",
       "    <tr>\n",
       "      <th>2</th>\n",
       "      <td>Adelie</td>\n",
       "      <td>Torgersen</td>\n",
       "      <td>40.30000</td>\n",
       "      <td>18.00000</td>\n",
       "      <td>195.00000</td>\n",
       "      <td>3250.00000</td>\n",
       "      <td>Female</td>\n",
       "    </tr>\n",
       "    <tr>\n",
       "      <th>3</th>\n",
       "      <td>Adelie</td>\n",
       "      <td>Torgersen</td>\n",
       "      <td>nan</td>\n",
       "      <td>nan</td>\n",
       "      <td>nan</td>\n",
       "      <td>nan</td>\n",
       "      <td>NaN</td>\n",
       "    </tr>\n",
       "    <tr>\n",
       "      <th>4</th>\n",
       "      <td>Adelie</td>\n",
       "      <td>Torgersen</td>\n",
       "      <td>36.70000</td>\n",
       "      <td>19.30000</td>\n",
       "      <td>193.00000</td>\n",
       "      <td>3450.00000</td>\n",
       "      <td>Female</td>\n",
       "    </tr>\n",
       "  </tbody>\n",
       "</table>\n",
       "</div>"
      ],
      "text/plain": [
       "  species     island  bill_length_mm  bill_depth_mm  flipper_length_mm  \\\n",
       "0  Adelie  Torgersen        39.10000       18.70000          181.00000   \n",
       "1  Adelie  Torgersen        39.50000       17.40000          186.00000   \n",
       "2  Adelie  Torgersen        40.30000       18.00000          195.00000   \n",
       "3  Adelie  Torgersen             nan            nan                nan   \n",
       "4  Adelie  Torgersen        36.70000       19.30000          193.00000   \n",
       "\n",
       "   body_mass_g     sex  \n",
       "0   3750.00000    Male  \n",
       "1   3800.00000  Female  \n",
       "2   3250.00000  Female  \n",
       "3          nan     NaN  \n",
       "4   3450.00000  Female  "
      ]
     },
     "execution_count": 44,
     "metadata": {},
     "output_type": "execute_result"
    }
   ],
   "source": [
    "## 사용할 데이터 불러오기 (펭귄 데이터)\n",
    "df = sns.load_dataset(\"penguins\")\n",
    "df.head()"
   ]
  },
  {
   "cell_type": "markdown",
   "metadata": {},
   "source": [
    "# 중복값, 결측값 처리"
   ]
  },
  {
   "cell_type": "markdown",
   "metadata": {},
   "source": [
    "## 중복값 파악하기\n",
    "- df.duplicated(subset = none, keep = 'first/'last'/False) \n",
    "    - subset: 중복값을 확인할 column의 list. 지정하지 않을 시 전체 column을 포함해 중복값을 확인함\n",
    "    - keep: 몇번째 데이터를 제외하고 중복여부를 True로 리턴할지 결정. 'first'는 첫번째 중복값을 제외한 row에 True를 리턴한다. False는 모든 row에 True값 리턴\n",
    "- df.duplicated에서 True값이 나오면 중복된 데이터라는 점을 이용해 중복데이터를 삭제할 수도 있음"
   ]
  },
  {
   "cell_type": "code",
   "execution_count": 3,
   "metadata": {},
   "outputs": [
    {
     "data": {
      "text/html": [
       "<div>\n",
       "<style scoped>\n",
       "    .dataframe tbody tr th:only-of-type {\n",
       "        vertical-align: middle;\n",
       "    }\n",
       "\n",
       "    .dataframe tbody tr th {\n",
       "        vertical-align: top;\n",
       "    }\n",
       "\n",
       "    .dataframe thead th {\n",
       "        text-align: right;\n",
       "    }\n",
       "</style>\n",
       "<table border=\"1\" class=\"dataframe\">\n",
       "  <thead>\n",
       "    <tr style=\"text-align: right;\">\n",
       "      <th></th>\n",
       "      <th>species</th>\n",
       "      <th>island</th>\n",
       "      <th>bill_length_mm</th>\n",
       "      <th>bill_depth_mm</th>\n",
       "      <th>flipper_length_mm</th>\n",
       "      <th>body_mass_g</th>\n",
       "      <th>sex</th>\n",
       "    </tr>\n",
       "  </thead>\n",
       "  <tbody>\n",
       "    <tr>\n",
       "      <th>1</th>\n",
       "      <td>Adelie</td>\n",
       "      <td>Torgersen</td>\n",
       "      <td>39.50000</td>\n",
       "      <td>17.40000</td>\n",
       "      <td>186.00000</td>\n",
       "      <td>3800.00000</td>\n",
       "      <td>Female</td>\n",
       "    </tr>\n",
       "    <tr>\n",
       "      <th>2</th>\n",
       "      <td>Adelie</td>\n",
       "      <td>Torgersen</td>\n",
       "      <td>40.30000</td>\n",
       "      <td>18.00000</td>\n",
       "      <td>195.00000</td>\n",
       "      <td>3250.00000</td>\n",
       "      <td>Female</td>\n",
       "    </tr>\n",
       "    <tr>\n",
       "      <th>3</th>\n",
       "      <td>Adelie</td>\n",
       "      <td>Torgersen</td>\n",
       "      <td>nan</td>\n",
       "      <td>nan</td>\n",
       "      <td>nan</td>\n",
       "      <td>nan</td>\n",
       "      <td>NaN</td>\n",
       "    </tr>\n",
       "    <tr>\n",
       "      <th>4</th>\n",
       "      <td>Adelie</td>\n",
       "      <td>Torgersen</td>\n",
       "      <td>36.70000</td>\n",
       "      <td>19.30000</td>\n",
       "      <td>193.00000</td>\n",
       "      <td>3450.00000</td>\n",
       "      <td>Female</td>\n",
       "    </tr>\n",
       "    <tr>\n",
       "      <th>5</th>\n",
       "      <td>Adelie</td>\n",
       "      <td>Torgersen</td>\n",
       "      <td>39.30000</td>\n",
       "      <td>20.60000</td>\n",
       "      <td>190.00000</td>\n",
       "      <td>3650.00000</td>\n",
       "      <td>Male</td>\n",
       "    </tr>\n",
       "    <tr>\n",
       "      <th>...</th>\n",
       "      <td>...</td>\n",
       "      <td>...</td>\n",
       "      <td>...</td>\n",
       "      <td>...</td>\n",
       "      <td>...</td>\n",
       "      <td>...</td>\n",
       "      <td>...</td>\n",
       "    </tr>\n",
       "    <tr>\n",
       "      <th>339</th>\n",
       "      <td>Gentoo</td>\n",
       "      <td>Biscoe</td>\n",
       "      <td>nan</td>\n",
       "      <td>nan</td>\n",
       "      <td>nan</td>\n",
       "      <td>nan</td>\n",
       "      <td>NaN</td>\n",
       "    </tr>\n",
       "    <tr>\n",
       "      <th>340</th>\n",
       "      <td>Gentoo</td>\n",
       "      <td>Biscoe</td>\n",
       "      <td>46.80000</td>\n",
       "      <td>14.30000</td>\n",
       "      <td>215.00000</td>\n",
       "      <td>4850.00000</td>\n",
       "      <td>Female</td>\n",
       "    </tr>\n",
       "    <tr>\n",
       "      <th>341</th>\n",
       "      <td>Gentoo</td>\n",
       "      <td>Biscoe</td>\n",
       "      <td>50.40000</td>\n",
       "      <td>15.70000</td>\n",
       "      <td>222.00000</td>\n",
       "      <td>5750.00000</td>\n",
       "      <td>Male</td>\n",
       "    </tr>\n",
       "    <tr>\n",
       "      <th>342</th>\n",
       "      <td>Gentoo</td>\n",
       "      <td>Biscoe</td>\n",
       "      <td>45.20000</td>\n",
       "      <td>14.80000</td>\n",
       "      <td>212.00000</td>\n",
       "      <td>5200.00000</td>\n",
       "      <td>Female</td>\n",
       "    </tr>\n",
       "    <tr>\n",
       "      <th>343</th>\n",
       "      <td>Gentoo</td>\n",
       "      <td>Biscoe</td>\n",
       "      <td>49.90000</td>\n",
       "      <td>16.10000</td>\n",
       "      <td>213.00000</td>\n",
       "      <td>5400.00000</td>\n",
       "      <td>Male</td>\n",
       "    </tr>\n",
       "  </tbody>\n",
       "</table>\n",
       "<p>339 rows × 7 columns</p>\n",
       "</div>"
      ],
      "text/plain": [
       "    species     island  bill_length_mm  bill_depth_mm  flipper_length_mm  \\\n",
       "1    Adelie  Torgersen        39.50000       17.40000          186.00000   \n",
       "2    Adelie  Torgersen        40.30000       18.00000          195.00000   \n",
       "3    Adelie  Torgersen             nan            nan                nan   \n",
       "4    Adelie  Torgersen        36.70000       19.30000          193.00000   \n",
       "5    Adelie  Torgersen        39.30000       20.60000          190.00000   \n",
       "..      ...        ...             ...            ...                ...   \n",
       "339  Gentoo     Biscoe             nan            nan                nan   \n",
       "340  Gentoo     Biscoe        46.80000       14.30000          215.00000   \n",
       "341  Gentoo     Biscoe        50.40000       15.70000          222.00000   \n",
       "342  Gentoo     Biscoe        45.20000       14.80000          212.00000   \n",
       "343  Gentoo     Biscoe        49.90000       16.10000          213.00000   \n",
       "\n",
       "     body_mass_g     sex  \n",
       "1     3800.00000  Female  \n",
       "2     3250.00000  Female  \n",
       "3            nan     NaN  \n",
       "4     3450.00000  Female  \n",
       "5     3650.00000    Male  \n",
       "..           ...     ...  \n",
       "339          nan     NaN  \n",
       "340   4850.00000  Female  \n",
       "341   5750.00000    Male  \n",
       "342   5200.00000  Female  \n",
       "343   5400.00000    Male  \n",
       "\n",
       "[339 rows x 7 columns]"
      ]
     },
     "execution_count": 3,
     "metadata": {},
     "output_type": "execute_result"
    }
   ],
   "source": [
    "df[df.duplicated(subset = ['species', 'island'], keep ='first')]"
   ]
  },
  {
   "cell_type": "code",
   "execution_count": 11,
   "metadata": {},
   "outputs": [],
   "source": [
    "ex2 = df[df.duplicated(subset = ['species', 'island'], keep = False)]  ## 중복된 데이터만 저장\n",
    "ex3 = df[~ df.duplicated(subset = ['species', 'island'], keep = 'first')]  ## 중복된 데이터 없이 저장"
   ]
  },
  {
   "cell_type": "markdown",
   "metadata": {},
   "source": [
    "## 결측값 처리"
   ]
  },
  {
   "cell_type": "markdown",
   "metadata": {},
   "source": [
    "### 결측값 파악하기"
   ]
  },
  {
   "cell_type": "code",
   "execution_count": 12,
   "metadata": {
    "scrolled": true
   },
   "outputs": [
    {
     "name": "stdout",
     "output_type": "stream",
     "text": [
      "species               0\n",
      "island                0\n",
      "bill_length_mm        2\n",
      "bill_depth_mm         2\n",
      "flipper_length_mm     2\n",
      "body_mass_g           2\n",
      "sex                  11\n",
      "dtype: int64\n"
     ]
    }
   ],
   "source": [
    "## column별 결측값 개수를 세기\n",
    "print(df.isnull().sum())"
   ]
  },
  {
   "cell_type": "code",
   "execution_count": 13,
   "metadata": {},
   "outputs": [
    {
     "data": {
      "text/plain": [
       "<AxesSubplot:>"
      ]
     },
     "execution_count": 13,
     "metadata": {},
     "output_type": "execute_result"
    },
    {
     "data": {
      "image/png": "[encoded data removed]",
      "text/plain": [
       "<Figure size 432x288 with 1 Axes>"
      ]
     },
     "metadata": {
      "needs_background": "light"
     },
     "output_type": "display_data"
    }
   ],
   "source": [
    "## 결측값이 나타나는 패턴을 시각화하기\n",
    "sns.heatmap(df.isnull(), cbar = False)"
   ]
  },
  {
   "cell_type": "markdown",
   "metadata": {},
   "source": [
    "### 1. 결측값 채우기(보간법)\n",
    "- df[column명].fillna(값) : 모든 결측치를 지정한 값으로 대체\n",
    "- df[column명].fillna(method = 'pad') : 결측치의 바로 직전 값으로 대체함\n",
    "- df[column명].fillna(method = 'bfill') : 결측치의 바로 다음 값으로 대체함"
   ]
  },
  {
   "cell_type": "code",
   "execution_count": 45,
   "metadata": {},
   "outputs": [],
   "source": [
    "## bill_length_mm 컬럼을 평균값으로 대체 (단일값 대체)\n",
    "df['bill_length_mm'].fillna( df['bill_length_mm'].mean() , inplace = True)"
   ]
  },
  {
   "cell_type": "code",
   "execution_count": 12,
   "metadata": {
    "scrolled": true
   },
   "outputs": [
    {
     "name": "stdout",
     "output_type": "stream",
     "text": [
      "species               0\n",
      "island                0\n",
      "bill_length_mm        0\n",
      "bill_depth_mm         2\n",
      "flipper_length_mm     2\n",
      "body_mass_g           2\n",
      "sex                  11\n",
      "dtype: int64\n"
     ]
    }
   ],
   "source": [
    "print(df.isnull().sum())"
   ]
  },
  {
   "cell_type": "markdown",
   "metadata": {},
   "source": [
    "### 2. 결측값 제거\n",
    "- df.dropna 이용"
   ]
  },
  {
   "cell_type": "code",
   "execution_count": 46,
   "metadata": {},
   "outputs": [
    {
     "name": "stdout",
     "output_type": "stream",
     "text": [
      "species              0\n",
      "island               0\n",
      "bill_length_mm       0\n",
      "bill_depth_mm        0\n",
      "flipper_length_mm    0\n",
      "body_mass_g          0\n",
      "sex                  0\n",
      "dtype: int64\n"
     ]
    }
   ],
   "source": [
    "## 결측값을 제거하는 경우\n",
    "df.dropna(subset = ['bill_depth_mm', 'flipper_length_mm', 'body_mass_g','sex'], inplace = True)\n",
    "print(df.isnull().sum())"
   ]
  },
  {
   "cell_type": "markdown",
   "metadata": {},
   "source": [
    "# 이상치 처리\n",
    "- 데이터의 크기가 평균적인 분포에서 너무 멀어질 경우 모델 학습에 왜곡이 생길 수 있음. 따라서 머신러닝 학습을 수행할 때 이상치를 없애거나 다른 값으로 처리하는 작업이 필요함"
   ]
  },
  {
   "cell_type": "markdown",
   "metadata": {},
   "source": [
    "### 1. 표준정규분포를 이용한 이상치 처리\n",
    "- 데이터를 정규분포라고 가정하고, 평균으로부터 $\\pm * n * \\sigma$ 를 벗어나면 아웃라이어로 판단하는 방법\n",
    "- $3\\sigma$가 전체의 99%를 차지하기 때문에 보통 n의 값을 3으로 설정하여 사용함"
   ]
  },
  {
   "cell_type": "code",
   "execution_count": 27,
   "metadata": {
    "scrolled": true
   },
   "outputs": [
    {
     "data": {
      "text/html": [
       "<div>\n",
       "<style scoped>\n",
       "    .dataframe tbody tr th:only-of-type {\n",
       "        vertical-align: middle;\n",
       "    }\n",
       "\n",
       "    .dataframe tbody tr th {\n",
       "        vertical-align: top;\n",
       "    }\n",
       "\n",
       "    .dataframe thead th {\n",
       "        text-align: right;\n",
       "    }\n",
       "</style>\n",
       "<table border=\"1\" class=\"dataframe\">\n",
       "  <thead>\n",
       "    <tr style=\"text-align: right;\">\n",
       "      <th></th>\n",
       "      <th>species</th>\n",
       "      <th>island</th>\n",
       "      <th>bill_length_mm</th>\n",
       "      <th>bill_depth_mm</th>\n",
       "      <th>flipper_length_mm</th>\n",
       "      <th>body_mass_g</th>\n",
       "      <th>sex</th>\n",
       "    </tr>\n",
       "  </thead>\n",
       "  <tbody>\n",
       "    <tr>\n",
       "      <th>338</th>\n",
       "      <td>Gentoo</td>\n",
       "      <td>Biscoe</td>\n",
       "      <td>47.20000</td>\n",
       "      <td>13.70000</td>\n",
       "      <td>214.00000</td>\n",
       "      <td>4925.00000</td>\n",
       "      <td>Female</td>\n",
       "    </tr>\n",
       "    <tr>\n",
       "      <th>340</th>\n",
       "      <td>Gentoo</td>\n",
       "      <td>Biscoe</td>\n",
       "      <td>46.80000</td>\n",
       "      <td>14.30000</td>\n",
       "      <td>215.00000</td>\n",
       "      <td>4850.00000</td>\n",
       "      <td>Female</td>\n",
       "    </tr>\n",
       "    <tr>\n",
       "      <th>341</th>\n",
       "      <td>Gentoo</td>\n",
       "      <td>Biscoe</td>\n",
       "      <td>50.40000</td>\n",
       "      <td>15.70000</td>\n",
       "      <td>222.00000</td>\n",
       "      <td>5750.00000</td>\n",
       "      <td>Male</td>\n",
       "    </tr>\n",
       "    <tr>\n",
       "      <th>342</th>\n",
       "      <td>Gentoo</td>\n",
       "      <td>Biscoe</td>\n",
       "      <td>45.20000</td>\n",
       "      <td>14.80000</td>\n",
       "      <td>212.00000</td>\n",
       "      <td>5200.00000</td>\n",
       "      <td>Female</td>\n",
       "    </tr>\n",
       "    <tr>\n",
       "      <th>343</th>\n",
       "      <td>Gentoo</td>\n",
       "      <td>Biscoe</td>\n",
       "      <td>49.90000</td>\n",
       "      <td>16.10000</td>\n",
       "      <td>213.00000</td>\n",
       "      <td>5400.00000</td>\n",
       "      <td>Male</td>\n",
       "    </tr>\n",
       "  </tbody>\n",
       "</table>\n",
       "</div>"
      ],
      "text/plain": [
       "    species  island  bill_length_mm  bill_depth_mm  flipper_length_mm  \\\n",
       "338  Gentoo  Biscoe        47.20000       13.70000          214.00000   \n",
       "340  Gentoo  Biscoe        46.80000       14.30000          215.00000   \n",
       "341  Gentoo  Biscoe        50.40000       15.70000          222.00000   \n",
       "342  Gentoo  Biscoe        45.20000       14.80000          212.00000   \n",
       "343  Gentoo  Biscoe        49.90000       16.10000          213.00000   \n",
       "\n",
       "     body_mass_g     sex  \n",
       "338   4925.00000  Female  \n",
       "340   4850.00000  Female  \n",
       "341   5750.00000    Male  \n",
       "342   5200.00000  Female  \n",
       "343   5400.00000    Male  "
      ]
     },
     "execution_count": 27,
     "metadata": {},
     "output_type": "execute_result"
    }
   ],
   "source": [
    "z_values = zscore(df[['bill_length_mm', 'bill_depth_mm', 'flipper_length_mm', 'body_mass_g']]) ## 컬럼별 z-score 계산\n",
    "abs_z_values = np.abs(z_values)\n",
    "\n",
    "index_filtered = (abs_z_values < 3).all(axis = 1)  ## z-score의 절대값이 3이하인 데이터의 index만 추출\n",
    "df_filtered = df[index_filtered]                   ## 추출한 index의 데이터프레임만 출력함\n",
    "df_filtered.tail(5)"
   ]
  },
  {
   "cell_type": "markdown",
   "metadata": {},
   "source": [
    "### 2. IQR을 이용한 이상치 처리\n",
    "- IQR(Interquartile Range)은 제1사분위와 3사분위 사이의 범위를 말함\n",
    "- 통상적으로 (Q1/Q3 $\\pm$ IQR * 1.5) 의 구간을 벗어난 값들을 이상치로 간주함"
   ]
  },
  {
   "cell_type": "code",
   "execution_count": 33,
   "metadata": {},
   "outputs": [
    {
     "data": {
      "text/html": [
       "<div>\n",
       "<style scoped>\n",
       "    .dataframe tbody tr th:only-of-type {\n",
       "        vertical-align: middle;\n",
       "    }\n",
       "\n",
       "    .dataframe tbody tr th {\n",
       "        vertical-align: top;\n",
       "    }\n",
       "\n",
       "    .dataframe thead th {\n",
       "        text-align: right;\n",
       "    }\n",
       "</style>\n",
       "<table border=\"1\" class=\"dataframe\">\n",
       "  <thead>\n",
       "    <tr style=\"text-align: right;\">\n",
       "      <th></th>\n",
       "      <th>species</th>\n",
       "      <th>island</th>\n",
       "      <th>bill_length_mm</th>\n",
       "      <th>bill_depth_mm</th>\n",
       "      <th>flipper_length_mm</th>\n",
       "      <th>body_mass_g</th>\n",
       "      <th>sex</th>\n",
       "    </tr>\n",
       "  </thead>\n",
       "  <tbody>\n",
       "    <tr>\n",
       "      <th>0</th>\n",
       "      <td>Adelie</td>\n",
       "      <td>Torgersen</td>\n",
       "      <td>39.10000</td>\n",
       "      <td>18.70000</td>\n",
       "      <td>181.00000</td>\n",
       "      <td>3750.00000</td>\n",
       "      <td>Male</td>\n",
       "    </tr>\n",
       "    <tr>\n",
       "      <th>1</th>\n",
       "      <td>Adelie</td>\n",
       "      <td>Torgersen</td>\n",
       "      <td>39.50000</td>\n",
       "      <td>17.40000</td>\n",
       "      <td>186.00000</td>\n",
       "      <td>3800.00000</td>\n",
       "      <td>Female</td>\n",
       "    </tr>\n",
       "    <tr>\n",
       "      <th>2</th>\n",
       "      <td>Adelie</td>\n",
       "      <td>Torgersen</td>\n",
       "      <td>40.30000</td>\n",
       "      <td>18.00000</td>\n",
       "      <td>195.00000</td>\n",
       "      <td>3250.00000</td>\n",
       "      <td>Female</td>\n",
       "    </tr>\n",
       "    <tr>\n",
       "      <th>4</th>\n",
       "      <td>Adelie</td>\n",
       "      <td>Torgersen</td>\n",
       "      <td>36.70000</td>\n",
       "      <td>19.30000</td>\n",
       "      <td>193.00000</td>\n",
       "      <td>3450.00000</td>\n",
       "      <td>Female</td>\n",
       "    </tr>\n",
       "    <tr>\n",
       "      <th>5</th>\n",
       "      <td>Adelie</td>\n",
       "      <td>Torgersen</td>\n",
       "      <td>39.30000</td>\n",
       "      <td>20.60000</td>\n",
       "      <td>190.00000</td>\n",
       "      <td>3650.00000</td>\n",
       "      <td>Male</td>\n",
       "    </tr>\n",
       "    <tr>\n",
       "      <th>...</th>\n",
       "      <td>...</td>\n",
       "      <td>...</td>\n",
       "      <td>...</td>\n",
       "      <td>...</td>\n",
       "      <td>...</td>\n",
       "      <td>...</td>\n",
       "      <td>...</td>\n",
       "    </tr>\n",
       "    <tr>\n",
       "      <th>338</th>\n",
       "      <td>Gentoo</td>\n",
       "      <td>Biscoe</td>\n",
       "      <td>47.20000</td>\n",
       "      <td>13.70000</td>\n",
       "      <td>214.00000</td>\n",
       "      <td>4925.00000</td>\n",
       "      <td>Female</td>\n",
       "    </tr>\n",
       "    <tr>\n",
       "      <th>340</th>\n",
       "      <td>Gentoo</td>\n",
       "      <td>Biscoe</td>\n",
       "      <td>46.80000</td>\n",
       "      <td>14.30000</td>\n",
       "      <td>215.00000</td>\n",
       "      <td>4850.00000</td>\n",
       "      <td>Female</td>\n",
       "    </tr>\n",
       "    <tr>\n",
       "      <th>341</th>\n",
       "      <td>Gentoo</td>\n",
       "      <td>Biscoe</td>\n",
       "      <td>50.40000</td>\n",
       "      <td>15.70000</td>\n",
       "      <td>222.00000</td>\n",
       "      <td>5750.00000</td>\n",
       "      <td>Male</td>\n",
       "    </tr>\n",
       "    <tr>\n",
       "      <th>342</th>\n",
       "      <td>Gentoo</td>\n",
       "      <td>Biscoe</td>\n",
       "      <td>45.20000</td>\n",
       "      <td>14.80000</td>\n",
       "      <td>212.00000</td>\n",
       "      <td>5200.00000</td>\n",
       "      <td>Female</td>\n",
       "    </tr>\n",
       "    <tr>\n",
       "      <th>343</th>\n",
       "      <td>Gentoo</td>\n",
       "      <td>Biscoe</td>\n",
       "      <td>49.90000</td>\n",
       "      <td>16.10000</td>\n",
       "      <td>213.00000</td>\n",
       "      <td>5400.00000</td>\n",
       "      <td>Male</td>\n",
       "    </tr>\n",
       "  </tbody>\n",
       "</table>\n",
       "<p>333 rows × 7 columns</p>\n",
       "</div>"
      ],
      "text/plain": [
       "    species     island  bill_length_mm  bill_depth_mm  flipper_length_mm  \\\n",
       "0    Adelie  Torgersen        39.10000       18.70000          181.00000   \n",
       "1    Adelie  Torgersen        39.50000       17.40000          186.00000   \n",
       "2    Adelie  Torgersen        40.30000       18.00000          195.00000   \n",
       "4    Adelie  Torgersen        36.70000       19.30000          193.00000   \n",
       "5    Adelie  Torgersen        39.30000       20.60000          190.00000   \n",
       "..      ...        ...             ...            ...                ...   \n",
       "338  Gentoo     Biscoe        47.20000       13.70000          214.00000   \n",
       "340  Gentoo     Biscoe        46.80000       14.30000          215.00000   \n",
       "341  Gentoo     Biscoe        50.40000       15.70000          222.00000   \n",
       "342  Gentoo     Biscoe        45.20000       14.80000          212.00000   \n",
       "343  Gentoo     Biscoe        49.90000       16.10000          213.00000   \n",
       "\n",
       "     body_mass_g     sex  \n",
       "0     3750.00000    Male  \n",
       "1     3800.00000  Female  \n",
       "2     3250.00000  Female  \n",
       "4     3450.00000  Female  \n",
       "5     3650.00000    Male  \n",
       "..           ...     ...  \n",
       "338   4925.00000  Female  \n",
       "340   4850.00000  Female  \n",
       "341   5750.00000    Male  \n",
       "342   5200.00000  Female  \n",
       "343   5400.00000    Male  \n",
       "\n",
       "[333 rows x 7 columns]"
      ]
     },
     "execution_count": 33,
     "metadata": {},
     "output_type": "execute_result"
    }
   ],
   "source": [
    "q1 = df['bill_length_mm'].quantile(.25)\n",
    "q3 = df['bill_length_mm'].quantile(.75)\n",
    "iqr = q3 - q1\n",
    "df_filtered = df.query('(@q1 - 1.5 * @iqr) <= bill_length_mm <= (@q3 + 1.5 * @iqr)')    ##Q1-1.5IQR보다 크고 Q3+1.5IQR보다 작은 수\n",
    "df_filtered"
   ]
  },
  {
   "cell_type": "markdown",
   "metadata": {},
   "source": [
    "# 데이터 인코딩\n",
    "## Label Encoding\n",
    "- 카테고리 변수를 코드형 숫자 값으로 변환하는 것  \n",
    "    ['TV', '냉장고', '세탁기'] -> [0,1,2]\n",
    "- LabelEncoder class를 객체로 생성한 후 fit()과 transform()을 호출해서 수행\n",
    "- 선형회귀에서는 사용하기 어려움 b.c) 범주형자료가 숫자로 변하면서 크고 작음의 가중치가 부여되어 예측 성능이 떨어지는 경우가 발생함 (이것을 극복하기 위해 One-Hot Encoding을 사용)"
   ]
  },
  {
   "cell_type": "code",
   "execution_count": 46,
   "metadata": {},
   "outputs": [
    {
     "data": {
      "text/html": [
       "<div>\n",
       "<style scoped>\n",
       "    .dataframe tbody tr th:only-of-type {\n",
       "        vertical-align: middle;\n",
       "    }\n",
       "\n",
       "    .dataframe tbody tr th {\n",
       "        vertical-align: top;\n",
       "    }\n",
       "\n",
       "    .dataframe thead th {\n",
       "        text-align: right;\n",
       "    }\n",
       "</style>\n",
       "<table border=\"1\" class=\"dataframe\">\n",
       "  <thead>\n",
       "    <tr style=\"text-align: right;\">\n",
       "      <th></th>\n",
       "      <th>species</th>\n",
       "      <th>island</th>\n",
       "      <th>bill_length_mm</th>\n",
       "      <th>bill_depth_mm</th>\n",
       "      <th>flipper_length_mm</th>\n",
       "      <th>body_mass_g</th>\n",
       "      <th>sex</th>\n",
       "    </tr>\n",
       "  </thead>\n",
       "  <tbody>\n",
       "    <tr>\n",
       "      <th>0</th>\n",
       "      <td>0</td>\n",
       "      <td>2</td>\n",
       "      <td>39.10000</td>\n",
       "      <td>18.70000</td>\n",
       "      <td>181.00000</td>\n",
       "      <td>3750.00000</td>\n",
       "      <td>1</td>\n",
       "    </tr>\n",
       "    <tr>\n",
       "      <th>1</th>\n",
       "      <td>0</td>\n",
       "      <td>2</td>\n",
       "      <td>39.50000</td>\n",
       "      <td>17.40000</td>\n",
       "      <td>186.00000</td>\n",
       "      <td>3800.00000</td>\n",
       "      <td>0</td>\n",
       "    </tr>\n",
       "    <tr>\n",
       "      <th>2</th>\n",
       "      <td>0</td>\n",
       "      <td>2</td>\n",
       "      <td>40.30000</td>\n",
       "      <td>18.00000</td>\n",
       "      <td>195.00000</td>\n",
       "      <td>3250.00000</td>\n",
       "      <td>0</td>\n",
       "    </tr>\n",
       "    <tr>\n",
       "      <th>4</th>\n",
       "      <td>0</td>\n",
       "      <td>2</td>\n",
       "      <td>36.70000</td>\n",
       "      <td>19.30000</td>\n",
       "      <td>193.00000</td>\n",
       "      <td>3450.00000</td>\n",
       "      <td>0</td>\n",
       "    </tr>\n",
       "    <tr>\n",
       "      <th>5</th>\n",
       "      <td>0</td>\n",
       "      <td>2</td>\n",
       "      <td>39.30000</td>\n",
       "      <td>20.60000</td>\n",
       "      <td>190.00000</td>\n",
       "      <td>3650.00000</td>\n",
       "      <td>1</td>\n",
       "    </tr>\n",
       "  </tbody>\n",
       "</table>\n",
       "</div>"
      ],
      "text/plain": [
       "   species  island  bill_length_mm  bill_depth_mm  flipper_length_mm  \\\n",
       "0        0       2        39.10000       18.70000          181.00000   \n",
       "1        0       2        39.50000       17.40000          186.00000   \n",
       "2        0       2        40.30000       18.00000          195.00000   \n",
       "4        0       2        36.70000       19.30000          193.00000   \n",
       "5        0       2        39.30000       20.60000          190.00000   \n",
       "\n",
       "   body_mass_g  sex  \n",
       "0   3750.00000    1  \n",
       "1   3800.00000    0  \n",
       "2   3250.00000    0  \n",
       "4   3450.00000    0  \n",
       "5   3650.00000    1  "
      ]
     },
     "execution_count": 46,
     "metadata": {},
     "output_type": "execute_result"
    }
   ],
   "source": [
    "from sklearn.preprocessing import LabelEncoder\n",
    "\n",
    "## 아래 코드와 같이 범주형 데이터를 한번에 transform할 수 있지만, 역코딩에서 문제가 생길 수 있음\n",
    "df2 = df.copy(deep = True)\n",
    "le = LabelEncoder()\n",
    "df2[['species', 'island', 'sex']] = df2[['species', 'island', 'sex']].apply(le.fit_transform)\n",
    "df2.head()"
   ]
  },
  {
   "cell_type": "code",
   "execution_count": 47,
   "metadata": {
    "scrolled": true
   },
   "outputs": [
    {
     "name": "stdout",
     "output_type": "stream",
     "text": [
      "['Female' 'Male']\n"
     ]
    },
    {
     "ename": "ValueError",
     "evalue": "y contains previously unseen labels: [2]",
     "output_type": "error",
     "traceback": [
      "\u001b[1;31m---------------------------------------------------------------------------\u001b[0m",
      "\u001b[1;31mValueError\u001b[0m                                Traceback (most recent call last)",
      "\u001b[1;32m<ipython-input-47-cc1eed98b2c6>\u001b[0m in \u001b[0;36m<module>\u001b[1;34m\u001b[0m\n\u001b[0;32m      1\u001b[0m \u001b[0mprint\u001b[0m\u001b[1;33m(\u001b[0m\u001b[0mle\u001b[0m\u001b[1;33m.\u001b[0m\u001b[0minverse_transform\u001b[0m\u001b[1;33m(\u001b[0m\u001b[1;33m[\u001b[0m\u001b[1;36m0\u001b[0m\u001b[1;33m,\u001b[0m\u001b[1;36m1\u001b[0m\u001b[1;33m]\u001b[0m\u001b[1;33m)\u001b[0m\u001b[1;33m)\u001b[0m    \u001b[1;31m##le Encoder에 마지막으로 transform된 것이 성별 변수이기 때문에 이전 변수들은 역코딩 불가\u001b[0m\u001b[1;33m\u001b[0m\u001b[1;33m\u001b[0m\u001b[0m\n\u001b[1;32m----> 2\u001b[1;33m \u001b[0mprint\u001b[0m\u001b[1;33m(\u001b[0m\u001b[0mle\u001b[0m\u001b[1;33m.\u001b[0m\u001b[0minverse_transform\u001b[0m\u001b[1;33m(\u001b[0m\u001b[1;33m[\u001b[0m\u001b[1;36m2\u001b[0m\u001b[1;33m]\u001b[0m\u001b[1;33m)\u001b[0m\u001b[1;33m)\u001b[0m\u001b[1;33m\u001b[0m\u001b[1;33m\u001b[0m\u001b[0m\n\u001b[0m",
      "\u001b[1;32mg:\\python\\lib\\site-packages\\sklearn\\preprocessing\\_label.py\u001b[0m in \u001b[0;36minverse_transform\u001b[1;34m(self, y)\u001b[0m\n\u001b[0;32m    298\u001b[0m         \u001b[0mdiff\u001b[0m \u001b[1;33m=\u001b[0m \u001b[0mnp\u001b[0m\u001b[1;33m.\u001b[0m\u001b[0msetdiff1d\u001b[0m\u001b[1;33m(\u001b[0m\u001b[0my\u001b[0m\u001b[1;33m,\u001b[0m \u001b[0mnp\u001b[0m\u001b[1;33m.\u001b[0m\u001b[0marange\u001b[0m\u001b[1;33m(\u001b[0m\u001b[0mlen\u001b[0m\u001b[1;33m(\u001b[0m\u001b[0mself\u001b[0m\u001b[1;33m.\u001b[0m\u001b[0mclasses_\u001b[0m\u001b[1;33m)\u001b[0m\u001b[1;33m)\u001b[0m\u001b[1;33m)\u001b[0m\u001b[1;33m\u001b[0m\u001b[1;33m\u001b[0m\u001b[0m\n\u001b[0;32m    299\u001b[0m         \u001b[1;32mif\u001b[0m \u001b[0mlen\u001b[0m\u001b[1;33m(\u001b[0m\u001b[0mdiff\u001b[0m\u001b[1;33m)\u001b[0m\u001b[1;33m:\u001b[0m\u001b[1;33m\u001b[0m\u001b[1;33m\u001b[0m\u001b[0m\n\u001b[1;32m--> 300\u001b[1;33m             raise ValueError(\n\u001b[0m\u001b[0;32m    301\u001b[0m                     \"y contains previously unseen labels: %s\" % str(diff))\n\u001b[0;32m    302\u001b[0m         \u001b[0my\u001b[0m \u001b[1;33m=\u001b[0m \u001b[0mnp\u001b[0m\u001b[1;33m.\u001b[0m\u001b[0masarray\u001b[0m\u001b[1;33m(\u001b[0m\u001b[0my\u001b[0m\u001b[1;33m)\u001b[0m\u001b[1;33m\u001b[0m\u001b[1;33m\u001b[0m\u001b[0m\n",
      "\u001b[1;31mValueError\u001b[0m: y contains previously unseen labels: [2]"
     ]
    }
   ],
   "source": [
    "print(le.inverse_transform([0,1]))    ##le Encoder에 마지막으로 transform된 것이 성별 변수이기 때문에 이전 변수들은 역코딩 불가\n",
    "print(le.inverse_transform([2]))"
   ]
  },
  {
   "cell_type": "markdown",
   "metadata": {},
   "source": [
    "만약 역코딩을 고려한다면 아래 예시와 같이 column마다 새로운 LabelEncoder를 만들어서 저장해주는 것이 좋다."
   ]
  },
  {
   "cell_type": "code",
   "execution_count": 52,
   "metadata": {},
   "outputs": [
    {
     "data": {
      "text/html": [
       "<div>\n",
       "<style scoped>\n",
       "    .dataframe tbody tr th:only-of-type {\n",
       "        vertical-align: middle;\n",
       "    }\n",
       "\n",
       "    .dataframe tbody tr th {\n",
       "        vertical-align: top;\n",
       "    }\n",
       "\n",
       "    .dataframe thead th {\n",
       "        text-align: right;\n",
       "    }\n",
       "</style>\n",
       "<table border=\"1\" class=\"dataframe\">\n",
       "  <thead>\n",
       "    <tr style=\"text-align: right;\">\n",
       "      <th></th>\n",
       "      <th>species</th>\n",
       "      <th>island</th>\n",
       "      <th>bill_length_mm</th>\n",
       "      <th>bill_depth_mm</th>\n",
       "      <th>flipper_length_mm</th>\n",
       "      <th>body_mass_g</th>\n",
       "      <th>sex</th>\n",
       "    </tr>\n",
       "  </thead>\n",
       "  <tbody>\n",
       "    <tr>\n",
       "      <th>0</th>\n",
       "      <td>0</td>\n",
       "      <td>2</td>\n",
       "      <td>39.10000</td>\n",
       "      <td>18.70000</td>\n",
       "      <td>181.00000</td>\n",
       "      <td>3750.00000</td>\n",
       "      <td>1</td>\n",
       "    </tr>\n",
       "    <tr>\n",
       "      <th>1</th>\n",
       "      <td>0</td>\n",
       "      <td>2</td>\n",
       "      <td>39.50000</td>\n",
       "      <td>17.40000</td>\n",
       "      <td>186.00000</td>\n",
       "      <td>3800.00000</td>\n",
       "      <td>0</td>\n",
       "    </tr>\n",
       "    <tr>\n",
       "      <th>2</th>\n",
       "      <td>0</td>\n",
       "      <td>2</td>\n",
       "      <td>40.30000</td>\n",
       "      <td>18.00000</td>\n",
       "      <td>195.00000</td>\n",
       "      <td>3250.00000</td>\n",
       "      <td>0</td>\n",
       "    </tr>\n",
       "    <tr>\n",
       "      <th>4</th>\n",
       "      <td>0</td>\n",
       "      <td>2</td>\n",
       "      <td>36.70000</td>\n",
       "      <td>19.30000</td>\n",
       "      <td>193.00000</td>\n",
       "      <td>3450.00000</td>\n",
       "      <td>0</td>\n",
       "    </tr>\n",
       "    <tr>\n",
       "      <th>5</th>\n",
       "      <td>0</td>\n",
       "      <td>2</td>\n",
       "      <td>39.30000</td>\n",
       "      <td>20.60000</td>\n",
       "      <td>190.00000</td>\n",
       "      <td>3650.00000</td>\n",
       "      <td>1</td>\n",
       "    </tr>\n",
       "  </tbody>\n",
       "</table>\n",
       "</div>"
      ],
      "text/plain": [
       "   species  island  bill_length_mm  bill_depth_mm  flipper_length_mm  \\\n",
       "0        0       2        39.10000       18.70000          181.00000   \n",
       "1        0       2        39.50000       17.40000          186.00000   \n",
       "2        0       2        40.30000       18.00000          195.00000   \n",
       "4        0       2        36.70000       19.30000          193.00000   \n",
       "5        0       2        39.30000       20.60000          190.00000   \n",
       "\n",
       "   body_mass_g  sex  \n",
       "0   3750.00000    1  \n",
       "1   3800.00000    0  \n",
       "2   3250.00000    0  \n",
       "4   3450.00000    0  \n",
       "5   3650.00000    1  "
      ]
     },
     "execution_count": 52,
     "metadata": {},
     "output_type": "execute_result"
    }
   ],
   "source": [
    "le_species = LabelEncoder()\n",
    "le_island = LabelEncoder()\n",
    "le_sex = LabelEncoder()\n",
    "\n",
    "df2 = df.copy(deep = True)\n",
    "df2['species'] = le_species.fit_transform(df2['species'])\n",
    "df2['island'] = le_island.fit_transform(df2['island'])\n",
    "df2['sex'] = le_sex.fit_transform(df2['sex'])\n",
    "df2.head()"
   ]
  },
  {
   "cell_type": "code",
   "execution_count": 57,
   "metadata": {},
   "outputs": [
    {
     "name": "stdout",
     "output_type": "stream",
     "text": [
      "['Biscoe' 'Dream' 'Torgersen']\n",
      "['Biscoe' 'Dream' 'Torgersen']\n"
     ]
    }
   ],
   "source": [
    "print(le_island.classes_)                   ##어떤 값들이 인코딩되었는지 확인\n",
    "print(le_island.inverse_transform([0,1,2])) ##원본 데이터로 디코딩"
   ]
  },
  {
   "cell_type": "markdown",
   "metadata": {},
   "source": [
    "## One-Hot Encoding\n",
    "- One-Hot: 여러개의 속성 중 단 한 개의 속성만 1로 표시한다\n",
    "- n개의 범주를 가진 범주형변수에 (n-1)개 컬럼을 만들고, 1과 0으로 해당 row가 가진 값을 표시\n",
    "- One-Hot Encoding 방법\n",
    "    - sklearn OneHotEncoder 사용시: 사용 전 모든 문자열은 숫자형으로 변환해야 하고, 입력값으로 2차원 데이터가 필요\n",
    "    - get_dummies: 숫자형으로 변환할 필요 없이 바로 사용가능"
   ]
  },
  {
   "cell_type": "markdown",
   "metadata": {},
   "source": [
    "### 1. pandas에 내장된 get_dummies 이용시\n",
    "- pd.get_dummies(data, prefix = None, prefix_sep = ' _ ', dummy_na = False, columns = None, sparse = False, drop_first = False, dtype = None)\n",
    "    - data: 원핫인코딩할 데이터\n",
    "    - prefix: 원핫인코딩으로 새로 생성된 column 뒤에 추가로 붙일 문자열\n",
    "    - prefix_sep: prefix 문자열 앞에 붙일 구분자 문자열\n",
    "    - dummy_na: True일시, NA값도 하나의 값으로 보고 원핫인코딩함\n",
    "    - columns: 인코딩할 컬럼이름을 리스트로 입력. None일시 데이터의 모든 object타입 범주형 데이터를 인코딩함\n",
    "    - sparse: True일시 원핫인코딩된 컬럼들은 SparseArray로 처리되고 False일시 numpy array로 처리됨\n",
    "    - drop_first: True일시 n-1개의 컬럼을 만듦. False일시 하위변수 n개 전부에 column을 만듦\n",
    "    - dtype: 인코딩된 컬럼의 데이터타입"
   ]
  },
  {
   "cell_type": "code",
   "execution_count": 59,
   "metadata": {},
   "outputs": [
    {
     "data": {
      "text/html": [
       "<div>\n",
       "<style scoped>\n",
       "    .dataframe tbody tr th:only-of-type {\n",
       "        vertical-align: middle;\n",
       "    }\n",
       "\n",
       "    .dataframe tbody tr th {\n",
       "        vertical-align: top;\n",
       "    }\n",
       "\n",
       "    .dataframe thead th {\n",
       "        text-align: right;\n",
       "    }\n",
       "</style>\n",
       "<table border=\"1\" class=\"dataframe\">\n",
       "  <thead>\n",
       "    <tr style=\"text-align: right;\">\n",
       "      <th></th>\n",
       "      <th>bill_length_mm</th>\n",
       "      <th>bill_depth_mm</th>\n",
       "      <th>flipper_length_mm</th>\n",
       "      <th>body_mass_g</th>\n",
       "      <th>species_Chinstrap</th>\n",
       "      <th>species_Gentoo</th>\n",
       "      <th>island_Dream</th>\n",
       "      <th>island_Torgersen</th>\n",
       "      <th>sex_Male</th>\n",
       "    </tr>\n",
       "  </thead>\n",
       "  <tbody>\n",
       "    <tr>\n",
       "      <th>0</th>\n",
       "      <td>39.10000</td>\n",
       "      <td>18.70000</td>\n",
       "      <td>181.00000</td>\n",
       "      <td>3750.00000</td>\n",
       "      <td>0</td>\n",
       "      <td>0</td>\n",
       "      <td>0</td>\n",
       "      <td>1</td>\n",
       "      <td>1</td>\n",
       "    </tr>\n",
       "    <tr>\n",
       "      <th>1</th>\n",
       "      <td>39.50000</td>\n",
       "      <td>17.40000</td>\n",
       "      <td>186.00000</td>\n",
       "      <td>3800.00000</td>\n",
       "      <td>0</td>\n",
       "      <td>0</td>\n",
       "      <td>0</td>\n",
       "      <td>1</td>\n",
       "      <td>0</td>\n",
       "    </tr>\n",
       "    <tr>\n",
       "      <th>2</th>\n",
       "      <td>40.30000</td>\n",
       "      <td>18.00000</td>\n",
       "      <td>195.00000</td>\n",
       "      <td>3250.00000</td>\n",
       "      <td>0</td>\n",
       "      <td>0</td>\n",
       "      <td>0</td>\n",
       "      <td>1</td>\n",
       "      <td>0</td>\n",
       "    </tr>\n",
       "    <tr>\n",
       "      <th>4</th>\n",
       "      <td>36.70000</td>\n",
       "      <td>19.30000</td>\n",
       "      <td>193.00000</td>\n",
       "      <td>3450.00000</td>\n",
       "      <td>0</td>\n",
       "      <td>0</td>\n",
       "      <td>0</td>\n",
       "      <td>1</td>\n",
       "      <td>0</td>\n",
       "    </tr>\n",
       "    <tr>\n",
       "      <th>5</th>\n",
       "      <td>39.30000</td>\n",
       "      <td>20.60000</td>\n",
       "      <td>190.00000</td>\n",
       "      <td>3650.00000</td>\n",
       "      <td>0</td>\n",
       "      <td>0</td>\n",
       "      <td>0</td>\n",
       "      <td>1</td>\n",
       "      <td>1</td>\n",
       "    </tr>\n",
       "    <tr>\n",
       "      <th>...</th>\n",
       "      <td>...</td>\n",
       "      <td>...</td>\n",
       "      <td>...</td>\n",
       "      <td>...</td>\n",
       "      <td>...</td>\n",
       "      <td>...</td>\n",
       "      <td>...</td>\n",
       "      <td>...</td>\n",
       "      <td>...</td>\n",
       "    </tr>\n",
       "    <tr>\n",
       "      <th>338</th>\n",
       "      <td>47.20000</td>\n",
       "      <td>13.70000</td>\n",
       "      <td>214.00000</td>\n",
       "      <td>4925.00000</td>\n",
       "      <td>0</td>\n",
       "      <td>1</td>\n",
       "      <td>0</td>\n",
       "      <td>0</td>\n",
       "      <td>0</td>\n",
       "    </tr>\n",
       "    <tr>\n",
       "      <th>340</th>\n",
       "      <td>46.80000</td>\n",
       "      <td>14.30000</td>\n",
       "      <td>215.00000</td>\n",
       "      <td>4850.00000</td>\n",
       "      <td>0</td>\n",
       "      <td>1</td>\n",
       "      <td>0</td>\n",
       "      <td>0</td>\n",
       "      <td>0</td>\n",
       "    </tr>\n",
       "    <tr>\n",
       "      <th>341</th>\n",
       "      <td>50.40000</td>\n",
       "      <td>15.70000</td>\n",
       "      <td>222.00000</td>\n",
       "      <td>5750.00000</td>\n",
       "      <td>0</td>\n",
       "      <td>1</td>\n",
       "      <td>0</td>\n",
       "      <td>0</td>\n",
       "      <td>1</td>\n",
       "    </tr>\n",
       "    <tr>\n",
       "      <th>342</th>\n",
       "      <td>45.20000</td>\n",
       "      <td>14.80000</td>\n",
       "      <td>212.00000</td>\n",
       "      <td>5200.00000</td>\n",
       "      <td>0</td>\n",
       "      <td>1</td>\n",
       "      <td>0</td>\n",
       "      <td>0</td>\n",
       "      <td>0</td>\n",
       "    </tr>\n",
       "    <tr>\n",
       "      <th>343</th>\n",
       "      <td>49.90000</td>\n",
       "      <td>16.10000</td>\n",
       "      <td>213.00000</td>\n",
       "      <td>5400.00000</td>\n",
       "      <td>0</td>\n",
       "      <td>1</td>\n",
       "      <td>0</td>\n",
       "      <td>0</td>\n",
       "      <td>1</td>\n",
       "    </tr>\n",
       "  </tbody>\n",
       "</table>\n",
       "<p>333 rows × 9 columns</p>\n",
       "</div>"
      ],
      "text/plain": [
       "     bill_length_mm  bill_depth_mm  flipper_length_mm  body_mass_g  \\\n",
       "0          39.10000       18.70000          181.00000   3750.00000   \n",
       "1          39.50000       17.40000          186.00000   3800.00000   \n",
       "2          40.30000       18.00000          195.00000   3250.00000   \n",
       "4          36.70000       19.30000          193.00000   3450.00000   \n",
       "5          39.30000       20.60000          190.00000   3650.00000   \n",
       "..              ...            ...                ...          ...   \n",
       "338        47.20000       13.70000          214.00000   4925.00000   \n",
       "340        46.80000       14.30000          215.00000   4850.00000   \n",
       "341        50.40000       15.70000          222.00000   5750.00000   \n",
       "342        45.20000       14.80000          212.00000   5200.00000   \n",
       "343        49.90000       16.10000          213.00000   5400.00000   \n",
       "\n",
       "     species_Chinstrap  species_Gentoo  island_Dream  island_Torgersen  \\\n",
       "0                    0               0             0                 1   \n",
       "1                    0               0             0                 1   \n",
       "2                    0               0             0                 1   \n",
       "4                    0               0             0                 1   \n",
       "5                    0               0             0                 1   \n",
       "..                 ...             ...           ...               ...   \n",
       "338                  0               1             0                 0   \n",
       "340                  0               1             0                 0   \n",
       "341                  0               1             0                 0   \n",
       "342                  0               1             0                 0   \n",
       "343                  0               1             0                 0   \n",
       "\n",
       "     sex_Male  \n",
       "0           1  \n",
       "1           0  \n",
       "2           0  \n",
       "4           0  \n",
       "5           1  \n",
       "..        ...  \n",
       "338         0  \n",
       "340         0  \n",
       "341         1  \n",
       "342         0  \n",
       "343         1  \n",
       "\n",
       "[333 rows x 9 columns]"
      ]
     },
     "execution_count": 59,
     "metadata": {},
     "output_type": "execute_result"
    }
   ],
   "source": [
    "pd.get_dummies(df, drop_first = True)"
   ]
  },
  {
   "cell_type": "markdown",
   "metadata": {},
   "source": [
    "### 2. sklearn의 OneHotEncoder 사용시\n",
    "- 변수 값의 유형에 따라 새로운 변수를 추가해 고유 값에 해당하는 컬럼에만 1을 표시하고 나머지 컬럼은 0을 표시\n",
    "- 원-핫 : 여러 개의 속성 중 단 한개의 속성만 1로 표시\n",
    "- OneHotEncoder class 사용 : 사용 전 모든 문자열은 숫자형으로 변환해야하고, 입력 값으로 2차원 데이터가 필요함"
   ]
  },
  {
   "cell_type": "markdown",
   "metadata": {},
   "source": [
    "# Feature Scaling\n",
    "- 선형회귀에서 독립변수(X) 변환 (스케일링/정규화)\n",
    "     - 표준화나 정규화 수행<br>\n",
    "     - 스케일링/정규화를 수행한 데이터셋에 다시 다항 특성을 적용하여 변환(보통 ㄱ으로 예측 성능에 향상이 없을 경우 이 방법 적용)\n",
    "     - **로그 변환** : ㄱ,ㄴ보다 훨씬 많이 사용되는 변환 방법(ㄱ은 예측 성능 향상을 크게 기대하기 어려운 경우가 많고, ㄴ은 피처의 개수가 많을 경우 다항 변환으로 생성되는 피처의 개수가 기하급수로 늘어나서 과적합의 이슈가 발생할 수 있기 때문)\n",
    "- 선형회귀에서 종속변수(y) 변환 (스케일링/정규화)\n",
    "    - 로그변환\n",
    "    - 정규화, 표준화\n",
    "    - 다항변수\n",
    "- sklearn에서 피처 정규화를 할 때 주의할 점\n",
    "    - fit(): 데이터 변환을 위한 기준정보를 적용 (예를 최대/최솟값 등)\n",
    "    - transform(): fit()에서 설정한 정보를 이용해 데이터를 변환함  \n",
    "    - fit_trnasform(): fit()과 transform()을 한번에 적용  \n",
    "     "
   ]
  },
  {
   "cell_type": "code",
   "execution_count": null,
   "metadata": {},
   "outputs": [],
   "source": [
    "from sklearn.preprocessing import StandardScaler, MinMaxSclaer, PolynomialFeatures"
   ]
  },
  {
   "cell_type": "markdown",
   "metadata": {},
   "source": [
    "## 표준화(Standardization)\n",
    "- 데이터를 정규분포에 근사시킴 (평균이 0, 분산이 1)\n",
    "- 일부 머신러닝 모델(선형회귀, 로지스틱회귀, SVM 등)은 데이터가 정규분포를 따른다고 가정하기 때문에 학습 이전에 표준화를 적용하는 것이 중요함"
   ]
  },
  {
   "cell_type": "code",
   "execution_count": null,
   "metadata": {},
   "outputs": [],
   "source": [
    "from sklearn.preprocessing import StandardScaler\n",
    "\n",
    "scaler=StandardScaler()\n",
    "\n",
    "scaler.fit(df[['bill_length_mm', 'bill_depth_mm', 'flipper_length_mm', 'body_mass_g']])\n",
    "scaled_df=pd.DataFrame(scaler.transform(df[['bill_length_mm', 'bill_depth_mm', 'flipper_length_mm', 'body_mass_g']]))\n",
    "df[['bill_length_mm', 'bill_depth_mm', 'flipper_length_mm', 'body_mass_g']] = scaled_df    ## 원데이터 변경"
   ]
  },
  {
   "cell_type": "markdown",
   "metadata": {},
   "source": [
    "## 정규화(Normalization)"
   ]
  },
  {
   "cell_type": "code",
   "execution_count": null,
   "metadata": {},
   "outputs": [],
   "source": [
    "from sklearn.preprocessing import MinMaxScaler\n",
    "\n",
    "scaler = MinMaxScaler()\n",
    "scaler.fit(df[['bill_length_mm', 'bill_depth_mm', 'flipper_length_mm', 'body_mass_g']])\n",
    "scaled_df=scaler.transform(df[['bill_length_mm', 'bill_depth_mm', 'flipper_length_mm', 'body_mass_g']])\n",
    "df[['bill_length_mm', 'bill_depth_mm', 'flipper_length_mm', 'body_mass_g']] = scaled_df    ## 원데이터 변경"
   ]
  },
  {
   "cell_type": "markdown",
   "metadata": {},
   "source": [
    "# 샘플링\n",
    "- 레이블이 불균형한 분포를 가진 데이터셋을 학습시킬 때 예측 성능의 문제가 발생할 수 있음\n",
    "- 정상 레이블의 데이터 건수에 비해 이상 레이블의 데이터 건수가 현저히 적기 때문에 발생함<br>\n",
    "  (정상적인 신용카드 사용 0, 신용카드 사기 사용 1일 경우 0이 월등히 많음)\n",
    "- 이상 레이블을 가지는 데이터 건수가 매우 적기 때문에 제대로 다양한 유형을 학습하지 못하는 반면<br>\n",
    "  정상 레이블을 가지는 데이터 건수가 매우 많기 때문에 일방적으로 정상 레이블에 치우친 학습을 수행해 제대로 된 이상 데이터 검출이 어려워짐  \n",
    "- 오버샘플링과 언더샘플링이 대표적인 방법이며, 오버샘플링이 예측 성능상 더 유리한 경우가 많아 주로 사용됨\n",
    "- train set에만 쓰는 것이고 test set에는 사용하지 않음"
   ]
  },
  {
   "cell_type": "markdown",
   "metadata": {},
   "source": [
    "## 오버샘플링(Oversampling)\n",
    "- 적은 데이터셋을 증식하여 학습을 위한 충분한 데이터를 확보하는 방법\n",
    "- 동일한 데이터를 단순히 증식하는 방법은 과적합(Overfitting)이 되기 때문에 의미가 없으므로, 원본 데이터의 피처값들을 아주 약간만 변경하여 증식시키는 것이 유리함\n",
    "\n",
    "\n",
    "- 대표적인 방법으로 **SMOTE(Synthetic Minority Over-sampling Technique)**가 있음\n",
    "- SMOTE : 적은 데이터셋에 있는 개별 데이터들의 KNN(K최근접이웃, K Nearest Neighbor)을 찾아서<br>\n",
    "  이 데이터와 K개 이웃들의 차이를 일정 값으로 만들어서 기존 데이터와 약간 차이가 나는 새로운 데이터들을 생성하는 방식"
   ]
  },
  {
   "cell_type": "code",
   "execution_count": 47,
   "metadata": {},
   "outputs": [],
   "source": [
    "from sklearn.model_selection import train_test_split\n",
    "\n",
    "X_train, X_test, y_train, y_test = train_test_split(df.iloc[:,2:5], df.iloc[:,-1] , test_size = 0.3, random_state = 999)"
   ]
  },
  {
   "cell_type": "code",
   "execution_count": 48,
   "metadata": {},
   "outputs": [],
   "source": [
    "y_train = pd.DataFrame(y_train, columns = ['sex'])"
   ]
  },
  {
   "cell_type": "code",
   "execution_count": 49,
   "metadata": {
    "scrolled": true
   },
   "outputs": [
    {
     "data": {
      "text/plain": [
       "<AxesSubplot:xlabel='sex', ylabel='count'>"
      ]
     },
     "execution_count": 49,
     "metadata": {},
     "output_type": "execute_result"
    },
    {
     "data": {
      "image/png": "[encoded data removed]",
      "text/plain": [
       "<Figure size 432x288 with 1 Axes>"
      ]
     },
     "metadata": {
      "needs_background": "light"
     },
     "output_type": "display_data"
    }
   ],
   "source": [
    "sns.countplot(data= y_train, x = 'sex')"
   ]
  },
  {
   "cell_type": "markdown",
   "metadata": {},
   "source": [
    "### 1. 랜덤오버샘플링\n",
    "- minor class의 instance를 임의로 복제하여 수를 늘린다  \n",
    "[장점]\n",
    "- 언더샘플링에 비해 데이터 손실이 없다\n",
    "- 언더샘플링에 비해 일반적으로 성능이 뛰어나다고 알려져있다  \n",
    "[단점]\n",
    "- minor class를 학습할 때 과적합 우려가 있다 (같은 데이터를 여러번 학습하기 때문에)"
   ]
  },
  {
   "cell_type": "code",
   "execution_count": 50,
   "metadata": {},
   "outputs": [
    {
     "name": "stdout",
     "output_type": "stream",
     "text": [
      "sex   \n",
      "Male      119\n",
      "Female    119\n",
      "dtype: int64\n"
     ]
    }
   ],
   "source": [
    "import imblearn.over_sampling as osam    \n",
    "\n",
    "ros = osam.RandomOverSampler()\n",
    "oversampled_X, over_sampled_Y = ros.fit_resample(X_train, y_train)  ##y_train이 숫자 0,1로 나뉘어있으면 오류가 난다\n",
    "print(over_sampled_Y.value_counts())"
   ]
  },
  {
   "cell_type": "markdown",
   "metadata": {},
   "source": [
    "### 2. Synthetic Minority Over-sampling Technique (SMOTE)\n",
    "- minor class의 instance를 단순하게 복제할 때 생기는 과적합 이슈를 피하기 위해, minor class의 data에서 개별 데이터들의 KNN(K최근접이웃)을 찾아서 이 데이터와 K개 이웃의 차이를 일정 값으로 만들어서 기존 데이터와 약간 차이가 나는 새로운 데이터를 생성한다  \n",
    "[장점]\n",
    "- 랜덤오버샘플링보다 과적합 가능성이 줄어든다\n",
    "- 정보손실 우려가 없다  \n",
    "[단점]\n",
    "- 고차원 데이터에 효율적이지 않다\n",
    "- minor class끼리 최근접이웃을 찾기 때문에, 이 과정에서 major class의 위치가 고려되지 않고, 클래스가 겹치거나 노이즈가 만들어진다"
   ]
  },
  {
   "cell_type": "markdown",
   "metadata": {},
   "source": [
    "**(참고)** \n",
    "- imblearn이 제대로 설치되지 않을 때는 (폴더 접근 오류)  \n",
    "!pip install --user imblearn 으로 설치하면 된다\n",
    "- 스터디 예제코드는 오버샘플링을 수행하는 코드가 fit_sample로 되어있는데, 내 jupyter환경에서는 fit_resample로 돌려야 결과가 나온다. "
   ]
  },
  {
   "cell_type": "code",
   "execution_count": 51,
   "metadata": {
    "scrolled": true
   },
   "outputs": [
    {
     "name": "stdout",
     "output_type": "stream",
     "text": [
      "233 233\n"
     ]
    }
   ],
   "source": [
    "from imblearn.over_sampling import SMOTE\n",
    "\n",
    "smote = SMOTE(random_state = 0)\n",
    "X_smote, y_smote = smote.fit_resample(X_train, y_train)\n",
    "print(len(X_train), len(y_train))"
   ]
  },
  {
   "cell_type": "markdown",
   "metadata": {},
   "source": [
    "### 3. Borderline-SMOTE\n",
    "- minority class와 majority class의 경계에 있는 minor class 샘플을 늘려 분류하기 어려운 부분을 집중적으로 학습할 수 있도록 함"
   ]
  },
  {
   "cell_type": "code",
   "execution_count": 64,
   "metadata": {},
   "outputs": [
    {
     "name": "stdout",
     "output_type": "stream",
     "text": [
      "233 233\n"
     ]
    }
   ],
   "source": [
    "from imblearn.over_sampling import BorderlineSMOTE   \n",
    "\n",
    "B_SMOTEos = BorderlineSMOTE()\n",
    "oversampled_X, oversampled_Y = B_SMOTEos.fit_resample(X_train, y_train)\n",
    "print(len(X_train), len(y_train))"
   ]
  },
  {
   "cell_type": "markdown",
   "metadata": {},
   "source": [
    "### 4. Modified synthetic minority oversampling technique (MSMOTE)\n",
    "- SMOTE의 성능을 향상시킨 것으로 minor class의 근본적인 분포와 잠재적인 노이즈를 고려하여 minor class를 생성한다\n",
    "- minor class의 instance를 security/safe samples, border samples, latent noise samples로 나누는데, 이 때 나누는 기준은 minor class intance와 training data 간의 거리이다. \n",
    "- Noise samples는 상대적으로 분류기의 성능을 낮추고, security/safe는 성능을 높일 수 있고, border samples는 앞의 두 그룹 중 한 곳에 속하기 애매한 데이터들이다\n",
    "- MSMOTE는 데이터를 만들 때 security samples 위주로 생성하고, latent noise sample에 대해서는 아무것도 하지 않는다"
   ]
  },
  {
   "cell_type": "code",
   "execution_count": 59,
   "metadata": {
    "collapsed": true
   },
   "outputs": [
    {
     "name": "stderr",
     "output_type": "stream",
     "text": [
      "2022-03-23 16:30:56,373:INFO:MSMOTE: Running sampling via ('MSMOTE', \"{'proportion': 1.0, 'n_neighbors': 5, 'n_jobs': 1, 'random_state': None}\")\n"
     ]
    },
    {
     "ename": "ValueError",
     "evalue": "Input contains NaN, infinity or a value too large for dtype('float64').",
     "output_type": "error",
     "traceback": [
      "\u001b[1;31m---------------------------------------------------------------------------\u001b[0m",
      "\u001b[1;31mValueError\u001b[0m                                Traceback (most recent call last)",
      "\u001b[1;32m<ipython-input-59-1387a14081cb>\u001b[0m in \u001b[0;36m<module>\u001b[1;34m\u001b[0m\n\u001b[0;32m      2\u001b[0m \u001b[1;33m\u001b[0m\u001b[0m\n\u001b[0;32m      3\u001b[0m \u001b[0mmsmote\u001b[0m \u001b[1;33m=\u001b[0m \u001b[0msmote_variants\u001b[0m\u001b[1;33m.\u001b[0m\u001b[0mMSMOTE\u001b[0m\u001b[1;33m(\u001b[0m\u001b[1;33m)\u001b[0m\u001b[1;33m\u001b[0m\u001b[1;33m\u001b[0m\u001b[0m\n\u001b[1;32m----> 4\u001b[1;33m \u001b[0mX_msmote\u001b[0m\u001b[1;33m,\u001b[0m \u001b[0my_msmote\u001b[0m \u001b[1;33m=\u001b[0m \u001b[0mmsmote\u001b[0m\u001b[1;33m.\u001b[0m\u001b[0msample\u001b[0m\u001b[1;33m(\u001b[0m\u001b[0mX_train\u001b[0m\u001b[1;33m,\u001b[0m \u001b[0my_train\u001b[0m\u001b[1;33m)\u001b[0m\u001b[1;33m\u001b[0m\u001b[1;33m\u001b[0m\u001b[0m\n\u001b[0m",
      "\u001b[1;32mg:\\python\\lib\\site-packages\\smote_variants\\_smote_variants.py\u001b[0m in \u001b[0;36msample\u001b[1;34m(self, X, y)\u001b[0m\n\u001b[0;32m   3775\u001b[0m         \u001b[0mnn\u001b[0m \u001b[1;33m=\u001b[0m \u001b[0mNearestNeighbors\u001b[0m\u001b[1;33m(\u001b[0m\u001b[0mn_neighbors\u001b[0m\u001b[1;33m=\u001b[0m\u001b[0mn_neighbors\u001b[0m\u001b[1;33m,\u001b[0m \u001b[0mn_jobs\u001b[0m\u001b[1;33m=\u001b[0m\u001b[0mself\u001b[0m\u001b[1;33m.\u001b[0m\u001b[0mn_jobs\u001b[0m\u001b[1;33m)\u001b[0m\u001b[1;33m\u001b[0m\u001b[1;33m\u001b[0m\u001b[0m\n\u001b[0;32m   3776\u001b[0m         \u001b[0mnn\u001b[0m\u001b[1;33m.\u001b[0m\u001b[0mfit\u001b[0m\u001b[1;33m(\u001b[0m\u001b[0mX\u001b[0m\u001b[1;33m)\u001b[0m\u001b[1;33m\u001b[0m\u001b[1;33m\u001b[0m\u001b[0m\n\u001b[1;32m-> 3777\u001b[1;33m         \u001b[0mdistance\u001b[0m\u001b[1;33m,\u001b[0m \u001b[0mindices\u001b[0m \u001b[1;33m=\u001b[0m \u001b[0mnn\u001b[0m\u001b[1;33m.\u001b[0m\u001b[0mkneighbors\u001b[0m\u001b[1;33m(\u001b[0m\u001b[0mX_min\u001b[0m\u001b[1;33m)\u001b[0m\u001b[1;33m\u001b[0m\u001b[1;33m\u001b[0m\u001b[0m\n\u001b[0m\u001b[0;32m   3778\u001b[0m \u001b[1;33m\u001b[0m\u001b[0m\n\u001b[0;32m   3779\u001b[0m         \u001b[0mnoise_mask\u001b[0m \u001b[1;33m=\u001b[0m \u001b[0mnp\u001b[0m\u001b[1;33m.\u001b[0m\u001b[0mrepeat\u001b[0m\u001b[1;33m(\u001b[0m\u001b[1;32mFalse\u001b[0m\u001b[1;33m,\u001b[0m \u001b[0mlen\u001b[0m\u001b[1;33m(\u001b[0m\u001b[0mX_min\u001b[0m\u001b[1;33m)\u001b[0m\u001b[1;33m)\u001b[0m\u001b[1;33m\u001b[0m\u001b[1;33m\u001b[0m\u001b[0m\n",
      "\u001b[1;32mg:\\python\\lib\\site-packages\\sklearn\\neighbors\\_base.py\u001b[0m in \u001b[0;36mkneighbors\u001b[1;34m(self, X, n_neighbors, return_distance)\u001b[0m\n\u001b[0;32m    715\u001b[0m                 \u001b[0mX\u001b[0m \u001b[1;33m=\u001b[0m \u001b[0m_check_precomputed\u001b[0m\u001b[1;33m(\u001b[0m\u001b[0mX\u001b[0m\u001b[1;33m)\u001b[0m\u001b[1;33m\u001b[0m\u001b[1;33m\u001b[0m\u001b[0m\n\u001b[0;32m    716\u001b[0m             \u001b[1;32melse\u001b[0m\u001b[1;33m:\u001b[0m\u001b[1;33m\u001b[0m\u001b[1;33m\u001b[0m\u001b[0m\n\u001b[1;32m--> 717\u001b[1;33m                 \u001b[0mX\u001b[0m \u001b[1;33m=\u001b[0m \u001b[0mself\u001b[0m\u001b[1;33m.\u001b[0m\u001b[0m_validate_data\u001b[0m\u001b[1;33m(\u001b[0m\u001b[0mX\u001b[0m\u001b[1;33m,\u001b[0m \u001b[0maccept_sparse\u001b[0m\u001b[1;33m=\u001b[0m\u001b[1;34m\"csr\"\u001b[0m\u001b[1;33m,\u001b[0m \u001b[0mreset\u001b[0m\u001b[1;33m=\u001b[0m\u001b[1;32mFalse\u001b[0m\u001b[1;33m)\u001b[0m\u001b[1;33m\u001b[0m\u001b[1;33m\u001b[0m\u001b[0m\n\u001b[0m\u001b[0;32m    718\u001b[0m         \u001b[1;32melse\u001b[0m\u001b[1;33m:\u001b[0m\u001b[1;33m\u001b[0m\u001b[1;33m\u001b[0m\u001b[0m\n\u001b[0;32m    719\u001b[0m             \u001b[0mquery_is_train\u001b[0m \u001b[1;33m=\u001b[0m \u001b[1;32mTrue\u001b[0m\u001b[1;33m\u001b[0m\u001b[1;33m\u001b[0m\u001b[0m\n",
      "\u001b[1;32mg:\\python\\lib\\site-packages\\sklearn\\base.py\u001b[0m in \u001b[0;36m_validate_data\u001b[1;34m(self, X, y, reset, validate_separately, **check_params)\u001b[0m\n\u001b[0;32m    564\u001b[0m             \u001b[1;32mraise\u001b[0m \u001b[0mValueError\u001b[0m\u001b[1;33m(\u001b[0m\u001b[1;34m\"Validation should be done on X, y or both.\"\u001b[0m\u001b[1;33m)\u001b[0m\u001b[1;33m\u001b[0m\u001b[1;33m\u001b[0m\u001b[0m\n\u001b[0;32m    565\u001b[0m         \u001b[1;32melif\u001b[0m \u001b[1;32mnot\u001b[0m \u001b[0mno_val_X\u001b[0m \u001b[1;32mand\u001b[0m \u001b[0mno_val_y\u001b[0m\u001b[1;33m:\u001b[0m\u001b[1;33m\u001b[0m\u001b[1;33m\u001b[0m\u001b[0m\n\u001b[1;32m--> 566\u001b[1;33m             \u001b[0mX\u001b[0m \u001b[1;33m=\u001b[0m \u001b[0mcheck_array\u001b[0m\u001b[1;33m(\u001b[0m\u001b[0mX\u001b[0m\u001b[1;33m,\u001b[0m \u001b[1;33m**\u001b[0m\u001b[0mcheck_params\u001b[0m\u001b[1;33m)\u001b[0m\u001b[1;33m\u001b[0m\u001b[1;33m\u001b[0m\u001b[0m\n\u001b[0m\u001b[0;32m    567\u001b[0m             \u001b[0mout\u001b[0m \u001b[1;33m=\u001b[0m \u001b[0mX\u001b[0m\u001b[1;33m\u001b[0m\u001b[1;33m\u001b[0m\u001b[0m\n\u001b[0;32m    568\u001b[0m         \u001b[1;32melif\u001b[0m \u001b[0mno_val_X\u001b[0m \u001b[1;32mand\u001b[0m \u001b[1;32mnot\u001b[0m \u001b[0mno_val_y\u001b[0m\u001b[1;33m:\u001b[0m\u001b[1;33m\u001b[0m\u001b[1;33m\u001b[0m\u001b[0m\n",
      "\u001b[1;32mg:\\python\\lib\\site-packages\\sklearn\\utils\\validation.py\u001b[0m in \u001b[0;36mcheck_array\u001b[1;34m(array, accept_sparse, accept_large_sparse, dtype, order, copy, force_all_finite, ensure_2d, allow_nd, ensure_min_samples, ensure_min_features, estimator)\u001b[0m\n\u001b[0;32m    798\u001b[0m \u001b[1;33m\u001b[0m\u001b[0m\n\u001b[0;32m    799\u001b[0m         \u001b[1;32mif\u001b[0m \u001b[0mforce_all_finite\u001b[0m\u001b[1;33m:\u001b[0m\u001b[1;33m\u001b[0m\u001b[1;33m\u001b[0m\u001b[0m\n\u001b[1;32m--> 800\u001b[1;33m             \u001b[0m_assert_all_finite\u001b[0m\u001b[1;33m(\u001b[0m\u001b[0marray\u001b[0m\u001b[1;33m,\u001b[0m \u001b[0mallow_nan\u001b[0m\u001b[1;33m=\u001b[0m\u001b[0mforce_all_finite\u001b[0m \u001b[1;33m==\u001b[0m \u001b[1;34m\"allow-nan\"\u001b[0m\u001b[1;33m)\u001b[0m\u001b[1;33m\u001b[0m\u001b[1;33m\u001b[0m\u001b[0m\n\u001b[0m\u001b[0;32m    801\u001b[0m \u001b[1;33m\u001b[0m\u001b[0m\n\u001b[0;32m    802\u001b[0m     \u001b[1;32mif\u001b[0m \u001b[0mensure_min_samples\u001b[0m \u001b[1;33m>\u001b[0m \u001b[1;36m0\u001b[0m\u001b[1;33m:\u001b[0m\u001b[1;33m\u001b[0m\u001b[1;33m\u001b[0m\u001b[0m\n",
      "\u001b[1;32mg:\\python\\lib\\site-packages\\sklearn\\utils\\validation.py\u001b[0m in \u001b[0;36m_assert_all_finite\u001b[1;34m(X, allow_nan, msg_dtype)\u001b[0m\n\u001b[0;32m    112\u001b[0m         ):\n\u001b[0;32m    113\u001b[0m             \u001b[0mtype_err\u001b[0m \u001b[1;33m=\u001b[0m \u001b[1;34m\"infinity\"\u001b[0m \u001b[1;32mif\u001b[0m \u001b[0mallow_nan\u001b[0m \u001b[1;32melse\u001b[0m \u001b[1;34m\"NaN, infinity\"\u001b[0m\u001b[1;33m\u001b[0m\u001b[1;33m\u001b[0m\u001b[0m\n\u001b[1;32m--> 114\u001b[1;33m             raise ValueError(\n\u001b[0m\u001b[0;32m    115\u001b[0m                 msg_err.format(\n\u001b[0;32m    116\u001b[0m                     \u001b[0mtype_err\u001b[0m\u001b[1;33m,\u001b[0m \u001b[0mmsg_dtype\u001b[0m \u001b[1;32mif\u001b[0m \u001b[0mmsg_dtype\u001b[0m \u001b[1;32mis\u001b[0m \u001b[1;32mnot\u001b[0m \u001b[1;32mNone\u001b[0m \u001b[1;32melse\u001b[0m \u001b[0mX\u001b[0m\u001b[1;33m.\u001b[0m\u001b[0mdtype\u001b[0m\u001b[1;33m\u001b[0m\u001b[1;33m\u001b[0m\u001b[0m\n",
      "\u001b[1;31mValueError\u001b[0m: Input contains NaN, infinity or a value too large for dtype('float64')."
     ]
    }
   ],
   "source": [
    "import smote_variants\n",
    "\n",
    "msmote = smote_variants.MSMOTE()\n",
    "X_msmote, y_msmote = msmote.sample(X_train, y_train)"
   ]
  },
  {
   "cell_type": "markdown",
   "metadata": {},
   "source": [
    "### 5. Adaptive Synthetic Sampling (ADASYN)\n",
    "- 개별 minor class에 가까운 KNN 데이터 중, 무작위로 선택된 데이터 사이의 직선상에 가상의 소수 클래스 데이터를 만들어냄"
   ]
  },
  {
   "cell_type": "code",
   "execution_count": 56,
   "metadata": {
    "collapsed": true
   },
   "outputs": [
    {
     "ename": "ValueError",
     "evalue": "No samples will be generated with the provided ratio settings.",
     "output_type": "error",
     "traceback": [
      "\u001b[1;31m---------------------------------------------------------------------------\u001b[0m",
      "\u001b[1;31mValueError\u001b[0m                                Traceback (most recent call last)",
      "\u001b[1;32m<ipython-input-56-ff258cabb7ae>\u001b[0m in \u001b[0;36m<module>\u001b[1;34m\u001b[0m\n\u001b[0;32m      2\u001b[0m \u001b[1;33m\u001b[0m\u001b[0m\n\u001b[0;32m      3\u001b[0m \u001b[0madasyn\u001b[0m \u001b[1;33m=\u001b[0m \u001b[0mADASYN\u001b[0m\u001b[1;33m(\u001b[0m\u001b[0msampling_strategy\u001b[0m \u001b[1;33m=\u001b[0m \u001b[1;34m\"not majority\"\u001b[0m\u001b[1;33m,\u001b[0m \u001b[0mn_neighbors\u001b[0m \u001b[1;33m=\u001b[0m \u001b[1;36m5\u001b[0m\u001b[1;33m,\u001b[0m \u001b[0mrandom_state\u001b[0m \u001b[1;33m=\u001b[0m \u001b[1;36m0\u001b[0m\u001b[1;33m)\u001b[0m\u001b[1;33m\u001b[0m\u001b[1;33m\u001b[0m\u001b[0m\n\u001b[1;32m----> 4\u001b[1;33m \u001b[0mX_adasyn\u001b[0m\u001b[1;33m,\u001b[0m \u001b[0my_adasyn\u001b[0m \u001b[1;33m=\u001b[0m \u001b[0madasyn\u001b[0m\u001b[1;33m.\u001b[0m\u001b[0mfit_resample\u001b[0m\u001b[1;33m(\u001b[0m\u001b[0mX_train\u001b[0m\u001b[1;33m,\u001b[0m \u001b[0my_train\u001b[0m\u001b[1;33m)\u001b[0m\u001b[1;33m\u001b[0m\u001b[1;33m\u001b[0m\u001b[0m\n\u001b[0m",
      "\u001b[1;32m~\\AppData\\Roaming\\Python\\Python38\\site-packages\\imblearn\\base.py\u001b[0m in \u001b[0;36mfit_resample\u001b[1;34m(self, X, y)\u001b[0m\n\u001b[0;32m     81\u001b[0m         )\n\u001b[0;32m     82\u001b[0m \u001b[1;33m\u001b[0m\u001b[0m\n\u001b[1;32m---> 83\u001b[1;33m         \u001b[0moutput\u001b[0m \u001b[1;33m=\u001b[0m \u001b[0mself\u001b[0m\u001b[1;33m.\u001b[0m\u001b[0m_fit_resample\u001b[0m\u001b[1;33m(\u001b[0m\u001b[0mX\u001b[0m\u001b[1;33m,\u001b[0m \u001b[0my\u001b[0m\u001b[1;33m)\u001b[0m\u001b[1;33m\u001b[0m\u001b[1;33m\u001b[0m\u001b[0m\n\u001b[0m\u001b[0;32m     84\u001b[0m \u001b[1;33m\u001b[0m\u001b[0m\n\u001b[0;32m     85\u001b[0m         y_ = (\n",
      "\u001b[1;32m~\\AppData\\Roaming\\Python\\Python38\\site-packages\\imblearn\\over_sampling\\_adasyn.py\u001b[0m in \u001b[0;36m_fit_resample\u001b[1;34m(self, X, y)\u001b[0m\n\u001b[0;32m    160\u001b[0m             \u001b[0mn_samples\u001b[0m \u001b[1;33m=\u001b[0m \u001b[0mnp\u001b[0m\u001b[1;33m.\u001b[0m\u001b[0msum\u001b[0m\u001b[1;33m(\u001b[0m\u001b[0mn_samples_generate\u001b[0m\u001b[1;33m)\u001b[0m\u001b[1;33m\u001b[0m\u001b[1;33m\u001b[0m\u001b[0m\n\u001b[0;32m    161\u001b[0m             \u001b[1;32mif\u001b[0m \u001b[1;32mnot\u001b[0m \u001b[0mn_samples\u001b[0m\u001b[1;33m:\u001b[0m\u001b[1;33m\u001b[0m\u001b[1;33m\u001b[0m\u001b[0m\n\u001b[1;32m--> 162\u001b[1;33m                 raise ValueError(\n\u001b[0m\u001b[0;32m    163\u001b[0m                     \u001b[1;34m\"No samples will be generated with the provided ratio settings.\"\u001b[0m\u001b[1;33m\u001b[0m\u001b[1;33m\u001b[0m\u001b[0m\n\u001b[0;32m    164\u001b[0m                 )\n",
      "\u001b[1;31mValueError\u001b[0m: No samples will be generated with the provided ratio settings."
     ]
    }
   ],
   "source": [
    "from imblearn.over_sampling import ADASYN\n",
    "\n",
    "adasyn = ADASYN(sampling_strategy = \"not majority\", n_neighbors = 5, random_state = 0)   ##오류가 왜 뜨는지.... \n",
    "X_adasyn, y_adasyn = adasyn.fit_resample(X_train, y_train)"
   ]
  },
  {
   "cell_type": "markdown",
   "metadata": {},
   "source": [
    "## 언더샘플링(Undersampling)\n",
    "- 많은 데이터셋을 적은 데이터셋 수준으로 감소시킴\n",
    "- 오버샘플링에 비해 minor class의 과적합 이슈를 방지할 수 있지만, 정상 레이블의 데이터를 감소시켜 오히려 정상 레이블의 제대로 된 학습이 불가능할 수 있음"
   ]
  },
  {
   "cell_type": "markdown",
   "metadata": {},
   "source": [
    "### 1. 랜덤 언더샘플링"
   ]
  },
  {
   "cell_type": "code",
   "execution_count": 88,
   "metadata": {},
   "outputs": [
    {
     "name": "stdout",
     "output_type": "stream",
     "text": [
      "sex   \n",
      "Male      114\n",
      "Female    114\n",
      "dtype: int64\n"
     ]
    }
   ],
   "source": [
    "import imblearn.under_sampling as usam\n",
    "rus = usam.RandomUnderSampler()\n",
    "undersampled_X, undersampled_Y = rus.fit_resample(X_train, y_train)\n",
    "print(undersampled_Y.value_counts())"
   ]
  },
  {
   "cell_type": "markdown",
   "metadata": {},
   "source": [
    "### 2. Condensed Nearest Neighbor (CNN)\n",
    "- major class에서 밀집된 데이터가 없을 때까지 데이터를 제거하여 major 데이터의 분포에서 대표적인 데이터만 남게 하는 방법"
   ]
  },
  {
   "cell_type": "code",
   "execution_count": 90,
   "metadata": {},
   "outputs": [
    {
     "name": "stdout",
     "output_type": "stream",
     "text": [
      "sex   \n",
      "Female    114\n",
      "Male       48\n",
      "dtype: int64\n"
     ]
    }
   ],
   "source": [
    "krus = usam.CondensedNearestNeighbour(n_neighbors = 3)\n",
    "undersampled_X, undersampled_Y = krus.fit_resample(X_train, y_train)\n",
    "print(undersampled_Y.value_counts())"
   ]
  },
  {
   "cell_type": "markdown",
   "metadata": {},
   "source": [
    "### 3. Edited Nearest Neighbors (ENN)\n",
    "- minor data 주의에 인접해 있는 major data를 제거하여 데이터의 밸런스를 맞추는 방법"
   ]
  },
  {
   "cell_type": "code",
   "execution_count": 93,
   "metadata": {},
   "outputs": [
    {
     "name": "stdout",
     "output_type": "stream",
     "text": [
      "sex   \n",
      "Female    114\n",
      "Male       48\n",
      "dtype: int64\n"
     ]
    }
   ],
   "source": [
    "erus = usam.CondensedNearestNeighbour(n_neighbors = 3, n_jobs = 1)\n",
    "undersampled_X, undersampled_Y = erus.fit_resample(X_train, y_train)\n",
    "print(undersampled_Y.value_counts())"
   ]
  },
  {
   "cell_type": "markdown",
   "metadata": {},
   "source": [
    "### 4. NearMiss(NM) 언더샘플링\n",
    "- Type1: 가장 가까운 3개의 minor class와 평균거리가 가장 가까운 하나의 majority class를 선택\n",
    "- Type2: 가장 멀리있는 3개의 minor class와 평균거리가 가장 가까운 하나의 majority class를 선택\n",
    "- Type3: majority class의 개수를 정하고 각 minority class에서 가장 가까운 것을 선택한다. (이 경우 majority class와 minority class가 경계선에 서로 겹치게 됨)"
   ]
  },
  {
   "cell_type": "code",
   "execution_count": 95,
   "metadata": {},
   "outputs": [
    {
     "name": "stdout",
     "output_type": "stream",
     "text": [
      "sex   \n",
      "Male      114\n",
      "Female    114\n",
      "dtype: int64\n"
     ]
    }
   ],
   "source": [
    "nrus1 = usam.NearMiss(n_neighbors = 3, version = 1)   ##타입을 변경하고 싶을 때 version을 1,2,3으로 바꿀 수 있음\n",
    "undersampled_X, undersampled_Y = nrus1.fit_resample(X_train, y_train)\n",
    "print(undersampled_Y.value_counts())"
   ]
  },
  {
   "cell_type": "markdown",
   "metadata": {},
   "source": [
    "### 5. Tomek's link method\n",
    "- 클래스가 다른 두 데이터가 아주 가까이 붙어있다면 토멕링크가 된다. 토멕 링크를 찾은 다음 그 중에서 다수 클래스에 속하는 데이터를 제외하는 방법으로 경계선을 다수 클래스 쪽으로 밀어붙이는 효과가 있음"
   ]
  },
  {
   "cell_type": "code",
   "execution_count": 97,
   "metadata": {},
   "outputs": [
    {
     "name": "stdout",
     "output_type": "stream",
     "text": [
      "sex   \n",
      "Female    114\n",
      "Male      103\n",
      "dtype: int64\n"
     ]
    }
   ],
   "source": [
    "from imblearn.under_sampling import TomekLinks\n",
    "\n",
    "X_samp, y_samp = TomekLinks().fit_resample(X_train, y_train)\n",
    "print(y_samp.value_counts())"
   ]
  },
  {
   "cell_type": "markdown",
   "metadata": {},
   "source": [
    "### 6. One Sided Selection\n",
    "- Tomek Link 방법과 Condensed Nearest Neighbor 기법의 장점만 섞은 것\n",
    "- major class에서 토멕링크에 해당하는 데이터를 제거하고, 나머지 major data에 대해 Condensed Nearest Neighbor을 이용해 밀집된 데이터를 제거한다. "
   ]
  },
  {
   "cell_type": "code",
   "execution_count": 99,
   "metadata": {},
   "outputs": [
    {
     "name": "stdout",
     "output_type": "stream",
     "text": [
      "sex   \n",
      "Female    114\n",
      "Male      100\n",
      "dtype: int64\n"
     ]
    }
   ],
   "source": [
    "from imblearn.under_sampling import OneSidedSelection\n",
    "\n",
    "X_samp, y_samp = OneSidedSelection().fit_resample(X_train, y_train)\n",
    "print(y_samp.value_counts())"
   ]
  }
 ],
 "metadata": {
  "kernelspec": {
   "display_name": "Python 3",
   "language": "python",
   "name": "python3"
  }
 },
 "nbformat": 4,
 "nbformat_minor": 4
}
