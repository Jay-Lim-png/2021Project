{
  "nbformat": 4,
  "nbformat_minor": 0,
  "metadata": {
    "colab": {
      "name": "ADP모의문제(통계분석)_20210802답안.ipynb",
      "provenance": [],
      "collapsed_sections": [],
      "toc_visible": true
    },
    "kernelspec": {
      "name": "python3",
      "display_name": "Python 3"
    },
    "language_info": {
      "name": "python"
    }
  },
  "cells": [
    {
      "cell_type": "markdown",
      "metadata": {
        "id": "TiOIGfFNO2ua"
      },
      "source": [
        "1. 출제자 : 임지연\n",
        "2. 파트 : 통계분석\n",
        "3. 참고한 기출\n",
        "- 16회 기출 (집단간 의료비 지출 차이 분석 : t-test, ANOVA, 회귀분석)\n",
        "- 21회 기출 (이원분산분석 수행 및 테이블 표를 작성하는 문제)"
      ]
    },
    {
      "cell_type": "markdown",
      "metadata": {
        "id": "5yas7-65LAMG"
      },
      "source": [
        "1. latitude 데이터를 저위도지역(-30 ~ 0, 0 ~ 30), 중위도지역(-60 ~ 30, 30 ~ 60) 으로 각각 범주화하고, 범위 바깥에 있는 데이터를 삭제하시오. 'latitude'와 'incomeLevel' 의 2개 독립변수가 종속변수 Score에 미치는 영향을 검정하시오.\n",
        "2. Score', 'GDP per capita', 'Social support', 'Healthy life expectancy', 'Freedom to make life choices', 'Generosity', 'Perceptions of corruption'의 7개 변수 분포 그래프를 그리고, 변수 간 상관관계 매트리스를 만드시오. \n",
        "3. 교호작용을 고려한 회귀분석을 수행하고 결과를 해석하시오."
      ]
    },
    {
      "cell_type": "code",
      "metadata": {
        "id": "OcHfi5y5-N9v"
      },
      "source": [
        "import pandas as pd\n",
        "import numpy as np"
      ],
      "execution_count": 1,
      "outputs": []
    },
    {
      "cell_type": "code",
      "metadata": {
        "id": "r3UrTXgTMC9x"
      },
      "source": [
        "import matplotlib.pyplot as plt\n",
        "import seaborn as sns"
      ],
      "execution_count": 27,
      "outputs": []
    },
    {
      "cell_type": "code",
      "metadata": {
        "colab": {
          "base_uri": "https://localhost:8080/"
        },
        "id": "c0jU_c8VAwZ-",
        "outputId": "46480368-4c77-4e2f-91dd-a1ba3d425872"
      },
      "source": [
        "from google.colab import drive\n",
        "drive.mount('/content/drive')"
      ],
      "execution_count": 2,
      "outputs": [
        {
          "output_type": "stream",
          "text": [
            "Drive already mounted at /content/drive; to attempt to forcibly remount, call drive.mount(\"/content/drive\", force_remount=True).\n"
          ],
          "name": "stdout"
        }
      ]
    },
    {
      "cell_type": "code",
      "metadata": {
        "colab": {
          "base_uri": "https://localhost:8080/",
          "height": 530
        },
        "id": "AbiwYUDfAw1E",
        "outputId": "91afe7a7-081d-4277-c5f5-7089f62158b0"
      },
      "source": [
        "df = pd.read_csv('/content/drive/MyDrive/data/adp/WHR.csv')\n",
        "df.head()"
      ],
      "execution_count": 16,
      "outputs": [
        {
          "output_type": "execute_result",
          "data": {
            "text/html": [
              "<div>\n",
              "<style scoped>\n",
              "    .dataframe tbody tr th:only-of-type {\n",
              "        vertical-align: middle;\n",
              "    }\n",
              "\n",
              "    .dataframe tbody tr th {\n",
              "        vertical-align: top;\n",
              "    }\n",
              "\n",
              "    .dataframe thead th {\n",
              "        text-align: right;\n",
              "    }\n",
              "</style>\n",
              "<table border=\"1\" class=\"dataframe\">\n",
              "  <thead>\n",
              "    <tr style=\"text-align: right;\">\n",
              "      <th></th>\n",
              "      <th>Overall rank</th>\n",
              "      <th>Country or region</th>\n",
              "      <th>Score</th>\n",
              "      <th>GDP per capita</th>\n",
              "      <th>Social support</th>\n",
              "      <th>Healthy life expectancy</th>\n",
              "      <th>Freedom to make life choices</th>\n",
              "      <th>Generosity</th>\n",
              "      <th>Perceptions of corruption</th>\n",
              "      <th>name</th>\n",
              "      <th>region</th>\n",
              "      <th>incomeLevel</th>\n",
              "      <th>longitude</th>\n",
              "      <th>latitude</th>\n",
              "    </tr>\n",
              "  </thead>\n",
              "  <tbody>\n",
              "    <tr>\n",
              "      <th>0</th>\n",
              "      <td>1</td>\n",
              "      <td>Finland</td>\n",
              "      <td>7.769</td>\n",
              "      <td>1.340</td>\n",
              "      <td>1.587</td>\n",
              "      <td>0.986</td>\n",
              "      <td>0.596</td>\n",
              "      <td>0.153</td>\n",
              "      <td>0.393</td>\n",
              "      <td>Finland</td>\n",
              "      <td>Europe &amp; Central Asia</td>\n",
              "      <td>High income</td>\n",
              "      <td>24.95250</td>\n",
              "      <td>60.1608</td>\n",
              "    </tr>\n",
              "    <tr>\n",
              "      <th>1</th>\n",
              "      <td>2</td>\n",
              "      <td>Denmark</td>\n",
              "      <td>7.600</td>\n",
              "      <td>1.383</td>\n",
              "      <td>1.573</td>\n",
              "      <td>0.996</td>\n",
              "      <td>0.592</td>\n",
              "      <td>0.252</td>\n",
              "      <td>0.410</td>\n",
              "      <td>Denmark</td>\n",
              "      <td>Europe &amp; Central Asia</td>\n",
              "      <td>High income</td>\n",
              "      <td>12.56810</td>\n",
              "      <td>55.6763</td>\n",
              "    </tr>\n",
              "    <tr>\n",
              "      <th>2</th>\n",
              "      <td>3</td>\n",
              "      <td>Norway</td>\n",
              "      <td>7.554</td>\n",
              "      <td>1.488</td>\n",
              "      <td>1.582</td>\n",
              "      <td>1.028</td>\n",
              "      <td>0.603</td>\n",
              "      <td>0.271</td>\n",
              "      <td>0.341</td>\n",
              "      <td>Norway</td>\n",
              "      <td>Europe &amp; Central Asia</td>\n",
              "      <td>High income</td>\n",
              "      <td>10.73870</td>\n",
              "      <td>59.9138</td>\n",
              "    </tr>\n",
              "    <tr>\n",
              "      <th>3</th>\n",
              "      <td>4</td>\n",
              "      <td>Iceland</td>\n",
              "      <td>7.494</td>\n",
              "      <td>1.380</td>\n",
              "      <td>1.624</td>\n",
              "      <td>1.026</td>\n",
              "      <td>0.591</td>\n",
              "      <td>0.354</td>\n",
              "      <td>0.118</td>\n",
              "      <td>Iceland</td>\n",
              "      <td>Europe &amp; Central Asia</td>\n",
              "      <td>High income</td>\n",
              "      <td>-21.89520</td>\n",
              "      <td>64.1353</td>\n",
              "    </tr>\n",
              "    <tr>\n",
              "      <th>4</th>\n",
              "      <td>5</td>\n",
              "      <td>Netherlands</td>\n",
              "      <td>7.488</td>\n",
              "      <td>1.396</td>\n",
              "      <td>1.522</td>\n",
              "      <td>0.999</td>\n",
              "      <td>0.557</td>\n",
              "      <td>0.322</td>\n",
              "      <td>0.298</td>\n",
              "      <td>Netherlands</td>\n",
              "      <td>Europe &amp; Central Asia</td>\n",
              "      <td>High income</td>\n",
              "      <td>4.89095</td>\n",
              "      <td>52.3738</td>\n",
              "    </tr>\n",
              "  </tbody>\n",
              "</table>\n",
              "</div>"
            ],
            "text/plain": [
              "   Overall rank Country or region  Score  ...  incomeLevel  longitude  latitude\n",
              "0             1           Finland  7.769  ...  High income   24.95250   60.1608\n",
              "1             2           Denmark  7.600  ...  High income   12.56810   55.6763\n",
              "2             3            Norway  7.554  ...  High income   10.73870   59.9138\n",
              "3             4           Iceland  7.494  ...  High income  -21.89520   64.1353\n",
              "4             5       Netherlands  7.488  ...  High income    4.89095   52.3738\n",
              "\n",
              "[5 rows x 14 columns]"
            ]
          },
          "metadata": {
            "tags": []
          },
          "execution_count": 16
        }
      ]
    },
    {
      "cell_type": "code",
      "metadata": {
        "colab": {
          "base_uri": "https://localhost:8080/"
        },
        "id": "hhteJgUSIC3H",
        "outputId": "124fd5ea-4f76-4f1f-f308-78ede4e13a1e"
      },
      "source": [
        "df.info()"
      ],
      "execution_count": 15,
      "outputs": [
        {
          "output_type": "stream",
          "text": [
            "<class 'pandas.core.frame.DataFrame'>\n",
            "RangeIndex: 156 entries, 0 to 155\n",
            "Data columns (total 14 columns):\n",
            " #   Column                        Non-Null Count  Dtype  \n",
            "---  ------                        --------------  -----  \n",
            " 0   Overall rank                  156 non-null    int64  \n",
            " 1   Country or region             156 non-null    object \n",
            " 2   Score                         156 non-null    float64\n",
            " 3   GDP per capita                156 non-null    float64\n",
            " 4   Social support                156 non-null    float64\n",
            " 5   Healthy life expectancy       156 non-null    float64\n",
            " 6   Freedom to make life choices  156 non-null    float64\n",
            " 7   Generosity                    156 non-null    float64\n",
            " 8   Perceptions of corruption     156 non-null    float64\n",
            " 9   name                          136 non-null    object \n",
            " 10  region                        136 non-null    object \n",
            " 11  incomeLevel                   136 non-null    object \n",
            " 12  longitude                     136 non-null    float64\n",
            " 13  latitude                      136 non-null    object \n",
            "dtypes: float64(8), int64(1), object(5)\n",
            "memory usage: 17.2+ KB\n"
          ],
          "name": "stdout"
        }
      ]
    },
    {
      "cell_type": "code",
      "metadata": {
        "id": "qFdrZsA0IFkL"
      },
      "source": [
        ""
      ],
      "execution_count": null,
      "outputs": []
    },
    {
      "cell_type": "markdown",
      "metadata": {
        "id": "Kbcg7n-4OzlI"
      },
      "source": [
        "###1. latitude 데이터를 저위도지역(-30 ~ 0, 0 ~ 30), 중위도지역(-60 ~ 30, 30 ~ 60) 으로 각각 범주화하고, 범위 바깥에 있는 데이터를 삭제하시오. 'latitude'와 'incomeLevel' 의 2개 독립변수가 종속변수 Score에 미치는 영향을 검정하시오."
      ]
    },
    {
      "cell_type": "code",
      "metadata": {
        "id": "x5U88ltmO0tO"
      },
      "source": [
        "df.loc[(df['latitude']>=-30) & (df['latitude']<=30), 'latitude_x'] = '저위도지역'\n",
        "df.loc[(df['latitude']>=-60)& (df['latitude']<-30), 'latitude_x'] ='중위도지역'\n",
        "df.loc[(df['latitude']>30)& (df['latitude']<=60), 'latitude_x'] ='중위도지역'\n",
        "\n",
        "## 고위도 중위도만 남기기\n",
        "df = df[~df['latitude_x'].isnull()]"
      ],
      "execution_count": 17,
      "outputs": []
    },
    {
      "cell_type": "code",
      "metadata": {
        "colab": {
          "base_uri": "https://localhost:8080/"
        },
        "id": "0ufcxS0NUa5T",
        "outputId": "a13214c1-7741-4bf8-f064-d7ccdc8931c1"
      },
      "source": [
        "df.info()"
      ],
      "execution_count": 18,
      "outputs": [
        {
          "output_type": "stream",
          "text": [
            "<class 'pandas.core.frame.DataFrame'>\n",
            "Int64Index: 134 entries, 1 to 155\n",
            "Data columns (total 15 columns):\n",
            " #   Column                        Non-Null Count  Dtype  \n",
            "---  ------                        --------------  -----  \n",
            " 0   Overall rank                  134 non-null    int64  \n",
            " 1   Country or region             134 non-null    object \n",
            " 2   Score                         134 non-null    float64\n",
            " 3   GDP per capita                134 non-null    float64\n",
            " 4   Social support                134 non-null    float64\n",
            " 5   Healthy life expectancy       134 non-null    float64\n",
            " 6   Freedom to make life choices  134 non-null    float64\n",
            " 7   Generosity                    134 non-null    float64\n",
            " 8   Perceptions of corruption     134 non-null    float64\n",
            " 9   name                          134 non-null    object \n",
            " 10  region                        134 non-null    object \n",
            " 11  incomeLevel                   134 non-null    object \n",
            " 12  longitude                     134 non-null    float64\n",
            " 13  latitude                      134 non-null    float64\n",
            " 14  latitude_x                    134 non-null    object \n",
            "dtypes: float64(9), int64(1), object(5)\n",
            "memory usage: 16.8+ KB\n"
          ],
          "name": "stdout"
        }
      ]
    },
    {
      "cell_type": "code",
      "metadata": {
        "id": "7_1GmWpUUchh",
        "colab": {
          "base_uri": "https://localhost:8080/",
          "height": 173
        },
        "outputId": "7185fd8b-ee06-4d46-9fcf-5e14a948bbc2"
      },
      "source": [
        "## latitude와 income level이 미치는 영향을 알아보기 위해 two way anova를 실시함\n",
        "\n",
        "import statsmodels.api as sm\n",
        "from statsmodels.formula.api import ols\n",
        "\n",
        "#perform two-way ANOVA\n",
        "model = ols('Score ~ C(latitude_x) + C(incomeLevel) + C(latitude_x):C(incomeLevel)', data=df).fit()\n",
        "sm.stats.anova_lm(model, typ=2)"
      ],
      "execution_count": 21,
      "outputs": [
        {
          "output_type": "execute_result",
          "data": {
            "text/html": [
              "<div>\n",
              "<style scoped>\n",
              "    .dataframe tbody tr th:only-of-type {\n",
              "        vertical-align: middle;\n",
              "    }\n",
              "\n",
              "    .dataframe tbody tr th {\n",
              "        vertical-align: top;\n",
              "    }\n",
              "\n",
              "    .dataframe thead th {\n",
              "        text-align: right;\n",
              "    }\n",
              "</style>\n",
              "<table border=\"1\" class=\"dataframe\">\n",
              "  <thead>\n",
              "    <tr style=\"text-align: right;\">\n",
              "      <th></th>\n",
              "      <th>sum_sq</th>\n",
              "      <th>df</th>\n",
              "      <th>F</th>\n",
              "      <th>PR(&gt;F)</th>\n",
              "    </tr>\n",
              "  </thead>\n",
              "  <tbody>\n",
              "    <tr>\n",
              "      <th>C(latitude_x)</th>\n",
              "      <td>0.182014</td>\n",
              "      <td>1.0</td>\n",
              "      <td>0.404318</td>\n",
              "      <td>5.260211e-01</td>\n",
              "    </tr>\n",
              "    <tr>\n",
              "      <th>C(incomeLevel)</th>\n",
              "      <td>70.294699</td>\n",
              "      <td>3.0</td>\n",
              "      <td>52.049718</td>\n",
              "      <td>5.917289e-22</td>\n",
              "    </tr>\n",
              "    <tr>\n",
              "      <th>C(latitude_x):C(incomeLevel)</th>\n",
              "      <td>3.263998</td>\n",
              "      <td>3.0</td>\n",
              "      <td>2.416828</td>\n",
              "      <td>6.947440e-02</td>\n",
              "    </tr>\n",
              "    <tr>\n",
              "      <th>Residual</th>\n",
              "      <td>56.722254</td>\n",
              "      <td>126.0</td>\n",
              "      <td>NaN</td>\n",
              "      <td>NaN</td>\n",
              "    </tr>\n",
              "  </tbody>\n",
              "</table>\n",
              "</div>"
            ],
            "text/plain": [
              "                                 sum_sq     df          F        PR(>F)\n",
              "C(latitude_x)                  0.182014    1.0   0.404318  5.260211e-01\n",
              "C(incomeLevel)                70.294699    3.0  52.049718  5.917289e-22\n",
              "C(latitude_x):C(incomeLevel)   3.263998    3.0   2.416828  6.947440e-02\n",
              "Residual                      56.722254  126.0        NaN           NaN"
            ]
          },
          "metadata": {
            "tags": []
          },
          "execution_count": 21
        }
      ]
    },
    {
      "cell_type": "markdown",
      "metadata": {
        "id": "bfxW-vPR4s82"
      },
      "source": [
        "이원분산분석의 조건인 정규성과 집단 간 등분산성 조건이 ANOVA 검정이 불가능한 수준이 아니라고 전제. \n",
        "위 이원분산분석 결과를 해석하면, latitude와 incomeLevel 모두 행복지수 Score에 영향을 미치고 있으며, latitude와 incomeLevel 또한 서로 교호작용이 있음. 사후분석을 통해 어떤 카테고리의 영향력 크기를 비교해보도록 하겠음."
      ]
    },
    {
      "cell_type": "code",
      "metadata": {
        "colab": {
          "base_uri": "https://localhost:8080/",
          "height": 422
        },
        "id": "JVsD26pgETce",
        "outputId": "5d59a7da-c854-443f-e90d-cb9fd7795aac"
      },
      "source": [
        "## Tukey HSD (샘플의 수가 다르므로 Tukey-Krammer 검정) 사용\n",
        "\n",
        "from statsmodels.stats.multicomp import pairwise_tukeyhsd\n",
        "\n",
        "anova_df = df[['latitude_x', 'incomeLevel', 'Score']]\n",
        "anova_df['combination'] = anova_df.latitude_x + \" / \" + anova_df.incomeLevel\n",
        "\n",
        "# perform multiple pairwise comparison (Tukey HSD)\n",
        "m_comp = pairwise_tukeyhsd(endog=anova_df['Score'], groups=anova_df['combination'], alpha=0.05)\n",
        "\n",
        "# coerce the tukeyhsd table to a DataFrame\n",
        "tukey_data = pd.DataFrame(data=m_comp._results_table.data[1:], columns = m_comp._results_table.data[0])\n",
        "\n",
        "group1_comp =tukey_data.loc[tukey_data.reject == True].groupby('group1').reject.count()\n",
        "group2_comp = tukey_data.loc[tukey_data.reject == True].groupby('group2').reject.count()\n",
        "tukey_data = pd.concat([group1_comp, group2_comp], axis=1)\n",
        "\n",
        "tukey_data = tukey_data.fillna(0)\n",
        "tukey_data.columns = ['reject1', 'reject2']\n",
        "tukey_data['total_sum'] = tukey_data.reject1 + tukey_data.reject2\n",
        "\n",
        "# just show the top 20 results\n",
        "tukey_data.sort_values('total_sum',ascending=False)"
      ],
      "execution_count": 25,
      "outputs": [
        {
          "output_type": "stream",
          "text": [
            "/usr/local/lib/python3.7/dist-packages/ipykernel_launcher.py:4: SettingWithCopyWarning: \n",
            "A value is trying to be set on a copy of a slice from a DataFrame.\n",
            "Try using .loc[row_indexer,col_indexer] = value instead\n",
            "\n",
            "See the caveats in the documentation: https://pandas.pydata.org/pandas-docs/stable/user_guide/indexing.html#returning-a-view-versus-a-copy\n",
            "  after removing the cwd from sys.path.\n"
          ],
          "name": "stderr"
        },
        {
          "output_type": "execute_result",
          "data": {
            "text/html": [
              "<div>\n",
              "<style scoped>\n",
              "    .dataframe tbody tr th:only-of-type {\n",
              "        vertical-align: middle;\n",
              "    }\n",
              "\n",
              "    .dataframe tbody tr th {\n",
              "        vertical-align: top;\n",
              "    }\n",
              "\n",
              "    .dataframe thead th {\n",
              "        text-align: right;\n",
              "    }\n",
              "</style>\n",
              "<table border=\"1\" class=\"dataframe\">\n",
              "  <thead>\n",
              "    <tr style=\"text-align: right;\">\n",
              "      <th></th>\n",
              "      <th>reject1</th>\n",
              "      <th>reject2</th>\n",
              "      <th>total_sum</th>\n",
              "    </tr>\n",
              "  </thead>\n",
              "  <tbody>\n",
              "    <tr>\n",
              "      <th>저위도지역 / Low income</th>\n",
              "      <td>5.0</td>\n",
              "      <td>1.0</td>\n",
              "      <td>6.0</td>\n",
              "    </tr>\n",
              "    <tr>\n",
              "      <th>중위도지역 / High income</th>\n",
              "      <td>3.0</td>\n",
              "      <td>3.0</td>\n",
              "      <td>6.0</td>\n",
              "    </tr>\n",
              "    <tr>\n",
              "      <th>저위도지역 / High income</th>\n",
              "      <td>5.0</td>\n",
              "      <td>0.0</td>\n",
              "      <td>5.0</td>\n",
              "    </tr>\n",
              "    <tr>\n",
              "      <th>저위도지역 / Lower middle income</th>\n",
              "      <td>2.0</td>\n",
              "      <td>2.0</td>\n",
              "      <td>4.0</td>\n",
              "    </tr>\n",
              "    <tr>\n",
              "      <th>저위도지역 / Upper middle income</th>\n",
              "      <td>1.0</td>\n",
              "      <td>2.0</td>\n",
              "      <td>3.0</td>\n",
              "    </tr>\n",
              "    <tr>\n",
              "      <th>중위도지역 / Lower middle income</th>\n",
              "      <td>0.0</td>\n",
              "      <td>3.0</td>\n",
              "      <td>3.0</td>\n",
              "    </tr>\n",
              "    <tr>\n",
              "      <th>중위도지역 / Upper middle income</th>\n",
              "      <td>0.0</td>\n",
              "      <td>3.0</td>\n",
              "      <td>3.0</td>\n",
              "    </tr>\n",
              "    <tr>\n",
              "      <th>중위도지역 / Low income</th>\n",
              "      <td>0.0</td>\n",
              "      <td>2.0</td>\n",
              "      <td>2.0</td>\n",
              "    </tr>\n",
              "  </tbody>\n",
              "</table>\n",
              "</div>"
            ],
            "text/plain": [
              "                             reject1  reject2  total_sum\n",
              "저위도지역 / Low income               5.0      1.0        6.0\n",
              "중위도지역 / High income              3.0      3.0        6.0\n",
              "저위도지역 / High income              5.0      0.0        5.0\n",
              "저위도지역 / Lower middle income      2.0      2.0        4.0\n",
              "저위도지역 / Upper middle income      1.0      2.0        3.0\n",
              "중위도지역 / Lower middle income      0.0      3.0        3.0\n",
              "중위도지역 / Upper middle income      0.0      3.0        3.0\n",
              "중위도지역 / Low income               0.0      2.0        2.0"
            ]
          },
          "metadata": {
            "tags": []
          },
          "execution_count": 25
        }
      ]
    },
    {
      "cell_type": "markdown",
      "metadata": {
        "id": "rPJW1gkRKnut"
      },
      "source": [
        "## 2.Score', 'GDP per capita', 'Social support', 'Healthy life expectancy', 'Freedom to make life choices', 'Generosity', 'Perceptions of corruption'의 7개 변수 분포 그래프를 그리고, 변수 간 상관관계 매트리스를 만드시오."
      ]
    },
    {
      "cell_type": "code",
      "metadata": {
        "colab": {
          "base_uri": "https://localhost:8080/",
          "height": 988
        },
        "id": "KkjQeok0L9Vh",
        "outputId": "e82a191b-00fd-4061-d389-823426a5d8f8"
      },
      "source": [
        "\n",
        "fig, axes = plt.subplots(2, 3, figsize=(20,16))\n",
        "sns.distplot(df['GDP per capita'], hist = True, kde = True, ax = axes[0,0])\n",
        "sns.distplot(df['Social support'], hist = True, kde = True, ax = axes[0,1])\n",
        "sns.distplot(df['Healthy life expectancy'], hist = True, kde = True, ax = axes[0,2])\n",
        "sns.distplot(df['Freedom to make life choices'], hist = True, kde = True, ax = axes[1,0])\n",
        "sns.distplot(df['Generosity'], hist = True, kde = True, ax = axes[1,1])\n",
        "sns.distplot(df['Perceptions of corruption'], hist = True, kde = True, ax = axes[1,2])\n",
        "plt.show()"
      ],
      "execution_count": 28,
      "outputs": [
        {
          "output_type": "stream",
          "text": [
            "/usr/local/lib/python3.7/dist-packages/seaborn/distributions.py:2557: FutureWarning: `distplot` is a deprecated function and will be removed in a future version. Please adapt your code to use either `displot` (a figure-level function with similar flexibility) or `histplot` (an axes-level function for histograms).\n",
            "  warnings.warn(msg, FutureWarning)\n",
            "/usr/local/lib/python3.7/dist-packages/seaborn/distributions.py:2557: FutureWarning: `distplot` is a deprecated function and will be removed in a future version. Please adapt your code to use either `displot` (a figure-level function with similar flexibility) or `histplot` (an axes-level function for histograms).\n",
            "  warnings.warn(msg, FutureWarning)\n",
            "/usr/local/lib/python3.7/dist-packages/seaborn/distributions.py:2557: FutureWarning: `distplot` is a deprecated function and will be removed in a future version. Please adapt your code to use either `displot` (a figure-level function with similar flexibility) or `histplot` (an axes-level function for histograms).\n",
            "  warnings.warn(msg, FutureWarning)\n",
            "/usr/local/lib/python3.7/dist-packages/seaborn/distributions.py:2557: FutureWarning: `distplot` is a deprecated function and will be removed in a future version. Please adapt your code to use either `displot` (a figure-level function with similar flexibility) or `histplot` (an axes-level function for histograms).\n",
            "  warnings.warn(msg, FutureWarning)\n",
            "/usr/local/lib/python3.7/dist-packages/seaborn/distributions.py:2557: FutureWarning: `distplot` is a deprecated function and will be removed in a future version. Please adapt your code to use either `displot` (a figure-level function with similar flexibility) or `histplot` (an axes-level function for histograms).\n",
            "  warnings.warn(msg, FutureWarning)\n",
            "/usr/local/lib/python3.7/dist-packages/seaborn/distributions.py:2557: FutureWarning: `distplot` is a deprecated function and will be removed in a future version. Please adapt your code to use either `displot` (a figure-level function with similar flexibility) or `histplot` (an axes-level function for histograms).\n",
            "  warnings.warn(msg, FutureWarning)\n"
          ],
          "name": "stderr"
        },
        {
          "output_type": "display_data",
          "data": {
            "image/png": "[encoded data removed]",
            "text/plain": [
              "<Figure size 1440x1152 with 6 Axes>"
            ]
          },
          "metadata": {
            "tags": [],
            "needs_background": "light"
          }
        }
      ]
    },
    {
      "cell_type": "code",
      "metadata": {
        "colab": {
          "base_uri": "https://localhost:8080/",
          "height": 334
        },
        "id": "yuyAAYL-L9jQ",
        "outputId": "d1eb980d-6c6d-4cc4-ece9-66967c03e30e"
      },
      "source": [
        "df[['Score', 'GDP per capita', 'Social support', 'Healthy life expectancy', 'Freedom to make life choices', 'Generosity', 'Perceptions of corruption']].corr()"
      ],
      "execution_count": 29,
      "outputs": [
        {
          "output_type": "execute_result",
          "data": {
            "text/html": [
              "<div>\n",
              "<style scoped>\n",
              "    .dataframe tbody tr th:only-of-type {\n",
              "        vertical-align: middle;\n",
              "    }\n",
              "\n",
              "    .dataframe tbody tr th {\n",
              "        vertical-align: top;\n",
              "    }\n",
              "\n",
              "    .dataframe thead th {\n",
              "        text-align: right;\n",
              "    }\n",
              "</style>\n",
              "<table border=\"1\" class=\"dataframe\">\n",
              "  <thead>\n",
              "    <tr style=\"text-align: right;\">\n",
              "      <th></th>\n",
              "      <th>Score</th>\n",
              "      <th>GDP per capita</th>\n",
              "      <th>Social support</th>\n",
              "      <th>Healthy life expectancy</th>\n",
              "      <th>Freedom to make life choices</th>\n",
              "      <th>Generosity</th>\n",
              "      <th>Perceptions of corruption</th>\n",
              "    </tr>\n",
              "  </thead>\n",
              "  <tbody>\n",
              "    <tr>\n",
              "      <th>Score</th>\n",
              "      <td>1.000000</td>\n",
              "      <td>0.805963</td>\n",
              "      <td>0.784659</td>\n",
              "      <td>0.801338</td>\n",
              "      <td>0.542527</td>\n",
              "      <td>0.062037</td>\n",
              "      <td>0.403298</td>\n",
              "    </tr>\n",
              "    <tr>\n",
              "      <th>GDP per capita</th>\n",
              "      <td>0.805963</td>\n",
              "      <td>1.000000</td>\n",
              "      <td>0.791779</td>\n",
              "      <td>0.853389</td>\n",
              "      <td>0.389680</td>\n",
              "      <td>-0.097278</td>\n",
              "      <td>0.305887</td>\n",
              "    </tr>\n",
              "    <tr>\n",
              "      <th>Social support</th>\n",
              "      <td>0.784659</td>\n",
              "      <td>0.791779</td>\n",
              "      <td>1.000000</td>\n",
              "      <td>0.752237</td>\n",
              "      <td>0.438826</td>\n",
              "      <td>-0.032101</td>\n",
              "      <td>0.214007</td>\n",
              "    </tr>\n",
              "    <tr>\n",
              "      <th>Healthy life expectancy</th>\n",
              "      <td>0.801338</td>\n",
              "      <td>0.853389</td>\n",
              "      <td>0.752237</td>\n",
              "      <td>1.000000</td>\n",
              "      <td>0.404311</td>\n",
              "      <td>-0.075739</td>\n",
              "      <td>0.311384</td>\n",
              "    </tr>\n",
              "    <tr>\n",
              "      <th>Freedom to make life choices</th>\n",
              "      <td>0.542527</td>\n",
              "      <td>0.389680</td>\n",
              "      <td>0.438826</td>\n",
              "      <td>0.404311</td>\n",
              "      <td>1.000000</td>\n",
              "      <td>0.266795</td>\n",
              "      <td>0.452408</td>\n",
              "    </tr>\n",
              "    <tr>\n",
              "      <th>Generosity</th>\n",
              "      <td>0.062037</td>\n",
              "      <td>-0.097278</td>\n",
              "      <td>-0.032101</td>\n",
              "      <td>-0.075739</td>\n",
              "      <td>0.266795</td>\n",
              "      <td>1.000000</td>\n",
              "      <td>0.338353</td>\n",
              "    </tr>\n",
              "    <tr>\n",
              "      <th>Perceptions of corruption</th>\n",
              "      <td>0.403298</td>\n",
              "      <td>0.305887</td>\n",
              "      <td>0.214007</td>\n",
              "      <td>0.311384</td>\n",
              "      <td>0.452408</td>\n",
              "      <td>0.338353</td>\n",
              "      <td>1.000000</td>\n",
              "    </tr>\n",
              "  </tbody>\n",
              "</table>\n",
              "</div>"
            ],
            "text/plain": [
              "                                 Score  ...  Perceptions of corruption\n",
              "Score                         1.000000  ...                   0.403298\n",
              "GDP per capita                0.805963  ...                   0.305887\n",
              "Social support                0.784659  ...                   0.214007\n",
              "Healthy life expectancy       0.801338  ...                   0.311384\n",
              "Freedom to make life choices  0.542527  ...                   0.452408\n",
              "Generosity                    0.062037  ...                   0.338353\n",
              "Perceptions of corruption     0.403298  ...                   1.000000\n",
              "\n",
              "[7 rows x 7 columns]"
            ]
          },
          "metadata": {
            "tags": []
          },
          "execution_count": 29
        }
      ]
    },
    {
      "cell_type": "code",
      "metadata": {
        "colab": {
          "base_uri": "https://localhost:8080/",
          "height": 619
        },
        "id": "tzuNpdY9MK07",
        "outputId": "df250198-114f-429b-ca9b-ba8fd4a19e60"
      },
      "source": [
        "def corr_graph(data):\n",
        "    data_corr = data.corr()\n",
        "    fig, ax = plt.subplots(figsize = (10,8))\n",
        "    mask = np.triu(np.ones_like(data_corr, dtype = np.bool))\n",
        "\n",
        "    mask = mask[1:,:-1]\n",
        "    corr = data_corr.iloc[1:,:-1].copy()\n",
        "\n",
        "    sns.heatmap(corr, mask=mask, annot=True, fmt=\".2f\", cmap='Blues',vmin=-1, vmax=1, cbar_kws={\"shrink\": .8})\n",
        "    plt.yticks(rotation = 0)\n",
        "    plt.show()\n",
        "\n",
        "corr_graph(df[['Score', 'GDP per capita', 'Social support', 'Healthy life expectancy', 'Freedom to make life choices', 'Generosity', 'Perceptions of corruption']])"
      ],
      "execution_count": 30,
      "outputs": [
        {
          "output_type": "display_data",
          "data": {
            "image/png": "[encoded data removed]",
            "text/plain": [
              "<Figure size 720x576 with 2 Axes>"
            ]
          },
          "metadata": {
            "tags": [],
            "needs_background": "light"
          }
        }
      ]
    },
    {
      "cell_type": "markdown",
      "metadata": {
        "id": "zmpGuTpAMWAc"
      },
      "source": [
        ""
      ]
    },
    {
      "cell_type": "code",
      "metadata": {
        "id": "9nmQ4Q7HMMrE"
      },
      "source": [
        ""
      ],
      "execution_count": null,
      "outputs": []
    },
    {
      "cell_type": "markdown",
      "metadata": {
        "id": "ZPT1pDQtMaMz"
      },
      "source": [
        "##3.'GDP per capita', 'Social support', 'Healthy life expectancy', 'Freedom to make life choices', 'Generosity', 'incomeLevel', 'latitude(1에서 범주화된)' 변수를 이용해 교호작용을 고려한 회귀분석을 수행하고 결과를 해석하시오. "
      ]
    },
    {
      "cell_type": "code",
      "metadata": {
        "id": "Ys8CWHHTMcaA"
      },
      "source": [
        "df_reg = df[['GDP per capita', 'Social support', 'Healthy life expectancy', 'Freedom to make life choices', 'Generosity']]\n",
        "df_dummies = pd.get_dummies(df[['incomeLevel', 'latitude_x']])\n",
        "df_reg = pd.concat([df_reg, df_dummies], axis = 1)\n",
        "\n",
        "y = df['Score']"
      ],
      "execution_count": 38,
      "outputs": []
    },
    {
      "cell_type": "code",
      "metadata": {
        "colab": {
          "base_uri": "https://localhost:8080/"
        },
        "id": "RBA6CHXlWMYV",
        "outputId": "1f393ec5-74e2-4c90-f414-3e91aff744cb"
      },
      "source": [
        "from sklearn.preprocessing import PolynomialFeatures\n",
        "from sklearn.linear_model import LinearRegression\n",
        "import statsmodels.api as sm\n",
        "\n",
        "poly = PolynomialFeatures(interaction_only=True,include_bias = False)\n",
        "poly.fit_transform(df_reg)   ## 변수에 교호작용을 추가해줌"
      ],
      "execution_count": 39,
      "outputs": [
        {
          "output_type": "execute_result",
          "data": {
            "text/plain": [
              "array([[1.383, 1.573, 0.996, ..., 0.   , 0.   , 0.   ],\n",
              "       [1.488, 1.582, 1.028, ..., 0.   , 0.   , 0.   ],\n",
              "       [1.396, 1.522, 0.999, ..., 0.   , 0.   , 0.   ],\n",
              "       ...,\n",
              "       [0.35 , 0.517, 0.361, ..., 0.   , 0.   , 0.   ],\n",
              "       [0.026, 0.   , 0.105, ..., 0.   , 0.   , 0.   ],\n",
              "       [0.306, 0.575, 0.295, ..., 0.   , 0.   , 0.   ]])"
            ]
          },
          "metadata": {
            "tags": []
          },
          "execution_count": 39
        }
      ]
    },
    {
      "cell_type": "code",
      "metadata": {
        "colab": {
          "base_uri": "https://localhost:8080/"
        },
        "id": "NrKOjT0KjtSb",
        "outputId": "eaa898f0-4dbf-4b94-a879-4ef24e1bcaa5"
      },
      "source": [
        "df_reg.columns"
      ],
      "execution_count": 41,
      "outputs": [
        {
          "output_type": "execute_result",
          "data": {
            "text/plain": [
              "Index(['GDP per capita', 'Social support', 'Healthy life expectancy',\n",
              "       'Freedom to make life choices', 'Generosity', 'incomeLevel_High income',\n",
              "       'incomeLevel_Low income', 'incomeLevel_Lower middle income',\n",
              "       'incomeLevel_Upper middle income', 'latitude_x_저위도지역',\n",
              "       'latitude_x_중위도지역'],\n",
              "      dtype='object')"
            ]
          },
          "metadata": {
            "tags": []
          },
          "execution_count": 41
        }
      ]
    },
    {
      "cell_type": "code",
      "metadata": {
        "colab": {
          "base_uri": "https://localhost:8080/"
        },
        "id": "nFH99tJzhDzg",
        "outputId": "a9c8ca50-2f95-4421-85c1-7cd127d79ceb"
      },
      "source": [
        "### 후진제거법은 p-value가 가장 큰 것부터 없애나간다\n",
        "from sklearn.feature_selection import RFE\n",
        "from sklearn.linear_model import LinearRegression\n",
        "import statsmodels.api as sm\n",
        "\n",
        "lr = LinearRegression()\n",
        "## n_features_to_select : 최종적으로 몇개의 변수를 골라낼 것인가, step = 한 번에 몇 개의 변수를 골라낼 것인가\n",
        "\n",
        "## 1개씩 없애가면서 살펴보기\n",
        "for i in range(len(df_reg.columns),0,-1):\n",
        "  rfe = RFE(lr, n_features_to_select = i, step = 1)\n",
        "  model = rfe.fit(df_reg, y)\n",
        "  filtered_list = [i for (i, v) in zip(df_reg.columns, model.support_) if v]\n",
        "  ## R2 확인용\n",
        "  X = df_reg[filtered_list]\n",
        "  X = sm.add_constant(X)\n",
        "  model = sm.OLS(y,X)\n",
        "  results = model.fit()\n",
        "  print(\"선택된 변수:\", filtered_list)\n",
        "  print(results.summary())\n",
        "  print(\"=====================\\n\")"
      ],
      "execution_count": 40,
      "outputs": [
        {
          "output_type": "stream",
          "text": [
            "선택된 변수: ['GDP per capita', 'Social support', 'Healthy life expectancy', 'Freedom to make life choices', 'Generosity', 'incomeLevel_High income', 'incomeLevel_Low income', 'incomeLevel_Lower middle income', 'incomeLevel_Upper middle income', 'latitude_x_저위도지역', 'latitude_x_중위도지역']\n",
            "                            OLS Regression Results                            \n",
            "==============================================================================\n",
            "Dep. Variable:                  Score   R-squared:                       0.794\n",
            "Model:                            OLS   Adj. R-squared:                  0.779\n",
            "Method:                 Least Squares   F-statistic:                     53.12\n",
            "Date:                Fri, 06 Aug 2021   Prob (F-statistic):           2.35e-38\n",
            "Time:                        22:21:28   Log-Likelihood:                -97.782\n",
            "No. Observations:                 134   AIC:                             215.6\n",
            "Df Residuals:                     124   BIC:                             244.5\n",
            "Df Model:                           9                                         \n",
            "Covariance Type:            nonrobust                                         \n",
            "===================================================================================================\n",
            "                                      coef    std err          t      P>|t|      [0.025      0.975]\n",
            "---------------------------------------------------------------------------------------------------\n",
            "const                               1.2122      0.204      5.943      0.000       0.808       1.616\n",
            "GDP per capita                      0.4146      0.373      1.111      0.269      -0.324       1.153\n",
            "Social support                      1.1214      0.266      4.219      0.000       0.595       1.647\n",
            "Healthy life expectancy             1.1284      0.414      2.728      0.007       0.310       1.947\n",
            "Freedom to make life choices        1.5843      0.424      3.741      0.000       0.746       2.423\n",
            "Generosity                          0.5666      0.522      1.086      0.280      -0.466       1.599\n",
            "incomeLevel_High income             0.6055      0.229      2.647      0.009       0.153       1.058\n",
            "incomeLevel_Low income              0.2855      0.178      1.606      0.111      -0.066       0.637\n",
            "incomeLevel_Lower middle income     0.1502      0.092      1.629      0.106      -0.032       0.333\n",
            "incomeLevel_Upper middle income     0.1710      0.134      1.278      0.204      -0.094       0.436\n",
            "latitude_x_저위도지역                    0.5441      0.110      4.928      0.000       0.326       0.763\n",
            "latitude_x_중위도지역                    0.6681      0.129      5.190      0.000       0.413       0.923\n",
            "==============================================================================\n",
            "Omnibus:                        1.933   Durbin-Watson:                   1.841\n",
            "Prob(Omnibus):                  0.380   Jarque-Bera (JB):                1.444\n",
            "Skew:                          -0.188   Prob(JB):                        0.486\n",
            "Kurtosis:                       3.343   Cond. No.                     3.42e+16\n",
            "==============================================================================\n",
            "\n",
            "Warnings:\n",
            "[1] Standard Errors assume that the covariance matrix of the errors is correctly specified.\n",
            "[2] The smallest eigenvalue is 5.67e-31. This might indicate that there are\n",
            "strong multicollinearity problems or that the design matrix is singular.\n",
            "=====================\n",
            "\n",
            "선택된 변수: ['GDP per capita', 'Social support', 'Healthy life expectancy', 'Freedom to make life choices', 'Generosity', 'incomeLevel_High income', 'incomeLevel_Lower middle income', 'incomeLevel_Upper middle income', 'latitude_x_저위도지역', 'latitude_x_중위도지역']\n",
            "                            OLS Regression Results                            \n",
            "==============================================================================\n",
            "Dep. Variable:                  Score   R-squared:                       0.794\n",
            "Model:                            OLS   Adj. R-squared:                  0.779\n",
            "Method:                 Least Squares   F-statistic:                     53.12\n",
            "Date:                Fri, 06 Aug 2021   Prob (F-statistic):           2.35e-38\n",
            "Time:                        22:21:28   Log-Likelihood:                -97.782\n",
            "No. Observations:                 134   AIC:                             215.6\n",
            "Df Residuals:                     124   BIC:                             244.5\n",
            "Df Model:                           9                                         \n",
            "Covariance Type:            nonrobust                                         \n",
            "===================================================================================================\n",
            "                                      coef    std err          t      P>|t|      [0.025      0.975]\n",
            "---------------------------------------------------------------------------------------------------\n",
            "const                               1.4025      0.168      8.327      0.000       1.069       1.736\n",
            "GDP per capita                      0.4146      0.373      1.111      0.269      -0.324       1.153\n",
            "Social support                      1.1214      0.266      4.219      0.000       0.595       1.647\n",
            "Healthy life expectancy             1.1284      0.414      2.728      0.007       0.310       1.947\n",
            "Freedom to make life choices        1.5843      0.424      3.741      0.000       0.746       2.423\n",
            "Generosity                          0.5666      0.522      1.086      0.280      -0.466       1.599\n",
            "incomeLevel_High income             0.3201      0.389      0.824      0.412      -0.449       1.089\n",
            "incomeLevel_Lower middle income    -0.1353      0.203     -0.667      0.506      -0.537       0.266\n",
            "incomeLevel_Upper middle income    -0.1145      0.292     -0.392      0.696      -0.693       0.464\n",
            "latitude_x_저위도지역                    0.6392      0.092      6.984      0.000       0.458       0.820\n",
            "latitude_x_중위도지역                    0.7632      0.117      6.505      0.000       0.531       0.995\n",
            "==============================================================================\n",
            "Omnibus:                        1.933   Durbin-Watson:                   1.841\n",
            "Prob(Omnibus):                  0.380   Jarque-Bera (JB):                1.444\n",
            "Skew:                          -0.188   Prob(JB):                        0.486\n",
            "Kurtosis:                       3.343   Cond. No.                     6.89e+15\n",
            "==============================================================================\n",
            "\n",
            "Warnings:\n",
            "[1] Standard Errors assume that the covariance matrix of the errors is correctly specified.\n",
            "[2] The smallest eigenvalue is 1.4e-29. This might indicate that there are\n",
            "strong multicollinearity problems or that the design matrix is singular.\n",
            "=====================\n",
            "\n",
            "선택된 변수: ['GDP per capita', 'Social support', 'Healthy life expectancy', 'Freedom to make life choices', 'Generosity', 'incomeLevel_High income', 'incomeLevel_Lower middle income', 'incomeLevel_Upper middle income', 'latitude_x_중위도지역']\n",
            "                            OLS Regression Results                            \n",
            "==============================================================================\n",
            "Dep. Variable:                  Score   R-squared:                       0.794\n",
            "Model:                            OLS   Adj. R-squared:                  0.779\n",
            "Method:                 Least Squares   F-statistic:                     53.12\n",
            "Date:                Fri, 06 Aug 2021   Prob (F-statistic):           2.35e-38\n",
            "Time:                        22:21:28   Log-Likelihood:                -97.782\n",
            "No. Observations:                 134   AIC:                             215.6\n",
            "Df Residuals:                     124   BIC:                             244.5\n",
            "Df Model:                           9                                         \n",
            "Covariance Type:            nonrobust                                         \n",
            "===================================================================================================\n",
            "                                      coef    std err          t      P>|t|      [0.025      0.975]\n",
            "---------------------------------------------------------------------------------------------------\n",
            "const                               2.0417      0.244      8.354      0.000       1.558       2.525\n",
            "GDP per capita                      0.4146      0.373      1.111      0.269      -0.324       1.153\n",
            "Social support                      1.1214      0.266      4.219      0.000       0.595       1.647\n",
            "Healthy life expectancy             1.1284      0.414      2.728      0.007       0.310       1.947\n",
            "Freedom to make life choices        1.5843      0.424      3.741      0.000       0.746       2.423\n",
            "Generosity                          0.5666      0.522      1.086      0.280      -0.466       1.599\n",
            "incomeLevel_High income             0.3201      0.389      0.824      0.412      -0.449       1.089\n",
            "incomeLevel_Lower middle income    -0.1353      0.203     -0.667      0.506      -0.537       0.266\n",
            "incomeLevel_Upper middle income    -0.1145      0.292     -0.392      0.696      -0.693       0.464\n",
            "latitude_x_중위도지역                    0.1240      0.126      0.983      0.327      -0.126       0.374\n",
            "==============================================================================\n",
            "Omnibus:                        1.933   Durbin-Watson:                   1.841\n",
            "Prob(Omnibus):                  0.380   Jarque-Bera (JB):                1.444\n",
            "Skew:                          -0.188   Prob(JB):                        0.486\n",
            "Kurtosis:                       3.343   Cond. No.                         29.8\n",
            "==============================================================================\n",
            "\n",
            "Warnings:\n",
            "[1] Standard Errors assume that the covariance matrix of the errors is correctly specified.\n",
            "=====================\n",
            "\n",
            "선택된 변수: ['GDP per capita', 'Social support', 'Healthy life expectancy', 'Freedom to make life choices', 'Generosity', 'incomeLevel_High income', 'incomeLevel_Lower middle income', 'latitude_x_중위도지역']\n",
            "                            OLS Regression Results                            \n",
            "==============================================================================\n",
            "Dep. Variable:                  Score   R-squared:                       0.794\n",
            "Model:                            OLS   Adj. R-squared:                  0.781\n",
            "Method:                 Least Squares   F-statistic:                     60.15\n",
            "Date:                Fri, 06 Aug 2021   Prob (F-statistic):           3.16e-39\n",
            "Time:                        22:21:28   Log-Likelihood:                -97.865\n",
            "No. Observations:                 134   AIC:                             213.7\n",
            "Df Residuals:                     125   BIC:                             239.8\n",
            "Df Model:                           8                                         \n",
            "Covariance Type:            nonrobust                                         \n",
            "===================================================================================================\n",
            "                                      coef    std err          t      P>|t|      [0.025      0.975]\n",
            "---------------------------------------------------------------------------------------------------\n",
            "const                               2.0569      0.240      8.553      0.000       1.581       2.533\n",
            "GDP per capita                      0.3164      0.276      1.148      0.253      -0.229       0.862\n",
            "Social support                      1.1126      0.264      4.216      0.000       0.590       1.635\n",
            "Healthy life expectancy             1.1135      0.411      2.712      0.008       0.301       1.926\n",
            "Freedom to make life choices        1.5701      0.421      3.733      0.000       0.738       2.402\n",
            "Generosity                          0.6119      0.507      1.207      0.230      -0.392       1.616\n",
            "incomeLevel_High income             0.4605      0.149      3.084      0.003       0.165       0.756\n",
            "incomeLevel_Lower middle income    -0.0704      0.116     -0.605      0.546      -0.301       0.160\n",
            "latitude_x_중위도지역                    0.1236      0.126      0.983      0.328      -0.125       0.372\n",
            "==============================================================================\n",
            "Omnibus:                        1.699   Durbin-Watson:                   1.851\n",
            "Prob(Omnibus):                  0.428   Jarque-Bera (JB):                1.232\n",
            "Skew:                          -0.187   Prob(JB):                        0.540\n",
            "Kurtosis:                       3.283   Cond. No.                         26.6\n",
            "==============================================================================\n",
            "\n",
            "Warnings:\n",
            "[1] Standard Errors assume that the covariance matrix of the errors is correctly specified.\n",
            "=====================\n",
            "\n",
            "선택된 변수: ['GDP per capita', 'Social support', 'Healthy life expectancy', 'Freedom to make life choices', 'Generosity', 'incomeLevel_High income', 'latitude_x_중위도지역']\n",
            "                            OLS Regression Results                            \n",
            "==============================================================================\n",
            "Dep. Variable:                  Score   R-squared:                       0.793\n",
            "Model:                            OLS   Adj. R-squared:                  0.782\n",
            "Method:                 Least Squares   F-statistic:                     69.03\n",
            "Date:                Fri, 06 Aug 2021   Prob (F-statistic):           4.38e-40\n",
            "Time:                        22:21:28   Log-Likelihood:                -98.061\n",
            "No. Observations:                 134   AIC:                             212.1\n",
            "Df Residuals:                     126   BIC:                             235.3\n",
            "Df Model:                           7                                         \n",
            "Covariance Type:            nonrobust                                         \n",
            "================================================================================================\n",
            "                                   coef    std err          t      P>|t|      [0.025      0.975]\n",
            "------------------------------------------------------------------------------------------------\n",
            "const                            2.0456      0.239      8.553      0.000       1.572       2.519\n",
            "GDP per capita                   0.3345      0.273      1.224      0.223      -0.206       0.875\n",
            "Social support                   1.0972      0.262      4.187      0.000       0.579       1.616\n",
            "Healthy life expectancy          1.1096      0.409      2.710      0.008       0.299       1.920\n",
            "Freedom to make life choices     1.5623      0.419      3.726      0.000       0.732       2.392\n",
            "Generosity                       0.5788      0.503      1.151      0.252      -0.416       1.574\n",
            "incomeLevel_High income          0.4802      0.145      3.304      0.001       0.193       0.768\n",
            "latitude_x_중위도지역                 0.1279      0.125      1.022      0.309      -0.120       0.376\n",
            "==============================================================================\n",
            "Omnibus:                        2.067   Durbin-Watson:                   1.856\n",
            "Prob(Omnibus):                  0.356   Jarque-Bera (JB):                1.585\n",
            "Skew:                          -0.231   Prob(JB):                        0.453\n",
            "Kurtosis:                       3.266   Cond. No.                         26.4\n",
            "==============================================================================\n",
            "\n",
            "Warnings:\n",
            "[1] Standard Errors assume that the covariance matrix of the errors is correctly specified.\n",
            "=====================\n",
            "\n",
            "선택된 변수: ['GDP per capita', 'Social support', 'Healthy life expectancy', 'Freedom to make life choices', 'Generosity', 'incomeLevel_High income']\n",
            "                            OLS Regression Results                            \n",
            "==============================================================================\n",
            "Dep. Variable:                  Score   R-squared:                       0.791\n",
            "Model:                            OLS   Adj. R-squared:                  0.782\n",
            "Method:                 Least Squares   F-statistic:                     80.34\n",
            "Date:                Fri, 06 Aug 2021   Prob (F-statistic):           7.80e-41\n",
            "Time:                        22:21:28   Log-Likelihood:                -98.613\n",
            "No. Observations:                 134   AIC:                             211.2\n",
            "Df Residuals:                     127   BIC:                             231.5\n",
            "Df Model:                           6                                         \n",
            "Covariance Type:            nonrobust                                         \n",
            "================================================================================================\n",
            "                                   coef    std err          t      P>|t|      [0.025      0.975]\n",
            "------------------------------------------------------------------------------------------------\n",
            "const                            2.0432      0.239      8.542      0.000       1.570       2.516\n",
            "GDP per capita                   0.3631      0.272      1.335      0.184      -0.175       0.901\n",
            "Social support                   1.0996      0.262      4.196      0.000       0.581       1.618\n",
            "Healthy life expectancy          1.2521      0.385      3.252      0.001       0.490       2.014\n",
            "Freedom to make life choices     1.3799      0.379      3.636      0.000       0.629       2.131\n",
            "Generosity                       0.5781      0.503      1.150      0.252      -0.417       1.573\n",
            "incomeLevel_High income          0.4945      0.145      3.418      0.001       0.208       0.781\n",
            "==============================================================================\n",
            "Omnibus:                        2.447   Durbin-Watson:                   1.799\n",
            "Prob(Omnibus):                  0.294   Jarque-Bera (JB):                1.957\n",
            "Skew:                          -0.269   Prob(JB):                        0.376\n",
            "Kurtosis:                       3.248   Cond. No.                         25.0\n",
            "==============================================================================\n",
            "\n",
            "Warnings:\n",
            "[1] Standard Errors assume that the covariance matrix of the errors is correctly specified.\n",
            "=====================\n",
            "\n",
            "선택된 변수: ['Social support', 'Healthy life expectancy', 'Freedom to make life choices', 'Generosity', 'incomeLevel_High income']\n",
            "                            OLS Regression Results                            \n",
            "==============================================================================\n",
            "Dep. Variable:                  Score   R-squared:                       0.789\n",
            "Model:                            OLS   Adj. R-squared:                  0.780\n",
            "Method:                 Least Squares   F-statistic:                     95.47\n",
            "Date:                Fri, 06 Aug 2021   Prob (F-statistic):           1.82e-41\n",
            "Time:                        22:21:28   Log-Likelihood:                -99.547\n",
            "No. Observations:                 134   AIC:                             211.1\n",
            "Df Residuals:                     128   BIC:                             228.5\n",
            "Df Model:                           5                                         \n",
            "Covariance Type:            nonrobust                                         \n",
            "================================================================================================\n",
            "                                   coef    std err          t      P>|t|      [0.025      0.975]\n",
            "------------------------------------------------------------------------------------------------\n",
            "const                            1.9822      0.236      8.417      0.000       1.516       2.448\n",
            "Social support                   1.2540      0.236      5.316      0.000       0.787       1.721\n",
            "Healthy life expectancy          1.5108      0.334      4.527      0.000       0.850       2.171\n",
            "Freedom to make life choices     1.3871      0.381      3.644      0.000       0.634       2.140\n",
            "Generosity                       0.4769      0.499      0.956      0.341      -0.510       1.464\n",
            "incomeLevel_High income          0.5837      0.129      4.534      0.000       0.329       0.838\n",
            "==============================================================================\n",
            "Omnibus:                        1.909   Durbin-Watson:                   1.758\n",
            "Prob(Omnibus):                  0.385   Jarque-Bera (JB):                1.499\n",
            "Skew:                          -0.244   Prob(JB):                        0.473\n",
            "Kurtosis:                       3.174   Cond. No.                         22.2\n",
            "==============================================================================\n",
            "\n",
            "Warnings:\n",
            "[1] Standard Errors assume that the covariance matrix of the errors is correctly specified.\n",
            "=====================\n",
            "\n",
            "선택된 변수: ['Social support', 'Healthy life expectancy', 'Freedom to make life choices', 'incomeLevel_High income']\n",
            "                            OLS Regression Results                            \n",
            "==============================================================================\n",
            "Dep. Variable:                  Score   R-squared:                       0.787\n",
            "Model:                            OLS   Adj. R-squared:                  0.780\n",
            "Method:                 Least Squares   F-statistic:                     119.2\n",
            "Date:                Fri, 06 Aug 2021   Prob (F-statistic):           2.45e-42\n",
            "Time:                        22:21:28   Log-Likelihood:                -100.02\n",
            "No. Observations:                 134   AIC:                             210.0\n",
            "Df Residuals:                     129   BIC:                             224.5\n",
            "Df Model:                           4                                         \n",
            "Covariance Type:            nonrobust                                         \n",
            "================================================================================================\n",
            "                                   coef    std err          t      P>|t|      [0.025      0.975]\n",
            "------------------------------------------------------------------------------------------------\n",
            "const                            2.0676      0.218      9.492      0.000       1.637       2.499\n",
            "Social support                   1.2439      0.236      5.280      0.000       0.778       1.710\n",
            "Healthy life expectancy          1.4618      0.330      4.434      0.000       0.810       2.114\n",
            "Freedom to make life choices     1.5043      0.360      4.176      0.000       0.792       2.217\n",
            "incomeLevel_High income          0.5953      0.128      4.646      0.000       0.342       0.849\n",
            "==============================================================================\n",
            "Omnibus:                        2.258   Durbin-Watson:                   1.772\n",
            "Prob(Omnibus):                  0.323   Jarque-Bera (JB):                1.834\n",
            "Skew:                          -0.273   Prob(JB):                        0.400\n",
            "Kurtosis:                       3.174   Cond. No.                         15.2\n",
            "==============================================================================\n",
            "\n",
            "Warnings:\n",
            "[1] Standard Errors assume that the covariance matrix of the errors is correctly specified.\n",
            "=====================\n",
            "\n",
            "선택된 변수: ['Social support', 'Healthy life expectancy', 'Freedom to make life choices']\n",
            "                            OLS Regression Results                            \n",
            "==============================================================================\n",
            "Dep. Variable:                  Score   R-squared:                       0.751\n",
            "Model:                            OLS   Adj. R-squared:                  0.746\n",
            "Method:                 Least Squares   F-statistic:                     131.0\n",
            "Date:                Fri, 06 Aug 2021   Prob (F-statistic):           4.06e-39\n",
            "Time:                        22:21:28   Log-Likelihood:                -110.39\n",
            "No. Observations:                 134   AIC:                             228.8\n",
            "Df Residuals:                     130   BIC:                             240.4\n",
            "Df Model:                           3                                         \n",
            "Covariance Type:            nonrobust                                         \n",
            "================================================================================================\n",
            "                                   coef    std err          t      P>|t|      [0.025      0.975]\n",
            "------------------------------------------------------------------------------------------------\n",
            "const                            1.6243      0.211      7.707      0.000       1.207       2.041\n",
            "Social support                   1.3209      0.253      5.223      0.000       0.821       1.821\n",
            "Healthy life expectancy          2.1437      0.318      6.747      0.000       1.515       2.772\n",
            "Freedom to make life choices     1.6091      0.387      4.158      0.000       0.844       2.375\n",
            "==============================================================================\n",
            "Omnibus:                        1.965   Durbin-Watson:                   1.643\n",
            "Prob(Omnibus):                  0.374   Jarque-Bera (JB):                1.783\n",
            "Skew:                          -0.282   Prob(JB):                        0.410\n",
            "Kurtosis:                       2.988   Cond. No.                         14.8\n",
            "==============================================================================\n",
            "\n",
            "Warnings:\n",
            "[1] Standard Errors assume that the covariance matrix of the errors is correctly specified.\n",
            "=====================\n",
            "\n",
            "선택된 변수: ['Healthy life expectancy', 'Freedom to make life choices']\n",
            "                            OLS Regression Results                            \n",
            "==============================================================================\n",
            "Dep. Variable:                  Score   R-squared:                       0.699\n",
            "Model:                            OLS   Adj. R-squared:                  0.695\n",
            "Method:                 Least Squares   F-statistic:                     152.3\n",
            "Date:                Fri, 06 Aug 2021   Prob (F-statistic):           6.67e-35\n",
            "Time:                        22:21:28   Log-Likelihood:                -123.15\n",
            "No. Observations:                 134   AIC:                             252.3\n",
            "Df Residuals:                     131   BIC:                             261.0\n",
            "Df Model:                           2                                         \n",
            "Covariance Type:            nonrobust                                         \n",
            "================================================================================================\n",
            "                                   coef    std err          t      P>|t|      [0.025      0.975]\n",
            "------------------------------------------------------------------------------------------------\n",
            "const                            2.1942      0.198     11.108      0.000       1.803       2.585\n",
            "Healthy life expectancy          3.3043      0.249     13.280      0.000       2.812       3.796\n",
            "Freedom to make life choices     2.0608      0.413      4.987      0.000       1.243       2.878\n",
            "==============================================================================\n",
            "Omnibus:                        9.747   Durbin-Watson:                   1.332\n",
            "Prob(Omnibus):                  0.008   Jarque-Bera (JB):                9.741\n",
            "Skew:                          -0.631   Prob(JB):                      0.00767\n",
            "Kurtosis:                       3.388   Cond. No.                         10.8\n",
            "==============================================================================\n",
            "\n",
            "Warnings:\n",
            "[1] Standard Errors assume that the covariance matrix of the errors is correctly specified.\n",
            "=====================\n",
            "\n",
            "선택된 변수: ['Healthy life expectancy']\n",
            "                            OLS Regression Results                            \n",
            "==============================================================================\n",
            "Dep. Variable:                  Score   R-squared:                       0.642\n",
            "Model:                            OLS   Adj. R-squared:                  0.639\n",
            "Method:                 Least Squares   F-statistic:                     236.9\n",
            "Date:                Fri, 06 Aug 2021   Prob (F-statistic):           3.02e-31\n",
            "Time:                        22:21:28   Log-Likelihood:                -134.80\n",
            "No. Observations:                 134   AIC:                             273.6\n",
            "Df Residuals:                     132   BIC:                             279.4\n",
            "Df Model:                           1                                         \n",
            "Covariance Type:            nonrobust                                         \n",
            "===========================================================================================\n",
            "                              coef    std err          t      P>|t|      [0.025      0.975]\n",
            "-------------------------------------------------------------------------------------------\n",
            "const                       2.6530      0.190     13.967      0.000       2.277       3.029\n",
            "Healthy life expectancy     3.8059      0.247     15.390      0.000       3.317       4.295\n",
            "==============================================================================\n",
            "Omnibus:                        3.885   Durbin-Watson:                   1.333\n",
            "Prob(Omnibus):                  0.143   Jarque-Bera (JB):                3.008\n",
            "Skew:                          -0.239   Prob(JB):                        0.222\n",
            "Kurtosis:                       2.443   Cond. No.                         6.68\n",
            "==============================================================================\n",
            "\n",
            "Warnings:\n",
            "[1] Standard Errors assume that the covariance matrix of the errors is correctly specified.\n",
            "=====================\n",
            "\n"
          ],
          "name": "stdout"
        }
      ]
    },
    {
      "cell_type": "code",
      "metadata": {
        "id": "gzF7Wml-jpVr"
      },
      "source": [
        ""
      ],
      "execution_count": null,
      "outputs": []
    }
  ]
}