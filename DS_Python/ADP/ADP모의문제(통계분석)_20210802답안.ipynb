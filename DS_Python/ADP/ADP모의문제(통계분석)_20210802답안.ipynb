{
  "nbformat": 4,
  "nbformat_minor": 0,
  "metadata": {
    "colab": {
      "name": "ADP모의문제(통계분석)_20210802답안.ipynb",
      "provenance": [],
      "collapsed_sections": []
    },
    "kernelspec": {
      "name": "python3",
      "display_name": "Python 3"
    },
    "language_info": {
      "name": "python"
    }
  },
  "cells": [
    {
      "cell_type": "markdown",
      "metadata": {
        "id": "5yas7-65LAMG"
      },
      "source": [
        "1. latitude 데이터를 저위도지역(-30 ~ 0, 0 ~ 30), 중위도지역(-60 ~ 30, 30 ~ 60) 으로 각각 범주화하고, 범위 바깥에 있는 데이터를 삭제하시오. 'latitude'와 'incomeLevel' 의 2개 독립변수가 종속변수 Score에 미치는 영향을 검정하시오.\n",
        "2. 'incomeLevel' 범주를 기준으로 각 그룹의 수치형 데이터('Overall rank', 'GDP per capita' 제외)의 기술통계량(평균, 표준편차, 왜도 첨도)을 정리하시오.\n",
        "3. Score', 'GDP per capita', 'Social support', 'Healthy life expectancy', 'Freedom to make life choices', 'Generosity', 'Perceptions of corruption'의 7개 변수 분포 그래프를 그리고, 변수 간 상관관계 매트리스를 만드시오. \n",
        "4. 종속변수 Score에 대한 탐색적요인분석(factor analysis)을 수행하고 결과를 해석하시오."
      ]
    },
    {
      "cell_type": "code",
      "metadata": {
        "id": "OcHfi5y5-N9v"
      },
      "source": [
        "import pandas as pd\n",
        "import numpy as np"
      ],
      "execution_count": null,
      "outputs": []
    },
    {
      "cell_type": "code",
      "metadata": {
        "colab": {
          "base_uri": "https://localhost:8080/"
        },
        "id": "c0jU_c8VAwZ-",
        "outputId": "5dec5f29-b93e-42d6-b68d-d63c1750cfa6"
      },
      "source": [
        "from google.colab import drive\n",
        "drive.mount('/content/drive')"
      ],
      "execution_count": 1,
      "outputs": [
        {
          "output_type": "stream",
          "text": [
            "Mounted at /content/drive\n"
          ],
          "name": "stdout"
        }
      ]
    },
    {
      "cell_type": "code",
      "metadata": {
        "colab": {
          "base_uri": "https://localhost:8080/",
          "height": 530
        },
        "id": "AbiwYUDfAw1E",
        "outputId": "a7dcfa54-e010-49cd-8dcf-4ad7c54006df"
      },
      "source": [
        "df = pd.read_csv('/content/WHR.csv')\n",
        "df.head()"
      ],
      "execution_count": 9,
      "outputs": [
        {
          "output_type": "execute_result",
          "data": {
            "text/html": [
              "<div>\n",
              "<style scoped>\n",
              "    .dataframe tbody tr th:only-of-type {\n",
              "        vertical-align: middle;\n",
              "    }\n",
              "\n",
              "    .dataframe tbody tr th {\n",
              "        vertical-align: top;\n",
              "    }\n",
              "\n",
              "    .dataframe thead th {\n",
              "        text-align: right;\n",
              "    }\n",
              "</style>\n",
              "<table border=\"1\" class=\"dataframe\">\n",
              "  <thead>\n",
              "    <tr style=\"text-align: right;\">\n",
              "      <th></th>\n",
              "      <th>Overall rank</th>\n",
              "      <th>Country or region</th>\n",
              "      <th>Score</th>\n",
              "      <th>GDP per capita</th>\n",
              "      <th>Social support</th>\n",
              "      <th>Healthy life expectancy</th>\n",
              "      <th>Freedom to make life choices</th>\n",
              "      <th>Generosity</th>\n",
              "      <th>Perceptions of corruption</th>\n",
              "      <th>name</th>\n",
              "      <th>region</th>\n",
              "      <th>incomeLevel</th>\n",
              "      <th>longitude</th>\n",
              "      <th>latitude</th>\n",
              "    </tr>\n",
              "  </thead>\n",
              "  <tbody>\n",
              "    <tr>\n",
              "      <th>0</th>\n",
              "      <td>1</td>\n",
              "      <td>Finland</td>\n",
              "      <td>7.769</td>\n",
              "      <td>1.340</td>\n",
              "      <td>1.587</td>\n",
              "      <td>0.986</td>\n",
              "      <td>0.596</td>\n",
              "      <td>0.153</td>\n",
              "      <td>0.393</td>\n",
              "      <td>Finland</td>\n",
              "      <td>Europe &amp; Central Asia</td>\n",
              "      <td>High income</td>\n",
              "      <td>24.95250</td>\n",
              "      <td>60.1608</td>\n",
              "    </tr>\n",
              "    <tr>\n",
              "      <th>1</th>\n",
              "      <td>2</td>\n",
              "      <td>Denmark</td>\n",
              "      <td>7.600</td>\n",
              "      <td>1.383</td>\n",
              "      <td>1.573</td>\n",
              "      <td>0.996</td>\n",
              "      <td>0.592</td>\n",
              "      <td>0.252</td>\n",
              "      <td>0.410</td>\n",
              "      <td>Denmark</td>\n",
              "      <td>Europe &amp; Central Asia</td>\n",
              "      <td>High income</td>\n",
              "      <td>12.56810</td>\n",
              "      <td>55.6763</td>\n",
              "    </tr>\n",
              "    <tr>\n",
              "      <th>2</th>\n",
              "      <td>3</td>\n",
              "      <td>Norway</td>\n",
              "      <td>7.554</td>\n",
              "      <td>1.488</td>\n",
              "      <td>1.582</td>\n",
              "      <td>1.028</td>\n",
              "      <td>0.603</td>\n",
              "      <td>0.271</td>\n",
              "      <td>0.341</td>\n",
              "      <td>Norway</td>\n",
              "      <td>Europe &amp; Central Asia</td>\n",
              "      <td>High income</td>\n",
              "      <td>10.73870</td>\n",
              "      <td>59.9138</td>\n",
              "    </tr>\n",
              "    <tr>\n",
              "      <th>3</th>\n",
              "      <td>4</td>\n",
              "      <td>Iceland</td>\n",
              "      <td>7.494</td>\n",
              "      <td>1.380</td>\n",
              "      <td>1.624</td>\n",
              "      <td>1.026</td>\n",
              "      <td>0.591</td>\n",
              "      <td>0.354</td>\n",
              "      <td>0.118</td>\n",
              "      <td>Iceland</td>\n",
              "      <td>Europe &amp; Central Asia</td>\n",
              "      <td>High income</td>\n",
              "      <td>-21.89520</td>\n",
              "      <td>64.1353</td>\n",
              "    </tr>\n",
              "    <tr>\n",
              "      <th>4</th>\n",
              "      <td>5</td>\n",
              "      <td>Netherlands</td>\n",
              "      <td>7.488</td>\n",
              "      <td>1.396</td>\n",
              "      <td>1.522</td>\n",
              "      <td>0.999</td>\n",
              "      <td>0.557</td>\n",
              "      <td>0.322</td>\n",
              "      <td>0.298</td>\n",
              "      <td>Netherlands</td>\n",
              "      <td>Europe &amp; Central Asia</td>\n",
              "      <td>High income</td>\n",
              "      <td>4.89095</td>\n",
              "      <td>52.3738</td>\n",
              "    </tr>\n",
              "  </tbody>\n",
              "</table>\n",
              "</div>"
            ],
            "text/plain": [
              "   Overall rank Country or region  Score  ...  incomeLevel  longitude  latitude\n",
              "0             1           Finland  7.769  ...  High income   24.95250   60.1608\n",
              "1             2           Denmark  7.600  ...  High income   12.56810   55.6763\n",
              "2             3            Norway  7.554  ...  High income   10.73870   59.9138\n",
              "3             4           Iceland  7.494  ...  High income  -21.89520   64.1353\n",
              "4             5       Netherlands  7.488  ...  High income    4.89095   52.3738\n",
              "\n",
              "[5 rows x 14 columns]"
            ]
          },
          "metadata": {
            "tags": []
          },
          "execution_count": 9
        }
      ]
    },
    {
      "cell_type": "code",
      "metadata": {
        "colab": {
          "base_uri": "https://localhost:8080/"
        },
        "id": "hhteJgUSIC3H",
        "outputId": "8957ae3f-3168-40af-c52b-9e56bdf32bd8"
      },
      "source": [
        "df.info()"
      ],
      "execution_count": 10,
      "outputs": [
        {
          "output_type": "stream",
          "text": [
            "<class 'pandas.core.frame.DataFrame'>\n",
            "RangeIndex: 156 entries, 0 to 155\n",
            "Data columns (total 14 columns):\n",
            " #   Column                        Non-Null Count  Dtype  \n",
            "---  ------                        --------------  -----  \n",
            " 0   Overall rank                  156 non-null    int64  \n",
            " 1   Country or region             156 non-null    object \n",
            " 2   Score                         156 non-null    float64\n",
            " 3   GDP per capita                156 non-null    float64\n",
            " 4   Social support                156 non-null    float64\n",
            " 5   Healthy life expectancy       156 non-null    float64\n",
            " 6   Freedom to make life choices  156 non-null    float64\n",
            " 7   Generosity                    156 non-null    float64\n",
            " 8   Perceptions of corruption     156 non-null    float64\n",
            " 9   name                          136 non-null    object \n",
            " 10  region                        136 non-null    object \n",
            " 11  incomeLevel                   136 non-null    object \n",
            " 12  longitude                     136 non-null    float64\n",
            " 13  latitude                      136 non-null    float64\n",
            "dtypes: float64(9), int64(1), object(4)\n",
            "memory usage: 17.2+ KB\n"
          ],
          "name": "stdout"
        }
      ]
    },
    {
      "cell_type": "code",
      "metadata": {
        "id": "qFdrZsA0IFkL"
      },
      "source": [
        ""
      ],
      "execution_count": null,
      "outputs": []
    },
    {
      "cell_type": "markdown",
      "metadata": {
        "id": "Kbcg7n-4OzlI"
      },
      "source": [
        "###1. latitude 데이터를 저위도지역(-30 ~ 0, 0 ~ 30), 중위도지역(-60 ~ 30, 30 ~ 60) 으로 각각 범주화하고, 범위 바깥에 있는 데이터를 삭제하시오. 'latitude'와 'incomeLevel' 의 2개 독립변수가 종속변수 Score에 미치는 영향을 검정하시오."
      ]
    },
    {
      "cell_type": "code",
      "metadata": {
        "id": "x5U88ltmO0tO"
      },
      "source": [
        "df.loc[(df['latitude']>=-30) & (df['latitude']<=30), 'latitude'] = '저위도지역'\n",
        "df.loc[(df['latitude']>=-60)& (df['latitude']<-30), 'latitude'] ='중위도지역'\n",
        "df.loc[(df['latitude']>30)& (df['latitude']<=60), 'latitude'] ='중위도지역'\n",
        "\n",
        "## 데이터 타입이 float인 데이터를 드롭하면 됨\n",
        "df = df[df['latitude'].]\n",
        "\n",
        "\n"
      ],
      "execution_count": null,
      "outputs": []
    },
    {
      "cell_type": "code",
      "metadata": {
        "colab": {
          "base_uri": "https://localhost:8080/",
          "height": 168
        },
        "id": "0ufcxS0NUa5T",
        "outputId": "84fb7a46-f44f-450b-c158-76ecad6838a5"
      },
      "source": [
        "df['latitude'][0].dtype()"
      ],
      "execution_count": 13,
      "outputs": [
        {
          "output_type": "error",
          "ename": "TypeError",
          "evalue": "ignored",
          "traceback": [
            "\u001b[0;31m---------------------------------------------------------------------------\u001b[0m",
            "\u001b[0;31mTypeError\u001b[0m                                 Traceback (most recent call last)",
            "\u001b[0;32m<ipython-input-13-54b496724ac9>\u001b[0m in \u001b[0;36m<module>\u001b[0;34m()\u001b[0m\n\u001b[0;32m----> 1\u001b[0;31m \u001b[0mdf\u001b[0m\u001b[0;34m[\u001b[0m\u001b[0;34m'latitude'\u001b[0m\u001b[0;34m]\u001b[0m\u001b[0;34m[\u001b[0m\u001b[0;36m0\u001b[0m\u001b[0;34m]\u001b[0m\u001b[0;34m.\u001b[0m\u001b[0mdtype\u001b[0m\u001b[0;34m(\u001b[0m\u001b[0;34m)\u001b[0m\u001b[0;34m\u001b[0m\u001b[0;34m\u001b[0m\u001b[0m\n\u001b[0m",
            "\u001b[0;31mTypeError\u001b[0m: 'numpy.dtype' object is not callable"
          ]
        }
      ]
    },
    {
      "cell_type": "code",
      "metadata": {
        "id": "7_1GmWpUUchh"
      },
      "source": [
        ""
      ],
      "execution_count": null,
      "outputs": []
    }
  ]
}