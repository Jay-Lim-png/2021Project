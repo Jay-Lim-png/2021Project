{
 "cells": [
  {
   "cell_type": "markdown",
   "metadata": {},
   "source": [
    "추정과 가설검정\n",
    "교차분석\n",
    "t-test\n",
    "분산분석\n",
    "상관분석\n",
    "요인분석\n",
    "비모수통계분석\n",
    "\n",
    "----\n",
    "\n",
    "대응분석\n",
    "포지셔닝분석\n",
    "컨조인트분석\n",
    "다차원척도법\n"
   ]
  },
  {
   "cell_type": "markdown",
   "metadata": {},
   "source": [
    "reference\n",
    "- [Handling ties in Wilcoxon Signed test](https://www.jstor.org/stable/2284536?seq=1#metadata_info_tab_contents)\n"
   ]
  },
  {
   "cell_type": "markdown",
   "metadata": {},
   "source": [
    "1. 추정과 가설검정\n",
    "2. t-test\n",
    "3. 상관분석\n",
    "4. 분산분석\n",
    "5. 교차분석\n",
    "\n",
    "\n",
    "6. 비모수통계분석 (적합도검정, 동질성검정, 상관성검정)"
   ]
  },
  {
   "cell_type": "code",
   "execution_count": 1,
   "metadata": {},
   "outputs": [],
   "source": [
    "### scientific notation을 없애는 법\n",
    "import pandas as pd\n",
    "import numpy as np\n",
    "import seaborn as sns\n",
    "import matplotlib.pyplot as plt\n",
    "pd.set_option('display.float_format', lambda x: '%.5f' % x)"
   ]
  },
  {
   "cell_type": "code",
   "execution_count": 2,
   "metadata": {
    "collapsed": true
   },
   "outputs": [
    {
     "data": {
      "text/html": [
       "<div>\n",
       "<style scoped>\n",
       "    .dataframe tbody tr th:only-of-type {\n",
       "        vertical-align: middle;\n",
       "    }\n",
       "\n",
       "    .dataframe tbody tr th {\n",
       "        vertical-align: top;\n",
       "    }\n",
       "\n",
       "    .dataframe thead th {\n",
       "        text-align: right;\n",
       "    }\n",
       "</style>\n",
       "<table border=\"1\" class=\"dataframe\">\n",
       "  <thead>\n",
       "    <tr style=\"text-align: right;\">\n",
       "      <th></th>\n",
       "      <th>survived</th>\n",
       "      <th>pclass</th>\n",
       "      <th>sex</th>\n",
       "      <th>age</th>\n",
       "      <th>sibsp</th>\n",
       "      <th>parch</th>\n",
       "      <th>fare</th>\n",
       "      <th>embarked</th>\n",
       "      <th>class</th>\n",
       "      <th>who</th>\n",
       "      <th>adult_male</th>\n",
       "      <th>deck</th>\n",
       "      <th>embark_town</th>\n",
       "      <th>alive</th>\n",
       "      <th>alone</th>\n",
       "    </tr>\n",
       "  </thead>\n",
       "  <tbody>\n",
       "    <tr>\n",
       "      <th>0</th>\n",
       "      <td>0</td>\n",
       "      <td>3</td>\n",
       "      <td>male</td>\n",
       "      <td>22.00000</td>\n",
       "      <td>1</td>\n",
       "      <td>0</td>\n",
       "      <td>7.25000</td>\n",
       "      <td>S</td>\n",
       "      <td>Third</td>\n",
       "      <td>man</td>\n",
       "      <td>True</td>\n",
       "      <td>NaN</td>\n",
       "      <td>Southampton</td>\n",
       "      <td>no</td>\n",
       "      <td>False</td>\n",
       "    </tr>\n",
       "    <tr>\n",
       "      <th>1</th>\n",
       "      <td>1</td>\n",
       "      <td>1</td>\n",
       "      <td>female</td>\n",
       "      <td>38.00000</td>\n",
       "      <td>1</td>\n",
       "      <td>0</td>\n",
       "      <td>71.28330</td>\n",
       "      <td>C</td>\n",
       "      <td>First</td>\n",
       "      <td>woman</td>\n",
       "      <td>False</td>\n",
       "      <td>C</td>\n",
       "      <td>Cherbourg</td>\n",
       "      <td>yes</td>\n",
       "      <td>False</td>\n",
       "    </tr>\n",
       "    <tr>\n",
       "      <th>2</th>\n",
       "      <td>1</td>\n",
       "      <td>3</td>\n",
       "      <td>female</td>\n",
       "      <td>26.00000</td>\n",
       "      <td>0</td>\n",
       "      <td>0</td>\n",
       "      <td>7.92500</td>\n",
       "      <td>S</td>\n",
       "      <td>Third</td>\n",
       "      <td>woman</td>\n",
       "      <td>False</td>\n",
       "      <td>NaN</td>\n",
       "      <td>Southampton</td>\n",
       "      <td>yes</td>\n",
       "      <td>True</td>\n",
       "    </tr>\n",
       "    <tr>\n",
       "      <th>3</th>\n",
       "      <td>1</td>\n",
       "      <td>1</td>\n",
       "      <td>female</td>\n",
       "      <td>35.00000</td>\n",
       "      <td>1</td>\n",
       "      <td>0</td>\n",
       "      <td>53.10000</td>\n",
       "      <td>S</td>\n",
       "      <td>First</td>\n",
       "      <td>woman</td>\n",
       "      <td>False</td>\n",
       "      <td>C</td>\n",
       "      <td>Southampton</td>\n",
       "      <td>yes</td>\n",
       "      <td>False</td>\n",
       "    </tr>\n",
       "    <tr>\n",
       "      <th>4</th>\n",
       "      <td>0</td>\n",
       "      <td>3</td>\n",
       "      <td>male</td>\n",
       "      <td>35.00000</td>\n",
       "      <td>0</td>\n",
       "      <td>0</td>\n",
       "      <td>8.05000</td>\n",
       "      <td>S</td>\n",
       "      <td>Third</td>\n",
       "      <td>man</td>\n",
       "      <td>True</td>\n",
       "      <td>NaN</td>\n",
       "      <td>Southampton</td>\n",
       "      <td>no</td>\n",
       "      <td>True</td>\n",
       "    </tr>\n",
       "  </tbody>\n",
       "</table>\n",
       "</div>"
      ],
      "text/plain": [
       "   survived  pclass     sex      age  sibsp  parch     fare embarked  class  \\\n",
       "0         0       3    male 22.00000      1      0  7.25000        S  Third   \n",
       "1         1       1  female 38.00000      1      0 71.28330        C  First   \n",
       "2         1       3  female 26.00000      0      0  7.92500        S  Third   \n",
       "3         1       1  female 35.00000      1      0 53.10000        S  First   \n",
       "4         0       3    male 35.00000      0      0  8.05000        S  Third   \n",
       "\n",
       "     who  adult_male deck  embark_town alive  alone  \n",
       "0    man        True  NaN  Southampton    no  False  \n",
       "1  woman       False    C    Cherbourg   yes  False  \n",
       "2  woman       False  NaN  Southampton   yes   True  \n",
       "3  woman       False    C  Southampton   yes  False  \n",
       "4    man        True  NaN  Southampton    no   True  "
      ]
     },
     "execution_count": 2,
     "metadata": {},
     "output_type": "execute_result"
    }
   ],
   "source": [
    "### 기본데이터 = 타이타닉\n",
    "df = sns.load_dataset('titanic')\n",
    "df.head()"
   ]
  },
  {
   "cell_type": "code",
   "execution_count": null,
   "metadata": {},
   "outputs": [],
   "source": []
  },
  {
   "cell_type": "markdown",
   "metadata": {},
   "source": [
    "## 추정과 가설검정\n",
    "- 가설: 연구가설을 설정한 뒤, 가설 검증을 위한 귀무가설과 대립가설을 설정한다. \n",
    "    - 연구가설: A는 B와 차이가 있을 것이다. (연구자가 확인하고 싶은 내용)\n",
    "    - 귀무가설: A와 B는 같다.\n",
    "    - 대립가설: A와 B는 같지 않다."
   ]
  },
  {
   "cell_type": "code",
   "execution_count": null,
   "metadata": {},
   "outputs": [],
   "source": []
  },
  {
   "cell_type": "markdown",
   "metadata": {},
   "source": [
    "## t-Test (t 검정)\n",
    "### 1. 일표본 t검정\n",
    "- 단일 모집단에서 관심 그룹의 평균이 기준값과 같은지 비교할 때 사용\n",
    "- 일표본 t검정은 모집단이 정규분포를 따른다고 가정 (*관심그룹의 정규성 검정이 선행되어야 함* but 일반적으로 표본이 20개 이상이면 정규성을 만족한다고 가정)"
   ]
  },
  {
   "cell_type": "markdown",
   "metadata": {},
   "source": [
    "Step 1. 정규성 검정을 위한 Shapiro-Wilk test"
   ]
  },
  {
   "cell_type": "code",
   "execution_count": 3,
   "metadata": {},
   "outputs": [
    {
     "name": "stdout",
     "output_type": "stream",
     "text": [
      "0.5218914747238159 1.0789998175301091e-43\n"
     ]
    }
   ],
   "source": [
    "from scipy.stats import shapiro\n",
    "\n",
    "statistic, p_value = shapiro(df.fare)  ## titanic fare값의 평균이 30인지 확인해보자\n",
    "print(statistic, p_value)"
   ]
  },
  {
   "cell_type": "markdown",
   "metadata": {},
   "source": [
    "step2-1. 모집단이 정규성을 만족하지 않을 때 - __윌콕슨 부호순위검정(Wilcoxon Signed Rank Test)__ 을 이용\n",
    "- 가설\n",
    "    - H0: 모집단의 중위수가 30(비교하고 싶은 값)이다\n",
    "    - H1: 모집단의 중위수가 30(비교하고 싶은 값)이 아니다\n",
    "- 계산방법  \n",
    "    - |Xi - 30|(관측치에서 예상 중위수를 뺀 값)을 오름차순으로 줄 세워 순위를 매긴다, 절대값 안의 숫자가 음수가 되는 순위는 음수로 처리한다. 이 순위의 값을 전부 더했을 때, 모집단의 중위수가 추정치와 같았다면 순위의 합 W는 0에 가까워진다. 만약 W가 너무 크거나 작으면 귀무가설을 기각하게 된다.   \n",
    "    - W는 평균은 0 분산은 n(n+1)(2n+1)/6의 통계량을 가지게 되는데, W는 특정한 분포를 갖는 값의 합이라는 점(W의 첫번째 값은 각 0.5의 확률로 1 또는 -1, 두번째 값은 각 0.5의 확률로 +-2가 된다)에서 중심극한정리를 이용해 정규분포에 근사시킬 수 있다. 따라서 W를 이용한 검정은 Z 통계량을 이용하여 기각 또는 채택하게 된다.\n",
    "- 하이퍼파라미터\n",
    "    - alternative \n",
    "        - 'two-sided'(default)\n",
    "        - 'less' (H0: 실제 중위수 < 추정값)\n",
    "        - 'greater' (H0: 중위수 > 추정값)\n",
    "    - zero_method \n",
    "        - 'wilcoxon'(default): |X-mu|가 0이 되는 값을 순위산정 이전에 제거하고 줄어든 샘플로 검정\n",
    "        - 'pratt': |X-mu|가 0이 되는 값은 순위산정에 포함한 뒤에 합을 구할 때 제거 (W는 중심극한정리에 의한 정규분포를 가정할 수 없게 됨)\n",
    "        - 'zsplit': 0이 되는 값의 부호를 양수와 음수 중 하나로 결정해줌\n",
    "        - 'pratt'은 다른 방법에 비해 더 보수적인 검정을 하게 됨\n",
    "    - nan_policy\n",
    "        - 'propagate'(default) : NaN이 있으면 결과값도 NaN으로 출력\n",
    "        - 'omit': Nan값을 생략하고 나머지 값으로 계산한 결과값 출력\n",
    "        - 'raise': NaN값이 있으면 ValueError 출력"
   ]
  },
  {
   "cell_type": "code",
   "execution_count": 7,
   "metadata": {
    "collapsed": true
   },
   "outputs": [
    {
     "name": "stdout",
     "output_type": "stream",
     "text": [
      "1.369432543821431e-15\n",
      "135268.0\n"
     ]
    }
   ],
   "source": [
    "###윌콕슨 부호순위 검정\n",
    "from scipy.stats import wilcoxon\n",
    "\n",
    "result = wilcoxon(df.fare - 30)\n",
    "\n",
    "print(result.pvalue)\n",
    "print(result.statistic)"
   ]
  },
  {
   "cell_type": "markdown",
   "metadata": {},
   "source": [
    "Step2-2. 모집단이 정규성을 만족할 때 - __일표본 t검정__ 을 이용\n",
    "- H0: 모집단의 평균 mu = 추정값\n",
    "- 하이퍼파라미터\n",
    "    - ttest_1samp(a, popmean, axis, nan_policy, alternative)\n",
    "    - popmean은 H0의 추정평균, omit, alternative는 Wilcoxon과 동일"
   ]
  },
  {
   "cell_type": "code",
   "execution_count": 6,
   "metadata": {
    "collapsed": true
   },
   "outputs": [
    {
     "name": "stdout",
     "output_type": "stream",
     "text": [
      "0.18583845591428397\n",
      "1.3240136368613238\n"
     ]
    }
   ],
   "source": [
    "from scipy.stats import ttest_1samp\n",
    "result = ttest_1samp(df.fare, 30)\n",
    "print(result.pvalue)\n",
    "print(result.statistic)"
   ]
  },
  {
   "cell_type": "markdown",
   "metadata": {},
   "source": [
    "### 2. 대응표본 t 검정\n",
    "- 단일 모집단에 대해 특정 이벤트 발생 이전과 이후의 차이를 비교\n",
    "- 가설\n",
    "    - 연구가설: 이벤트에 따른 값의 차이가 없을 것이다.\n",
    "    - H0: 이전 집단과 이후 집단 값 차이의 평균은 0이다.\n",
    "    - H1: 이전 집단과 이후 집단 값 차이의 평균은 0이 아니다. \n",
    "- t-statistic = ${차이값의 평균 \\over 차이 평균의 표준오차} $\n",
    "- (이벤트 발생 이전값 - 이벤트 발생 이후값)이 정규성을 만족하며 연속형이어야 한다는 기본가정이 존재. Shapiro Wilk test 또는 샘플의 개수를 기반으로 판단할 수 있음.\n",
    "- 하이퍼파라미터\n",
    "    - ttest_rel(a, b, axis, nan_policy, alternative)\n",
    "    - nan_policy: ttest_1samp와 동일\n",
    "    - alternative: ttest_1samp와 동일"
   ]
  },
  {
   "cell_type": "code",
   "execution_count": 8,
   "metadata": {
    "collapsed": true
   },
   "outputs": [
    {
     "name": "stdout",
     "output_type": "stream",
     "text": [
      "-4.743416490252569\n",
      "0.001053871257016553\n"
     ]
    }
   ],
   "source": [
    "test_data = {\n",
    "    'before': [7,3,4,5,2,1,6,6,5,4],\n",
    "    'after':[8,4,5,6,2,3,6,8,6,5]\n",
    "}\n",
    "test_data = pd.DataFrame(test_data)\n",
    "\n",
    "\n",
    "from scipy.stats import ttest_rel\n",
    "\n",
    "result = ttest_rel(test_data['before'], test_data['after'])\n",
    "print(result.statistic)\n",
    "print(result.pvalue)"
   ]
  },
  {
   "cell_type": "markdown",
   "metadata": {},
   "source": [
    "### 3. 독립표본 t검정\n",
    "- 두 개의 독립된 모집단의 평균을 비교 (ex. 성별 - 범주형데이터 에 따른 출근 준비시간 - 연속형 데이터 이 다른가?)\n",
    "- 가설\n",
    "    - 연구가설: 범주형 변수에 따른 연속형 변수의 차이가 존재할 것이다. \n",
    "    - H0: $\\mu_{A} - \\mu_{B} = 0$\n",
    "- 두 모집단은 모두 정규성을 만족하고, 서로 독립이어야 함 (독립이다 = 두 집단이 서로 영향을 주고 있지 않다)\n",
    "- 두 모집단의 등분산성 성립에 따라 검정통계량 계산 방법이 달라짐"
   ]
  },
  {
   "cell_type": "markdown",
   "metadata": {},
   "source": [
    "Step1. 등분산성 여부를 확인 - __Levene's test__\n",
    "- Levene's test의 가설\n",
    "    - H0: $\\sigma^{2}_{1} = \\sigma^{2}_{2} = \\sigma^{2}_{3} = ... = \\sigma^{2}_{k}$ (모든 집단의 분산이 같다)\n",
    "    - H1: $\\sigma^{2}_{i} \\neq \\sigma^{2}_{j}$ for at least one pair (i,j) (적어도 한 집단의 분산이 같지 않다)  \n",
    "- W= $(N−k)\\over(k−1)$ $\\Sigma_{i=1}^{k}N_{i} {(\\bar{Z}_{i} - \\bar{Z}_{..})^{2} } \\over \\Sigma_{i=1}^{k} \\Sigma_{j=1}^{N_{i}}{(Z_{ij}−\\bar{Z}_{i.})}^{2}$    (전체 표본크기 N이 범주형변수에 따른 그룹 k개로 쪼개졌고 $N_{i}$는 i번째 그룹의 표본을 의미한다. $Z_{ij}$를 구하는 방법에 따라 하이퍼파라미터가 달라진다.\n",
    "- 하이퍼파라미터\n",
    "    - levene(sample1, sample2, .... , center, proportiontocut)\n",
    "    - center ($Z_{ij}$를 구하는 방법)\n",
    "        - 'median'(default) \n",
    "            - $Z_{ij} = |Y_{ij} - \\tilde{Y}_{i.}|$ 관측된 Y값에서 i번째 그룹의 중앙값을 뺀 값\n",
    "            - 왜도가 높은(정규성을 보이지 않는) 데이터에 적합\n",
    "        - 'mean'\n",
    "            - $Z_{ij} = |Y_{ij} - \\bar{Y}_{i.}|$  관측된 Y값에서 i번째 그룹의 평균을 뺀 값\n",
    "            - 대칭이며 꼬리분포가 적당한 데이터에 적합 (정규성)\n",
    "        - 'trimmed'\n",
    "            - $Z_{ij} = |Y_{ij} - \\bar{Y}_{i.}^{'}|$  관측된 Y 값에서 양쪽 10% 값을 제한 (trimmed data) 데이터들의 평균을 뺌\n",
    "            - 두터운 꼬리 분포를 가지는 데이터에 적합\n",
    "    - proportiontocut (default = 0.05)  \n",
    "    : center이 'trimmed'일 때 양쪽에서 몇 퍼센트의 비율만큼 데이터를 제외할 것인지 결정"
   ]
  },
  {
   "cell_type": "code",
   "execution_count": 10,
   "metadata": {
    "collapsed": true
   },
   "outputs": [
    {
     "name": "stdout",
     "output_type": "stream",
     "text": [
      "16.59972698234938\n",
      "5.028279844812678e-05\n"
     ]
    }
   ],
   "source": [
    "from scipy.stats import levene\n",
    "\n",
    "result = levene(df[df['adult_male']==1]['fare'], df[df['adult_male']==0]['fare']) ## 남자와 여자의 표 값을 비교하기 위해 등분산 검정\n",
    "print(result.statistic)\n",
    "print(result.pvalue)"
   ]
  },
  {
   "cell_type": "markdown",
   "metadata": {},
   "source": [
    "Step2. 등분산성 여부에 맞게 독립표본 t 검정을 실행\n",
    "- 하이퍼파라미터\n",
    "    - ttest_ind(a, b, axis, equal_var, nan_policy, permutations, random_state, alternative, trim)\n",
    "    - equal_var (default : True)\n",
    "        - 두 모집단이 등분산성을 만족할 때 True\n",
    "        - 두 모집단이 등분산성을 만족하지 않을 때 False (Welch's t-test로 계산됨)\n",
    "    - permutations (default : None or 0)\n",
    "        - None 일시 t 분포를 가정한 p-value를 계산함\n",
    "        - 숫자만큼 무작위의 순열검정을 수행하여 p-value를 계산\n",
    "        - random_state는 permutation test 수행 시 seed를 지정해줌\n",
    "    - alternative (default: 'two-sided')\n",
    "        - 'less': 첫번째 샘플의 평균 < 두번째 샘플의 평균\n",
    "        - 'greater': 첫번째 샘플의 평균 > 두번째 샘플의 평균\n",
    "    - trim (default: 0)\n",
    "        - 해당 비율만큼 각 샘플의 양쪽 값을 제거하고 검정을 수행(Yuen's t-test or Trimmed t-test)"
   ]
  },
  {
   "cell_type": "code",
   "execution_count": 13,
   "metadata": {
    "collapsed": true
   },
   "outputs": [
    {
     "name": "stdout",
     "output_type": "stream",
     "text": [
      "-5.267344838807816\n",
      "1.897839302718044e-07\n"
     ]
    }
   ],
   "source": [
    "from scipy.stats import ttest_ind\n",
    "\n",
    "result = ttest_ind(df[df['adult_male']==1]['fare'], df[df['adult_male']==0]['fare'], equal_var = False) ## 등분산성을 만족하지 않음\n",
    "print(result.statistic)\n",
    "print(result.pvalue)"
   ]
  },
  {
   "cell_type": "markdown",
   "metadata": {},
   "source": [
    "## 분산분석\n",
    "3개 이상의 그룹 간 평균 차이를 알고 싶을 때 분산분석을 사용  \n",
    "### 1. 단일변량분산분석 - (1) 일원분산분석(One-way ANOVA)\n",
    "- 단일변량분산분석은 종속변수가 __1개일 때__ 집단 간 종속변수의 차이를 분석\n",
    "- 그 중 일원분산분석은 집단을 나누는 __독립변수가 1개__ 일 때 사용\n",
    "    - ex) 고객 등급 별 매장방문 횟수 차이 검정\n",
    "- 가설\n",
    "    - H0: $\\mu_{1} = \\mu_{2} = ... = \\mu_{k}$ (각 그룹의 모집단 평균은 모두 같다)\n",
    "    - H1: $\\mu_{i} \\neq \\mu_{j}\\; for \\;at \\;least\\; one \\;(i,j)$ (적어도 한 그룹의 모집단 평균이 다르다)\n",
    "- One-way ANOVA의 기본 가정으로 각 그룹의 데이터는 독립성, 정규성, 등분산성을 만족한다 (독립성은 일반적으로 존재한다고 봄)\n",
    "- 그룹 간 분산과 그룹 내 분산의 크기를 비교하여 가설을 검정하며, F-통계량을 사용"
   ]
  },
  {
   "cell_type": "markdown",
   "metadata": {},
   "source": [
    "Step1. 정규성, 등분산성 유무 확인 (정규성은 표본 개수로도 확인 가능)"
   ]
  },
  {
   "cell_type": "code",
   "execution_count": 22,
   "metadata": {
    "collapsed": true
   },
   "outputs": [
    {
     "name": "stdout",
     "output_type": "stream",
     "text": [
      "정규성: ShapiroResult(statistic=0.718401312828064, pvalue=7.556354866266318e-19) ShapiroResult(statistic=0.7785055637359619, pvalue=2.1134516002102284e-15) ShapiroResult(statistic=0.6183854937553406, pvalue=1.5995106796893175e-31)\n",
      "\n",
      "\n",
      "등분산성:  LeveneResult(statistic=118.57020037111805, pvalue=2.288618662046418e-46)\n"
     ]
    }
   ],
   "source": [
    "##class에 따른 fare차이\n",
    "a = df[df['pclass']==1]['fare']\n",
    "b = df[df['pclass']==2]['fare']\n",
    "c = df[df['pclass']==3]['fare']\n",
    "\n",
    "print(\"정규성:\", shapiro(a), shapiro(b), shapiro(c))\n",
    "print('\\n')\n",
    "print(\"등분산성: \", levene(a, b, c))"
   ]
  },
  {
   "cell_type": "markdown",
   "metadata": {},
   "source": [
    "Step2-1. 등분산성을 만족하는 경우 \n",
    "- f_oneway(a,b,..., axis)"
   ]
  },
  {
   "cell_type": "code",
   "execution_count": 23,
   "metadata": {
    "collapsed": true
   },
   "outputs": [
    {
     "name": "stdout",
     "output_type": "stream",
     "text": [
      "242.34415651744814\n",
      "1.0313763209141171e-84\n"
     ]
    }
   ],
   "source": [
    "from scipy.stats import f_oneway\n",
    "result = f_oneway(a, b, c)\n",
    "print(result.statistic)\n",
    "print(result.pvalue)"
   ]
  },
  {
   "cell_type": "markdown",
   "metadata": {},
   "source": [
    "Step2-2. 등분산성을 만족하지 않는 경우 (Welch's ANOVA)\n",
    "- pingouin 패키지 활용 (설치되어 있지 않을 시 pip install pingouin 명령어로 설치)\n",
    "- welch_anova(data, dv - 종속변수명, between - 독립변수인 범주형변수명)\n",
    "- 결과값\n",
    "    - 'Source': Factor names\n",
    "    - 'SS': Sums of squares\n",
    "    - 'DF': Degrees of freedom\n",
    "    - 'MS': Mean squares\n",
    "    - 'F': F-values\n",
    "    - 'p-unc': uncorrected p-values\n",
    "    - 'np2': Partial eta-squared"
   ]
  },
  {
   "cell_type": "code",
   "execution_count": 24,
   "metadata": {
    "collapsed": true
   },
   "outputs": [
    {
     "data": {
      "text/html": [
       "<div>\n",
       "<style scoped>\n",
       "    .dataframe tbody tr th:only-of-type {\n",
       "        vertical-align: middle;\n",
       "    }\n",
       "\n",
       "    .dataframe tbody tr th {\n",
       "        vertical-align: top;\n",
       "    }\n",
       "\n",
       "    .dataframe thead th {\n",
       "        text-align: right;\n",
       "    }\n",
       "</style>\n",
       "<table border=\"1\" class=\"dataframe\">\n",
       "  <thead>\n",
       "    <tr style=\"text-align: right;\">\n",
       "      <th></th>\n",
       "      <th>Source</th>\n",
       "      <th>ddof1</th>\n",
       "      <th>ddof2</th>\n",
       "      <th>F</th>\n",
       "      <th>p-unc</th>\n",
       "      <th>np2</th>\n",
       "    </tr>\n",
       "  </thead>\n",
       "  <tbody>\n",
       "    <tr>\n",
       "      <th>0</th>\n",
       "      <td>pclass</td>\n",
       "      <td>2</td>\n",
       "      <td>333.63337</td>\n",
       "      <td>102.00059</td>\n",
       "      <td>0.00000</td>\n",
       "      <td>0.35309</td>\n",
       "    </tr>\n",
       "  </tbody>\n",
       "</table>\n",
       "</div>"
      ],
      "text/plain": [
       "   Source  ddof1     ddof2         F   p-unc     np2\n",
       "0  pclass      2 333.63337 102.00059 0.00000 0.35309"
      ]
     },
     "execution_count": 24,
     "metadata": {},
     "output_type": "execute_result"
    },
    {
     "name": "stderr",
     "output_type": "stream",
     "text": [
      "g:\\python\\lib\\site-packages\\outdated\\utils.py:14: OutdatedPackageWarning: The package outdated is out of date. Your version is 0.2.0, the latest is 0.2.1.\n",
      "Set the environment variable OUTDATED_IGNORE=1 to disable these warnings.\n",
      "  return warn(\n",
      "g:\\python\\lib\\site-packages\\outdated\\utils.py:14: OutdatedPackageWarning: The package pingouin is out of date. Your version is 0.3.8, the latest is 0.5.1.\n",
      "Set the environment variable OUTDATED_IGNORE=1 to disable these warnings.\n",
      "  return warn(\n"
     ]
    }
   ],
   "source": [
    "import pingouin as pg\n",
    "pg.welch_anova(dv = 'fare', between = 'pclass', data = df)"
   ]
  },
  {
   "cell_type": "markdown",
   "metadata": {},
   "source": [
    "Step3. 사후검정 (등분산성 만족 시 Tukey's Test, 만족하지 않을 시 Games Howell's test)\n",
    "- 일원배치분산분석 결과 p-value가 0.05 아래로 귀무가설을 기각한다면, 어떤 집단에서 평균 차이가 발생하는지 사후검정이 필요\n",
    "- 사후검정 방법\n",
    "    - Tukey test (샘플 크기가 다를 시 Tukey-Kramer 검정)\n",
    "        - 모든 그룹의 pairwise한 조합 간 평균을 비교한다\n",
    "        - 등분산성 만족 필요\n",
    "    - Scheffe test\n",
    "        - 그룹 간 pairwise한 비교를 넘어 더 많은 조합을 고려한다(ex. A 그룹과 B그룹의 모평균 합 = C와 D의 모평균 합)\n",
    "        - 따라서 신뢰구간이 넓어지며, 검정력이 낮아진다.\n",
    "        - 등분산성 만족 필요\n",
    "    - Bonferroni test (Dunn's test의 일종)\n",
    "        - 그룹 간 표본 크기에 영향을 받지 않으나, 특정 그룹 간의 비교를 사전에 생각해두었을 때 사용함\n",
    "        - 등분산성 만족 필요\n",
    "    - Games Howell's test\n",
    "        - 등분산성 필요하지 않음\n",
    "        - Welch's ANOVA 사후검정에 최적화되어 있으며 "
   ]
  },
  {
   "cell_type": "code",
   "execution_count": 25,
   "metadata": {},
   "outputs": [
    {
     "name": "stdout",
     "output_type": "stream",
     "text": [
      " Multiple Comparison of Means - Tukey HSD, FWER=0.05  \n",
      "======================================================\n",
      "group1 group2 meandiff p-adj   lower    upper   reject\n",
      "------------------------------------------------------\n",
      "     1      2 -63.4925  0.001 -72.9167 -54.0683   True\n",
      "     1      3 -70.4791  0.001 -78.1491 -62.8092   True\n",
      "     2      3  -6.9866 0.1081 -15.1066   1.1333  False\n",
      "------------------------------------------------------\n"
     ]
    }
   ],
   "source": [
    "## Tukey-Kramer 방식\n",
    "from statsmodels.stats.multicomp import pairwise_tukeyhsd\n",
    "\n",
    "posthoc = pairwise_tukeyhsd(df['fare'], df['pclass'], alpha = 0.05)\n",
    "print(posthoc)"
   ]
  },
  {
   "cell_type": "code",
   "execution_count": 30,
   "metadata": {
    "scrolled": true
   },
   "outputs": [
    {
     "data": {
      "text/html": [
       "<div>\n",
       "<style scoped>\n",
       "    .dataframe tbody tr th:only-of-type {\n",
       "        vertical-align: middle;\n",
       "    }\n",
       "\n",
       "    .dataframe tbody tr th {\n",
       "        vertical-align: top;\n",
       "    }\n",
       "\n",
       "    .dataframe thead th {\n",
       "        text-align: right;\n",
       "    }\n",
       "</style>\n",
       "<table border=\"1\" class=\"dataframe\">\n",
       "  <thead>\n",
       "    <tr style=\"text-align: right;\">\n",
       "      <th></th>\n",
       "      <th>3</th>\n",
       "      <th>1</th>\n",
       "      <th>2</th>\n",
       "    </tr>\n",
       "  </thead>\n",
       "  <tbody>\n",
       "    <tr>\n",
       "      <th>3</th>\n",
       "      <td>1.00000</td>\n",
       "      <td>0.00000</td>\n",
       "      <td>0.13060</td>\n",
       "    </tr>\n",
       "    <tr>\n",
       "      <th>1</th>\n",
       "      <td>0.00000</td>\n",
       "      <td>1.00000</td>\n",
       "      <td>0.00000</td>\n",
       "    </tr>\n",
       "    <tr>\n",
       "      <th>2</th>\n",
       "      <td>0.13060</td>\n",
       "      <td>0.00000</td>\n",
       "      <td>1.00000</td>\n",
       "    </tr>\n",
       "  </tbody>\n",
       "</table>\n",
       "</div>"
      ],
      "text/plain": [
       "        3       1       2\n",
       "3 1.00000 0.00000 0.13060\n",
       "1 0.00000 1.00000 0.00000\n",
       "2 0.13060 0.00000 1.00000"
      ]
     },
     "execution_count": 30,
     "metadata": {},
     "output_type": "execute_result"
    }
   ],
   "source": [
    "## Scheffe 방식 (pip install scikit-posthocs)\n",
    "## posthoc_scheffe(a = array or df, val_col = 종속변수, group_col = 독립변수, sort = True or False)\n",
    "## return 값 : p-value\n",
    "import scikit_posthocs as sp\n",
    "sp.posthoc_scheffe(df, val_col = 'fare', group_col = 'pclass')"
   ]
  },
  {
   "cell_type": "code",
   "execution_count": 34,
   "metadata": {},
   "outputs": [
    {
     "data": {
      "text/html": [
       "<div>\n",
       "<style scoped>\n",
       "    .dataframe tbody tr th:only-of-type {\n",
       "        vertical-align: middle;\n",
       "    }\n",
       "\n",
       "    .dataframe tbody tr th {\n",
       "        vertical-align: top;\n",
       "    }\n",
       "\n",
       "    .dataframe thead th {\n",
       "        text-align: right;\n",
       "    }\n",
       "</style>\n",
       "<table border=\"1\" class=\"dataframe\">\n",
       "  <thead>\n",
       "    <tr style=\"text-align: right;\">\n",
       "      <th></th>\n",
       "      <th>1</th>\n",
       "      <th>2</th>\n",
       "      <th>3</th>\n",
       "    </tr>\n",
       "  </thead>\n",
       "  <tbody>\n",
       "    <tr>\n",
       "      <th>1</th>\n",
       "      <td>1.00000</td>\n",
       "      <td>0.00000</td>\n",
       "      <td>0.00000</td>\n",
       "    </tr>\n",
       "    <tr>\n",
       "      <th>2</th>\n",
       "      <td>0.00000</td>\n",
       "      <td>1.00000</td>\n",
       "      <td>0.00000</td>\n",
       "    </tr>\n",
       "    <tr>\n",
       "      <th>3</th>\n",
       "      <td>0.00000</td>\n",
       "      <td>0.00000</td>\n",
       "      <td>1.00000</td>\n",
       "    </tr>\n",
       "  </tbody>\n",
       "</table>\n",
       "</div>"
      ],
      "text/plain": [
       "        1       2       3\n",
       "1 1.00000 0.00000 0.00000\n",
       "2 0.00000 1.00000 0.00000\n",
       "3 0.00000 0.00000 1.00000"
      ]
     },
     "execution_count": 34,
     "metadata": {},
     "output_type": "execute_result"
    }
   ],
   "source": [
    "## Dunn's test\n",
    "## posthoc_dunn(a = array or df, val_col = 종속변수, group_col = 독립변수, p_adjust = 'bonferroni' 외 p-value 계산 방법들 , sort = boolean)\n",
    "## return 값: p-value\n",
    "import scikit_posthocs as sp\n",
    "sp.posthoc_dunn(df, val_col = 'fare', group_col = 'pclass', p_adjust = 'bonferroni')"
   ]
  },
  {
   "cell_type": "code",
   "execution_count": 33,
   "metadata": {},
   "outputs": [
    {
     "data": {
      "text/html": [
       "<div>\n",
       "<style scoped>\n",
       "    .dataframe tbody tr th:only-of-type {\n",
       "        vertical-align: middle;\n",
       "    }\n",
       "\n",
       "    .dataframe tbody tr th {\n",
       "        vertical-align: top;\n",
       "    }\n",
       "\n",
       "    .dataframe thead th {\n",
       "        text-align: right;\n",
       "    }\n",
       "</style>\n",
       "<table border=\"1\" class=\"dataframe\">\n",
       "  <thead>\n",
       "    <tr style=\"text-align: right;\">\n",
       "      <th></th>\n",
       "      <th>A</th>\n",
       "      <th>B</th>\n",
       "      <th>mean(A)</th>\n",
       "      <th>mean(B)</th>\n",
       "      <th>diff</th>\n",
       "      <th>se</th>\n",
       "      <th>T</th>\n",
       "      <th>df</th>\n",
       "      <th>pval</th>\n",
       "      <th>hedges</th>\n",
       "    </tr>\n",
       "  </thead>\n",
       "  <tbody>\n",
       "    <tr>\n",
       "      <th>0</th>\n",
       "      <td>1</td>\n",
       "      <td>2</td>\n",
       "      <td>84.15500</td>\n",
       "      <td>20.66200</td>\n",
       "      <td>63.49300</td>\n",
       "      <td>5.42400</td>\n",
       "      <td>11.70600</td>\n",
       "      <td>229.72700</td>\n",
       "      <td>0.00100</td>\n",
       "      <td>1.17200</td>\n",
       "    </tr>\n",
       "    <tr>\n",
       "      <th>1</th>\n",
       "      <td>1</td>\n",
       "      <td>3</td>\n",
       "      <td>84.15500</td>\n",
       "      <td>13.67600</td>\n",
       "      <td>70.47900</td>\n",
       "      <td>5.36000</td>\n",
       "      <td>13.15000</td>\n",
       "      <td>219.28300</td>\n",
       "      <td>0.00100</td>\n",
       "      <td>1.07300</td>\n",
       "    </tr>\n",
       "    <tr>\n",
       "      <th>2</th>\n",
       "      <td>2</td>\n",
       "      <td>3</td>\n",
       "      <td>20.66200</td>\n",
       "      <td>13.67600</td>\n",
       "      <td>6.98700</td>\n",
       "      <td>1.12300</td>\n",
       "      <td>6.22200</td>\n",
       "      <td>294.77000</td>\n",
       "      <td>0.00100</td>\n",
       "      <td>0.53700</td>\n",
       "    </tr>\n",
       "  </tbody>\n",
       "</table>\n",
       "</div>"
      ],
      "text/plain": [
       "   A  B  mean(A)  mean(B)     diff      se        T        df    pval  hedges\n",
       "0  1  2 84.15500 20.66200 63.49300 5.42400 11.70600 229.72700 0.00100 1.17200\n",
       "1  1  3 84.15500 13.67600 70.47900 5.36000 13.15000 219.28300 0.00100 1.07300\n",
       "2  2  3 20.66200 13.67600  6.98700 1.12300  6.22200 294.77000 0.00100 0.53700"
      ]
     },
     "execution_count": 33,
     "metadata": {},
     "output_type": "execute_result"
    }
   ],
   "source": [
    "### Games Howell's test\n",
    "from pingouin import pairwise_gameshowell\n",
    "pairwise_gameshowell(data = df, dv = 'fare', between = 'pclass').round(3)"
   ]
  },
  {
   "cell_type": "markdown",
   "metadata": {},
   "source": [
    "### 단일변량분산분석 - (2) 이원분산분석(Two-way ANOVA)"
   ]
  },
  {
   "cell_type": "code",
   "execution_count": null,
   "metadata": {},
   "outputs": [],
   "source": []
  },
  {
   "cell_type": "code",
   "execution_count": null,
   "metadata": {},
   "outputs": [],
   "source": []
  },
  {
   "cell_type": "code",
   "execution_count": null,
   "metadata": {},
   "outputs": [],
   "source": []
  },
  {
   "cell_type": "code",
   "execution_count": null,
   "metadata": {},
   "outputs": [],
   "source": []
  },
  {
   "cell_type": "code",
   "execution_count": null,
   "metadata": {},
   "outputs": [],
   "source": []
  },
  {
   "cell_type": "code",
   "execution_count": null,
   "metadata": {},
   "outputs": [],
   "source": []
  },
  {
   "cell_type": "code",
   "execution_count": null,
   "metadata": {},
   "outputs": [],
   "source": []
  },
  {
   "cell_type": "code",
   "execution_count": null,
   "metadata": {},
   "outputs": [],
   "source": []
  },
  {
   "cell_type": "code",
   "execution_count": null,
   "metadata": {},
   "outputs": [],
   "source": []
  },
  {
   "cell_type": "code",
   "execution_count": null,
   "metadata": {},
   "outputs": [],
   "source": []
  },
  {
   "cell_type": "code",
   "execution_count": null,
   "metadata": {},
   "outputs": [],
   "source": []
  },
  {
   "cell_type": "code",
   "execution_count": null,
   "metadata": {},
   "outputs": [],
   "source": []
  },
  {
   "cell_type": "code",
   "execution_count": null,
   "metadata": {},
   "outputs": [],
   "source": []
  },
  {
   "cell_type": "code",
   "execution_count": null,
   "metadata": {},
   "outputs": [],
   "source": []
  },
  {
   "cell_type": "code",
   "execution_count": null,
   "metadata": {},
   "outputs": [],
   "source": []
  },
  {
   "cell_type": "code",
   "execution_count": null,
   "metadata": {},
   "outputs": [],
   "source": []
  }
 ],
 "metadata": {
  "kernelspec": {
   "display_name": "Python 3",
   "language": "python",
   "name": "python3"
  },
  "language_info": {
   "codemirror_mode": {
    "name": "ipython",
    "version": 3
   },
   "file_extension": ".py",
   "mimetype": "text/x-python",
   "name": "python",
   "nbconvert_exporter": "python",
   "pygments_lexer": "ipython3",
   "version": "3.8.5"
  }
 },
 "nbformat": 4,
 "nbformat_minor": 4
}
