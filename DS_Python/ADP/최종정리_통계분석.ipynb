{
 "cells": [
  {
   "cell_type": "markdown",
   "metadata": {},
   "source": [
    "추정과 가설검정\n",
    "교차분석\n",
    "t-test\n",
    "분산분석\n",
    "상관분석\n",
    "요인분석\n",
    "비모수통계분석\n",
    "\n",
    "----\n",
    "\n",
    "대응분석\n",
    "포지셔닝분석\n",
    "컨조인트분석\n",
    "다차원척도법\n"
   ]
  },
  {
   "cell_type": "markdown",
   "metadata": {},
   "source": [
    "reference\n",
    "- [Handling ties in Wilcoxon Signed test](https://www.jstor.org/stable/2284536?seq=1#metadata_info_tab_contents)\n",
    "- [추정과 가설검정에 대한 설명](https://www.kaggle.com/hamelg/python-for-data-24-hypothesis-testing)\n",
    "- [맥니마의 검정](https://3months.tistory.com/230)\n"
   ]
  },
  {
   "cell_type": "markdown",
   "metadata": {},
   "source": [
    "1. 추정과 가설검정\n",
    "2. Associative Analysis\n",
    "    - 상관분석\n",
    "        - 피어슨상관계수\n",
    "        - 편상관계수\n",
    "        - 스피어만상관계수\n",
    "        - 정준상관계수\n",
    "    - 교차분석\n",
    "        - 카이제곱검정\n",
    "        - 피셔의 정확검정\n",
    "        - 맥니마검정\n",
    "3. Comparative Analysis\n",
    "   -  t-test\n",
    "       - 일표본t검정\n",
    "       - 대응표본t검정\n",
    "       - 독립표본t검정\n",
    "   - 분산분석\n",
    "       - 일원분산분석\n",
    "       - 이원분산분석\n",
    "       - MANOVA\n",
    "       - ANCOVA\n",
    "4. \n",
    "    - 판별분석\n",
    "    - 요인분석\n",
    "    - 다차원척도법\n",
    "\n",
    "6. 비모수통계분석\n",
    "    - 적합도검정\n",
    "        - 런검정\n",
    "        - 콜모고로프 스미노르프 검정\n",
    "    - 동질성검정\n",
    "        - 윌콕슨부호순위검정\n",
    "        - 맨휘트니검정\n",
    "        - 크루스칼 왈리스 검정\n",
    "        - 프리드만 검정\n",
    "    - 상관성검정\n",
    "        - 스피어만 상관분석\n",
    "        - 켄달타우 상관계수\n",
    "\n",
    "7. 연관성분석"
   ]
  },
  {
   "cell_type": "code",
   "execution_count": 5,
   "metadata": {},
   "outputs": [],
   "source": [
    "import pandas as pd\n",
    "import numpy as np\n",
    "import seaborn as sns\n",
    "import matplotlib.pyplot as plt\n",
    "\n",
    "import warnings  ##warning sign 출력 무시\n",
    "warnings.filterwarnings(\"ignore\")\n",
    "pd.set_option('display.float_format', lambda x: '%.5f' % x)  ##scientific notation 삭제\n",
    "plt.rcParams['font.family'] = 'Malgun Gothic'  ##한글폰트 설정"
   ]
  },
  {
   "cell_type": "code",
   "execution_count": 2,
   "metadata": {
    "scrolled": true
   },
   "outputs": [
    {
     "data": {
      "text/html": [
       "<div>\n",
       "<style scoped>\n",
       "    .dataframe tbody tr th:only-of-type {\n",
       "        vertical-align: middle;\n",
       "    }\n",
       "\n",
       "    .dataframe tbody tr th {\n",
       "        vertical-align: top;\n",
       "    }\n",
       "\n",
       "    .dataframe thead th {\n",
       "        text-align: right;\n",
       "    }\n",
       "</style>\n",
       "<table border=\"1\" class=\"dataframe\">\n",
       "  <thead>\n",
       "    <tr style=\"text-align: right;\">\n",
       "      <th></th>\n",
       "      <th>survived</th>\n",
       "      <th>pclass</th>\n",
       "      <th>sex</th>\n",
       "      <th>age</th>\n",
       "      <th>sibsp</th>\n",
       "      <th>parch</th>\n",
       "      <th>fare</th>\n",
       "      <th>embarked</th>\n",
       "      <th>class</th>\n",
       "      <th>who</th>\n",
       "      <th>adult_male</th>\n",
       "      <th>deck</th>\n",
       "      <th>embark_town</th>\n",
       "      <th>alive</th>\n",
       "      <th>alone</th>\n",
       "    </tr>\n",
       "  </thead>\n",
       "  <tbody>\n",
       "    <tr>\n",
       "      <th>0</th>\n",
       "      <td>0</td>\n",
       "      <td>3</td>\n",
       "      <td>male</td>\n",
       "      <td>22.00000</td>\n",
       "      <td>1</td>\n",
       "      <td>0</td>\n",
       "      <td>7.25000</td>\n",
       "      <td>S</td>\n",
       "      <td>Third</td>\n",
       "      <td>man</td>\n",
       "      <td>True</td>\n",
       "      <td>NaN</td>\n",
       "      <td>Southampton</td>\n",
       "      <td>no</td>\n",
       "      <td>False</td>\n",
       "    </tr>\n",
       "    <tr>\n",
       "      <th>1</th>\n",
       "      <td>1</td>\n",
       "      <td>1</td>\n",
       "      <td>female</td>\n",
       "      <td>38.00000</td>\n",
       "      <td>1</td>\n",
       "      <td>0</td>\n",
       "      <td>71.28330</td>\n",
       "      <td>C</td>\n",
       "      <td>First</td>\n",
       "      <td>woman</td>\n",
       "      <td>False</td>\n",
       "      <td>C</td>\n",
       "      <td>Cherbourg</td>\n",
       "      <td>yes</td>\n",
       "      <td>False</td>\n",
       "    </tr>\n",
       "    <tr>\n",
       "      <th>2</th>\n",
       "      <td>1</td>\n",
       "      <td>3</td>\n",
       "      <td>female</td>\n",
       "      <td>26.00000</td>\n",
       "      <td>0</td>\n",
       "      <td>0</td>\n",
       "      <td>7.92500</td>\n",
       "      <td>S</td>\n",
       "      <td>Third</td>\n",
       "      <td>woman</td>\n",
       "      <td>False</td>\n",
       "      <td>NaN</td>\n",
       "      <td>Southampton</td>\n",
       "      <td>yes</td>\n",
       "      <td>True</td>\n",
       "    </tr>\n",
       "    <tr>\n",
       "      <th>3</th>\n",
       "      <td>1</td>\n",
       "      <td>1</td>\n",
       "      <td>female</td>\n",
       "      <td>35.00000</td>\n",
       "      <td>1</td>\n",
       "      <td>0</td>\n",
       "      <td>53.10000</td>\n",
       "      <td>S</td>\n",
       "      <td>First</td>\n",
       "      <td>woman</td>\n",
       "      <td>False</td>\n",
       "      <td>C</td>\n",
       "      <td>Southampton</td>\n",
       "      <td>yes</td>\n",
       "      <td>False</td>\n",
       "    </tr>\n",
       "    <tr>\n",
       "      <th>4</th>\n",
       "      <td>0</td>\n",
       "      <td>3</td>\n",
       "      <td>male</td>\n",
       "      <td>35.00000</td>\n",
       "      <td>0</td>\n",
       "      <td>0</td>\n",
       "      <td>8.05000</td>\n",
       "      <td>S</td>\n",
       "      <td>Third</td>\n",
       "      <td>man</td>\n",
       "      <td>True</td>\n",
       "      <td>NaN</td>\n",
       "      <td>Southampton</td>\n",
       "      <td>no</td>\n",
       "      <td>True</td>\n",
       "    </tr>\n",
       "  </tbody>\n",
       "</table>\n",
       "</div>"
      ],
      "text/plain": [
       "   survived  pclass     sex      age  sibsp  parch     fare embarked  class  \\\n",
       "0         0       3    male 22.00000      1      0  7.25000        S  Third   \n",
       "1         1       1  female 38.00000      1      0 71.28330        C  First   \n",
       "2         1       3  female 26.00000      0      0  7.92500        S  Third   \n",
       "3         1       1  female 35.00000      1      0 53.10000        S  First   \n",
       "4         0       3    male 35.00000      0      0  8.05000        S  Third   \n",
       "\n",
       "     who  adult_male deck  embark_town alive  alone  \n",
       "0    man        True  NaN  Southampton    no  False  \n",
       "1  woman       False    C    Cherbourg   yes  False  \n",
       "2  woman       False  NaN  Southampton   yes   True  \n",
       "3  woman       False    C  Southampton   yes  False  \n",
       "4    man        True  NaN  Southampton    no   True  "
      ]
     },
     "execution_count": 2,
     "metadata": {},
     "output_type": "execute_result"
    }
   ],
   "source": [
    "### 기본데이터 = 타이타닉\n",
    "df = sns.load_dataset('titanic')\n",
    "df.head()"
   ]
  },
  {
   "cell_type": "code",
   "execution_count": 3,
   "metadata": {
    "scrolled": true
   },
   "outputs": [
    {
     "data": {
      "text/html": [
       "<div>\n",
       "<style scoped>\n",
       "    .dataframe tbody tr th:only-of-type {\n",
       "        vertical-align: middle;\n",
       "    }\n",
       "\n",
       "    .dataframe tbody tr th {\n",
       "        vertical-align: top;\n",
       "    }\n",
       "\n",
       "    .dataframe thead th {\n",
       "        text-align: right;\n",
       "    }\n",
       "</style>\n",
       "<table border=\"1\" class=\"dataframe\">\n",
       "  <thead>\n",
       "    <tr style=\"text-align: right;\">\n",
       "      <th></th>\n",
       "      <th>고객ID</th>\n",
       "      <th>이탈여부</th>\n",
       "      <th>총_매출액</th>\n",
       "      <th>방문빈도</th>\n",
       "      <th>1회_평균매출액</th>\n",
       "      <th>할인권_사용 횟수</th>\n",
       "      <th>총_할인_금액</th>\n",
       "      <th>고객등급</th>\n",
       "      <th>구매유형</th>\n",
       "      <th>클레임접수여부</th>\n",
       "      <th>...</th>\n",
       "      <th>매장_청결성</th>\n",
       "      <th>공간_편의성</th>\n",
       "      <th>시야_확보성</th>\n",
       "      <th>음향_적절성</th>\n",
       "      <th>안내_표지판_설명</th>\n",
       "      <th>친절성</th>\n",
       "      <th>신속성</th>\n",
       "      <th>책임성</th>\n",
       "      <th>정확성</th>\n",
       "      <th>전문성</th>\n",
       "    </tr>\n",
       "  </thead>\n",
       "  <tbody>\n",
       "    <tr>\n",
       "      <th>0</th>\n",
       "      <td>1</td>\n",
       "      <td>0</td>\n",
       "      <td>4007080</td>\n",
       "      <td>17</td>\n",
       "      <td>235711</td>\n",
       "      <td>1</td>\n",
       "      <td>5445</td>\n",
       "      <td>1</td>\n",
       "      <td>4</td>\n",
       "      <td>0</td>\n",
       "      <td>...</td>\n",
       "      <td>6</td>\n",
       "      <td>7</td>\n",
       "      <td>6</td>\n",
       "      <td>6</td>\n",
       "      <td>6</td>\n",
       "      <td>6</td>\n",
       "      <td>6</td>\n",
       "      <td>6</td>\n",
       "      <td>6</td>\n",
       "      <td>6</td>\n",
       "    </tr>\n",
       "    <tr>\n",
       "      <th>1</th>\n",
       "      <td>2</td>\n",
       "      <td>1</td>\n",
       "      <td>3168400</td>\n",
       "      <td>14</td>\n",
       "      <td>226314</td>\n",
       "      <td>22</td>\n",
       "      <td>350995</td>\n",
       "      <td>2</td>\n",
       "      <td>4</td>\n",
       "      <td>0</td>\n",
       "      <td>...</td>\n",
       "      <td>7</td>\n",
       "      <td>7</td>\n",
       "      <td>6</td>\n",
       "      <td>6</td>\n",
       "      <td>6</td>\n",
       "      <td>5</td>\n",
       "      <td>3</td>\n",
       "      <td>6</td>\n",
       "      <td>6</td>\n",
       "      <td>6</td>\n",
       "    </tr>\n",
       "    <tr>\n",
       "      <th>2</th>\n",
       "      <td>3</td>\n",
       "      <td>0</td>\n",
       "      <td>2680780</td>\n",
       "      <td>18</td>\n",
       "      <td>148932</td>\n",
       "      <td>6</td>\n",
       "      <td>186045</td>\n",
       "      <td>1</td>\n",
       "      <td>4</td>\n",
       "      <td>1</td>\n",
       "      <td>...</td>\n",
       "      <td>6</td>\n",
       "      <td>6</td>\n",
       "      <td>6</td>\n",
       "      <td>6</td>\n",
       "      <td>6</td>\n",
       "      <td>7</td>\n",
       "      <td>7</td>\n",
       "      <td>6</td>\n",
       "      <td>6</td>\n",
       "      <td>7</td>\n",
       "    </tr>\n",
       "    <tr>\n",
       "      <th>3</th>\n",
       "      <td>4</td>\n",
       "      <td>0</td>\n",
       "      <td>5946600</td>\n",
       "      <td>17</td>\n",
       "      <td>349800</td>\n",
       "      <td>1</td>\n",
       "      <td>5195</td>\n",
       "      <td>1</td>\n",
       "      <td>4</td>\n",
       "      <td>1</td>\n",
       "      <td>...</td>\n",
       "      <td>6</td>\n",
       "      <td>6</td>\n",
       "      <td>5</td>\n",
       "      <td>6</td>\n",
       "      <td>6</td>\n",
       "      <td>6</td>\n",
       "      <td>6</td>\n",
       "      <td>6</td>\n",
       "      <td>5</td>\n",
       "      <td>6</td>\n",
       "    </tr>\n",
       "    <tr>\n",
       "      <th>4</th>\n",
       "      <td>5</td>\n",
       "      <td>0</td>\n",
       "      <td>13745950</td>\n",
       "      <td>73</td>\n",
       "      <td>188301</td>\n",
       "      <td>9</td>\n",
       "      <td>246350</td>\n",
       "      <td>1</td>\n",
       "      <td>2</td>\n",
       "      <td>0</td>\n",
       "      <td>...</td>\n",
       "      <td>5</td>\n",
       "      <td>6</td>\n",
       "      <td>6</td>\n",
       "      <td>6</td>\n",
       "      <td>5</td>\n",
       "      <td>5</td>\n",
       "      <td>6</td>\n",
       "      <td>6</td>\n",
       "      <td>5</td>\n",
       "      <td>6</td>\n",
       "    </tr>\n",
       "  </tbody>\n",
       "</table>\n",
       "<p>5 rows × 39 columns</p>\n",
       "</div>"
      ],
      "text/plain": [
       "   고객ID  이탈여부     총_매출액  방문빈도  1회_평균매출액  할인권_사용 횟수  총_할인_금액  고객등급  구매유형  \\\n",
       "0     1     0   4007080    17    235711          1     5445     1     4   \n",
       "1     2     1   3168400    14    226314         22   350995     2     4   \n",
       "2     3     0   2680780    18    148932          6   186045     1     4   \n",
       "3     4     0   5946600    17    349800          1     5195     1     4   \n",
       "4     5     0  13745950    73    188301          9   246350     1     2   \n",
       "\n",
       "   클레임접수여부  ...  매장_청결성  공간_편의성  시야_확보성  음향_적절성  안내_표지판_설명  친절성  신속성  책임성  \\\n",
       "0        0  ...       6       7       6       6          6    6    6    6   \n",
       "1        0  ...       7       7       6       6          6    5    3    6   \n",
       "2        1  ...       6       6       6       6          6    7    7    6   \n",
       "3        1  ...       6       6       5       6          6    6    6    6   \n",
       "4        0  ...       5       6       6       6          5    5    6    6   \n",
       "\n",
       "   정확성  전문성  \n",
       "0    6    6  \n",
       "1    6    6  \n",
       "2    6    7  \n",
       "3    5    6  \n",
       "4    5    6  \n",
       "\n",
       "[5 rows x 39 columns]"
      ]
     },
     "execution_count": 3,
     "metadata": {},
     "output_type": "execute_result"
    }
   ],
   "source": [
    "### 기본데이터2 = 쇼핑몰 설문조사 데이터\n",
    "df2 = pd.read_csv('예제데이터/Ashopping.csv', encoding = 'euc-kr')\n",
    "df2.head()"
   ]
  },
  {
   "cell_type": "markdown",
   "metadata": {},
   "source": [
    "# CDA(Confirmative Data Analysis)\n",
    "- 어떤 현상이 우연인지 아닌지 판단하기 위해 가정을 세우고 가정을 검증하는 과정\n",
    "- 추정치 생성, 그룹 간 분산 및 평균 분석, 회귀분석 등이 CDA 과정에 해당함\n",
    "- 일반적으로 많이 알고 있는 EDA는 빅데이터셋에서 데이터에 대한 예측을 만들기 위해 사용함. 주로 결측값이나 이상치 파악, 주요변수 파악 및 특정 알고리즘을 사용하기 위한 검정이 EDA에 해당함"
   ]
  },
  {
   "cell_type": "markdown",
   "metadata": {},
   "source": [
    "## 추정과 가설검정\n",
    "- 가설: 연구가설을 설정한 뒤, 가설 검증을 위한 귀무가설과 대립가설을 설정한다. \n",
    "    - 연구가설: A는 B와 차이가 있을 것이다. (연구자가 확인하고 싶은 내용)\n",
    "    - 귀무가설: A와 B는 같다.\n",
    "    - 대립가설: A와 B는 같지 않다."
   ]
  },
  {
   "attachments": {
    "image.png": {
     "image/png": "[encoded data removed]"
    }
   },
   "cell_type": "markdown",
   "metadata": {},
   "source": [
    "![image.png](attachment:image.png)"
   ]
  },
  {
   "cell_type": "markdown",
   "metadata": {},
   "source": [
    "# Associative Type Test"
   ]
  },
  {
   "cell_type": "markdown",
   "metadata": {},
   "source": [
    "## 상관분석\n",
    "### 1. Pearson 상관계수\n",
    "- 두 개의 연속형 데이터가 선형 관계에 있는지 검정\n",
    "- 데이터가 독립성, 정규성, 등분산성을 가진다고 가정\n",
    "    - 두 변수가 이변량 정규분포를 따르는 것이 기본 가정이지만 이변량 정규분포를 확인하는 것은 어렵기 때문에 각각 정규분포를 따르는 것으로 조건 완화\n",
    "    - 정규성을 가정한 검정이기 때문에 이상치에 민감한 특성이 있음\n",
    "- 피어슨상관계수 p = $Covariance(X, Y) \\over stdv(X) \\; stdv(Y)$\n",
    "- 가설\n",
    "    - H0: 두 데이터의 pearson 상관계수 p = 0 (변수 X와 변수 Y는 관계가 없다)\n",
    "    - H1: 두 데이터의 pearson 상관계수 p $\\neq$ 0 (변수 X와 변수 Y 사이에 관계가 있다)"
   ]
  },
  {
   "cell_type": "code",
   "execution_count": 16,
   "metadata": {
    "scrolled": true
   },
   "outputs": [
    {
     "data": {
      "text/plain": [
       "(0.6311706453193394, 3.0519604496876793e-112)"
      ]
     },
     "execution_count": 16,
     "metadata": {},
     "output_type": "execute_result"
    }
   ],
   "source": [
    "from scipy import stats\n",
    "stats.pearsonr(df2['총_매출액'], df2['방문빈도']) ##상관계수, p-value 출력"
   ]
  },
  {
   "cell_type": "markdown",
   "metadata": {},
   "source": [
    "참고1) 피어슨 상관계수는 선형성을 가정하여 상관관계의 크기를 나타낸 것이므로 데이터가 선형성을 띄지 않는다면 p-value가 작더라도 유의하지 않을 수 있다. p-value는 선형강도에 상관없이 표본의 크기가 커지면 작아질 수 있다. 따라서 표본 모집단의 정규성 및 등분산성, 선형성을 확인해야 한다."
   ]
  },
  {
   "cell_type": "code",
   "execution_count": 20,
   "metadata": {
    "collapsed": true
   },
   "outputs": [
    {
     "name": "stdout",
     "output_type": "stream",
     "text": [
      "LeveneResult(statistic=341.645104622196, pvalue=1.521134833714759e-70)\n"
     ]
    },
    {
     "data": {
      "text/plain": [
       "<AxesSubplot:xlabel='총_매출액', ylabel='방문빈도'>"
      ]
     },
     "execution_count": 20,
     "metadata": {},
     "output_type": "execute_result"
    },
    {
     "name": "stderr",
     "output_type": "stream",
     "text": [
      "g:\\python\\lib\\site-packages\\matplotlib\\backends\\backend_agg.py:238: RuntimeWarning: Glyph 52509 missing from current font.\n",
      "  font.set_text(s, 0.0, flags=flags)\n",
      "g:\\python\\lib\\site-packages\\matplotlib\\backends\\backend_agg.py:238: RuntimeWarning: Glyph 47588 missing from current font.\n",
      "  font.set_text(s, 0.0, flags=flags)\n",
      "g:\\python\\lib\\site-packages\\matplotlib\\backends\\backend_agg.py:238: RuntimeWarning: Glyph 52636 missing from current font.\n",
      "  font.set_text(s, 0.0, flags=flags)\n",
      "g:\\python\\lib\\site-packages\\matplotlib\\backends\\backend_agg.py:238: RuntimeWarning: Glyph 50529 missing from current font.\n",
      "  font.set_text(s, 0.0, flags=flags)\n",
      "g:\\python\\lib\\site-packages\\matplotlib\\backends\\backend_agg.py:238: RuntimeWarning: Glyph 48169 missing from current font.\n",
      "  font.set_text(s, 0.0, flags=flags)\n",
      "g:\\python\\lib\\site-packages\\matplotlib\\backends\\backend_agg.py:238: RuntimeWarning: Glyph 47928 missing from current font.\n",
      "  font.set_text(s, 0.0, flags=flags)\n",
      "g:\\python\\lib\\site-packages\\matplotlib\\backends\\backend_agg.py:238: RuntimeWarning: Glyph 48712 missing from current font.\n",
      "  font.set_text(s, 0.0, flags=flags)\n",
      "g:\\python\\lib\\site-packages\\matplotlib\\backends\\backend_agg.py:238: RuntimeWarning: Glyph 46020 missing from current font.\n",
      "  font.set_text(s, 0.0, flags=flags)\n",
      "g:\\python\\lib\\site-packages\\matplotlib\\backends\\backend_agg.py:201: RuntimeWarning: Glyph 52509 missing from current font.\n",
      "  font.set_text(s, 0, flags=flags)\n",
      "g:\\python\\lib\\site-packages\\matplotlib\\backends\\backend_agg.py:201: RuntimeWarning: Glyph 47588 missing from current font.\n",
      "  font.set_text(s, 0, flags=flags)\n",
      "g:\\python\\lib\\site-packages\\matplotlib\\backends\\backend_agg.py:201: RuntimeWarning: Glyph 52636 missing from current font.\n",
      "  font.set_text(s, 0, flags=flags)\n",
      "g:\\python\\lib\\site-packages\\matplotlib\\backends\\backend_agg.py:201: RuntimeWarning: Glyph 50529 missing from current font.\n",
      "  font.set_text(s, 0, flags=flags)\n",
      "g:\\python\\lib\\site-packages\\matplotlib\\backends\\backend_agg.py:201: RuntimeWarning: Glyph 48169 missing from current font.\n",
      "  font.set_text(s, 0, flags=flags)\n",
      "g:\\python\\lib\\site-packages\\matplotlib\\backends\\backend_agg.py:201: RuntimeWarning: Glyph 47928 missing from current font.\n",
      "  font.set_text(s, 0, flags=flags)\n",
      "g:\\python\\lib\\site-packages\\matplotlib\\backends\\backend_agg.py:201: RuntimeWarning: Glyph 48712 missing from current font.\n",
      "  font.set_text(s, 0, flags=flags)\n",
      "g:\\python\\lib\\site-packages\\matplotlib\\backends\\backend_agg.py:201: RuntimeWarning: Glyph 46020 missing from current font.\n",
      "  font.set_text(s, 0, flags=flags)\n"
     ]
    },
    {
     "data": {
      "image/png": "[encoded data removed]",
      "text/plain": [
       "<Figure size 432x288 with 1 Axes>"
      ]
     },
     "metadata": {
      "needs_background": "light"
     },
     "output_type": "display_data"
    }
   ],
   "source": [
    "## 등분산성 확인\n",
    "print(levene(df2['총_매출액'], df2['방문빈도']))\n",
    "\n",
    "## 선형성 확인\n",
    "sns.scatterplot(x = '총_매출액', y = '방문빈도', data = df2)"
   ]
  },
  {
   "cell_type": "markdown",
   "metadata": {},
   "source": [
    "참고2) 상관관계 테이블 출력하기  \n",
    "3개 이상의 변수들 사이에서 피어슨 상관계수를 빠르게 확인한다"
   ]
  },
  {
   "cell_type": "code",
   "execution_count": 18,
   "metadata": {
    "scrolled": true
   },
   "outputs": [
    {
     "data": {
      "text/html": [
       "<style  type=\"text/css\" >\n",
       "#T_76656e14_a417_11ec_9c73_8cb0e903c6f0row0_col0,#T_76656e14_a417_11ec_9c73_8cb0e903c6f0row1_col1,#T_76656e14_a417_11ec_9c73_8cb0e903c6f0row2_col2{\n",
       "            background-color:  #023858;\n",
       "            color:  #f1f1f1;\n",
       "            font-size:  10pt;\n",
       "        }#T_76656e14_a417_11ec_9c73_8cb0e903c6f0row0_col1{\n",
       "            background-color:  #a1bbda;\n",
       "            color:  #000000;\n",
       "            font-size:  10pt;\n",
       "        }#T_76656e14_a417_11ec_9c73_8cb0e903c6f0row0_col2,#T_76656e14_a417_11ec_9c73_8cb0e903c6f0row2_col0,#T_76656e14_a417_11ec_9c73_8cb0e903c6f0row2_col1{\n",
       "            background-color:  #fff7fb;\n",
       "            color:  #000000;\n",
       "            font-size:  10pt;\n",
       "        }#T_76656e14_a417_11ec_9c73_8cb0e903c6f0row1_col0{\n",
       "            background-color:  #81aed2;\n",
       "            color:  #000000;\n",
       "            font-size:  10pt;\n",
       "        }#T_76656e14_a417_11ec_9c73_8cb0e903c6f0row1_col2{\n",
       "            background-color:  #ece7f2;\n",
       "            color:  #000000;\n",
       "            font-size:  10pt;\n",
       "        }</style><table id=\"T_76656e14_a417_11ec_9c73_8cb0e903c6f0\" ><thead>    <tr>        <th class=\"blank level0\" ></th>        <th class=\"col_heading level0 col0\" >총_매출액</th>        <th class=\"col_heading level0 col1\" >방문빈도</th>        <th class=\"col_heading level0 col2\" >구매_카테고리_수</th>    </tr></thead><tbody>\n",
       "                <tr>\n",
       "                        <th id=\"T_76656e14_a417_11ec_9c73_8cb0e903c6f0level0_row0\" class=\"row_heading level0 row0\" >총_매출액</th>\n",
       "                        <td id=\"T_76656e14_a417_11ec_9c73_8cb0e903c6f0row0_col0\" class=\"data row0 col0\" >1.000000</td>\n",
       "                        <td id=\"T_76656e14_a417_11ec_9c73_8cb0e903c6f0row0_col1\" class=\"data row0 col1\" >0.631171</td>\n",
       "                        <td id=\"T_76656e14_a417_11ec_9c73_8cb0e903c6f0row0_col2\" class=\"data row0 col2\" >0.308347</td>\n",
       "            </tr>\n",
       "            <tr>\n",
       "                        <th id=\"T_76656e14_a417_11ec_9c73_8cb0e903c6f0level0_row1\" class=\"row_heading level0 row1\" >방문빈도</th>\n",
       "                        <td id=\"T_76656e14_a417_11ec_9c73_8cb0e903c6f0row1_col0\" class=\"data row1 col0\" >0.631171</td>\n",
       "                        <td id=\"T_76656e14_a417_11ec_9c73_8cb0e903c6f0row1_col1\" class=\"data row1 col1\" >1.000000</td>\n",
       "                        <td id=\"T_76656e14_a417_11ec_9c73_8cb0e903c6f0row1_col2\" class=\"data row1 col2\" >0.395861</td>\n",
       "            </tr>\n",
       "            <tr>\n",
       "                        <th id=\"T_76656e14_a417_11ec_9c73_8cb0e903c6f0level0_row2\" class=\"row_heading level0 row2\" >구매_카테고리_수</th>\n",
       "                        <td id=\"T_76656e14_a417_11ec_9c73_8cb0e903c6f0row2_col0\" class=\"data row2 col0\" >0.308347</td>\n",
       "                        <td id=\"T_76656e14_a417_11ec_9c73_8cb0e903c6f0row2_col1\" class=\"data row2 col1\" >0.395861</td>\n",
       "                        <td id=\"T_76656e14_a417_11ec_9c73_8cb0e903c6f0row2_col2\" class=\"data row2 col2\" >1.000000</td>\n",
       "            </tr>\n",
       "    </tbody></table>"
      ],
      "text/plain": [
       "<pandas.io.formats.style.Styler at 0x1cc3d0502e0>"
      ]
     },
     "execution_count": 18,
     "metadata": {},
     "output_type": "execute_result"
    }
   ],
   "source": [
    "df2_subset = df2[['총_매출액', '방문빈도', '구매_카테고리_수']]\n",
    "df2_subset.corr(method = 'pearson').style.background_gradient().set_properties(**{'font-size':'10pt'})"
   ]
  },
  {
   "cell_type": "markdown",
   "metadata": {},
   "source": [
    "결과해석: 매출액과 방문빈도 간 상관관계가 매출액과 구매 카테고리 수 사이의 상관관계보다 높기 때문에, 쇼핑몰의 매출액을 강화시키기 위해서는 고객들의 구매 카테고리 수를 증가시키기 보다는 고객들의 더 잦은 방문을 유도하는 것이 필요"
   ]
  },
  {
   "cell_type": "markdown",
   "metadata": {},
   "source": [
    "### 2. 편(부분) 상관계수\n",
    "- X와 Y 사이에 영향을 미치는 제 3의 변수 Z를 통제한 상태에서 구한 X-Y 간 상관계수를 '편 상관계수'라고 부름\n",
    "- 이렇게 Z를 통제하고 구한 X와 Y의 상관계수는 '1차 편상관계수'라고 부른다. 여기서 'n차'는 X와 Y의 상관계수를 구할 때 통제된 변수의 숫자이다.\n",
    "- X와 Y 각각에서 Z에서 선형적으로 설명되는 부분을 제거하고 남은 잔차들의 상관계수를 구한다. (Y-aZ-k1)와 (X-bZ-k2)의 상관계수를 구한다는 이야기인 듯\n",
    "- X와 Y의 편상관계수 공식\n",
    " $r_{xy \\cdot z}=\\ \\frac{r_{xy}-r_{xz}\\cdot r_{yz}}{\\sqrt{1-r_{xz}^2} \\cdot \\sqrt{1-r_{yz}^2}}$\n",
    "- $r_{xy}\\ =\\ \\frac{cov\\left(xy\\right)}{\\sqrt{var\\left(x\\right)var\\left(y\\right)}}\\ \\left(zero\\ order\\ partial\\ correlation\\right)$ - 0차 상관계수는 아무런 통제변수가 없는 상태의 상관계수를 의미\n",
    "- 편상관계수의 상관관계 검정\n",
    "  - H0: Z가 통제된 상황에서 X와 Y는 유의한 선형관계를 갖지 않는다\n",
    "  - H1: Z가 통제된 상황에서 X와 Y는 유의한 선형관계를 갖는다\n",
    "  \n",
    "- pingouin.partial_corr(data, x, y, covar - string or list, x_covar - string or list, y_covar - string or list, alternative, method)\n",
    "    - method : 'pearson' or 'spearman'\n",
    "    - x_covar : 해당 하이퍼파라미터로 지정된 변수는 x에서만 영향력이 제거됨\n",
    "    - y_covar : y에서만 영향력을 제거함"
   ]
  },
  {
   "cell_type": "code",
   "execution_count": 23,
   "metadata": {
    "scrolled": false
   },
   "outputs": [
    {
     "data": {
      "text/html": [
       "<div>\n",
       "<style scoped>\n",
       "    .dataframe tbody tr th:only-of-type {\n",
       "        vertical-align: middle;\n",
       "    }\n",
       "\n",
       "    .dataframe tbody tr th {\n",
       "        vertical-align: top;\n",
       "    }\n",
       "\n",
       "    .dataframe thead th {\n",
       "        text-align: right;\n",
       "    }\n",
       "</style>\n",
       "<table border=\"1\" class=\"dataframe\">\n",
       "  <thead>\n",
       "    <tr style=\"text-align: right;\">\n",
       "      <th></th>\n",
       "      <th>n</th>\n",
       "      <th>r</th>\n",
       "      <th>CI95%</th>\n",
       "      <th>r2</th>\n",
       "      <th>adj_r2</th>\n",
       "      <th>p-val</th>\n",
       "      <th>BF10</th>\n",
       "      <th>power</th>\n",
       "    </tr>\n",
       "  </thead>\n",
       "  <tbody>\n",
       "    <tr>\n",
       "      <th>pearson</th>\n",
       "      <td>1000</td>\n",
       "      <td>0.58300</td>\n",
       "      <td>[0.54, 0.62]</td>\n",
       "      <td>0.34000</td>\n",
       "      <td>0.33800</td>\n",
       "      <td>0.00000</td>\n",
       "      <td>2.242e+88</td>\n",
       "      <td>1.00000</td>\n",
       "    </tr>\n",
       "  </tbody>\n",
       "</table>\n",
       "</div>"
      ],
      "text/plain": [
       "            n       r         CI95%      r2  adj_r2   p-val       BF10   power\n",
       "pearson  1000 0.58300  [0.54, 0.62] 0.34000 0.33800 0.00000  2.242e+88 1.00000"
      ]
     },
     "execution_count": 23,
     "metadata": {},
     "output_type": "execute_result"
    }
   ],
   "source": [
    "from pingouin import partial_corr\n",
    "partial_corr(data = df2, x = '총_매출액', y = '방문빈도', covar = '구매_카테고리_수').round(3)  ##n(sample size), r(correlation), CI95, p-val 순으로 출력"
   ]
  },
  {
   "cell_type": "markdown",
   "metadata": {},
   "source": [
    "### 3. Spearman 상관계수\n",
    "- 비모수적 방법으로, 서열척도(rank)로 이루어진 변수들 간의 상관계수를 검증하기 위함\n",
    "- $ {r}_s\\ =\\frac{\\sum _{i=1}^n\\left(i-\\frac{n+1}{2}\\right)\\left(R_i\\ -\\ \\overline {R}\\right)}{\\sqrt{\\sum _{i=1}^n\\left(i-\\frac{n+1}{2}\\right)^2}\\sqrt{\\sum _{i=1}^n\\left(R_i\\ -\\ \\overline {R}\\right)^2}}$  , i는 x값의 순위, r은 y값의 순위\n",
    "- 1일 경우 두 변수의 서열이 완벽하게 일치한다고 해석, -1인 경우 두 변수의 서열이 완벽하게 반대임을 의미\n",
    "- 가설\n",
    "    - H0: X순위와 Y순위는 연관성이 없다"
   ]
  },
  {
   "cell_type": "code",
   "execution_count": 24,
   "metadata": {},
   "outputs": [
    {
     "data": {
      "text/plain": [
       "SpearmanrResult(correlation=-0.4988411248473936, pvalue=4.929293870381245e-64)"
      ]
     },
     "execution_count": 24,
     "metadata": {},
     "output_type": "execute_result"
    }
   ],
   "source": [
    "from scipy.stats import spearmanr\n",
    "stats.spearmanr(df2['1회_평균매출액'], df2['방문빈도'])"
   ]
  },
  {
   "cell_type": "markdown",
   "metadata": {},
   "source": [
    "### 4. 정준상관분석 (Canonical Correlation Analysis)\n",
    "- n개 변수의 선형 결합으로 이루어진 변수 X를 정준변수(cannonical variate)라고 부른다. \n",
    "- 두 정준변수 X와 Y의 상관관계를 정준상관계수라고 부름\n",
    "- 원칙적으로 CCA에 사용하는 모든 변량은 연속형이어야 하지만, 범주형 데이터를 더미화해서 사용하는 것도 가능하다\n",
    "- 정준상관분석의 귀무가설\n",
    "  - H0: 정준변수 X와 정준변수 Y는 연관성이 없다"
   ]
  },
  {
   "cell_type": "markdown",
   "metadata": {},
   "source": [
    "Step1. 정준변수 생성하기"
   ]
  },
  {
   "cell_type": "code",
   "execution_count": null,
   "metadata": {},
   "outputs": [],
   "source": [
    "from sklearn.cross_decomposition import CCA\n",
    "\n",
    "U = df2[['매장_청결성', '공간_편의성', '시야_확보성', '음향_적절성']] ##매장 인테리어 만족도라는 정준변수로 설정\n",
    "V = df2[['친절성', '신속성', '책임성', '정확성', '전문성']]  ## 직원 만족도라는 정준변수로 설정\n",
    "\n",
    "cca = CCA(n_components = 1).fit(U,V) ##n_components는 몇 개의 그룹으로 나누어서 정준상관계수를 구할 것인지 설정(max = 한 정준변수를 구성하는 변수 수)\n",
    "U_c, V_c = cca.transform(U,V)\n",
    "U_c1 = pd.DataFrame(U_c)[0]\n",
    "V_c1 = pd.DataFrame(V_c)[0]\n",
    "print(U_c)  ##U_c와 V_c는 각각 하위변수들로 만들어진 정준변수값 (관측치 개수만큼 생성)\n",
    "print(V_c)"
   ]
  },
  {
   "cell_type": "markdown",
   "metadata": {},
   "source": [
    "Step2. 정준변수 간 상관관계 구하기"
   ]
  },
  {
   "cell_type": "code",
   "execution_count": 28,
   "metadata": {
    "scrolled": true
   },
   "outputs": [
    {
     "data": {
      "text/plain": [
       "(0.537610055722476, 5.574139659006864e-76)"
      ]
     },
     "execution_count": 28,
     "metadata": {},
     "output_type": "execute_result"
    }
   ],
   "source": [
    "stats.pearsonr(U_c1, V_c1)"
   ]
  },
  {
   "cell_type": "markdown",
   "metadata": {},
   "source": [
    "두 정준변수 간 상관분석 결과를 확인하면 p-value는 0.05 이하이며, 상관계수 p값이 약 0.5로 약한 양의 상관관계가 존재한다."
   ]
  },
  {
   "cell_type": "markdown",
   "metadata": {},
   "source": [
    "Step3. 정준적재량, 교차적재량 구하기\n",
    "- 만들어진 정준변수에 가장 많은 영향을 주는 하위변수는 무엇인지 __정준적재량__ 을 통해 계산할 수 있다\n",
    "- 만들어진 정준변수에 가장 많은 영향을 주는 다른 정준변수의 하위변수는 무엇인지 __교차적재량__ 을 통해 알 수 있다."
   ]
  },
  {
   "cell_type": "code",
   "execution_count": 30,
   "metadata": {
    "scrolled": true
   },
   "outputs": [
    {
     "name": "stdout",
     "output_type": "stream",
     "text": [
      "정준변수1과 정준변수1의 하위변수들 간 정준적재량: [0.67512627 0.74999324 0.72339665 0.76718716]\n",
      "정준변수1과 정준변수2의 하위변수들 간 교차적재량: [0.23332877 0.28273143 0.39848041 0.49803734 0.46490251]\n",
      "정준변수2와 정준변수2의 하위변수들 간 정준적재량: [0.43401118 0.52590429 0.74120715 0.92639141 0.86475784]\n",
      "정준변수2와 정준변수1의 하위변수들 간 교차적재량: [0.36294246 0.40320237 0.38889766 0.41246431]\n"
     ]
    }
   ],
   "source": [
    "### np.corrcoeff는 data1과 data2에 들어간 모든 변량의 상관계수를 구해줌\n",
    "print('정준변수1과 정준변수1의 하위변수들 간 정준적재량:', np.corrcoef(U_c1.T, U.T)[0, 1:])\n",
    "print('정준변수1과 정준변수2의 하위변수들 간 교차적재량:', np.corrcoef(U_c1.T, V.T)[0, 1:])\n",
    "print('정준변수2와 정준변수2의 하위변수들 간 정준적재량:', np.corrcoef(V_c1.T, V.T)[0, 1:])\n",
    "print('정준변수2와 정준변수1의 하위변수들 간 교차적재량:', np.corrcoef(V_c1.T, U.T)[0, 1:])"
   ]
  },
  {
   "cell_type": "markdown",
   "metadata": {},
   "source": [
    "해석 예시) 정준변수 1과 정준변수 2의 교차적재량에서 교차적재량이 가장 높은 변수는 '정확성'(0.4980) 이므로, 매장 인테리어 만족도를 높이기 위해서는 직원들의 정확도를 높여야 한다."
   ]
  },
  {
   "cell_type": "markdown",
   "metadata": {},
   "source": [
    "## Chisquare test (교차분석)\n",
    "- 두 범주형 변수의 분할표(Contingency table)에 보이는 빈도를 '우연한 상태의 빈도 기대값'과 비교하여 범주형 변수의 관계를 파악\n",
    "- 범주형 변수의 관계 유무만 파악할 수 있기 때문에 어떤 관계가 있는지는 추가적인 상관분석 또는 회귀분석이 필요\n",
    "- 가설\n",
    "    - H0: A와 B는 서로 관계가 없다 (독립이다)\n",
    "- 2*2 의 소표본인 경우, p값이 실제보다 작아져 1종오류를 과소평가하는 경향이 있기 때문에 검정통계량을 작게 보정하는 방법을 고려할 수 있다. (예이츠의 연속성 보정)"
   ]
  },
  {
   "cell_type": "markdown",
   "metadata": {},
   "source": [
    "Step1. 분할표 만들기"
   ]
  },
  {
   "cell_type": "code",
   "execution_count": 39,
   "metadata": {
    "collapsed": true
   },
   "outputs": [
    {
     "data": {
      "text/html": [
       "<div>\n",
       "<style scoped>\n",
       "    .dataframe tbody tr th:only-of-type {\n",
       "        vertical-align: middle;\n",
       "    }\n",
       "\n",
       "    .dataframe tbody tr th {\n",
       "        vertical-align: top;\n",
       "    }\n",
       "\n",
       "    .dataframe thead th {\n",
       "        text-align: right;\n",
       "    }\n",
       "</style>\n",
       "<table border=\"1\" class=\"dataframe\">\n",
       "  <thead>\n",
       "    <tr style=\"text-align: right;\">\n",
       "      <th>who</th>\n",
       "      <th>child</th>\n",
       "      <th>man</th>\n",
       "      <th>woman</th>\n",
       "    </tr>\n",
       "    <tr>\n",
       "      <th>survived</th>\n",
       "      <th></th>\n",
       "      <th></th>\n",
       "      <th></th>\n",
       "    </tr>\n",
       "  </thead>\n",
       "  <tbody>\n",
       "    <tr>\n",
       "      <th>0</th>\n",
       "      <td>34</td>\n",
       "      <td>449</td>\n",
       "      <td>66</td>\n",
       "    </tr>\n",
       "    <tr>\n",
       "      <th>1</th>\n",
       "      <td>49</td>\n",
       "      <td>88</td>\n",
       "      <td>205</td>\n",
       "    </tr>\n",
       "  </tbody>\n",
       "</table>\n",
       "</div>"
      ],
      "text/plain": [
       "who       child  man  woman\n",
       "survived                   \n",
       "0            34  449     66\n",
       "1            49   88    205"
      ]
     },
     "execution_count": 39,
     "metadata": {},
     "output_type": "execute_result"
    }
   ],
   "source": [
    "## contingency table 만들기\n",
    "contingency = pd.crosstab(df['survived'], df['who']) ##성별과 타이타닉 생존 여부의 관련성\n",
    "contingency"
   ]
  },
  {
   "cell_type": "markdown",
   "metadata": {},
   "source": [
    "Step2. 카이제곱통계량을 구하고 p-value 계산"
   ]
  },
  {
   "cell_type": "code",
   "execution_count": 38,
   "metadata": {
    "scrolled": false
   },
   "outputs": [
    {
     "data": {
      "text/plain": [
       "(283.923050324233,\n",
       " 2.2227620817798914e-62,\n",
       " 2,\n",
       " array([[ 51.14141414, 330.87878788, 166.97979798],\n",
       "        [ 31.85858586, 206.12121212, 104.02020202]]))"
      ]
     },
     "execution_count": 38,
     "metadata": {},
     "output_type": "execute_result"
    }
   ],
   "source": [
    "from scipy.stats import chi2_contingency\n",
    "\n",
    "chi2_contingency(contingency)  ##chi2 - 통계량, p - p-value, dof- 자유도, expected - 자연상태의 기대 빈도"
   ]
  },
  {
   "cell_type": "markdown",
   "metadata": {},
   "source": [
    "## 피셔의 정확검정(직접확률 검정)\n",
    "- 사건의 발생빈도가 극히 적거나 (5회 이하의 빈도가 전체 셀 중 20% 이상 존재하는 경우), 각 셀의 빈도수 차이가 많이 관찰되는 경우 카이제곱검정의 정확도를 보정하기 위해 사용\n",
    "- 초기하분포(비복원추출에서 뽑은 n개 중 x개의 사건이 발생한다고 가정하는 분포) 하에 정확한 p-value를 계산함\n",
    "- scipy의 fisher_exact는 2x2 분할표만 입력할 수 있음\n",
    "- 2x2 분할표에서 변수 간 독립성 검정을 하는 경우 barnard_exact, boschloo_exact가 더 정확한 검정을 수행할 수 있음(scipy.stats에서 제공)"
   ]
  },
  {
   "cell_type": "code",
   "execution_count": 48,
   "metadata": {
    "scrolled": true
   },
   "outputs": [
    {
     "data": {
      "text/plain": [
       "(0.07716184697402802, 7.000114456071946e-64)"
      ]
     },
     "execution_count": 48,
     "metadata": {},
     "output_type": "execute_result"
    }
   ],
   "source": [
    "from scipy.stats import fisher_exact\n",
    "\n",
    "contingency = pd.crosstab(df['survived'], df['adult_male'])\n",
    "fisher_exact(contingency)      ## oddsratio, p_value 출력"
   ]
  },
  {
   "cell_type": "markdown",
   "metadata": {},
   "source": [
    "### 맥니마 검정\n",
    "- 짝지은 명목형 2x2 분할 데이터에서 사용함\n",
    "- ex) X1: 약을 처방하기 전의 질병상태(1 or 0) , X2: 약을 처방한 후의 질병상태(1 or 0)\n",
    "- 분할표에서의 marginal probability가 같은지 검정(p(a) + p(b) = p(a) + p(c), p(c) + p(d) = p(b) + p(d))\n",
    "- 가설\n",
    "    - H0: $ p_{a} = p_{c} $  (X1 = 1 & X2 = 1인 확률과 X1 = 1 & X2 = 0인 확률이 같다)\n",
    "    - H1: $ p_{b} \\neq p_{C} $\n",
    "- mcnemar(table, exact = True, correcton = True)\n",
    "    - exact: True일 때 이항분포로 검정, False일 때 카이제곱분포로 검정\n",
    "    - correction: True일 때 검정 분포에 연속성보정이 적용됨"
   ]
  },
  {
   "cell_type": "code",
   "execution_count": 53,
   "metadata": {},
   "outputs": [
    {
     "name": "stdout",
     "output_type": "stream",
     "text": [
      "pvalue      0.00010321744149513965\n",
      "statistic   15.076923076923077\n"
     ]
    }
   ],
   "source": [
    "from statsmodels.stats.contingency_tables import mcnemar\n",
    "\n",
    "contingency = [[30,40], [12,18]]\n",
    "print(mcnemar(contingency, exact = False, correction = False))  ## result: statistics, pvalue"
   ]
  },
  {
   "cell_type": "markdown",
   "metadata": {},
   "source": [
    "# Comparative Type Test"
   ]
  },
  {
   "cell_type": "markdown",
   "metadata": {},
   "source": [
    "## t-Test (t 검정)\n",
    "### 1. 일표본 t검정\n",
    "- 단일 모집단에서 관심 그룹의 평균이 기준값과 같은지 비교할 때 사용\n",
    "- 일표본 t검정은 모집단이 정규분포를 따른다고 가정 (*관심그룹의 정규성 검정이 선행되어야 함* but 일반적으로 표본이 20개 이상이면 정규성을 만족한다고 가정)"
   ]
  },
  {
   "cell_type": "markdown",
   "metadata": {},
   "source": [
    "Step 1. 정규성 검정을 위한 Shapiro-Wilk test"
   ]
  },
  {
   "cell_type": "code",
   "execution_count": 3,
   "metadata": {},
   "outputs": [
    {
     "name": "stdout",
     "output_type": "stream",
     "text": [
      "0.5218914747238159 1.0789998175301091e-43\n"
     ]
    }
   ],
   "source": [
    "from scipy.stats import shapiro\n",
    "\n",
    "statistic, p_value = shapiro(df.fare)  ## titanic fare값의 평균이 30인지 확인해보자\n",
    "print(statistic, p_value)"
   ]
  },
  {
   "cell_type": "markdown",
   "metadata": {},
   "source": [
    "step2-1. 모집단이 정규성을 만족하지 않을 때 - __윌콕슨 부호순위검정(Wilcoxon Signed Rank Test)__ 을 이용\n",
    "- 가설\n",
    "    - H0: 모집단의 중위수가 30(비교하고 싶은 값)이다\n",
    "    - H1: 모집단의 중위수가 30(비교하고 싶은 값)이 아니다\n",
    "- 계산방법  \n",
    "    - |Xi - 30|(관측치에서 예상 중위수를 뺀 값)을 오름차순으로 줄 세워 순위를 매긴다, 절대값 안의 숫자가 음수가 되는 순위는 음수로 처리한다. 이 순위의 값을 전부 더했을 때, 모집단의 중위수가 추정치와 같았다면 순위의 합 W는 0에 가까워진다. 만약 W가 너무 크거나 작으면 귀무가설을 기각하게 된다.   \n",
    "    - W는 평균은 0 분산은 n(n+1)(2n+1)/6의 통계량을 가지게 되는데, W는 특정한 분포를 갖는 값의 합이라는 점(W의 첫번째 값은 각 0.5의 확률로 1 또는 -1, 두번째 값은 각 0.5의 확률로 +-2가 된다)에서 중심극한정리를 이용해 정규분포에 근사시킬 수 있다. 따라서 W를 이용한 검정은 Z 통계량을 이용하여 기각 또는 채택하게 된다.\n",
    "- 하이퍼파라미터\n",
    "    - alternative \n",
    "        - 'two-sided'(default)\n",
    "        - 'less' (H0: 실제 중위수 < 추정값)\n",
    "        - 'greater' (H0: 중위수 > 추정값)\n",
    "    - zero_method \n",
    "        - 'wilcoxon'(default): |X-mu|가 0이 되는 값을 순위산정 이전에 제거하고 줄어든 샘플로 검정\n",
    "        - 'pratt': |X-mu|가 0이 되는 값은 순위산정에 포함한 뒤에 합을 구할 때 제거 (W는 중심극한정리에 의한 정규분포를 가정할 수 없게 됨)\n",
    "        - 'zsplit': 0이 되는 값의 부호를 양수와 음수 중 하나로 결정해줌\n",
    "        - 'pratt'은 다른 방법에 비해 더 보수적인 검정을 하게 됨\n",
    "    - nan_policy\n",
    "        - 'propagate'(default) : NaN이 있으면 결과값도 NaN으로 출력\n",
    "        - 'omit': Nan값을 생략하고 나머지 값으로 계산한 결과값 출력\n",
    "        - 'raise': NaN값이 있으면 ValueError 출력"
   ]
  },
  {
   "cell_type": "code",
   "execution_count": 4,
   "metadata": {
    "collapsed": true
   },
   "outputs": [
    {
     "name": "stdout",
     "output_type": "stream",
     "text": [
      "1.369432543821431e-15\n",
      "135268.0\n"
     ]
    }
   ],
   "source": [
    "###윌콕슨 부호순위 검정\n",
    "from scipy.stats import wilcoxon\n",
    "\n",
    "result = wilcoxon(df.fare - 30)\n",
    "\n",
    "print(result.pvalue)\n",
    "print(result.statistic)"
   ]
  },
  {
   "cell_type": "markdown",
   "metadata": {},
   "source": [
    "Step2-2. 모집단이 정규성을 만족할 때 - __일표본 t검정__ 을 이용\n",
    "- H0: 모집단의 평균 mu = 추정값\n",
    "- 하이퍼파라미터\n",
    "    - ttest_1samp(a, popmean, axis, nan_policy, alternative)\n",
    "    - popmean은 H0의 추정평균, omit, alternative는 Wilcoxon과 동일"
   ]
  },
  {
   "cell_type": "code",
   "execution_count": 6,
   "metadata": {
    "collapsed": true
   },
   "outputs": [
    {
     "name": "stdout",
     "output_type": "stream",
     "text": [
      "0.18583845591428397\n",
      "1.3240136368613238\n"
     ]
    }
   ],
   "source": [
    "from scipy.stats import ttest_1samp\n",
    "result = ttest_1samp(df.fare, 30)\n",
    "print(result.pvalue)\n",
    "print(result.statistic)"
   ]
  },
  {
   "cell_type": "markdown",
   "metadata": {},
   "source": [
    "### 2. 대응표본 t 검정\n",
    "- 단일 모집단에 대해 특정 이벤트 발생 이전과 이후의 차이를 비교\n",
    "- 가설\n",
    "    - 연구가설: 이벤트에 따른 값의 차이가 없을 것이다.\n",
    "    - H0: 이전 집단과 이후 집단 값 차이의 평균은 0이다.\n",
    "    - H1: 이전 집단과 이후 집단 값 차이의 평균은 0이 아니다. \n",
    "- t-statistic = ${차이값의 평균 \\over 차이 평균의 표준오차} $\n",
    "- (이벤트 발생 이전값 - 이벤트 발생 이후값)이 정규성을 만족하며 연속형이어야 한다는 기본가정이 존재. Shapiro Wilk test 또는 샘플의 개수를 기반으로 판단할 수 있음.\n",
    "- 하이퍼파라미터\n",
    "    - ttest_rel(a, b, axis, nan_policy, alternative)\n",
    "    - nan_policy: ttest_1samp와 동일\n",
    "    - alternative: ttest_1samp와 동일"
   ]
  },
  {
   "cell_type": "code",
   "execution_count": 8,
   "metadata": {
    "collapsed": true
   },
   "outputs": [
    {
     "name": "stdout",
     "output_type": "stream",
     "text": [
      "-4.743416490252569\n",
      "0.001053871257016553\n"
     ]
    }
   ],
   "source": [
    "test_data = {\n",
    "    'before': [7,3,4,5,2,1,6,6,5,4],\n",
    "    'after':[8,4,5,6,2,3,6,8,6,5]\n",
    "}\n",
    "test_data = pd.DataFrame(test_data)\n",
    "\n",
    "\n",
    "from scipy.stats import ttest_rel\n",
    "\n",
    "result = ttest_rel(test_data['before'], test_data['after'])\n",
    "print(result.statistic)\n",
    "print(result.pvalue)"
   ]
  },
  {
   "cell_type": "markdown",
   "metadata": {},
   "source": [
    "### 3. 독립표본 t검정\n",
    "- 두 개의 독립된 모집단의 평균을 비교 (ex. 성별 - 범주형데이터 에 따른 출근 준비시간 - 연속형 데이터 이 다른가?)\n",
    "- 가설\n",
    "    - 연구가설: 범주형 변수에 따른 연속형 변수의 차이가 존재할 것이다. \n",
    "    - H0: $\\mu_{A} - \\mu_{B} = 0$\n",
    "- 두 모집단은 모두 정규성을 만족하고, 서로 독립이어야 함 (독립이다 = 두 집단이 서로 영향을 주고 있지 않다)\n",
    "- 두 모집단의 등분산성 성립에 따라 검정통계량 계산 방법이 달라짐"
   ]
  },
  {
   "cell_type": "markdown",
   "metadata": {},
   "source": [
    "Step1. 등분산성 여부를 확인 - __Levene's test__\n",
    "- Levene's test의 가설\n",
    "    - H0: $\\sigma^{2}_{1} = \\sigma^{2}_{2} = \\sigma^{2}_{3} = ... = \\sigma^{2}_{k}$ (모든 집단의 분산이 같다)\n",
    "    - H1: $\\sigma^{2}_{i} \\neq \\sigma^{2}_{j}$ for at least one pair (i,j) (적어도 한 집단의 분산이 같지 않다)  \n",
    "- W= $(N−k)\\over(k−1)$ $\\Sigma_{i=1}^{k}N_{i} {(\\bar{Z}_{i} - \\bar{Z}_{..})^{2} } \\over \\Sigma_{i=1}^{k} \\Sigma_{j=1}^{N_{i}}{(Z_{ij}−\\bar{Z}_{i.})}^{2}$    (전체 표본크기 N이 범주형변수에 따른 그룹 k개로 쪼개졌고 $N_{i}$는 i번째 그룹의 표본을 의미한다. $Z_{ij}$를 구하는 방법에 따라 하이퍼파라미터가 달라진다.\n",
    "- 하이퍼파라미터\n",
    "    - levene(sample1, sample2, .... , center, proportiontocut)\n",
    "    - center ($Z_{ij}$를 구하는 방법)\n",
    "        - 'median'(default) \n",
    "            - $Z_{ij} = |Y_{ij} - \\tilde{Y}_{i.}|$ 관측된 Y값에서 i번째 그룹의 중앙값을 뺀 값\n",
    "            - 왜도가 높은(정규성을 보이지 않는) 데이터에 적합\n",
    "        - 'mean'\n",
    "            - $Z_{ij} = |Y_{ij} - \\bar{Y}_{i.}|$  관측된 Y값에서 i번째 그룹의 평균을 뺀 값\n",
    "            - 대칭이며 꼬리분포가 적당한 데이터에 적합 (정규성)\n",
    "        - 'trimmed'\n",
    "            - $Z_{ij} = |Y_{ij} - \\bar{Y}_{i.}^{'}|$  관측된 Y 값에서 양쪽 10% 값을 제한 (trimmed data) 데이터들의 평균을 뺌\n",
    "            - 두터운 꼬리 분포를 가지는 데이터에 적합\n",
    "    - proportiontocut (default = 0.05)  \n",
    "    : center이 'trimmed'일 때 양쪽에서 몇 퍼센트의 비율만큼 데이터를 제외할 것인지 결정\n",
    "      \n",
    "- Bartlett test\n",
    "    - 분산의 동질성을 검정하지만 Levene's test와 달리 표본이 정규성을 만족할 때만 사용할 수 있음"
   ]
  },
  {
   "cell_type": "code",
   "execution_count": 10,
   "metadata": {
    "collapsed": true
   },
   "outputs": [
    {
     "name": "stdout",
     "output_type": "stream",
     "text": [
      "16.59972698234938\n",
      "5.028279844812678e-05\n"
     ]
    }
   ],
   "source": [
    "from scipy.stats import levene\n",
    "\n",
    "result = levene(df[df['adult_male']==1]['fare'], df[df['adult_male']==0]['fare']) ## 남자와 여자의 표 값을 비교하기 위해 등분산 검정\n",
    "print(result.statistic)\n",
    "print(result.pvalue)"
   ]
  },
  {
   "cell_type": "markdown",
   "metadata": {},
   "source": [
    "Step2. 등분산성 여부에 맞게 독립표본 t 검정을 실행\n",
    "- 하이퍼파라미터\n",
    "    - ttest_ind(a, b, axis, equal_var, nan_policy, permutations, random_state, alternative, trim)\n",
    "    - equal_var (default : True)\n",
    "        - 두 모집단이 등분산성을 만족할 때 True\n",
    "        - 두 모집단이 등분산성을 만족하지 않을 때 False (Welch's t-test로 계산됨)\n",
    "    - permutations (default : None or 0)\n",
    "        - None 일시 t 분포를 가정한 p-value를 계산함\n",
    "        - 숫자만큼 무작위의 순열검정을 수행하여 p-value를 계산\n",
    "        - random_state는 permutation test 수행 시 seed를 지정해줌\n",
    "    - alternative (default: 'two-sided')\n",
    "        - 'less': 첫번째 샘플의 평균 < 두번째 샘플의 평균\n",
    "        - 'greater': 첫번째 샘플의 평균 > 두번째 샘플의 평균\n",
    "    - trim (default: 0)\n",
    "        - 해당 비율만큼 각 샘플의 양쪽 값을 제거하고 검정을 수행(Yuen's t-test or Trimmed t-test)"
   ]
  },
  {
   "cell_type": "code",
   "execution_count": 13,
   "metadata": {
    "collapsed": true
   },
   "outputs": [
    {
     "name": "stdout",
     "output_type": "stream",
     "text": [
      "-5.267344838807816\n",
      "1.897839302718044e-07\n"
     ]
    }
   ],
   "source": [
    "from scipy.stats import ttest_ind\n",
    "\n",
    "result = ttest_ind(df[df['adult_male']==1]['fare'], df[df['adult_male']==0]['fare'], equal_var = False) ## 등분산성을 만족하지 않음\n",
    "print(result.statistic)\n",
    "print(result.pvalue)"
   ]
  },
  {
   "cell_type": "code",
   "execution_count": 45,
   "metadata": {},
   "outputs": [
    {
     "data": {
      "image/png": "[encoded data removed]",
      "text/plain": [
       "<Figure size 432x288 with 1 Axes>"
      ]
     },
     "metadata": {
      "needs_background": "light"
     },
     "output_type": "display_data"
    }
   ],
   "source": [
    "## t-test 결과를 시각화\n",
    "fig = sns.boxplot(x = 'adult_male', y = 'fare', data = df)\n",
    "fig.set(ylim=(0, 200))\n",
    "plt.show()"
   ]
  },
  {
   "cell_type": "markdown",
   "metadata": {},
   "source": [
    "## 분산분석\n",
    "3개 이상의 그룹 간 평균 차이를 알고 싶을 때 분산분석을 사용  \n",
    "### 1. 단일변량분산분석 - (1) 일원분산분석(One-way ANOVA)\n",
    "- 단일변량분산분석은 종속변수가 __1개일 때__ 집단 간 종속변수의 차이를 분석\n",
    "- 그 중 일원분산분석은 집단을 나누는 __독립변수가 1개__ 일 때 사용\n",
    "    - ex) 고객 등급 별 매장방문 횟수 차이 검정\n",
    "- 가설\n",
    "    - H0: $\\mu_{1} = \\mu_{2} = ... = \\mu_{k}$ (각 그룹의 모집단 평균은 모두 같다)\n",
    "    - H1: $\\mu_{i} \\neq \\mu_{j}\\; for \\;at \\;least\\; one \\;(i,j)$ (적어도 한 그룹의 모집단 평균이 다르다)\n",
    "- One-way ANOVA의 기본 가정으로 각 그룹의 데이터는 독립성, 정규성, 등분산성을 만족한다 (독립성은 일반적으로 존재한다고 봄)\n",
    "- 그룹 간 분산과 그룹 내 분산의 크기를 비교하여 가설을 검정하며, F-통계량을 사용"
   ]
  },
  {
   "cell_type": "markdown",
   "metadata": {},
   "source": [
    "Step1. 정규성, 등분산성 유무 확인 (정규성은 표본 개수로도 확인 가능)"
   ]
  },
  {
   "cell_type": "code",
   "execution_count": 22,
   "metadata": {},
   "outputs": [
    {
     "name": "stdout",
     "output_type": "stream",
     "text": [
      "정규성: ShapiroResult(statistic=0.718401312828064, pvalue=7.556354866266318e-19) ShapiroResult(statistic=0.7785055637359619, pvalue=2.1134516002102284e-15) ShapiroResult(statistic=0.6183854937553406, pvalue=1.5995106796893175e-31)\n",
      "\n",
      "\n",
      "등분산성:  LeveneResult(statistic=118.57020037111805, pvalue=2.288618662046418e-46)\n"
     ]
    }
   ],
   "source": [
    "##class에 따른 fare차이\n",
    "a = df[df['pclass']==1]['fare']\n",
    "b = df[df['pclass']==2]['fare']\n",
    "c = df[df['pclass']==3]['fare']\n",
    "\n",
    "print(\"정규성:\", shapiro(a), shapiro(b), shapiro(c))\n",
    "print('\\n')\n",
    "print(\"등분산성: \", levene(a, b, c)) "
   ]
  },
  {
   "cell_type": "markdown",
   "metadata": {},
   "source": [
    "Step2-1. 등분산성을 만족하는 경우 \n",
    "- f_oneway(a,b,..., axis)"
   ]
  },
  {
   "cell_type": "code",
   "execution_count": 23,
   "metadata": {
    "collapsed": true
   },
   "outputs": [
    {
     "name": "stdout",
     "output_type": "stream",
     "text": [
      "242.34415651744814\n",
      "1.0313763209141171e-84\n"
     ]
    }
   ],
   "source": [
    "from scipy.stats import f_oneway\n",
    "result = f_oneway(a, b, c)\n",
    "print(result.statistic)\n",
    "print(result.pvalue)"
   ]
  },
  {
   "cell_type": "markdown",
   "metadata": {},
   "source": [
    "Step2-2. 등분산성을 만족하지 않는 경우 (Welch's ANOVA)\n",
    "- pingouin 패키지 활용 (설치되어 있지 않을 시 pip install pingouin 명령어로 설치)\n",
    "- welch_anova(data, dv - 종속변수명, between - 독립변수인 범주형변수명)\n",
    "- 결과값\n",
    "    - 'Source': Factor names\n",
    "    - 'SS': Sums of squares\n",
    "    - 'DF': Degrees of freedom\n",
    "    - 'MS': Mean squares\n",
    "    - 'F': F-values\n",
    "    - 'p-unc': uncorrected p-values\n",
    "    - 'np2': Partial eta-squared"
   ]
  },
  {
   "cell_type": "code",
   "execution_count": 24,
   "metadata": {
    "collapsed": true
   },
   "outputs": [
    {
     "data": {
      "text/html": [
       "<div>\n",
       "<style scoped>\n",
       "    .dataframe tbody tr th:only-of-type {\n",
       "        vertical-align: middle;\n",
       "    }\n",
       "\n",
       "    .dataframe tbody tr th {\n",
       "        vertical-align: top;\n",
       "    }\n",
       "\n",
       "    .dataframe thead th {\n",
       "        text-align: right;\n",
       "    }\n",
       "</style>\n",
       "<table border=\"1\" class=\"dataframe\">\n",
       "  <thead>\n",
       "    <tr style=\"text-align: right;\">\n",
       "      <th></th>\n",
       "      <th>Source</th>\n",
       "      <th>ddof1</th>\n",
       "      <th>ddof2</th>\n",
       "      <th>F</th>\n",
       "      <th>p-unc</th>\n",
       "      <th>np2</th>\n",
       "    </tr>\n",
       "  </thead>\n",
       "  <tbody>\n",
       "    <tr>\n",
       "      <th>0</th>\n",
       "      <td>pclass</td>\n",
       "      <td>2</td>\n",
       "      <td>333.63337</td>\n",
       "      <td>102.00059</td>\n",
       "      <td>0.00000</td>\n",
       "      <td>0.35309</td>\n",
       "    </tr>\n",
       "  </tbody>\n",
       "</table>\n",
       "</div>"
      ],
      "text/plain": [
       "   Source  ddof1     ddof2         F   p-unc     np2\n",
       "0  pclass      2 333.63337 102.00059 0.00000 0.35309"
      ]
     },
     "execution_count": 24,
     "metadata": {},
     "output_type": "execute_result"
    },
    {
     "name": "stderr",
     "output_type": "stream",
     "text": [
      "g:\\python\\lib\\site-packages\\outdated\\utils.py:14: OutdatedPackageWarning: The package outdated is out of date. Your version is 0.2.0, the latest is 0.2.1.\n",
      "Set the environment variable OUTDATED_IGNORE=1 to disable these warnings.\n",
      "  return warn(\n",
      "g:\\python\\lib\\site-packages\\outdated\\utils.py:14: OutdatedPackageWarning: The package pingouin is out of date. Your version is 0.3.8, the latest is 0.5.1.\n",
      "Set the environment variable OUTDATED_IGNORE=1 to disable these warnings.\n",
      "  return warn(\n"
     ]
    }
   ],
   "source": [
    "import pingouin as pg\n",
    "pg.welch_anova(dv = 'fare', between = 'pclass', data = df)"
   ]
  },
  {
   "cell_type": "markdown",
   "metadata": {},
   "source": [
    "Step3. 사후검정 (등분산성 만족 시 Tukey's Test, 만족하지 않을 시 Games Howell's test)\n",
    "- 일원배치분산분석 결과 p-value가 0.05 아래로 귀무가설을 기각한다면, 어떤 집단에서 평균 차이가 발생하는지 사후검정이 필요\n",
    "- 사후검정 방법\n",
    "    - Tukey test (샘플 크기가 다를 시 Tukey-Kramer 검정)\n",
    "        - 모든 그룹의 pairwise한 조합 간 평균을 비교한다\n",
    "        - 등분산성 만족 필요\n",
    "    - Scheffe test\n",
    "        - 그룹 간 pairwise한 비교를 넘어 더 많은 조합을 고려한다(ex. A 그룹과 B그룹의 모평균 합 = C와 D의 모평균 합)\n",
    "        - 따라서 신뢰구간이 넓어지며, 검정력이 낮아진다.\n",
    "        - 등분산성 만족 필요\n",
    "    - Bonferroni test (Dunn's test의 일종)\n",
    "        - 그룹 간 표본 크기에 영향을 받지 않으나, 특정 그룹 간의 비교를 사전에 생각해두었을 때 사용함\n",
    "        - 등분산성 만족 필요\n",
    "    - Games Howell's test\n",
    "        - 등분산성 필요하지 않음\n",
    "        - Welch's ANOVA 사후검정에 최적화되어 있으며 "
   ]
  },
  {
   "cell_type": "code",
   "execution_count": 33,
   "metadata": {},
   "outputs": [
    {
     "name": "stdout",
     "output_type": "stream",
     "text": [
      " Multiple Comparison of Means - Tukey HSD, FWER=0.05  \n",
      "======================================================\n",
      "group1 group2 meandiff p-adj   lower    upper   reject\n",
      "------------------------------------------------------\n",
      "     1      2 -63.4925  0.001 -72.9167 -54.0683   True\n",
      "     1      3 -70.4791  0.001 -78.1491 -62.8092   True\n",
      "     2      3  -6.9866 0.1081 -15.1066   1.1333  False\n",
      "------------------------------------------------------\n"
     ]
    }
   ],
   "source": [
    "## Tukey-Kramer 방식\n",
    "from statsmodels.stats.multicomp import pairwise_tukeyhsd\n",
    "\n",
    "posthoc = pairwise_tukeyhsd(endog = df['fare'], ##data\n",
    "                            groups = df['pclass'],       ## groups\n",
    "                            alpha = 0.05)       ##significance level\n",
    "print(posthoc)"
   ]
  },
  {
   "cell_type": "code",
   "execution_count": 34,
   "metadata": {},
   "outputs": [
    {
     "name": "stderr",
     "output_type": "stream",
     "text": [
      "g:\\python\\lib\\site-packages\\statsmodels\\sandbox\\stats\\multicomp.py:775: UserWarning: FixedFormatter should only be used together with FixedLocator\n",
      "  ax1.set_yticklabels(np.insert(self.groupsunique.astype(str), 0, ''))\n"
     ]
    },
    {
     "data": {
      "image/png": "[encoded data removed]",
      "text/plain": [
       "<Figure size 720x432 with 1 Axes>"
      ]
     },
     "metadata": {
      "needs_background": "light"
     },
     "output_type": "display_data"
    }
   ],
   "source": [
    "posthoc.plot_simultaneous()  ##그룹별 모평균의 95% 신뢰구간을 보여줌\n",
    "plt.show()"
   ]
  },
  {
   "cell_type": "code",
   "execution_count": 30,
   "metadata": {
    "scrolled": true
   },
   "outputs": [
    {
     "data": {
      "text/html": [
       "<div>\n",
       "<style scoped>\n",
       "    .dataframe tbody tr th:only-of-type {\n",
       "        vertical-align: middle;\n",
       "    }\n",
       "\n",
       "    .dataframe tbody tr th {\n",
       "        vertical-align: top;\n",
       "    }\n",
       "\n",
       "    .dataframe thead th {\n",
       "        text-align: right;\n",
       "    }\n",
       "</style>\n",
       "<table border=\"1\" class=\"dataframe\">\n",
       "  <thead>\n",
       "    <tr style=\"text-align: right;\">\n",
       "      <th></th>\n",
       "      <th>3</th>\n",
       "      <th>1</th>\n",
       "      <th>2</th>\n",
       "    </tr>\n",
       "  </thead>\n",
       "  <tbody>\n",
       "    <tr>\n",
       "      <th>3</th>\n",
       "      <td>1.00000</td>\n",
       "      <td>0.00000</td>\n",
       "      <td>0.13060</td>\n",
       "    </tr>\n",
       "    <tr>\n",
       "      <th>1</th>\n",
       "      <td>0.00000</td>\n",
       "      <td>1.00000</td>\n",
       "      <td>0.00000</td>\n",
       "    </tr>\n",
       "    <tr>\n",
       "      <th>2</th>\n",
       "      <td>0.13060</td>\n",
       "      <td>0.00000</td>\n",
       "      <td>1.00000</td>\n",
       "    </tr>\n",
       "  </tbody>\n",
       "</table>\n",
       "</div>"
      ],
      "text/plain": [
       "        3       1       2\n",
       "3 1.00000 0.00000 0.13060\n",
       "1 0.00000 1.00000 0.00000\n",
       "2 0.13060 0.00000 1.00000"
      ]
     },
     "execution_count": 30,
     "metadata": {},
     "output_type": "execute_result"
    }
   ],
   "source": [
    "## Scheffe 방식 (pip install scikit-posthocs)\n",
    "## posthoc_scheffe(a = array or df, val_col = 종속변수, group_col = 독립변수, sort = True or False)\n",
    "## return 값 : p-value\n",
    "import scikit_posthocs as sp\n",
    "sp.posthoc_scheffe(df, val_col = 'fare', group_col = 'pclass')"
   ]
  },
  {
   "cell_type": "code",
   "execution_count": 34,
   "metadata": {},
   "outputs": [
    {
     "data": {
      "text/html": [
       "<div>\n",
       "<style scoped>\n",
       "    .dataframe tbody tr th:only-of-type {\n",
       "        vertical-align: middle;\n",
       "    }\n",
       "\n",
       "    .dataframe tbody tr th {\n",
       "        vertical-align: top;\n",
       "    }\n",
       "\n",
       "    .dataframe thead th {\n",
       "        text-align: right;\n",
       "    }\n",
       "</style>\n",
       "<table border=\"1\" class=\"dataframe\">\n",
       "  <thead>\n",
       "    <tr style=\"text-align: right;\">\n",
       "      <th></th>\n",
       "      <th>1</th>\n",
       "      <th>2</th>\n",
       "      <th>3</th>\n",
       "    </tr>\n",
       "  </thead>\n",
       "  <tbody>\n",
       "    <tr>\n",
       "      <th>1</th>\n",
       "      <td>1.00000</td>\n",
       "      <td>0.00000</td>\n",
       "      <td>0.00000</td>\n",
       "    </tr>\n",
       "    <tr>\n",
       "      <th>2</th>\n",
       "      <td>0.00000</td>\n",
       "      <td>1.00000</td>\n",
       "      <td>0.00000</td>\n",
       "    </tr>\n",
       "    <tr>\n",
       "      <th>3</th>\n",
       "      <td>0.00000</td>\n",
       "      <td>0.00000</td>\n",
       "      <td>1.00000</td>\n",
       "    </tr>\n",
       "  </tbody>\n",
       "</table>\n",
       "</div>"
      ],
      "text/plain": [
       "        1       2       3\n",
       "1 1.00000 0.00000 0.00000\n",
       "2 0.00000 1.00000 0.00000\n",
       "3 0.00000 0.00000 1.00000"
      ]
     },
     "execution_count": 34,
     "metadata": {},
     "output_type": "execute_result"
    }
   ],
   "source": [
    "## Dunn's test\n",
    "## posthoc_dunn(a = array or df, val_col = 종속변수, group_col = 독립변수, p_adjust = 'bonferroni' 외 p-value 계산 방법들 , sort = boolean)\n",
    "## return 값: p-value\n",
    "import scikit_posthocs as sp\n",
    "sp.posthoc_dunn(df, val_col = 'fare', group_col = 'pclass', p_adjust = 'bonferroni')"
   ]
  },
  {
   "cell_type": "code",
   "execution_count": 33,
   "metadata": {},
   "outputs": [
    {
     "data": {
      "text/html": [
       "<div>\n",
       "<style scoped>\n",
       "    .dataframe tbody tr th:only-of-type {\n",
       "        vertical-align: middle;\n",
       "    }\n",
       "\n",
       "    .dataframe tbody tr th {\n",
       "        vertical-align: top;\n",
       "    }\n",
       "\n",
       "    .dataframe thead th {\n",
       "        text-align: right;\n",
       "    }\n",
       "</style>\n",
       "<table border=\"1\" class=\"dataframe\">\n",
       "  <thead>\n",
       "    <tr style=\"text-align: right;\">\n",
       "      <th></th>\n",
       "      <th>A</th>\n",
       "      <th>B</th>\n",
       "      <th>mean(A)</th>\n",
       "      <th>mean(B)</th>\n",
       "      <th>diff</th>\n",
       "      <th>se</th>\n",
       "      <th>T</th>\n",
       "      <th>df</th>\n",
       "      <th>pval</th>\n",
       "      <th>hedges</th>\n",
       "    </tr>\n",
       "  </thead>\n",
       "  <tbody>\n",
       "    <tr>\n",
       "      <th>0</th>\n",
       "      <td>1</td>\n",
       "      <td>2</td>\n",
       "      <td>84.15500</td>\n",
       "      <td>20.66200</td>\n",
       "      <td>63.49300</td>\n",
       "      <td>5.42400</td>\n",
       "      <td>11.70600</td>\n",
       "      <td>229.72700</td>\n",
       "      <td>0.00100</td>\n",
       "      <td>1.17200</td>\n",
       "    </tr>\n",
       "    <tr>\n",
       "      <th>1</th>\n",
       "      <td>1</td>\n",
       "      <td>3</td>\n",
       "      <td>84.15500</td>\n",
       "      <td>13.67600</td>\n",
       "      <td>70.47900</td>\n",
       "      <td>5.36000</td>\n",
       "      <td>13.15000</td>\n",
       "      <td>219.28300</td>\n",
       "      <td>0.00100</td>\n",
       "      <td>1.07300</td>\n",
       "    </tr>\n",
       "    <tr>\n",
       "      <th>2</th>\n",
       "      <td>2</td>\n",
       "      <td>3</td>\n",
       "      <td>20.66200</td>\n",
       "      <td>13.67600</td>\n",
       "      <td>6.98700</td>\n",
       "      <td>1.12300</td>\n",
       "      <td>6.22200</td>\n",
       "      <td>294.77000</td>\n",
       "      <td>0.00100</td>\n",
       "      <td>0.53700</td>\n",
       "    </tr>\n",
       "  </tbody>\n",
       "</table>\n",
       "</div>"
      ],
      "text/plain": [
       "   A  B  mean(A)  mean(B)     diff      se        T        df    pval  hedges\n",
       "0  1  2 84.15500 20.66200 63.49300 5.42400 11.70600 229.72700 0.00100 1.17200\n",
       "1  1  3 84.15500 13.67600 70.47900 5.36000 13.15000 219.28300 0.00100 1.07300\n",
       "2  2  3 20.66200 13.67600  6.98700 1.12300  6.22200 294.77000 0.00100 0.53700"
      ]
     },
     "execution_count": 33,
     "metadata": {},
     "output_type": "execute_result"
    }
   ],
   "source": [
    "### Games Howell's test\n",
    "from pingouin import pairwise_gameshowell\n",
    "pairwise_gameshowell(data = df, dv = 'fare', between = 'pclass').round(3)"
   ]
  },
  {
   "cell_type": "markdown",
   "metadata": {},
   "source": [
    "### 2. 단일변량분산분석 - (2) 이원분산분석(Two-way ANOVA)\n",
    "- 종속변수는 1개, 독립변수는 2개 이상일 때 사용\n",
    "- 독립변인 간 상호작용을 고려하기 위해서 사용함(변수 a의 변화에 따라 다른 독립변수 b도 변화하는가?)\n",
    "- 가설 (세 개의 각기 다른 가설을 검정함)\n",
    "    - 전체 H0: 변수A, 변수B, ... 에 따른 변수 C의 차이는 없다\n",
    "    - H0: 독립변수 간 상호작용은 없다.\n",
    "    - H0: 독립변수 A가 종속변수에 미치는 영향은 없다\n",
    "    - H0: 독립변수 B가 종속변수에 미치는 영향은 없다\n",
    "- Two-way ANOVA 또한 각 그룹의 데이터는 독립성, 정규성, 등분산성을 만족한다 (독립성은 일반적으로 존재한다고 봄)\n",
    "- 만약 등분산성이 존재하지 않으면 Kruskal-Wallis test를 활용함\n"
   ]
  },
  {
   "cell_type": "markdown",
   "metadata": {},
   "source": [
    "Step1. 등분산성 검정 (독립성과 정규성은 존재한다고 봄)"
   ]
  },
  {
   "cell_type": "code",
   "execution_count": 9,
   "metadata": {},
   "outputs": [
    {
     "data": {
      "text/plain": [
       "LeveneResult(statistic=51.42274222122811, pvalue=6.49104982868014e-41)"
      ]
     },
     "execution_count": 9,
     "metadata": {},
     "output_type": "execute_result"
    }
   ],
   "source": [
    "from scipy.stats import levene  ## 2개의 요인에 대한 집단과 교호작용으로 발생하는 집단 모두 분산이 같다는 것을 가정\n",
    "##2개 요인의 집단\n",
    "a1 = df[df['pclass']==1]['fare']\n",
    "a2 = df[df['pclass']==2]['fare']\n",
    "a3 = df[df['pclass']==3]['fare']\n",
    "b1 = df[df['who']=='man']['fare']\n",
    "b2 = df[df['who']=='woman']['fare']  ## 여기에 a1*b1 , a1*b2 등의 교호그룹까지 등분산성을 테스트해야 함\n",
    "\n",
    "levene(a1,a2,a3,b1,b2)"
   ]
  },
  {
   "cell_type": "code",
   "execution_count": 7,
   "metadata": {},
   "outputs": [
    {
     "name": "stdout",
     "output_type": "stream",
     "text": [
      "                        df        sum_sq      mean_sq         F  PR(>F)\n",
      "C(pclass)          2.00000  776030.05658 388015.02829 259.59519 0.00000\n",
      "C(who)             2.00000   46015.46820  23007.73410  15.39295 0.00000\n",
      "C(pclass):C(who)   4.00000   57434.32931  14358.58233   9.60638 0.00000\n",
      "Residual         882.00000 1318318.93863   1494.69267       nan     nan\n"
     ]
    }
   ],
   "source": [
    "from statsmodels.formula.api import ols\n",
    "from statsmodels.stats.anova import anova_lm\n",
    "\n",
    "formula = 'fare ~ C(pclass) + C(who) + C(pclass):C(who)' ## class와 성별에 따른 fare차이\n",
    "lm = ols(formula, df).fit()\n",
    "print(anova_lm(lm))"
   ]
  },
  {
   "cell_type": "markdown",
   "metadata": {},
   "source": [
    "### 3. MANOVA (다변량분산분석)\n",
    "- 그룹을 나누는 종속변인이 2개 이상일 때 사용\n",
    "- 종속변인 간 상관관계가 있으면 MANOVA를 사용하고, 두 종속변인 간 상관관계가 없으면 종속변인 각각에 대한 단일변량 분산분석으로 진행 (MANOVA는 ANOVA에서는 밝힐 수 없는 종속변수 간 결합된 차이를 밝힐 수 있음. 또한 ANOVA를 여러번 사용하면 1종오류 확률이 커지는데 MANOVA를 통해 이 확률을 줄일 수 있음)\n",
    "- 가설\n",
    "    - H0: 독립변수 A, 독립변수 B에 따른 종속변수 C와 D의 차이는 없다\n",
    "- 독립성, 집단의 등분산성, 반응변수의 다변량 정규성이 필요 _(종속변수 각각 정규분포를 따르면 다변량 정규성이 충족되는 것으로 봄)_"
   ]
  },
  {
   "cell_type": "markdown",
   "metadata": {},
   "source": [
    "Step1. 종속변수 2개 간 상관관계가 존재하는지 확인  \n",
    "아래 예시코드에서 방문빈도와 총 매출액은 양의 선형상관관계가 있는 것으로 확인되었으므로 MANOVA를 진행한다."
   ]
  },
  {
   "cell_type": "code",
   "execution_count": 55,
   "metadata": {
    "scrolled": true
   },
   "outputs": [
    {
     "data": {
      "text/plain": [
       "(0.6311706453193394, 3.0519604496876793e-112)"
      ]
     },
     "execution_count": 55,
     "metadata": {},
     "output_type": "execute_result"
    }
   ],
   "source": [
    "from scipy.stats import pearsonr\n",
    "pearsonr(df2['방문빈도'], df2['총_매출액'])  ## X: 구매유형,거주지역 에 따른 Y: 방문빈도,총 매출액 차이 확인"
   ]
  },
  {
   "cell_type": "markdown",
   "metadata": {},
   "source": [
    "Step2. MANOVA 수행\n",
    "- 전체모형의 유의성, X1의 Y에 대한 유의성, X2의 Y에 대한 유의성 순으로 출력됨"
   ]
  },
  {
   "cell_type": "code",
   "execution_count": 56,
   "metadata": {
    "collapsed": true
   },
   "outputs": [
    {
     "name": "stdout",
     "output_type": "stream",
     "text": [
      "                  Multivariate linear model\n",
      "==============================================================\n",
      "                                                              \n",
      "--------------------------------------------------------------\n",
      "        Intercept        Value  Num DF  Den DF  F Value Pr > F\n",
      "--------------------------------------------------------------\n",
      "           Wilks' lambda 0.9578 2.0000 996.0000 21.9327 0.0000\n",
      "          Pillai's trace 0.0422 2.0000 996.0000 21.9327 0.0000\n",
      "  Hotelling-Lawley trace 0.0440 2.0000 996.0000 21.9327 0.0000\n",
      "     Roy's greatest root 0.0440 2.0000 996.0000 21.9327 0.0000\n",
      "--------------------------------------------------------------\n",
      "                                                              \n",
      "--------------------------------------------------------------\n",
      "          구매유형          Value  Num DF  Den DF  F Value  Pr > F\n",
      "--------------------------------------------------------------\n",
      "          Wilks' lambda 0.8248 2.0000 996.0000 105.8119 0.0000\n",
      "         Pillai's trace 0.1752 2.0000 996.0000 105.8119 0.0000\n",
      " Hotelling-Lawley trace 0.2125 2.0000 996.0000 105.8119 0.0000\n",
      "    Roy's greatest root 0.2125 2.0000 996.0000 105.8119 0.0000\n",
      "--------------------------------------------------------------\n",
      "                                                              \n",
      "--------------------------------------------------------------\n",
      "           거주지역          Value  Num DF  Den DF  F Value Pr > F\n",
      "--------------------------------------------------------------\n",
      "           Wilks' lambda 0.8672 2.0000 996.0000 76.2545 0.0000\n",
      "          Pillai's trace 0.1328 2.0000 996.0000 76.2545 0.0000\n",
      "  Hotelling-Lawley trace 0.1531 2.0000 996.0000 76.2545 0.0000\n",
      "     Roy's greatest root 0.1531 2.0000 996.0000 76.2545 0.0000\n",
      "==============================================================\n",
      "\n"
     ]
    }
   ],
   "source": [
    "from statsmodels.multivariate.manova import MANOVA\n",
    "print(MANOVA.from_formula(' 방문빈도 + 총_매출액 ~ 구매유형 + 거주지역' , data = df2).mv_test()) ##mv_test는 통계량 산출 function"
   ]
  },
  {
   "cell_type": "markdown",
   "metadata": {},
   "source": [
    "Step3. 사후분석 수행"
   ]
  },
  {
   "cell_type": "code",
   "execution_count": 6,
   "metadata": {},
   "outputs": [
    {
     "name": "stdout",
     "output_type": "stream",
     "text": [
      "총_매출액 ~ 구매유형\n",
      "         4       2       1       3\n",
      "4 1.00000 0.00000 0.80464 0.00000\n",
      "2 0.00000 1.00000 0.00000 0.00817\n",
      "1 0.80464 0.00000 1.00000 0.00000\n",
      "3 0.00000 0.00817 0.00000 1.00000\n",
      "\n",
      " 총_매출액 ~ 거주지역\n",
      "         6       4       5       7       3       2       1\n",
      "6 1.00000 0.00803 0.00235 0.00000 0.01857 0.33868 0.98841\n",
      "4 0.00803 1.00000 0.99998 0.00000 0.97776 0.98047 1.00000\n",
      "5 0.00235 0.99998 1.00000 0.00000 0.93455 0.96487 1.00000\n",
      "7 0.00000 0.00000 0.00000 1.00000 0.00000 0.00006 0.41212\n",
      "3 0.01857 0.97776 0.93455 0.00000 1.00000 0.99991 1.00000\n",
      "2 0.33868 0.98047 0.96487 0.00006 0.99991 1.00000 0.99997\n",
      "1 0.98841 1.00000 1.00000 0.41212 1.00000 0.99997 1.00000\n",
      "\n",
      " 방문빈도 ~ 구매유형\n",
      "         4       2       1       3\n",
      "4 1.00000 0.00000 0.02980 0.99781\n",
      "2 0.00000 1.00000 0.00000 0.00000\n",
      "1 0.02980 0.00000 1.00000 0.07466\n",
      "3 0.99781 0.00000 0.07466 1.00000\n",
      "\n",
      " 방문빈도 ~ 거주지역\n",
      "         6       4       5       7       3       2       1\n",
      "6 1.00000 0.00001 0.00011 0.00000 0.00000 0.00476 0.45140\n",
      "4 0.00001 1.00000 0.91312 0.00000 0.37046 0.60375 0.94882\n",
      "5 0.00011 0.91312 1.00000 0.00000 0.04034 0.30346 0.87841\n",
      "7 0.00000 0.00000 0.00000 1.00000 0.00000 0.00000 0.01840\n",
      "3 0.00000 0.37046 0.04034 0.00000 1.00000 0.99889 0.99961\n",
      "2 0.00476 0.60375 0.30346 0.00000 0.99889 1.00000 1.00000\n",
      "1 0.45140 0.94882 0.87841 0.01840 0.99961 1.00000 1.00000\n",
      "\n",
      "구매유형, 거주지역별 평균총매출액\n",
      " 거주지역             1             2             3             4              5  \\\n",
      "구매유형                                                                          \n",
      "1              nan 3281350.00000 3002825.00000 3041428.18182  3637031.66667   \n",
      "2              nan           nan 4215648.57143 8278686.56250  6590330.67416   \n",
      "3    4906400.00000 3215055.00000 6809777.14286 7965439.67742 11046081.25000   \n",
      "4              nan 4034175.55556 3720989.69697 4229915.00000  4272964.46809   \n",
      "\n",
      "거주지역              6              7  \n",
      "구매유형                                \n",
      "1     3712146.66667  3864880.00000  \n",
      "2    10226770.76271 13513839.43662  \n",
      "3    13768678.75000 25451441.17647  \n",
      "4     4749139.20000  5138468.27586  \n",
      "\n",
      "구매유형, 거주지역별 평균방문빈도\n",
      " 거주지역       1        2        3        4        5        6        7\n",
      "구매유형                                                              \n",
      "1        nan  8.00000  8.66667 10.81818 10.22222  9.66667 10.00000\n",
      "2        nan      nan 29.14286 42.31250 39.02247 48.21186 58.84507\n",
      "3    7.75000  5.00000  7.92857 11.90323 15.35000 20.43750 40.76471\n",
      "4        nan 12.77778 12.48485 17.27679 18.00000 18.76800 19.96552\n"
     ]
    }
   ],
   "source": [
    "from scikit_posthocs import posthoc_scheffe\n",
    "\n",
    "###X, Y끼리 상관성 파악\n",
    "print('총_매출액 ~ 구매유형\\n', posthoc_scheffe(df2, val_col='총_매출액', group_col = '구매유형'))  #p-value 출력\n",
    "print('\\n 총_매출액 ~ 거주지역\\n', posthoc_scheffe(df2, val_col = '총_매출액', group_col = '거주지역'))\n",
    "print('\\n 방문빈도 ~ 구매유형\\n', posthoc_scheffe(df2, val_col = '방문빈도', group_col = '구매유형'))\n",
    "print('\\n 방문빈도 ~ 거주지역\\n', posthoc_scheffe(df2, val_col = '방문빈도', group_col = '거주지역'))\n",
    "\n",
    "## X별 그룹별 Y의 평균값 산정\n",
    "평균총매출액 = pd.pivot_table(df2, index = '구매유형', columns = '거주지역', values = '총_매출액', aggfunc = np.mean)\n",
    "print('\\n구매유형, 거주지역별 평균총매출액\\n', 평균총매출액)\n",
    "평균방문빈도 = pd.pivot_table(df2, index = '구매유형', columns = '거주지역', values = '방문빈도', aggfunc = np.mean)\n",
    "print('\\n구매유형, 거주지역별 평균방문빈도\\n', 평균방문빈도)"
   ]
  },
  {
   "cell_type": "markdown",
   "metadata": {},
   "source": [
    "Scheffe test결과 p-value가 0.05 아래로 나타난 그룹 간에 차이가 발생하고 있다고 해석  \n",
    "ex) 구매유형 1그룹과 2 그룹 사이에 총매출액의 차이가 유의하게 나타났다"
   ]
  },
  {
   "cell_type": "markdown",
   "metadata": {},
   "source": [
    "참고) X1와 X2로 만들어지는 세부 그룹의 (Y1, Y2) 평균값을 산점도로 나타내면 그룹별 차이를 한 눈에 알아볼 수 있다"
   ]
  },
  {
   "cell_type": "code",
   "execution_count": 11,
   "metadata": {
    "scrolled": true
   },
   "outputs": [
    {
     "data": {
      "text/plain": [
       "[<matplotlib.lines.Line2D at 0x17945281760>]"
      ]
     },
     "execution_count": 11,
     "metadata": {},
     "output_type": "execute_result"
    },
    {
     "data": {
      "image/png": "[encoded data removed]",
      "text/plain": [
       "<Figure size 432x288 with 1 Axes>"
      ]
     },
     "metadata": {
      "needs_background": "light"
     },
     "output_type": "display_data"
    }
   ],
   "source": [
    "X = np.hstack(평균방문빈도.values[0:len(평균방문빈도)])  ##행(구매유형)별로 ndarray형식으로 변환\n",
    "Y = np.hstack(평균총매출액.values[0:len(평균총매출액)])\n",
    "\n",
    "labels = []\n",
    "for i in range(1,5,1):   ##구매유형 (1~4),\n",
    "    for j in range(1,8,1):   ##거주지역(1~7) 별로 좌표 생성\n",
    "        labels.append(str(i)+','+str(j))\n",
    "for label, x_count, y_count in zip(labels,X,Y):\n",
    "    plt.annotate(label,                      ## 각 포인트의 주석\n",
    "                xycoords = 'data',           ## 축의 좌표체계, 'data'= 인풋값을 좌표 (X,Y)로 찍음\n",
    "                textcoords = 'offset points',## 주석이 찍히는 좌표체계\n",
    "                xy = (x_count, y_count),\n",
    "                xytext = (5,-5))\n",
    "plt.title('평균점 산점도')\n",
    "plt.xlabel('평균 방문빈도')\n",
    "plt.ylabel('평균 총매출액')\n",
    "plt.plot(X,Y,'o')"
   ]
  },
  {
   "cell_type": "markdown",
   "metadata": {},
   "source": [
    "위와 같은 표를 생성했을 때, 평균 총매출액이 가장 높은 그룹(구매유형3-거주지역7)이나 평균 방문빈도가 가장 높은 그룹 (구매유형2-거주지역7)을 한 눈에 확인할 수 있다."
   ]
  },
  {
   "cell_type": "markdown",
   "metadata": {},
   "source": [
    "### 4. ANCOVA (공분산분석)\n",
    "- 독립변수에 수치형변수가 포함된 경우, 수치형 변수(공변량)을 통제하여 순수한 독립변수의 효과를 확인할 때 사용\n",
    "- 분산분석 모형\n",
    "    $Y_{ij} = \\mu + \\alpha_{i} + \\beta X_{ij} + \\epsilon_{ij}$  \n",
    "    $\\mu \\;= \\;전체평균\\;|\\;\\alpha_{i} \\;= \\;처리효과 \\;| \\;\\beta X_{ij} = 공변량효과 \\;| \\;\\epsilon_{ij} \\;=\\; 잔차$\n",
    "- $\\alpha$가 없을 때 일반적인 회귀모형으로, $\\beta X_{ij}$가 없을 때 일반적인 분산분석 모형과 동일하므로 회귀분석과 분산분석이 결합된 모형으로 볼 수 있음\n",
    "- 공변량을 통제하고 남은 독립변수 개수에 따라 일원공분산분석과 다원공분산분석으로 나눌 수 있음\n",
    "- 가설\n",
    "    - H0: X1을 통제한 상황에서 X2에 따른 Y의 차이가 없다"
   ]
  },
  {
   "cell_type": "code",
   "execution_count": 12,
   "metadata": {
    "scrolled": true
   },
   "outputs": [
    {
     "data": {
      "text/html": [
       "<div>\n",
       "<style scoped>\n",
       "    .dataframe tbody tr th:only-of-type {\n",
       "        vertical-align: middle;\n",
       "    }\n",
       "\n",
       "    .dataframe tbody tr th {\n",
       "        vertical-align: top;\n",
       "    }\n",
       "\n",
       "    .dataframe thead th {\n",
       "        text-align: right;\n",
       "    }\n",
       "</style>\n",
       "<table border=\"1\" class=\"dataframe\">\n",
       "  <thead>\n",
       "    <tr style=\"text-align: right;\">\n",
       "      <th></th>\n",
       "      <th>Source</th>\n",
       "      <th>SS</th>\n",
       "      <th>DF</th>\n",
       "      <th>F</th>\n",
       "      <th>p-unc</th>\n",
       "      <th>np2</th>\n",
       "    </tr>\n",
       "  </thead>\n",
       "  <tbody>\n",
       "    <tr>\n",
       "      <th>0</th>\n",
       "      <td>거주지역</td>\n",
       "      <td>696696841274928.00000</td>\n",
       "      <td>6</td>\n",
       "      <td>4.04578</td>\n",
       "      <td>0.00052</td>\n",
       "      <td>0.02389</td>\n",
       "    </tr>\n",
       "    <tr>\n",
       "      <th>1</th>\n",
       "      <td>방문빈도</td>\n",
       "      <td>13701443685723464.00000</td>\n",
       "      <td>1</td>\n",
       "      <td>477.39282</td>\n",
       "      <td>0.00000</td>\n",
       "      <td>0.32489</td>\n",
       "    </tr>\n",
       "    <tr>\n",
       "      <th>2</th>\n",
       "      <td>Residual</td>\n",
       "      <td>28470960329516344.00000</td>\n",
       "      <td>992</td>\n",
       "      <td>nan</td>\n",
       "      <td>nan</td>\n",
       "      <td>nan</td>\n",
       "    </tr>\n",
       "  </tbody>\n",
       "</table>\n",
       "</div>"
      ],
      "text/plain": [
       "     Source                      SS   DF         F   p-unc     np2\n",
       "0      거주지역   696696841274928.00000    6   4.04578 0.00052 0.02389\n",
       "1      방문빈도 13701443685723464.00000    1 477.39282 0.00000 0.32489\n",
       "2  Residual 28470960329516344.00000  992       nan     nan     nan"
      ]
     },
     "execution_count": 12,
     "metadata": {},
     "output_type": "execute_result"
    }
   ],
   "source": [
    "from pingouin import ancova\n",
    "ancova(dv = '총_매출액',     ##종속변수 \n",
    "      between = '거주지역',  ##독립변수\n",
    "      covar = '방문빈도',    ##공변량\n",
    "       data = df2)"
   ]
  },
  {
   "cell_type": "code",
   "execution_count": 15,
   "metadata": {},
   "outputs": [
    {
     "data": {
      "text/html": [
       "<div>\n",
       "<style scoped>\n",
       "    .dataframe tbody tr th:only-of-type {\n",
       "        vertical-align: middle;\n",
       "    }\n",
       "\n",
       "    .dataframe tbody tr th {\n",
       "        vertical-align: top;\n",
       "    }\n",
       "\n",
       "    .dataframe thead th {\n",
       "        text-align: right;\n",
       "    }\n",
       "</style>\n",
       "<table border=\"1\" class=\"dataframe\">\n",
       "  <thead>\n",
       "    <tr style=\"text-align: right;\">\n",
       "      <th></th>\n",
       "      <th>Source</th>\n",
       "      <th>ddof1</th>\n",
       "      <th>ddof2</th>\n",
       "      <th>F</th>\n",
       "      <th>p-unc</th>\n",
       "      <th>np2</th>\n",
       "    </tr>\n",
       "  </thead>\n",
       "  <tbody>\n",
       "    <tr>\n",
       "      <th>0</th>\n",
       "      <td>거주지역</td>\n",
       "      <td>6</td>\n",
       "      <td>993</td>\n",
       "      <td>24.75948</td>\n",
       "      <td>0.00000</td>\n",
       "      <td>0.13014</td>\n",
       "    </tr>\n",
       "  </tbody>\n",
       "</table>\n",
       "</div>"
      ],
      "text/plain": [
       "  Source  ddof1  ddof2        F   p-unc     np2\n",
       "0   거주지역      6    993 24.75948 0.00000 0.13014"
      ]
     },
     "execution_count": 15,
     "metadata": {},
     "output_type": "execute_result"
    }
   ],
   "source": [
    "## 공변량을 통제하지 않았을 때 거주지역과 방문빈도의 관계\n",
    "from pingouin import anova\n",
    "anova(dv = '총_매출액', between = '거주지역', data = df2)"
   ]
  },
  {
   "cell_type": "markdown",
   "metadata": {},
   "source": [
    "공변량을 통제했을 때 공분산분석 F값은 4.046이고, 통제하지 않았을 때 분산분석 F값은 24.7595로 방문빈도를 통제하지 않았을 때 거주지역별 매출액 차이가 과대평가 될 수 있다. (방문빈도 역시 매출액에 일정한 영향을 주고 있다)"
   ]
  },
  {
   "cell_type": "markdown",
   "metadata": {},
   "source": [
    "# 비모수통계\n",
    "__모수통계__ 란 모집단의 분포에 대해 특별한 가정을 세운 뒤 통계적 추론을 시도하는 것을 말한다 ex)해당 데이터는 정규분포를 따른다\n",
    "1. 추론의 대상이 모평균, 모비율, 모분산 등과 같이 모집단의 모수(parameter)에 해당\n",
    "2. 비교적 엄격한 가정을 전제로 함  \n",
    "\n",
    "__비모수통계__ 는 모집단의 모수에 대해 전제하지 않고 수학적으로 추론하는 방법을 말한다\n",
    "1. 모집단의 분포가 명확하지 않아 모수 통계방법을 사용하기 곤란할 때 대안으로 사용\n",
    "2. 자료가 서열(rank)를 나타내거나 순수한 범주형 자료일 경우 사용\n",
    "3. 간편한 방법으로 짧은 시간 내에 검정 결과를 알고자 하는 경우 사용"
   ]
  },
  {
   "cell_type": "markdown",
   "metadata": {},
   "source": [
    "## 적합도 검정 (Goodness of fit)\n",
    "### 1. RUN검정\n",
    "- 표본의 배열이 무작위로 구성되어 있는지 확인\n",
    "- H0: 데이터는 랜덤한 분포로 생성되어있다\n",
    "- runstest_1samp(x, cutoff, correction = True)\n",
    "    - cutoff: 'mean'(defalut),'median' (up, down을 나누는 \n",
    "    - correction: True (default), 표본크기가 50이하일 때 test-statistic이 0.5로 보정됨(True일 때) "
   ]
  },
  {
   "cell_type": "code",
   "execution_count": 16,
   "metadata": {},
   "outputs": [
    {
     "data": {
      "text/plain": [
       "(-0.5175491695067657, 0.6047728544859003)"
      ]
     },
     "execution_count": 16,
     "metadata": {},
     "output_type": "execute_result"
    }
   ],
   "source": [
    "from statsmodels.sandbox.stats.runs import runstest_1samp\n",
    "\n",
    "data = [1,0,0,0,1,1,1,1,0,0,1,1,0,0,1,0]\n",
    "runstest_1samp(data, correction = False)  ## z-statstic, p-value"
   ]
  },
  {
   "cell_type": "markdown",
   "metadata": {},
   "source": [
    "- runstest_2samp(x, y=None, groups = None, correction = True)\n",
    "    - 두 표본이 같은 분포에서 나왔는지 검정"
   ]
  },
  {
   "cell_type": "markdown",
   "metadata": {},
   "source": [
    "### 2. Kolmogorov-Smirnov 검정 (콜모고로프-스미르노프 검정)\n",
    "- 표본의 분포가 가정한 분포를 따르는지 검정\n",
    "- H0: 데이터가 정규분포로부터 추출되었다\n",
    "- 하이퍼파라미터\n",
    "- kstest(rvs, cdf, arg = (), N = 20, alternative = 'two-sided', mode = 'auto')\n",
    "    - arg : tuple 또는 sequence로 rvs와 cdf 분포에 추가 조건 달기\n",
    "    - N : rvs의 sample size\n",
    "    - alternative\n",
    "        - 'two-sided' H0: F(x) = G(x) for all x (x1 ~ F, x2 ~ G)\n",
    "        - 'less' H0: F(x) >= G(x) for all x\n",
    "        - 'greater' H0: F(x) <= G(x) for all x"
   ]
  },
  {
   "cell_type": "code",
   "execution_count": 30,
   "metadata": {},
   "outputs": [
    {
     "data": {
      "text/plain": [
       "KstestResult(statistic=0.9650366565902186, pvalue=0.0)"
      ]
     },
     "execution_count": 30,
     "metadata": {},
     "output_type": "execute_result"
    }
   ],
   "source": [
    "from scipy.stats import kstest\n",
    "\n",
    "kstest(rvs = df['age'].dropna(),          ##분포를 검정할 데이터\n",
    "      cdf = 'norm')              ##비교할 분포(분포의 1d array 또는 scipy.stats에 존재하는 분포 이름)"
   ]
  },
  {
   "cell_type": "code",
   "execution_count": 38,
   "metadata": {},
   "outputs": [
    {
     "data": {
      "text/plain": [
       "KstestResult(statistic=0.09375350140056023, pvalue=0.39649232199533857)"
      ]
     },
     "execution_count": 38,
     "metadata": {},
     "output_type": "execute_result"
    }
   ],
   "source": [
    "from scipy.stats import ks_2samp\n",
    "\n",
    "##비교용 test data X2 생성 (X2 ~ N(30,14))\n",
    "test_data = np.random.normal(30,14,100)\n",
    "\n",
    "ks_2samp(data1 = df['age'].dropna(),  \n",
    "       data2 = test_data)             ## result = statistic, pvalue"
   ]
  },
  {
   "cell_type": "markdown",
   "metadata": {},
   "source": [
    "## 동질성 검정 (Homogeneity)\n",
    "### 1. Wilcoxon Signed-Rank Test  윌콕슨 부호순위 검정\n",
    "- 두 paired data의 부호와 서열로 분포를 비교 (paired t-test) 자세한 사항은 t-test 부분에서 이미 설명함\n",
    "- stats.wilcoxon(group1, group2)  \n",
    "\n",
    "### 2. Mann-Whitney U Test  맨 휘트니 검정\n",
    "- 표본의 크기가 30보다 작고, 표본의 분포가 정규분포를 따르지 않을 때 두 표본의 차이를 검정\n",
    "- 표본은 독립성을 지녀야 함\n",
    "- H0: 두 표본의 평균에 차이가 없다\n",
    "- mannwhitneyu(x, y, alternative = 'two-sided')"
   ]
  },
  {
   "cell_type": "code",
   "execution_count": 39,
   "metadata": {
    "scrolled": true
   },
   "outputs": [
    {
     "data": {
      "text/plain": [
       "MannwhitneyuResult(statistic=50.0, pvalue=0.10569472950629227)"
      ]
     },
     "execution_count": 39,
     "metadata": {},
     "output_type": "execute_result"
    }
   ],
   "source": [
    "from scipy.stats import mannwhitneyu\n",
    "\n",
    "data1 = [20, 23, 21, 25, 18, 17, 18, 24, 20, 24, 23, 19]\n",
    "data2 = [24, 25, 21, 22, 23, 18, 17, 28, 24, 27, 21, 23]\n",
    "\n",
    "mannwhitneyu(data1, data2)"
   ]
  },
  {
   "cell_type": "markdown",
   "metadata": {},
   "source": [
    "### 3. Kruskal-Wallis H Test  크루스칼 왈리스 검정\n",
    "- 세 개 집단 이상의 독립표본 간 평균(비모수에서는 중앙값)의 차이가 존재하는지 검정 (맨 휘트니 검정의 확장)\n",
    "- H0: 세 집단의 중앙값 차이는 없다"
   ]
  },
  {
   "cell_type": "code",
   "execution_count": 40,
   "metadata": {},
   "outputs": [
    {
     "data": {
      "text/plain": [
       "KruskalResult(statistic=6.287801578353988, pvalue=0.043114289703508814)"
      ]
     },
     "execution_count": 40,
     "metadata": {},
     "output_type": "execute_result"
    }
   ],
   "source": [
    "from scipy.stats import kruskal\n",
    "\n",
    "data1 = [7, 14, 14, 13, 12, 9, 6, 14, 12, 8]\n",
    "data2 = [15, 17, 13, 15, 15, 13, 9, 12, 10, 8]\n",
    "data3 = [6, 8, 8, 9, 5, 14, 13, 8, 10, 9]\n",
    "\n",
    "kruskal(data1, data2, data3)    "
   ]
  },
  {
   "cell_type": "markdown",
   "metadata": {},
   "source": [
    "### 4. Friedman Test\n",
    "- 세 개 집단 이상의 대응표본 분포를 비교 (two-way ANOVA의 비모수적 방법)\n",
    "- H0: 세 집단의 중앙값 차이는 없다"
   ]
  },
  {
   "cell_type": "code",
   "execution_count": 41,
   "metadata": {},
   "outputs": [
    {
     "data": {
      "text/plain": [
       "FriedmanchisquareResult(statistic=2.2631578947368483, pvalue=0.3225236063732963)"
      ]
     },
     "execution_count": 41,
     "metadata": {},
     "output_type": "execute_result"
    }
   ],
   "source": [
    "from scipy.stats import friedmanchisquare\n",
    "\n",
    "friedmanchisquare(data1, data2, data3)"
   ]
  },
  {
   "cell_type": "markdown",
   "metadata": {},
   "source": [
    "## 상관성(독립성) 검정 (Independence)"
   ]
  },
  {
   "cell_type": "markdown",
   "metadata": {},
   "source": [
    "- 서열, 또는 비율 척도를 이용하여 평가 대상 간의 일치성을 검정함\n",
    "- 데이터의 순위를 이용하기 때문에 [1,2,3,9999]와 [1,2,3,4]는 같은 값으로 판단  \n",
    "\n",
    "### 1. Spearman Rank Correlation\n",
    "- 상관분석에서 다뤘던 내용으로 이전 내용 참고  \n",
    "\n",
    "### 2. Kendall Rank Correlation (켄달의 T계수)\n",
    "- 스피어만 상관계수와 비교해, 상대적으로 표본이 적고 순위 상에 동점이 많은 경우에 켄달 타우 계수가 대안이 될 수 있음\n",
    "- 일치관계\n",
    "    - x1>x2 and y1<y2  or x1<x2 and y1>y2  \n",
    "    - x1>x2 and y1>y2  or x1<x2 and y1<y2  \n",
    "- H0: 상관계수가 0이다 (두 순위 간 상관성이 없다)"
   ]
  },
  {
   "cell_type": "code",
   "execution_count": 42,
   "metadata": {},
   "outputs": [
    {
     "data": {
      "text/plain": [
       "KendalltauResult(correlation=0.6969696969696969, pvalue=0.0009744810873283095)"
      ]
     },
     "execution_count": 42,
     "metadata": {},
     "output_type": "execute_result"
    }
   ],
   "source": [
    "from scipy.stats import kendalltau\n",
    "\n",
    "data1 = [1, 2, 3, 4, 5, 6, 7, 8, 9, 10, 11, 12]\n",
    "data2 = [1, 3, 6, 2, 7, 4, 5, 10, 11, 8, 9, 12]\n",
    "\n",
    "kendalltau(data1,data2)"
   ]
  },
  {
   "cell_type": "markdown",
   "metadata": {},
   "source": [
    "## 연관성분석 (장바구니분석)\n",
    "- 거래 데이터로부터 '함께' 구매가 발생하는 규칙을 도출하여, 고객이 특정 상품 구매시 이와 연관성이 높은 상품을 추천할 수 있음\n",
    "- 연관규칙(Association Rule)을 통해 **A 이벤트가 일어났을 때 몇 퍼센트 확률로 B 이벤트가 함께 일어나는지** 분석\n",
    "    - 신용카드 사기를 당했을 때 주로 결제되는 내역 패턴\n",
    "    - 암 발생 시 빈번히 나타나는 DNA 패턴과 단백질 서열 검사\n",
    "- 연관규칙의 종류\n",
    "  - 행동 가능한 규칙: 룰의 의미가 이해되고 실행이 바로 가능한 정보  \n",
    "    ex) 물-라면, 기저귀-맥주\n",
    "  - 사소한 규칙: 이미 다 알고 있는 규칙으로 활용 관점은 낮지만 신뢰성 재확인 가능  \n",
    "    ex) 삼겹살-상추\n",
    "  - 설명 불가능한 규칙: 설명되지 않고 실제 행동을 취할 수 없는 규칙  \n",
    "    ex) 허리케인->딸기맛사탕\n",
    "- 연관규칙의 빈도 평가 척도\n",
    "    - 지지도(Support)\n",
    "        - 특정 아이템 구매가 발생한 빈도\n",
    "        - support(X) = $n(X) \\over N$  (N은 전체 구매 건수)\n",
    "        - support(X,Y) = $n(X∩Y) \\over N$\n",
    "    - 신뢰도(Confidence)\n",
    "        - 아이템 X를 포함하는 거래 중 아이템 Y도 거래한 비율 (전체에서 X의 거래빈도가 낮을 때 X-Y의 동시 거래 빈도를 더 정확히 측정 가능)\n",
    "        - confidence(X→Y) = $n(X \\cap Y) \\over n(X)$\n",
    "    - 향상도(Lift)\n",
    "        - Y 구매가 이루어진 확률 대비 X를 샀을 때 Y도 같이 구매했을 확률\n",
    "        - Lift가 1보다 클수록 + 관계, 작을수록 -관계로 우연적 확률에서 멀어짐\n",
    "        - lift(X→Y) = $ confidence(X → Y) \\over support(Y) $  \n",
    "    - leverage\n",
    "         - X와 Y가 함께 구매되는 확률에서 독립사건인 X구매와 Y구매가 함께 이루어질 확률(즉 우연적으로 발생할 수 있는 X와 Y의 동시 구매 확률)을 뺀 값\n",
    "         - levarage(X→Y) = support(X→Y) - support(X) x support(Y)  &nbsp;&nbsp;   leverage range in (-1,1)  \n",
    "    - conviction\n",
    "        - conviction 값이 클 수록 Y의 구매는 X의 구매 여부에 영향을 많이 받는다는 의미\n",
    "        - conviction(X→Y) = $1-support(Y) \\over 1-confidence(X→Y)$ &nbsp;&nbsp;   conviction range in (0,$\\infty$)"
   ]
  },
  {
   "cell_type": "code",
   "execution_count": 43,
   "metadata": {},
   "outputs": [],
   "source": [
    "## 예시 구매데이터 생성\n",
    "data = [['milk', 'Cookie', 'Apple', 'Beans', 'Eggs', 'Yogurt'],\n",
    "        ['Coke', 'Cookie', 'Apple', 'Beans', 'Eggs', 'Yogurt'], \n",
    "        ['Milk', 'Apple', 'Kidney Beans', 'Eggs'],\n",
    "        ['Milk', 'Orange', 'Corn', 'Beans', 'Yogurt'],\n",
    "        ['Corn', 'Cookie', 'Cookie', 'Beans', 'Ice cream', 'Eggs']]\n",
    "df_transaction = pd.DataFrame(data) ## 행은 고객, 열은 고객이 산 데이터가 들어간 dataframe 생성"
   ]
  },
  {
   "cell_type": "markdown",
   "metadata": {},
   "source": [
    "Step1. 구매물품 리스트를 트랜잭션 데이터로 변환하기"
   ]
  },
  {
   "cell_type": "code",
   "execution_count": 50,
   "metadata": {},
   "outputs": [],
   "source": [
    "from mlxtend.preprocessing import TransactionEncoder\n",
    "\n",
    "te = TransactionEncoder()\n",
    "te_data = te.fit(data).transform(data)\n",
    "te_data = pd.DataFrame(te_data, columns = te.columns_) ##행은 구매순, 열은 제품명이 들어간 데이터프레임\n",
    "\n",
    "##참고) 구매 데이터가 dataframe 형식인 경우 아래와 같이 리스트 형태로 바꿔서 TransactionEncoder에 입력\n",
    "data = df_transaction.values.tolist()"
   ]
  },
  {
   "cell_type": "markdown",
   "metadata": {},
   "source": [
    "Step2. apriori 알고리즘을 적용하여 함께 구매되는 아이템셋의 데이터프레임 만들기\n",
    "- apriori(df, min_support = 0.5, use_colnames= False, max_len = None -_함께 구매되는 itemset 조합의 개수_)"
   ]
  },
  {
   "cell_type": "code",
   "execution_count": 61,
   "metadata": {
    "scrolled": true
   },
   "outputs": [
    {
     "data": {
      "text/html": [
       "<div>\n",
       "<style scoped>\n",
       "    .dataframe tbody tr th:only-of-type {\n",
       "        vertical-align: middle;\n",
       "    }\n",
       "\n",
       "    .dataframe tbody tr th {\n",
       "        vertical-align: top;\n",
       "    }\n",
       "\n",
       "    .dataframe thead th {\n",
       "        text-align: right;\n",
       "    }\n",
       "</style>\n",
       "<table border=\"1\" class=\"dataframe\">\n",
       "  <thead>\n",
       "    <tr style=\"text-align: right;\">\n",
       "      <th></th>\n",
       "      <th>support</th>\n",
       "      <th>itemsets</th>\n",
       "    </tr>\n",
       "  </thead>\n",
       "  <tbody>\n",
       "    <tr>\n",
       "      <th>29</th>\n",
       "      <td>0.40000</td>\n",
       "      <td>(Yogurt, Apple, Beans, Cookie)</td>\n",
       "    </tr>\n",
       "    <tr>\n",
       "      <th>30</th>\n",
       "      <td>0.40000</td>\n",
       "      <td>(Yogurt, Apple, Eggs, Beans)</td>\n",
       "    </tr>\n",
       "    <tr>\n",
       "      <th>31</th>\n",
       "      <td>0.40000</td>\n",
       "      <td>(Yogurt, Apple, Eggs, Cookie)</td>\n",
       "    </tr>\n",
       "    <tr>\n",
       "      <th>32</th>\n",
       "      <td>0.40000</td>\n",
       "      <td>(Yogurt, Eggs, Beans, Cookie)</td>\n",
       "    </tr>\n",
       "    <tr>\n",
       "      <th>33</th>\n",
       "      <td>0.40000</td>\n",
       "      <td>(Apple, Eggs, Cookie, Yogurt, Beans)</td>\n",
       "    </tr>\n",
       "  </tbody>\n",
       "</table>\n",
       "</div>"
      ],
      "text/plain": [
       "    support                              itemsets\n",
       "29  0.40000        (Yogurt, Apple, Beans, Cookie)\n",
       "30  0.40000          (Yogurt, Apple, Eggs, Beans)\n",
       "31  0.40000         (Yogurt, Apple, Eggs, Cookie)\n",
       "32  0.40000         (Yogurt, Eggs, Beans, Cookie)\n",
       "33  0.40000  (Apple, Eggs, Cookie, Yogurt, Beans)"
      ]
     },
     "execution_count": 61,
     "metadata": {},
     "output_type": "execute_result"
    }
   ],
   "source": [
    "from mlxtend.frequent_patterns import apriori\n",
    "\n",
    "freq_items = apriori(te_data, min_support = 0.3, use_colnames = True) ## 최소지지도가 0.3인 '함께 구매된' 조합\n",
    "freq_items.tail(5)"
   ]
  },
  {
   "cell_type": "markdown",
   "metadata": {},
   "source": [
    "Step3. 함께 구매된 목록의 연관규칙 평가결과를 출력하기\n",
    "- association_rules(df = 아이템셋df, metric = \"confidence\", min_threshold = 0.8, support_only = False)\n",
    "    - metric: 어떤 평가척도를 기준으로 결과를 필터링할 것인지 결정\n",
    "    - min_threshold = 필터링을 위한 평가척도의 최소값\n",
    "    - support_only = 결과물에서 지지도만 계산하고 나머지 평가척도는 nan으로 출력(True일 시)"
   ]
  },
  {
   "cell_type": "code",
   "execution_count": 62,
   "metadata": {
    "scrolled": true
   },
   "outputs": [
    {
     "data": {
      "text/html": [
       "<div>\n",
       "<style scoped>\n",
       "    .dataframe tbody tr th:only-of-type {\n",
       "        vertical-align: middle;\n",
       "    }\n",
       "\n",
       "    .dataframe tbody tr th {\n",
       "        vertical-align: top;\n",
       "    }\n",
       "\n",
       "    .dataframe thead th {\n",
       "        text-align: right;\n",
       "    }\n",
       "</style>\n",
       "<table border=\"1\" class=\"dataframe\">\n",
       "  <thead>\n",
       "    <tr style=\"text-align: right;\">\n",
       "      <th></th>\n",
       "      <th>antecedents</th>\n",
       "      <th>consequents</th>\n",
       "      <th>antecedent support</th>\n",
       "      <th>consequent support</th>\n",
       "      <th>support</th>\n",
       "      <th>confidence</th>\n",
       "      <th>lift</th>\n",
       "      <th>leverage</th>\n",
       "      <th>conviction</th>\n",
       "    </tr>\n",
       "  </thead>\n",
       "  <tbody>\n",
       "    <tr>\n",
       "      <th>0</th>\n",
       "      <td>(Apple)</td>\n",
       "      <td>(Eggs)</td>\n",
       "      <td>0.60000</td>\n",
       "      <td>0.80000</td>\n",
       "      <td>0.60000</td>\n",
       "      <td>1.00000</td>\n",
       "      <td>1.25000</td>\n",
       "      <td>0.12000</td>\n",
       "      <td>inf</td>\n",
       "    </tr>\n",
       "    <tr>\n",
       "      <th>48</th>\n",
       "      <td>(Yogurt, Apple)</td>\n",
       "      <td>(Eggs, Cookie)</td>\n",
       "      <td>0.40000</td>\n",
       "      <td>0.60000</td>\n",
       "      <td>0.40000</td>\n",
       "      <td>1.00000</td>\n",
       "      <td>1.66667</td>\n",
       "      <td>0.16000</td>\n",
       "      <td>inf</td>\n",
       "    </tr>\n",
       "    <tr>\n",
       "      <th>55</th>\n",
       "      <td>(Yogurt, Eggs)</td>\n",
       "      <td>(Beans, Cookie)</td>\n",
       "      <td>0.40000</td>\n",
       "      <td>0.60000</td>\n",
       "      <td>0.40000</td>\n",
       "      <td>1.00000</td>\n",
       "      <td>1.66667</td>\n",
       "      <td>0.16000</td>\n",
       "      <td>inf</td>\n",
       "    </tr>\n",
       "    <tr>\n",
       "      <th>54</th>\n",
       "      <td>(Yogurt, Beans, Cookie)</td>\n",
       "      <td>(Eggs)</td>\n",
       "      <td>0.40000</td>\n",
       "      <td>0.80000</td>\n",
       "      <td>0.40000</td>\n",
       "      <td>1.00000</td>\n",
       "      <td>1.25000</td>\n",
       "      <td>0.08000</td>\n",
       "      <td>inf</td>\n",
       "    </tr>\n",
       "    <tr>\n",
       "      <th>53</th>\n",
       "      <td>(Yogurt, Eggs, Cookie)</td>\n",
       "      <td>(Beans)</td>\n",
       "      <td>0.40000</td>\n",
       "      <td>0.80000</td>\n",
       "      <td>0.40000</td>\n",
       "      <td>1.00000</td>\n",
       "      <td>1.25000</td>\n",
       "      <td>0.08000</td>\n",
       "      <td>inf</td>\n",
       "    </tr>\n",
       "    <tr>\n",
       "      <th>...</th>\n",
       "      <td>...</td>\n",
       "      <td>...</td>\n",
       "      <td>...</td>\n",
       "      <td>...</td>\n",
       "      <td>...</td>\n",
       "      <td>...</td>\n",
       "      <td>...</td>\n",
       "      <td>...</td>\n",
       "      <td>...</td>\n",
       "    </tr>\n",
       "    <tr>\n",
       "      <th>24</th>\n",
       "      <td>(Apple, Eggs, Beans)</td>\n",
       "      <td>(Cookie)</td>\n",
       "      <td>0.40000</td>\n",
       "      <td>0.60000</td>\n",
       "      <td>0.40000</td>\n",
       "      <td>1.00000</td>\n",
       "      <td>1.66667</td>\n",
       "      <td>0.16000</td>\n",
       "      <td>inf</td>\n",
       "    </tr>\n",
       "    <tr>\n",
       "      <th>23</th>\n",
       "      <td>(Yogurt, Cookie)</td>\n",
       "      <td>(Eggs)</td>\n",
       "      <td>0.40000</td>\n",
       "      <td>0.80000</td>\n",
       "      <td>0.40000</td>\n",
       "      <td>1.00000</td>\n",
       "      <td>1.25000</td>\n",
       "      <td>0.08000</td>\n",
       "      <td>inf</td>\n",
       "    </tr>\n",
       "    <tr>\n",
       "      <th>22</th>\n",
       "      <td>(Yogurt, Eggs)</td>\n",
       "      <td>(Cookie)</td>\n",
       "      <td>0.40000</td>\n",
       "      <td>0.60000</td>\n",
       "      <td>0.40000</td>\n",
       "      <td>1.00000</td>\n",
       "      <td>1.66667</td>\n",
       "      <td>0.16000</td>\n",
       "      <td>inf</td>\n",
       "    </tr>\n",
       "    <tr>\n",
       "      <th>21</th>\n",
       "      <td>(Yogurt, Eggs)</td>\n",
       "      <td>(Beans)</td>\n",
       "      <td>0.40000</td>\n",
       "      <td>0.80000</td>\n",
       "      <td>0.40000</td>\n",
       "      <td>1.00000</td>\n",
       "      <td>1.25000</td>\n",
       "      <td>0.08000</td>\n",
       "      <td>inf</td>\n",
       "    </tr>\n",
       "    <tr>\n",
       "      <th>75</th>\n",
       "      <td>(Yogurt, Cookie)</td>\n",
       "      <td>(Apple, Eggs, Beans)</td>\n",
       "      <td>0.40000</td>\n",
       "      <td>0.40000</td>\n",
       "      <td>0.40000</td>\n",
       "      <td>1.00000</td>\n",
       "      <td>2.50000</td>\n",
       "      <td>0.24000</td>\n",
       "      <td>inf</td>\n",
       "    </tr>\n",
       "  </tbody>\n",
       "</table>\n",
       "<p>76 rows × 9 columns</p>\n",
       "</div>"
      ],
      "text/plain": [
       "                antecedents           consequents  antecedent support  \\\n",
       "0                   (Apple)                (Eggs)             0.60000   \n",
       "48          (Yogurt, Apple)        (Eggs, Cookie)             0.40000   \n",
       "55           (Yogurt, Eggs)       (Beans, Cookie)             0.40000   \n",
       "54  (Yogurt, Beans, Cookie)                (Eggs)             0.40000   \n",
       "53   (Yogurt, Eggs, Cookie)               (Beans)             0.40000   \n",
       "..                      ...                   ...                 ...   \n",
       "24     (Apple, Eggs, Beans)              (Cookie)             0.40000   \n",
       "23         (Yogurt, Cookie)                (Eggs)             0.40000   \n",
       "22           (Yogurt, Eggs)              (Cookie)             0.40000   \n",
       "21           (Yogurt, Eggs)               (Beans)             0.40000   \n",
       "75         (Yogurt, Cookie)  (Apple, Eggs, Beans)             0.40000   \n",
       "\n",
       "    consequent support  support  confidence    lift  leverage  conviction  \n",
       "0              0.80000  0.60000     1.00000 1.25000   0.12000         inf  \n",
       "48             0.60000  0.40000     1.00000 1.66667   0.16000         inf  \n",
       "55             0.60000  0.40000     1.00000 1.66667   0.16000         inf  \n",
       "54             0.80000  0.40000     1.00000 1.25000   0.08000         inf  \n",
       "53             0.80000  0.40000     1.00000 1.25000   0.08000         inf  \n",
       "..                 ...      ...         ...     ...       ...         ...  \n",
       "24             0.60000  0.40000     1.00000 1.66667   0.16000         inf  \n",
       "23             0.80000  0.40000     1.00000 1.25000   0.08000         inf  \n",
       "22             0.60000  0.40000     1.00000 1.66667   0.16000         inf  \n",
       "21             0.80000  0.40000     1.00000 1.25000   0.08000         inf  \n",
       "75             0.40000  0.40000     1.00000 2.50000   0.24000         inf  \n",
       "\n",
       "[76 rows x 9 columns]"
      ]
     },
     "execution_count": 62,
     "metadata": {},
     "output_type": "execute_result"
    }
   ],
   "source": [
    "from mlxtend.frequent_patterns import association_rules\n",
    "\n",
    "rule1= association_rules(freq_items, metric = \"confidence\", min_threshold = 0.8)\n",
    "rule1.sort_values(by = 'confidence', ascending = False)"
   ]
  },
  {
   "cell_type": "markdown",
   "metadata": {},
   "source": [
    "참고) 함께 구매된 아이템셋 개수를 출력하기"
   ]
  },
  {
   "cell_type": "code",
   "execution_count": 64,
   "metadata": {},
   "outputs": [
    {
     "data": {
      "text/html": [
       "<div>\n",
       "<style scoped>\n",
       "    .dataframe tbody tr th:only-of-type {\n",
       "        vertical-align: middle;\n",
       "    }\n",
       "\n",
       "    .dataframe tbody tr th {\n",
       "        vertical-align: top;\n",
       "    }\n",
       "\n",
       "    .dataframe thead th {\n",
       "        text-align: right;\n",
       "    }\n",
       "</style>\n",
       "<table border=\"1\" class=\"dataframe\">\n",
       "  <thead>\n",
       "    <tr style=\"text-align: right;\">\n",
       "      <th></th>\n",
       "      <th>antecedents</th>\n",
       "      <th>consequents</th>\n",
       "      <th>antecedent support</th>\n",
       "      <th>consequent support</th>\n",
       "      <th>support</th>\n",
       "      <th>confidence</th>\n",
       "      <th>lift</th>\n",
       "      <th>leverage</th>\n",
       "      <th>conviction</th>\n",
       "      <th>antecedents_len</th>\n",
       "    </tr>\n",
       "  </thead>\n",
       "  <tbody>\n",
       "    <tr>\n",
       "      <th>71</th>\n",
       "      <td>(Apple, Cookie)</td>\n",
       "      <td>(Yogurt, Eggs, Beans)</td>\n",
       "      <td>0.40000</td>\n",
       "      <td>0.40000</td>\n",
       "      <td>0.40000</td>\n",
       "      <td>1.00000</td>\n",
       "      <td>2.50000</td>\n",
       "      <td>0.24000</td>\n",
       "      <td>inf</td>\n",
       "      <td>2</td>\n",
       "    </tr>\n",
       "    <tr>\n",
       "      <th>72</th>\n",
       "      <td>(Yogurt, Apple)</td>\n",
       "      <td>(Eggs, Beans, Cookie)</td>\n",
       "      <td>0.40000</td>\n",
       "      <td>0.60000</td>\n",
       "      <td>0.40000</td>\n",
       "      <td>1.00000</td>\n",
       "      <td>1.66667</td>\n",
       "      <td>0.16000</td>\n",
       "      <td>inf</td>\n",
       "      <td>2</td>\n",
       "    </tr>\n",
       "    <tr>\n",
       "      <th>73</th>\n",
       "      <td>(Apple, Beans)</td>\n",
       "      <td>(Yogurt, Eggs, Cookie)</td>\n",
       "      <td>0.40000</td>\n",
       "      <td>0.40000</td>\n",
       "      <td>0.40000</td>\n",
       "      <td>1.00000</td>\n",
       "      <td>2.50000</td>\n",
       "      <td>0.24000</td>\n",
       "      <td>inf</td>\n",
       "      <td>2</td>\n",
       "    </tr>\n",
       "    <tr>\n",
       "      <th>74</th>\n",
       "      <td>(Yogurt, Eggs)</td>\n",
       "      <td>(Apple, Beans, Cookie)</td>\n",
       "      <td>0.40000</td>\n",
       "      <td>0.40000</td>\n",
       "      <td>0.40000</td>\n",
       "      <td>1.00000</td>\n",
       "      <td>2.50000</td>\n",
       "      <td>0.24000</td>\n",
       "      <td>inf</td>\n",
       "      <td>2</td>\n",
       "    </tr>\n",
       "    <tr>\n",
       "      <th>75</th>\n",
       "      <td>(Yogurt, Cookie)</td>\n",
       "      <td>(Apple, Eggs, Beans)</td>\n",
       "      <td>0.40000</td>\n",
       "      <td>0.40000</td>\n",
       "      <td>0.40000</td>\n",
       "      <td>1.00000</td>\n",
       "      <td>2.50000</td>\n",
       "      <td>0.24000</td>\n",
       "      <td>inf</td>\n",
       "      <td>2</td>\n",
       "    </tr>\n",
       "  </tbody>\n",
       "</table>\n",
       "</div>"
      ],
      "text/plain": [
       "         antecedents             consequents  antecedent support  \\\n",
       "71   (Apple, Cookie)   (Yogurt, Eggs, Beans)             0.40000   \n",
       "72   (Yogurt, Apple)   (Eggs, Beans, Cookie)             0.40000   \n",
       "73    (Apple, Beans)  (Yogurt, Eggs, Cookie)             0.40000   \n",
       "74    (Yogurt, Eggs)  (Apple, Beans, Cookie)             0.40000   \n",
       "75  (Yogurt, Cookie)    (Apple, Eggs, Beans)             0.40000   \n",
       "\n",
       "    consequent support  support  confidence    lift  leverage  conviction  \\\n",
       "71             0.40000  0.40000     1.00000 2.50000   0.24000         inf   \n",
       "72             0.60000  0.40000     1.00000 1.66667   0.16000         inf   \n",
       "73             0.40000  0.40000     1.00000 2.50000   0.24000         inf   \n",
       "74             0.40000  0.40000     1.00000 2.50000   0.24000         inf   \n",
       "75             0.40000  0.40000     1.00000 2.50000   0.24000         inf   \n",
       "\n",
       "    antecedents_len  \n",
       "71                2  \n",
       "72                2  \n",
       "73                2  \n",
       "74                2  \n",
       "75                2  "
      ]
     },
     "execution_count": 64,
     "metadata": {},
     "output_type": "execute_result"
    }
   ],
   "source": [
    "rule1['antecedents_len'] = rule1['antecedents'].apply(lambda x:len(x))\n",
    "rule1.tail()"
   ]
  },
  {
   "cell_type": "code",
   "execution_count": null,
   "metadata": {},
   "outputs": [],
   "source": []
  }
 ],
 "metadata": {
  "kernelspec": {
   "display_name": "Python 3",
   "language": "python",
   "name": "python3"
  },
  "language_info": {
   "codemirror_mode": {
    "name": "ipython",
    "version": 3
   },
   "file_extension": ".py",
   "mimetype": "text/x-python",
   "name": "python",
   "nbconvert_exporter": "python",
   "pygments_lexer": "ipython3",
   "version": "3.8.5"
  }
 },
 "nbformat": 4,
 "nbformat_minor": 4
}
